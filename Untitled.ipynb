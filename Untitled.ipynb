{
 "cells": [
  {
   "cell_type": "code",
   "execution_count": 1,
   "id": "5641fdc5-3820-42df-b83b-c0c185ed52af",
   "metadata": {
    "tags": []
   },
   "outputs": [],
   "source": [
    "# %load tools.py\n",
    "import zipfile\n",
    "import gdown\n",
    "import os\n",
    "import requests"
   ]
  },
  {
   "cell_type": "code",
   "execution_count": 1,
   "id": "5271c727-11a3-4dbc-80d1-4cb429183130",
   "metadata": {
    "tags": []
   },
   "outputs": [],
   "source": [
    "def download_file(file_url, fold='.'):\n",
    "    \"\"\"\n",
    "    通过链接下载单个文件并保存到本地。\n",
    "\n",
    "    参数:\n",
    "    file_url (str): 要下载的文件URL\n",
    "    fold (str): 保存文件的文件夹路径\n",
    "    \"\"\"\n",
    "    response = requests.get(file_url)\n",
    "    file_name = os.path.basename(file_url)\n",
    "    file_path = os.path.join(fold, file_name)\n",
    "    with open(file_path, 'wb') as file:\n",
    "        file.write(response.content)"
   ]
  },
  {
   "cell_type": "code",
   "execution_count": 1,
   "id": "4d35b577-30a3-4704-8319-f14db01d217f",
   "metadata": {
    "tags": []
   },
   "outputs": [],
   "source": [
    "def down(file_url, file_path):\n",
    "    \"\"\"\n",
    "    下载单个文件并保存到本地。\n",
    "\n",
    "    参数:\n",
    "    file_url (str): 要下载的文件URL\n",
    "    file_path (str): 保存文件的本地路径\n",
    "    \"\"\"\n",
    "    response = requests.get(file_url)\n",
    "    with open(file_path, 'wb') as file:\n",
    "        file.write(response.content)"
   ]
  },
  {
   "cell_type": "code",
   "execution_count": 1,
   "id": "5b178e46-f3f7-4a09-9a46-deadea4a2775",
   "metadata": {
    "tags": []
   },
   "outputs": [],
   "source": [
    "def download_fold(url, local_dir):\n",
    "    \"\"\"\n",
    "    从给定的GitHub仓库URL下载所有文件和目录。\n",
    "\n",
    "    参数:\n",
    "    url (str): GitHub API目录URL\n",
    "    local_dir (str): 本地保存目录\n",
    "    \"\"\"\n",
    "    response = requests.get(url)\n",
    "    if response.status_code == 200:\n",
    "        files = response.json()  # 获取目录下的文件信息\n",
    "\n",
    "        # 如果本地保存目录不存在，则创建该目录\n",
    "        if not os.path.exists(local_dir):\n",
    "            os.makedirs(local_dir)\n",
    "\n",
    "        # 遍历目录中的每个文件或子目录\n",
    "        for file in files:\n",
    "            if file['type'] == 'file':  # 如果是文件，下载文件\n",
    "                file_url = file['download_url']\n",
    "                file_path = os.path.join(local_dir, file['name'])\n",
    "                # print(f\"正在下载 {file['name']}...\")\n",
    "                down(file_url, file_path)\n",
    "            elif file['type'] == 'dir':  # 如果是目录，递归下载该目录\n",
    "                new_dir = os.path.join(local_dir, file['name'])\n",
    "                download_fold(file['url'], new_dir)  # 递归下载子目录\n",
    "    else:\n",
    "        print(f\"无法获取目录内容。状态码: {response.status_code}\")"
   ]
  },
  {
   "cell_type": "code",
   "execution_count": 1,
   "id": "a0c9fc18-b2fa-4bae-8ee1-4481ae7fb5bf",
   "metadata": {
    "tags": []
   },
   "outputs": [],
   "source": [
    "repo_url = \"https://api.github.com/repos/xyt556/Data/contents/S_data/\"\n",
    "local_dir = \"xyt\"  # 本地存储目录\n",
    "download_fold(repo_url, local_dir)\n",
    "\n",
    "\n",
    "\n",
    "\n",
    "# 解压缩\n",
    "def unzip_file(zip_file_path, extract_to_dir='.'):\n",
    "    \"\"\"\n",
    "    解压指定的 ZIP 文件到指定目录。如果没有提供目标目录，则解压到ZIP文件所在的目录。\n",
    "\n",
    "    参数:\n",
    "    zip_file_path (str): ZIP 文件的路径\n",
    "    extract_to_dir (str): 解压后的目标目录（可选）。如果未指定，默认为 ZIP 文件所在目录\n",
    "    \"\"\"\n",
    "    if extract_to_dir is None:\n",
    "        # 如果没有提供目标解压目录，使用ZIP文件的所在目录\n",
    "        extract_to_dir = os.path.dirname(zip_file_path)\n",
    "\n",
    "    # 确保目标目录存在\n",
    "    if not os.path.exists(extract_to_dir):\n",
    "        os.makedirs(extract_to_dir)\n",
    "\n",
    "    # 解压 ZIP 文件\n",
    "    with zipfile.ZipFile(zip_file_path, 'r') as zip_ref:\n",
    "        zip_ref.extractall(extract_to_dir)  # 解压所有文件\n",
    "        print(f\"已解压 '{zip_file_path}' 到 '{extract_to_dir}'\")\n",
    "\n",
    "print(\"下载文件使用说明：\")\n",
    "# 文件 URLs\n",
    "urls = [\n",
    "    \"https://github.com/xyt556/Data/raw/main/font_colab.ipynb\",\n",
    "    \"https://github.com/xyt556/Data/raw/main/set_font.ipynb\",\n",
    "    \"https://github.com/xyt556/Data/raw/main/download_file.ipynb\"\n",
    "]\n",
    "# 打印 URLs\n",
    "print(\"文件 URLs:\")\n",
    "for url in urls:\n",
    "    print(url)\n",
    "    download_file(url)\n",
    "print(\"执行函数：\")\n",
    "print(\"download_file(url, directory='.')\")\n",
    "\n",
    "# 下载Google网盘共享文件夹及文件\n",
    "print(\"Goolgle网盘共享文件夹下载方法（不能超过50个文件）：\")\n",
    "print(\"# 文件夹共享链接\\n\", \"url = 'https://drive.google.com/drive/folders/1KPgKuxmW9nJ0dos4mXWAMFX2mnp5mTP-?usp=drive_link'\\n\", \"gdown.download_folder(url, quiet=True, use_cookies=False)\")\n",
    "\n",
    "print(\"Goolgle网盘共享文件下载方法：\")\n",
    "print(\"# 文件共享链接\\n\", \"url = 'https://drive.google.com/uc?id=1nfJVpHjRmsi9VFoQH8r5vDw7JW-_26QC'\\n\", \"gdown.download(url, quiet=False, fuzzy=True)\")\n",
    "\n",
    "# 解压缩文件\n",
    "print(\"解压缩文件\\n\",\"unzip_file(zip_file_path, extract_to_dir='.')\")"
   ]
  }
 ],
 "metadata": {
  "kernelspec": {
   "display_name": "Python 3 (ipykernel)",
   "language": "python",
   "name": "python3"
  },
  "language_info": {
   "codemirror_mode": {
    "name": "ipython",
    "version": 3
   },
   "file_extension": ".py",
   "mimetype": "text/x-python",
   "name": "python",
   "nbconvert_exporter": "python",
   "pygments_lexer": "ipython3",
   "version": "3.10.7"
  }
 },
 "nbformat": 4,
 "nbformat_minor": 5
}
