{
  "cells": [
    {
      "cell_type": "markdown",
      "metadata": {
        "id": "view-in-github",
        "colab_type": "text"
      },
      "source": [
        "<a href=\"https://colab.research.google.com/github/xyt556/Data/blob/main/numpy_full_tutorial.ipynb\" target=\"_parent\"><img src=\"https://colab.research.google.com/assets/colab-badge.svg\" alt=\"Open In Colab\"/></a>"
      ]
    },
    {
      "cell_type": "markdown",
      "metadata": {
        "id": "TybNhniYMyVF"
      },
      "source": [
        "<div style=\"border:2px solid #174D83; border-radius:15px;  background:#ffffff;\">\n",
        "    <div style=\"padding:10px 10px 10px 0px; margin:5px; border-radius:12px; background:#174D83; text-align:center;\">\n",
        "        <span style=\"font-family:sans-serif; font-size:42px; color:#fff;\">Comprehensive NumPy tutorial with examples 📚</span>\n",
        "    </div>\n",
        "</div>"
      ]
    },
    {
      "cell_type": "markdown",
      "metadata": {
        "id": "VvMy2AfCMyVJ"
      },
      "source": [
        "<div style=\"border:2px solid #174D83; border-radius:10px;  background:#fff;\">\n",
        "    <div style=\"padding:10px 10px 10px 0px; margin:2px; border-radius:10px; background:#174D83;\">\n",
        "        <span style=\"margin-left:15px; font-family:sans-serif; font-size:20px; color:#fff;\">Introduction...</span>\n",
        "    </div>\n",
        "</div>"
      ]
    },
    {
      "cell_type": "markdown",
      "metadata": {
        "id": "HkjZVm8wMyVK"
      },
      "source": [
        "<div style=\"border:1px solid blue; border-radius:10px; padding:2px\">\n",
        "    <img src=\"https://miro.medium.com/max/765/1*cyXCE-JcBelTyrK-58w6_Q.png\" width=\"100%\">\n",
        "</div>\n",
        "<div style=\"padding:4px\">\n",
        "    \n",
        "    \n"
      ]
    },
    {
      "cell_type": "markdown",
      "source": [
        "### <span style='background:yellow;color:#000000;'>什么是 Numpy？</span>\n",
        "\n",
        "* <span style='background:#174D83;color:#fff;'><b>NumPy 是 Python 编程语言的一个库，它为大型的多维数组和矩阵提供支持，并包含大量可用于操作这些数组的高级数学函数。NumPy 的前身是 Numeric，它最初由 Jim Hugunin 开发，并得到了多位开发者的贡献。在 2005 年，Travis Oliphant 通过将竞争项目 Numarray 的功能整合到 Numeric 中，并进行了广泛的修改，创建了 NumPy。NumPy 是一个开源软件，拥有许多贡献者，同时它也是一个由 NumFOCUS 财政赞助的项目。</b></span>"
      ],
      "metadata": {
        "id": "usDpDnxlHIoj"
      }
    },
    {
      "cell_type": "markdown",
      "source": [
        "### <span style='background:yellow;color:#000000;'>Numpy 的历史</span>\n",
        "\n",
        "* <span style='background:#174D83;color:#fff;'><b>Python 编程语言最初并非为数值计算设计，但很早便吸引了科学和工程领域社区的关注。1995 年，特别兴趣小组 (SIG) \"matrix-sig\" 成立，其目标是定义一个用于数组计算的包；其成员之一是 Python 的设计者和维护者 Guido van Rossum，他扩展了 Python 的语法（尤其是索引语法）以简化数组计算。Jim Fulton 实现了一个矩阵包，然后由 Jim Hugunin 将其通用化并命名为 Numeric（也称为 \"Numerical Python extensions\" 或 \"NumPy\"）。Hugunin 是麻省理工学院 (MIT) 的研究生，他在 1997 年加入国家研究计划公司 (CNRI) 从事 JPython 的工作，并将 Numeric 的维护工作交给了 Lawrence Livermore 国家实验室 (LLNL) 的 Paul Dubois。其他早期贡献者包括 David Ascher、Konrad Hinsen 和 Travis Oliphant。\n",
        "\n",
        "一个名为 Numarray 的新包被开发出来，作为 Numeric 的更灵活替代品。与 Numeric 一样，Numarray 现已被弃用。Numarray 对大数组的操作速度更快，但对小数组的操作速度比 Numeric 慢，因此在一段时间内，这两个包根据不同的用例并行使用。Numeric 的最后一个版本 (v24.2) 于 2005 年 11 月 11 日发布，而 Numarray 的最后一个版本 (v1.5.2) 于 2006 年 8 月 24 日发布。尽管社区希望将 Numeric 纳入 Python 标准库，但 Guido van Rossum 认为当时的代码不可维护。\n",
        "\n",
        "2005 年初，NumPy 的开发者 Travis Oliphant 希望将社区统一到一个单一的数组包上，他将 Numarray 的功能移植到 Numeric 中，并在 2006 年发布了结果，即 NumPy 1.0。这个新项目是 SciPy 的一部分。为了避免为了获取数组对象而必须安装大型 SciPy 包，这个新包被独立出来，命名为 NumPy。2011 年，NumPy 版本 1.5.0 增加了对 Python 3 的支持。同年，PyPy 开始开发适用于 PyPy 的 NumPy API 实现，但目前尚未完全兼容 NumPy。</b></span>"
      ],
      "metadata": {
        "id": "9it26ib0HMwi"
      }
    },
    {
      "cell_type": "markdown",
      "source": [
        "### <span style='background:yellow;color:#000000;'>Numpy 的特点</span>\n",
        "\n",
        "* <span style='background:#174D83;color:#ffffff;'><b>Numpy 以 CPython 的参考实现为目标，CPython 是一种非优化的字节码解释器。针对这种 Python 实现编写的数学算法通常比编译后的等价代码运行得慢，因为缺乏编译器优化。Numpy 部分解决了这种慢速问题，提供了多维数组以及高效操作这些数组的函数和运算符。使用 Numpy 通常需要重写部分代码，主要是将内循环用 Numpy 重构。\n",
        "\n",
        "在 Python 中使用 Numpy 提供了与 MATLAB 类似的功能性，因为两者都是解释型工具，并且只要大多数操作在数组或矩阵上进行而非标量，用户便可以编写快速的程序。相比之下，MATLAB 提供了许多额外的工具箱（如 Simulink），而 Numpy 则原生集成于 Python 之中，Python 是一种更现代化且功能更完备的编程语言。此外，还有许多补充性的 Python 包：SciPy 是一个提供更多类似 MATLAB 功能的库，而 Matplotlib 是一个提供 MATLAB 式绘图功能的绘图包。\n",
        "\n",
        "在内部，MATLAB 和 Numpy 都依赖 BLAS 和 LAPACK 来实现高效的线性代数运算。广泛使用的计算机视觉库 OpenCV 的 Python 绑定中，Numpy 数组被用来存储和操作数据。由于具有多个通道的图像可以简单地表示为三维数组，使用索引、切片或与其他数组的掩码操作成为访问图像中特定像素的非常高效的方法。Numpy 数组作为 OpenCV 中图像、提取的特征点、滤波器核等的通用数据结构，大大简化了编程流程和调试。</b></span>\n",
        "\n",
        "#### <span style=\"color:#CF350C\">参考：</span> [Wikipedia: NumPy](https://en.wikipedia.org/wiki/NumPy)"
      ],
      "metadata": {
        "id": "CPtr3K4PHPlC"
      }
    },
    {
      "cell_type": "markdown",
      "metadata": {
        "id": "Vz9_GbtIMyVL"
      },
      "source": [
        "### <span style = \"background:#174D83; border:#ffffff; font-size:100%; color:#fff; border-radius:5px;\"> 1. 安装和导入numpy库...</span>"
      ]
    },
    {
      "cell_type": "code",
      "execution_count": 2,
      "metadata": {
        "id": "ysavMHyeMyVL"
      },
      "outputs": [],
      "source": [
        "#!pip install numpy\n",
        "import numpy as np"
      ]
    },
    {
      "cell_type": "markdown",
      "metadata": {
        "id": "khTy4Nt7MyVM"
      },
      "source": [
        "### <span style = \"background:#174D83; border:#ffffff; font-size:100%; color:#fff; border-radius:5px;\">2. 检查numpy版本...</span>"
      ]
    },
    {
      "cell_type": "code",
      "execution_count": null,
      "metadata": {
        "colab": {
          "base_uri": "https://localhost:8080/",
          "height": 35
        },
        "id": "XTav7UsEMyVN",
        "outputId": "21804469-020c-432a-f062-26c077fa44ac"
      },
      "outputs": [
        {
          "output_type": "execute_result",
          "data": {
            "text/plain": [
              "'1.26.4'"
            ],
            "application/vnd.google.colaboratory.intrinsic+json": {
              "type": "string"
            }
          },
          "metadata": {},
          "execution_count": 2
        }
      ],
      "source": [
        "np.__version__"
      ]
    },
    {
      "cell_type": "markdown",
      "metadata": {
        "id": "avarGGv7MyVO"
      },
      "source": [
        "### <span style = \"background:#174D83; border:#ffffff; font-size:100%; color:#fff; border-radius:5px;\">3. 创建numpy数组...</span>"
      ]
    },
    {
      "cell_type": "code",
      "execution_count": null,
      "metadata": {
        "colab": {
          "base_uri": "https://localhost:8080/"
        },
        "id": "MDBLQbMLMyVO",
        "outputId": "58d29b8d-ddc5-4a43-dcdf-e0c3f40359cf"
      },
      "outputs": [
        {
          "output_type": "stream",
          "name": "stdout",
          "text": [
            "Numpy array:  [ 1  2  3  4  5  6  8 11] \n",
            "\n",
            "Type:  <class 'numpy.ndarray'>\n"
          ]
        }
      ],
      "source": [
        "arr = np.array([1,2,3,4,5, 6, 8, 11])\n",
        "print(\"Numpy array: \", arr, \"\\n\")\n",
        "print(\"Type: \", type(arr))"
      ]
    },
    {
      "cell_type": "code",
      "execution_count": null,
      "metadata": {
        "colab": {
          "base_uri": "https://localhost:8080/"
        },
        "id": "rNtvvyf3MyVO",
        "outputId": "7f996320-8c2c-4355-b84e-d5c6496b4466"
      },
      "outputs": [
        {
          "output_type": "execute_result",
          "data": {
            "text/plain": [
              "array([ 0,  1,  2,  3,  4,  5,  6,  7,  8,  9, 10, 11, 12, 13, 14, 15, 16,\n",
              "       17, 18, 19, 20, 21, 22, 23, 24])"
            ]
          },
          "metadata": {},
          "execution_count": 5
        }
      ],
      "source": [
        "np.arange(0, 25)"
      ]
    },
    {
      "cell_type": "code",
      "execution_count": null,
      "metadata": {
        "id": "-WJ-3JCiMyVP",
        "outputId": "1368f9ca-a1c5-42c6-c337-b51b7ebd896b",
        "colab": {
          "base_uri": "https://localhost:8080/"
        }
      },
      "outputs": [
        {
          "output_type": "execute_result",
          "data": {
            "text/plain": [
              "array([ 0,  5, 10, 15, 20])"
            ]
          },
          "metadata": {},
          "execution_count": 5
        }
      ],
      "source": [
        "np.arange(0, 25, 5)"
      ]
    },
    {
      "cell_type": "markdown",
      "metadata": {
        "id": "2smgHEJIMyVP"
      },
      "source": [
        "### <mark>创建一个empyt数组</mark>"
      ]
    },
    {
      "cell_type": "code",
      "execution_count": null,
      "metadata": {
        "colab": {
          "base_uri": "https://localhost:8080/"
        },
        "id": "YV-8H5j0MyVP",
        "outputId": "a1d44f05-9b98-4cda-fe61-85c607744701"
      },
      "outputs": [
        {
          "output_type": "execute_result",
          "data": {
            "text/plain": [
              "array([[     99443778662494,                   0,                 167,\n",
              "                         -1, 8079584628061773859],\n",
              "       [8027792918815405153, 8007522626180508789, 7381153981561839726,\n",
              "        7810123701326214176, 8295668323982734177],\n",
              "       [7236828442999421300, 2338340670574978336, 8367821614119415667,\n",
              "         748839365498708079, 7595160661225840675],\n",
              "       [7810775990839306094, 7449355556930023017, 8675467843668439909,\n",
              "        7956011654333542004, 8245937412923350887],\n",
              "       [8392750419555662368, 7451606223107613545, 7142773280752364910,\n",
              "        7017276114329693797,    2926274656626035]])"
            ]
          },
          "metadata": {},
          "execution_count": 7
        }
      ],
      "source": [
        "empty_arr = np.empty([5, 5], int)\n",
        "\n",
        "empty_arr"
      ]
    },
    {
      "cell_type": "markdown",
      "metadata": {
        "id": "pZe5VMX9MyVQ"
      },
      "source": [
        "### <mark>检查元素计数</mark>"
      ]
    },
    {
      "cell_type": "code",
      "execution_count": null,
      "metadata": {
        "colab": {
          "base_uri": "https://localhost:8080/"
        },
        "id": "c63a9Dm1MyVQ",
        "outputId": "27c21cdd-eb14-41f0-b3e3-6f34fd3ea30c"
      },
      "outputs": [
        {
          "output_type": "stream",
          "name": "stdout",
          "text": [
            "[] elements_count: 0\n",
            "[1 2] elements_count: 2\n"
          ]
        }
      ],
      "source": [
        "arr1 = np.array([])\n",
        "arr2 = np.array([1, 2])\n",
        "\n",
        "def elements(array):\n",
        "    return array.ndim and array.size\n",
        "\n",
        "print(arr1, \"elements_count:\", elements(arr1))\n",
        "print(arr2, \"elements_count:\", elements(arr2))"
      ]
    },
    {
      "cell_type": "markdown",
      "metadata": {
        "id": "ew3jlAjoMyVQ"
      },
      "source": [
        "### <mark>检查数组是否为空</mark>"
      ]
    },
    {
      "cell_type": "code",
      "execution_count": null,
      "metadata": {
        "colab": {
          "base_uri": "https://localhost:8080/"
        },
        "id": "yClczxCyMyVQ",
        "outputId": "e872dae6-5bbd-4279-b250-f1be10ee8d03"
      },
      "outputs": [
        {
          "output_type": "stream",
          "name": "stdout",
          "text": [
            "[] is empty array\n",
            "[1 2] is not empty array\n"
          ]
        }
      ],
      "source": [
        "a = np.array([])\n",
        "b = np.array([1, 2])\n",
        "\n",
        "def if_empty(a):\n",
        "    if a.size == 0:\n",
        "        print(a, \"is empty array\")\n",
        "    else:\n",
        "        print(b, \"is not empty array\")\n",
        "\n",
        "if_empty(a)\n",
        "if_empty(b)"
      ]
    },
    {
      "cell_type": "markdown",
      "metadata": {
        "id": "8kKiJV9VMyVQ"
      },
      "source": [
        "### <span style = \"background:#174D83; border:#ffffff; font-size:100%; color:#fff; border-radius:5px;\">4. Numpy数组是固定数据类型</span>"
      ]
    },
    {
      "cell_type": "markdown",
      "metadata": {
        "id": "41W1y6zbMyVQ"
      },
      "source": [
        "### <mark>也就是说，如果其中有一个小数，它会将其他数转换为小数</mark>"
      ]
    },
    {
      "cell_type": "code",
      "execution_count": null,
      "metadata": {
        "id": "SKD7wT9FMyVR",
        "outputId": "f26ee160-1594-42c6-eeaa-882e1edc26c0",
        "colab": {
          "base_uri": "https://localhost:8080/"
        }
      },
      "outputs": [
        {
          "output_type": "execute_result",
          "data": {
            "text/plain": [
              "array([1. , 2. , 3. , 4. , 5. , 2.5])"
            ]
          },
          "metadata": {},
          "execution_count": 8
        }
      ],
      "source": [
        "arr = np.array([1, 2, 3, 4, 5, 2.5])\n",
        "arr"
      ]
    },
    {
      "cell_type": "code",
      "execution_count": null,
      "metadata": {
        "id": "KqA63S-AMyVR",
        "outputId": "5dee5c50-24a8-4f02-fe87-a72d8f37a985"
      },
      "outputs": [
        {
          "data": {
            "text/plain": [
              "array([1. , 2. , 3. , 4. , 5. , 5.2, 1.2], dtype=float32)"
            ]
          },
          "execution_count": 10,
          "metadata": {},
          "output_type": "execute_result"
        }
      ],
      "source": [
        "arr = np.array([1,2,3,4,5, 5.2, 1.2], dtype = \"float32\")\n",
        "arr"
      ]
    },
    {
      "cell_type": "code",
      "execution_count": null,
      "metadata": {
        "id": "cOhnK0ULMyVR",
        "outputId": "c65016b7-2fc8-4ea7-d33c-f962f93ca266",
        "colab": {
          "base_uri": "https://localhost:8080/"
        }
      },
      "outputs": [
        {
          "output_type": "execute_result",
          "data": {
            "text/plain": [
              "array([1, 2, 3, 4, 5, 5, 1])"
            ]
          },
          "metadata": {},
          "execution_count": 11
        }
      ],
      "source": [
        "arr = np.array([1, 2, 3, 4, 5, 5.2, 1.99], dtype = \"int\")\n",
        "arr"
      ]
    },
    {
      "cell_type": "markdown",
      "metadata": {
        "id": "gn6UdrDEMyVR"
      },
      "source": [
        "### <span style = \"background:#174D83; border:#ffffff; font-size:100%; color:#fff; border-radius:5px;\">5. 不使用列表创建数组</span>"
      ]
    },
    {
      "cell_type": "markdown",
      "metadata": {
        "id": "WYvkcGzjMyVR"
      },
      "source": [
        "### <mark>创建一个零数组</mark>"
      ]
    },
    {
      "cell_type": "code",
      "execution_count": null,
      "metadata": {
        "id": "Jgxy2cTCMyVR",
        "outputId": "58336041-c6b1-4b6c-fe97-aa3fc89aacf8"
      },
      "outputs": [
        {
          "data": {
            "text/plain": [
              "array([0., 0., 0., 0., 0., 0., 0., 0., 0., 0.])"
            ]
          },
          "execution_count": 12,
          "metadata": {},
          "output_type": "execute_result"
        }
      ],
      "source": [
        "np.zeros(10)"
      ]
    },
    {
      "cell_type": "code",
      "execution_count": null,
      "metadata": {
        "id": "xhsShdUWMyVS",
        "outputId": "5cd20ca5-49fc-463b-c5b9-c4f9b40dff3e"
      },
      "outputs": [
        {
          "data": {
            "text/plain": [
              "array([[0., 0., 0., 0., 0.],\n",
              "       [0., 0., 0., 0., 0.],\n",
              "       [0., 0., 0., 0., 0.],\n",
              "       [0., 0., 0., 0., 0.],\n",
              "       [0., 0., 0., 0., 0.]])"
            ]
          },
          "execution_count": 13,
          "metadata": {},
          "output_type": "execute_result"
        }
      ],
      "source": [
        "np.zeros((5, 5))"
      ]
    },
    {
      "cell_type": "code",
      "execution_count": null,
      "metadata": {
        "id": "jeth-p84MyVS",
        "outputId": "a01cf010-fe42-4c4d-823f-efe360c86b6a"
      },
      "outputs": [
        {
          "data": {
            "text/plain": [
              "array([0, 0, 0, 0, 0])"
            ]
          },
          "execution_count": 14,
          "metadata": {},
          "output_type": "execute_result"
        }
      ],
      "source": [
        "np.zeros(5, dtype = \"int\")"
      ]
    },
    {
      "cell_type": "markdown",
      "metadata": {
        "id": "Bn27jABLMyVS"
      },
      "source": [
        "### <mark>创建一个值全为1数组</mark>"
      ]
    },
    {
      "cell_type": "code",
      "execution_count": null,
      "metadata": {
        "id": "b72vsGrKMyVS",
        "outputId": "df1eff44-3cb7-4da9-a983-0c6941fb4c48"
      },
      "outputs": [
        {
          "data": {
            "text/plain": [
              "array([1, 1, 1, 1, 1, 1, 1])"
            ]
          },
          "execution_count": 15,
          "metadata": {},
          "output_type": "execute_result"
        }
      ],
      "source": [
        "np.ones(7, dtype = \"int\")"
      ]
    },
    {
      "cell_type": "code",
      "execution_count": null,
      "metadata": {
        "id": "BYIJXxm0MyVS",
        "outputId": "36dfc811-d9bd-4098-9f8a-d148be93982a"
      },
      "outputs": [
        {
          "data": {
            "text/plain": [
              "array([[1., 1., 1., 1., 1., 1., 1.],\n",
              "       [1., 1., 1., 1., 1., 1., 1.],\n",
              "       [1., 1., 1., 1., 1., 1., 1.],\n",
              "       [1., 1., 1., 1., 1., 1., 1.]], dtype=float32)"
            ]
          },
          "execution_count": 16,
          "metadata": {},
          "output_type": "execute_result"
        }
      ],
      "source": [
        "np.ones((4, 7), dtype = \"float32\")"
      ]
    },
    {
      "cell_type": "markdown",
      "metadata": {
        "id": "HWg93fyoMyVS"
      },
      "source": [
        "### <mark>创建一个值全为7的数组</mark>"
      ]
    },
    {
      "cell_type": "code",
      "execution_count": null,
      "metadata": {
        "id": "W9a1wH2UMyVS",
        "outputId": "75731d45-f6d2-49cd-d30e-6d10eb7d2899"
      },
      "outputs": [
        {
          "data": {
            "text/plain": [
              "array([[7., 7., 7., 7.],\n",
              "       [7., 7., 7., 7.],\n",
              "       [7., 7., 7., 7.]], dtype=float32)"
            ]
          },
          "execution_count": 17,
          "metadata": {},
          "output_type": "execute_result"
        }
      ],
      "source": [
        "np.full((3, 4), 7, dtype = \"float32\")"
      ]
    },
    {
      "cell_type": "markdown",
      "metadata": {
        "id": "gS52LLQ6MyVT"
      },
      "source": [
        "### <span style = \"background:#174D83; border:#ffffff; font-size:100%; color:#fff; border-radius:5px;\">6. Linspace function</span>"
      ]
    },
    {
      "cell_type": "markdown",
      "metadata": {
        "id": "IRufkhJMMyVT"
      },
      "source": [
        "### <mark>在指定间隔内返回间隔均匀的数字</mark>"
      ]
    },
    {
      "cell_type": "code",
      "execution_count": null,
      "metadata": {
        "colab": {
          "base_uri": "https://localhost:8080/"
        },
        "id": "3R7Wf8lnMyVT",
        "outputId": "ad213e9c-4df1-42e3-ed6c-88fe0f3fc35c"
      },
      "outputs": [
        {
          "output_type": "execute_result",
          "data": {
            "text/plain": [
              "array([0.        , 0.11111111, 0.22222222, 0.33333333, 0.44444444,\n",
              "       0.55555556, 0.66666667, 0.77777778, 0.88888889, 1.        ])"
            ]
          },
          "metadata": {},
          "execution_count": 12
        }
      ],
      "source": [
        "np.linspace(0, 1, 10)"
      ]
    },
    {
      "cell_type": "code",
      "execution_count": null,
      "metadata": {
        "colab": {
          "base_uri": "https://localhost:8080/"
        },
        "id": "PqL-oeLuMyVT",
        "outputId": "5be4d246-aead-486b-8f3c-ae747963b230"
      },
      "outputs": [
        {
          "output_type": "execute_result",
          "data": {
            "text/plain": [
              "array([ 1. ,  2.5,  4. ,  5.5,  7. ,  8.5, 10. ])"
            ]
          },
          "metadata": {},
          "execution_count": 13
        }
      ],
      "source": [
        "np.linspace(1, 10, 7)"
      ]
    },
    {
      "cell_type": "code",
      "execution_count": null,
      "metadata": {
        "colab": {
          "base_uri": "https://localhost:8080/"
        },
        "id": "KM-M3kqtMyVT",
        "outputId": "d07c0c3c-5ac7-4995-cc06-d63991b6968e"
      },
      "outputs": [
        {
          "output_type": "execute_result",
          "data": {
            "text/plain": [
              "array([2. , 2.5, 3. , 3.5, 4. , 4.5, 5. , 5.5, 6. , 6.5, 7. , 7.5, 8. ,\n",
              "       8.5, 9. ])"
            ]
          },
          "metadata": {},
          "execution_count": 14
        }
      ],
      "source": [
        "np.linspace(2, 9, 15)"
      ]
    },
    {
      "cell_type": "markdown",
      "source": [
        "### `np.linspace`\n",
        "\n",
        "`np.linspace` 是 NumPy 中的一个函数，用于在指定的范围内生成均匀间隔的数字序列。\n",
        "\n",
        "---\n",
        "\n",
        "### **语法**\n",
        "```python\n",
        "numpy.linspace(start, stop, num=50, endpoint=True, retstep=False, dtype=None, axis=0)\n",
        "```\n",
        "\n",
        "---\n",
        "\n",
        "### **参数说明**\n",
        "\n",
        "1. **`start` (float)**:  \n",
        "   - 序列的起始值。\n",
        "\n",
        "2. **`stop` (float)**:  \n",
        "   - 序列的终止值。\n",
        "\n",
        "3. **`num` (int, 可选)**:  \n",
        "   - 生成的样本数。  \n",
        "   - 默认值为 `50`。\n",
        "\n",
        "4. **`endpoint` (bool, 可选)**:  \n",
        "   - 如果为 `True`，则包含终止值 `stop`；如果为 `False`，则不包含。  \n",
        "   - 默认值为 `True`。\n",
        "\n",
        "5. **`retstep` (bool, 可选)**:  \n",
        "   - 如果为 `True`，同时返回步长（间隔）。  \n",
        "   - 默认值为 `False`。\n",
        "\n",
        "6. **`dtype` (dtype, 可选)**:  \n",
        "   - 生成数组的数据类型。  \n",
        "   - 默认与 `start` 和 `stop` 类型一致。\n",
        "\n",
        "7. **`axis` (int, 可选)**:  \n",
        "   - 指定生成数组所在的轴。  \n",
        "   - 默认值为 `0`。\n",
        "\n",
        "---\n",
        "\n",
        "### **返回值**\n",
        "\n",
        "- 返回一个包含均匀间隔数字的 NumPy 数组。\n",
        "- 如果 `retstep=True`，则返回一个包含数组和步长的元组 `(samples, step)`。\n",
        "\n",
        "---\n",
        "\n",
        "### **示例**\n",
        "\n",
        "#### **1. 生成从 0 到 1 的 5 个均匀间隔的数**\n",
        "```python\n",
        "import numpy as np\n",
        "arr = np.linspace(0, 1, num=5)\n",
        "print(arr)\n",
        "# 输出: [0.   0.25 0.5  0.75 1.  ]\n",
        "```\n",
        "\n",
        "#### **2. 不包含终止值**\n",
        "```python\n",
        "arr = np.linspace(0, 1, num=5, endpoint=False)\n",
        "print(arr)\n",
        "# 输出: [0.  0.2 0.4 0.6 0.8]\n",
        "```\n",
        "\n",
        "#### **3. 同时返回步长**\n",
        "```python\n",
        "arr, step = np.linspace(0, 10, num=5, retstep=True)\n",
        "print(arr)\n",
        "# 输出: [ 0.   2.5  5.   7.5 10. ]\n",
        "print(step)\n",
        "# 输出: 2.5\n",
        "```\n",
        "\n",
        "#### **4. 指定数据类型**\n",
        "```python\n",
        "arr = np.linspace(0, 1, num=5, dtype=int)\n",
        "print(arr)\n",
        "# 输出: [0 0 0 0 1]\n",
        "```\n",
        "\n",
        "#### **5. 生成二维数组**\n",
        "```python\n",
        "arr = np.linspace(0, 1, num=5, axis=1).reshape(1, -1)\n",
        "print(arr)\n",
        "# 输出: [[0.   0.25 0.5  0.75 1.  ]]\n",
        "```\n",
        "\n",
        "### **应用场景**\n",
        "\n",
        "- 数值分析中用于生成一系列等间距的样本点。\n",
        "- 绘图中用于生成 x 轴的点，例如：绘制函数曲线。"
      ],
      "metadata": {
        "id": "GQoc9sBsK0ln"
      }
    },
    {
      "cell_type": "code",
      "execution_count": null,
      "metadata": {
        "id": "KvEF1gGLMyVT",
        "outputId": "cc12b35f-19e4-4ae6-dad8-57ced74d9df8"
      },
      "outputs": [
        {
          "data": {
            "text/plain": [
              "array([ 1,  1,  2,  2,  3,  4,  4,  5,  6,  6,  7,  8,  8,  9, 10])"
            ]
          },
          "execution_count": 21,
          "metadata": {},
          "output_type": "execute_result"
        }
      ],
      "source": [
        "np.linspace(1, 10, 15, dtype = int)"
      ]
    },
    {
      "cell_type": "markdown",
      "metadata": {
        "id": "OdNFgOq1MyVU"
      },
      "source": [
        "### <span style = \"background:#174D83; border:#ffffff; font-size:100%; color:#fff; border-radius:5px;\">7. 随机函数</span>"
      ]
    },
    {
      "cell_type": "code",
      "execution_count": null,
      "metadata": {
        "colab": {
          "base_uri": "https://localhost:8080/"
        },
        "id": "RPWOiOfoMyVY",
        "outputId": "168474b0-d1ba-48f8-dc0b-2c1877ab420d"
      },
      "outputs": [
        {
          "output_type": "execute_result",
          "data": {
            "text/plain": [
              "array([[13.31440131,  1.97186326, 18.51302995, 14.06186603],\n",
              "       [ 4.21193959,  8.05418506, -0.67183837, 17.43345052],\n",
              "       [ 3.37748577, 14.1872827 , 15.66185791, 20.51991487]])"
            ]
          },
          "metadata": {},
          "execution_count": 20
        }
      ],
      "source": [
        "arr = np.random.normal(10, 7, (3, 4))\n",
        "arr"
      ]
    },
    {
      "cell_type": "markdown",
      "source": [
        "### `np.random.normal()`\n",
        "\n",
        "`np.random.normal()` 是 NumPy 中用于生成符合**正态分布（高斯分布）**的随机数的函数。\n",
        "\n",
        "---\n",
        "\n",
        "### **语法**  \n",
        "```python\n",
        "numpy.random.normal(loc=0.0, scale=1.0, size=None)\n",
        "```\n",
        "\n",
        "---\n",
        "\n",
        "### **参数说明**  \n",
        "1. **`loc`（浮点数或数组，可选）**:  \n",
        "   - 分布的均值（分布中心）。  \n",
        "   - 默认值：`0.0`。\n",
        "\n",
        "2. **`scale`（浮点数或数组，可选）**:  \n",
        "   - 分布的标准差（分布的宽度，必须为正值）。  \n",
        "   - 默认值：`1.0`。\n",
        "\n",
        "3. **`size`（整数或元组，可选）**:  \n",
        "   - 输出的形状。例如：  \n",
        "     - `size=5` → 生成 5 个随机数。  \n",
        "     - `size=(3, 4)` → 生成一个 3x4 的随机数数组。  \n",
        "   - 默认值：`None`（返回单个值）。\n",
        "\n",
        "---\n",
        "\n",
        "### **返回值**  \n",
        "- 返回符合指定均值 (`loc`) 和标准差 (`scale`) 的正态分布的随机数，形状由 `size` 决定。\n",
        "\n",
        "---\n",
        "\n",
        "### **示例**\n",
        "\n",
        "#### **1. 生成一个标准正态分布的随机数**  \n",
        "```python\n",
        "import numpy as np\n",
        "value = np.random.normal()\n",
        "print(value)  # 输出单个随机值\n",
        "```\n",
        "\n",
        "#### **2. 生成 5 个随机数**  \n",
        "```python\n",
        "values = np.random.normal(size=5)\n",
        "print(values)  # 输出一维数组\n",
        "```\n",
        "\n",
        "#### **3. 生成均值为 10、标准差为 2 的随机数数组**  \n",
        "```python\n",
        "values = np.random.normal(loc=10, scale=2, size=(2, 3))\n",
        "print(values)  # 输出 2x3 的数组\n",
        "```\n",
        "\n",
        "#### **4. 用于模拟数据分布**  \n",
        "可以用来模拟现实中的数据分布，例如测量误差或随机噪声的生成。"
      ],
      "metadata": {
        "id": "7pgamAkAKlCQ"
      }
    },
    {
      "cell_type": "code",
      "source": [
        "arr.mean()"
      ],
      "metadata": {
        "colab": {
          "base_uri": "https://localhost:8080/"
        },
        "id": "SiuqnuWrOkbB",
        "outputId": "db0a53d5-0c96-4526-d43c-844d378adf09"
      },
      "execution_count": null,
      "outputs": [
        {
          "output_type": "execute_result",
          "data": {
            "text/plain": [
              "10.886286549773459"
            ]
          },
          "metadata": {},
          "execution_count": 22
        }
      ]
    },
    {
      "cell_type": "code",
      "source": [
        "arr.std()"
      ],
      "metadata": {
        "colab": {
          "base_uri": "https://localhost:8080/"
        },
        "id": "367tRUUfPBQJ",
        "outputId": "025e6966-0493-41a5-d693-76a6c4be6dd6"
      },
      "execution_count": null,
      "outputs": [
        {
          "output_type": "execute_result",
          "data": {
            "text/plain": [
              "6.864941484007925"
            ]
          },
          "metadata": {},
          "execution_count": 24
        }
      ]
    },
    {
      "cell_type": "code",
      "execution_count": null,
      "metadata": {
        "colab": {
          "base_uri": "https://localhost:8080/"
        },
        "id": "tKGUoeYsMyVZ",
        "outputId": "edea1bdb-4883-47ff-b5fe-24727a9e57bf"
      },
      "outputs": [
        {
          "output_type": "execute_result",
          "data": {
            "text/plain": [
              "array([[ 9, 11,  4,  4, 10],\n",
              "       [11,  7,  7,  8,  7],\n",
              "       [11,  8,  1,  0,  1]])"
            ]
          },
          "metadata": {},
          "execution_count": 27
        }
      ],
      "source": [
        "np.random.randint(0, 12, (3,5))"
      ]
    },
    {
      "cell_type": "code",
      "execution_count": null,
      "metadata": {
        "colab": {
          "base_uri": "https://localhost:8080/"
        },
        "id": "LSDa-PfHMyVZ",
        "outputId": "b95f7705-f80f-45bb-e3bc-57b3e6ef68e8"
      },
      "outputs": [
        {
          "output_type": "execute_result",
          "data": {
            "text/plain": [
              "array([8, 5, 3, 2, 4, 4, 1, 2, 7, 1])"
            ]
          },
          "metadata": {},
          "execution_count": 28
        }
      ],
      "source": [
        "np.random.randint(1, 9, 10)"
      ]
    },
    {
      "cell_type": "code",
      "execution_count": null,
      "metadata": {
        "id": "Dw5sxF-LMyVZ",
        "outputId": "ba08f30b-49eb-485f-a094-ff665257ee37"
      },
      "outputs": [
        {
          "data": {
            "text/plain": [
              "array([[22,  3,  6, 10, 24],\n",
              "       [ 6,  8,  5,  3, 24],\n",
              "       [ 3, 21, 13, 19,  5],\n",
              "       [22, 14, 17,  4,  2],\n",
              "       [21,  4, 19, 23, 15]])"
            ]
          },
          "execution_count": 25,
          "metadata": {},
          "output_type": "execute_result"
        }
      ],
      "source": [
        "np.random.randint(1, 25, (5,5))"
      ]
    },
    {
      "cell_type": "code",
      "execution_count": null,
      "metadata": {
        "id": "oS9lAbQRMyVZ",
        "outputId": "b292cd4d-e9b4-4da5-af51-8d60d1b11f7c"
      },
      "outputs": [
        {
          "data": {
            "text/plain": [
              "array([9, 9])"
            ]
          },
          "execution_count": 26,
          "metadata": {},
          "output_type": "execute_result"
        }
      ],
      "source": [
        "np.random.randint(10, size = (2))"
      ]
    },
    {
      "cell_type": "code",
      "execution_count": null,
      "metadata": {
        "id": "inEpuFtiMyVZ",
        "outputId": "8a8257a0-7c9e-4df7-b31e-8881522944d7"
      },
      "outputs": [
        {
          "name": "stdout",
          "output_type": "stream",
          "text": [
            "[[0 2 7]\n",
            " [5 6 0]] \n",
            "\n",
            "[[0 2 7]\n",
            " [5 6 0]] .shape: (2, 3) \n",
            "\n",
            "datatype: int32\n"
          ]
        }
      ],
      "source": [
        "a = np.random.randint(10, size = (2, 3))\n",
        "\n",
        "print(a, \"\\n\")\n",
        "print(a, \".shape:\", a.shape, \"\\n\")\n",
        "print(\"datatype:\", a.dtype)"
      ]
    },
    {
      "cell_type": "markdown",
      "source": [
        "### `np.random.randint`\n",
        "\n",
        "`np.random.randint` 是 NumPy 中用于生成指定范围内的随机整数的函数。\n",
        "\n",
        "---\n",
        "\n",
        "### **语法**\n",
        "```python\n",
        "numpy.random.randint(low, high=None, size=None, dtype=int, endpoint=False)\n",
        "```\n",
        "\n",
        "---\n",
        "\n",
        "### **参数说明**\n",
        "\n",
        "1. **`low` (int)**:  \n",
        "   - 生成随机整数的下界（包含）。\n",
        "\n",
        "2. **`high` (int, 可选)**:  \n",
        "   - 生成随机整数的上界（不包含）。  \n",
        "   - 如果未指定，则生成随机整数的范围为 `[0, low)`。\n",
        "\n",
        "3. **`size` (int 或 tuple，可选)**:  \n",
        "   - 指定输出的形状。  \n",
        "   - 如果为 `None`，返回单个值。\n",
        "\n",
        "4. **`dtype` (dtype, 可选)**:  \n",
        "   - 输出数组的数据类型。  \n",
        "   - 默认值为 `int`。\n",
        "\n",
        "5. **`endpoint` (bool, 可选)**:  \n",
        "   - 如果为 `True`，上界 `high` 将包含在范围内。  \n",
        "   - 默认值为 `False`。\n",
        "\n",
        "---\n",
        "\n",
        "### **返回值**\n",
        "\n",
        "- 返回一个随机整数或由随机整数组成的数组，范围为 `[low, high)` 或 `[low, high]`（当 `endpoint=True` 时）。\n",
        "\n",
        "---\n",
        "\n",
        "### **示例**\n",
        "\n",
        "#### **1. 生成一个随机整数**\n",
        "```python\n",
        "import numpy as np\n",
        "value = np.random.randint(1, 10)\n",
        "print(value)  \n",
        "# 输出: 一个在 [1, 10) 范围内的随机整数\n",
        "```\n",
        "\n",
        "#### **2. 指定范围**\n",
        "```python\n",
        "value = np.random.randint(10, 20)\n",
        "print(value)\n",
        "# 输出: 一个在 [10, 20) 范围内的随机整数\n",
        "```\n",
        "\n",
        "#### **3. 生成多个随机整数**\n",
        "```python\n",
        "values = np.random.randint(0, 5, size=10)\n",
        "print(values)\n",
        "# 输出: 一个包含 10 个随机整数的数组，范围为 [0, 5)\n",
        "```\n",
        "\n",
        "#### **4. 生成二维数组**\n",
        "```python\n",
        "values = np.random.randint(1, 10, size=(3, 4))\n",
        "print(values)\n",
        "# 输出: 一个 3x4 的二维数组，元素在 [1, 10) 范围内\n",
        "```\n",
        "\n",
        "#### **5. 包含上界**\n",
        "```python\n",
        "values = np.random.randint(1, 10, size=5, endpoint=True)\n",
        "print(values)\n",
        "# 输出: 一个包含 5 个随机整数的数组，范围为 [1, 10]\n",
        "```\n",
        "\n",
        "#### **6. 指定数据类型**\n",
        "```python\n",
        "values = np.random.randint(0, 100, size=5, dtype=np.int64)\n",
        "print(values)\n",
        "# 输出: 一个包含 5 个随机整数的数组，类型为 int64\n",
        "```\n",
        "\n",
        "---\n",
        "\n",
        "### **应用场景**\n",
        "\n",
        "- 用于模拟随机事件（例如投掷骰子）。\n",
        "- 随机生成索引或数据集的子集。\n",
        "- 生成离散型随机样本，用于数据科学或机器学习实验。"
      ],
      "metadata": {
        "id": "FnFd_IoMLM8R"
      }
    },
    {
      "cell_type": "markdown",
      "metadata": {
        "id": "exYqw5FHMyVa"
      },
      "source": [
        "### <span style = \"background:#174D83; border:#ffffff; font-size:100%; color:#fff; border-radius:5px;\">8. ndim, shape, size, dtype functions</span>"
      ]
    },
    {
      "cell_type": "markdown",
      "metadata": {
        "id": "LXkXYEbJMyVa"
      },
      "source": [
        "* ### <mark>ndim - size number</mark>\n",
        "* ### <mark>shape - shape info</mark>\n",
        "* ### <mark>size - total element number</mark>\n",
        "* ### <mark>dtype - data type of elements of array</mark>"
      ]
    },
    {
      "cell_type": "code",
      "execution_count": null,
      "metadata": {
        "id": "juw4B-toMyVa",
        "outputId": "d9a4fe65-27ca-42c0-f552-93308e617c10"
      },
      "outputs": [
        {
          "name": "stdout",
          "output_type": "stream",
          "text": [
            "Array: [7 4 4 9 3 4 1]\n"
          ]
        }
      ],
      "source": [
        "arr = np.random.randint(10, size = 7)\n",
        "print(\"Array:\", arr)"
      ]
    },
    {
      "cell_type": "code",
      "execution_count": null,
      "metadata": {
        "colab": {
          "base_uri": "https://localhost:8080/"
        },
        "id": "I0j-wRu4MyVa",
        "outputId": "3bb70d9d-5397-466d-908a-e5d495c28808"
      },
      "outputs": [
        {
          "output_type": "stream",
          "name": "stdout",
          "text": [
            "(3, 4)\n",
            "float64\n",
            "2\n",
            "12\n"
          ]
        }
      ],
      "source": [
        "for i in (arr.shape, arr.dtype, arr.ndim,arr.size):\n",
        "    print(i)"
      ]
    },
    {
      "cell_type": "code",
      "execution_count": null,
      "metadata": {
        "id": "2CxHHNeqMyVa",
        "outputId": "aebe00e2-b5b3-4053-c415-a50efe19e009"
      },
      "outputs": [
        {
          "name": "stdout",
          "output_type": "stream",
          "text": [
            "Array:\n",
            "\n",
            " [[3 7 6 9 4 9 0]\n",
            " [1 1 4 4 6 8 0]\n",
            " [9 6 4 2 9 0 4]\n",
            " [1 2 3 9 7 4 3]\n",
            " [7 7 7 4 0 8 4]]\n"
          ]
        }
      ],
      "source": [
        "arr_1 = np.random.randint(10, size = (5, 7))\n",
        "print(\"Array:\\n\\n\", arr_1)"
      ]
    },
    {
      "cell_type": "code",
      "execution_count": null,
      "metadata": {
        "id": "CJFZnIPAMyVa",
        "outputId": "0bf439cb-86be-4987-83cb-902d4c714b9d"
      },
      "outputs": [
        {
          "name": "stdout",
          "output_type": "stream",
          "text": [
            "(5, 7)\n",
            "int32\n",
            "2\n",
            "35\n"
          ]
        }
      ],
      "source": [
        "for i in (arr_1.shape, arr_1.dtype, arr_1.ndim, arr_1.size):\n",
        "    print(i)"
      ]
    },
    {
      "cell_type": "markdown",
      "metadata": {
        "id": "QzDicTNFMyVb"
      },
      "source": [
        "### <span style = \"background:#174D83; border:#ffffff; font-size:100%; color:#fff; border-radius:5px;\">9. Reshape function</span>"
      ]
    },
    {
      "cell_type": "code",
      "execution_count": null,
      "metadata": {
        "id": "DOSzbxKNMyVb",
        "outputId": "70eec7ea-a67c-40cf-ba1f-8e433215ad23"
      },
      "outputs": [
        {
          "name": "stdout",
          "output_type": "stream",
          "text": [
            "[ 0  1  2  3  4  5  6  7  8  9 10 11 12 13 14]\n"
          ]
        }
      ],
      "source": [
        "arr = np.arange(0, 15)\n",
        "print(arr)"
      ]
    },
    {
      "cell_type": "code",
      "execution_count": null,
      "metadata": {
        "id": "LND-tt2VMyVb",
        "outputId": "9fdf52a7-7636-40ae-ab78-3a7272592cb2"
      },
      "outputs": [
        {
          "name": "stdout",
          "output_type": "stream",
          "text": [
            "[[ 0  1  2  3  4]\n",
            " [ 5  6  7  8  9]\n",
            " [10 11 12 13 14]]\n"
          ]
        }
      ],
      "source": [
        "arr = arr.reshape(3, 5)\n",
        "print(arr)"
      ]
    },
    {
      "cell_type": "markdown",
      "metadata": {
        "id": "1kv5ntI-MyVb"
      },
      "source": [
        "### <mark>这里我们创建一个保持向量格式的矩阵</mark>"
      ]
    },
    {
      "cell_type": "code",
      "execution_count": null,
      "metadata": {
        "id": "KXT-Plu3MyVb",
        "outputId": "3aec3ece-2e37-40e9-ca6f-6d297c03c8ba"
      },
      "outputs": [
        {
          "name": "stdout",
          "output_type": "stream",
          "text": [
            "[[ 1  2  3  4  5  6  7  8  9 10 11 12 13 14]]\n",
            "***********\n",
            "2\n"
          ]
        }
      ],
      "source": [
        "arr = np.arange(1, 15)\n",
        "\n",
        "arr = arr.reshape((1, 14))\n",
        "for i in (arr, \"***********\", arr.ndim):\n",
        "    print(i)"
      ]
    },
    {
      "cell_type": "markdown",
      "metadata": {
        "id": "-_nGwRlAMyVb"
      },
      "source": [
        "### <mark>Reshape with -1</mark>"
      ]
    },
    {
      "cell_type": "code",
      "execution_count": null,
      "metadata": {
        "id": "NcEHRXxgMyVc",
        "outputId": "ea063a33-e549-4804-c9e1-5c2f5b3845cb"
      },
      "outputs": [
        {
          "name": "stdout",
          "output_type": "stream",
          "text": [
            "Original numpy array and its shape :\n",
            "[[ 1  2  3  4  5]\n",
            " [ 6  7  8  9 10]\n",
            " [11 12 13 14 15]] \n",
            "\n",
            " (3, 5)\n"
          ]
        }
      ],
      "source": [
        "arr = np.matrix([[1, 2, 3, 4, 5], [6, 7, 8, 9, 10], [11, 12, 13, 14, 15]])\n",
        "print(\"Original numpy array and its shape :\")\n",
        "print(arr, \"\\n\\n\", arr.shape)"
      ]
    },
    {
      "cell_type": "code",
      "execution_count": null,
      "metadata": {
        "id": "n92u4h7DMyVc",
        "outputId": "898ba5e7-e06b-40f8-f56a-7af702662609"
      },
      "outputs": [
        {
          "name": "stdout",
          "output_type": "stream",
          "text": [
            "\n",
            "reshaping the array like (arr, -1):\n",
            "[[ 1  2  3  4  5  6  7  8  9 10 11 12 13 14 15]]\n",
            "\n",
            "new shape: (1, 15)\n"
          ]
        }
      ],
      "source": [
        "c = np.reshape(arr, -1)\n",
        "print(\"\\nreshaping the array like (arr, -1):\")\n",
        "print(c)\n",
        "print(\"\\nnew shape:\", c.shape)"
      ]
    },
    {
      "cell_type": "code",
      "execution_count": null,
      "metadata": {
        "id": "SEjQEBTtMyVc",
        "outputId": "99095e96-ac7b-4c7a-808b-2e1b89027184"
      },
      "outputs": [
        {
          "name": "stdout",
          "output_type": "stream",
          "text": [
            "reshaping array like (arr, (1, -1)):\n",
            "[[ 1  2  3  4  5  6  7  8  9 10 11 12 13 14 15]]\n",
            "\n",
            "new shape:  (1, 15)\n"
          ]
        }
      ],
      "source": [
        "d = np.reshape(arr, (1, -1))\n",
        "print(\"reshaping array like (arr, (1, -1)):\")\n",
        "print(d)\n",
        "print(\"\\nnew shape: \", d.shape)"
      ]
    },
    {
      "cell_type": "code",
      "execution_count": null,
      "metadata": {
        "id": "KHbQW7nNMyVc",
        "outputId": "248c893c-43d7-453e-ee53-a84dacbbb880"
      },
      "outputs": [
        {
          "name": "stdout",
          "output_type": "stream",
          "text": [
            "reshaping the array - (arr, (3, -1)):\n",
            "[[ 1  2  3  4  5]\n",
            " [ 6  7  8  9 10]\n",
            " [11 12 13 14 15]]\n",
            "\n",
            "new shape: (3, 5)\n"
          ]
        }
      ],
      "source": [
        "e = np.reshape(arr, (3, -1))\n",
        "print(\"reshaping the array - (arr, (3, -1)):\")\n",
        "print(e)\n",
        "print(\"\\nnew shape:\", e.shape)"
      ]
    },
    {
      "cell_type": "code",
      "execution_count": null,
      "metadata": {
        "colab": {
          "base_uri": "https://localhost:8080/"
        },
        "id": "Y5xMQjMqMyVc",
        "outputId": "87db1d10-440b-487c-bd3d-292f785ec2d2"
      },
      "outputs": [
        {
          "output_type": "stream",
          "name": "stdout",
          "text": [
            "reshaping the array - (arr, (3, -1)):\n",
            "[[13.31440131  1.97186326]\n",
            " [18.51302995 14.06186603]\n",
            " [ 4.21193959  8.05418506]\n",
            " [-0.67183837 17.43345052]\n",
            " [ 3.37748577 14.1872827 ]\n",
            " [15.66185791 20.51991487]]\n",
            "\n",
            "new shape: (6, 2)\n"
          ]
        }
      ],
      "source": [
        "f = np.reshape(arr, (3, -1))\n",
        "print(\"reshaping the array - (arr, (3, -1)):\")\n",
        "print(f)\n",
        "print(\"\\nnew shape:\", f.shape)"
      ]
    },
    {
      "cell_type": "code",
      "execution_count": null,
      "metadata": {
        "id": "K2hYyo-YMyVd",
        "outputId": "29c26efe-ee97-4a60-c858-1389769027cf"
      },
      "outputs": [
        {
          "name": "stdout",
          "output_type": "stream",
          "text": [
            "reshaping the array - (a, (4, -1)):\n",
            "[[ 1  2  3]\n",
            " [ 4  5  6]\n",
            " [ 7  8  9]\n",
            " [10 11 12]\n",
            " [13 14 15]]\n",
            "\n",
            "new shape: (5, 3)\n"
          ]
        }
      ],
      "source": [
        "g = np.reshape(arr, (5, -1))\n",
        "print(\"reshaping the array - (a, (4, -1)):\")\n",
        "print(g)\n",
        "print(\"\\nnew shape:\", g.shape)"
      ]
    },
    {
      "cell_type": "markdown",
      "source": [
        "### `np.reshape`\n",
        "\n",
        "`np.reshape` 是 NumPy 中用于改变数组形状的函数。\n",
        "\n",
        "---\n",
        "\n",
        "### **语法**\n",
        "```python\n",
        "numpy.reshape(a, newshape, order='C')\n",
        "```\n",
        "\n",
        "---\n",
        "\n",
        "### **参数说明**\n",
        "\n",
        "1. **`a` (array_like)**:  \n",
        "   - 需要改变形状的输入数组。\n",
        "\n",
        "2. **`newshape` (int 或 tuple of ints)**:  \n",
        "   - 指定新的形状。  \n",
        "   - 其中一个维度可以为 `-1`，NumPy 会根据数组大小自动计算该维度的长度。\n",
        "\n",
        "3. **`order` (可选)**:  \n",
        "   - 指定如何读取数组中的元素。  \n",
        "     - `'C'`（默认）：按行优先（C 风格）。\n",
        "     - `'F'`：按列优先（Fortran 风格）。\n",
        "     - `'A'`：根据输入数组的内存布局自动选择。\n",
        "     - `'K'`：尝试保持元素在内存中的顺序。\n",
        "\n",
        "---\n",
        "\n",
        "### **返回值**\n",
        "\n",
        "- 返回一个新形状的数组，原数组数据保持不变。\n",
        "\n",
        "---\n",
        "\n",
        "### **示例**\n",
        "\n",
        "#### **1. 一维数组改为二维数组**\n",
        "```python\n",
        "import numpy as np\n",
        "a = np.arange(6)  # 创建一维数组 [0, 1, 2, 3, 4, 5]\n",
        "b = np.reshape(a, (2, 3))\n",
        "print(b)\n",
        "# 输出:\n",
        "# [[0 1 2]\n",
        "#  [3 4 5]]\n",
        "```\n",
        "\n",
        "#### **2. 使用 `-1` 自动计算维度**\n",
        "```python\n",
        "a = np.arange(8)\n",
        "b = np.reshape(a, (2, -1))  # 自动计算列数\n",
        "print(b)\n",
        "# 输出:\n",
        "# [[0 1 2 3]\n",
        "#  [4 5 6 7]]\n",
        "```\n",
        "\n",
        "#### **3. 按列优先排列**\n",
        "```python\n",
        "a = np.arange(6)\n",
        "b = np.reshape(a, (2, 3), order='F')\n",
        "print(b)\n",
        "# 输出:\n",
        "# [[0 2 4]\n",
        "#  [1 3 5]]\n",
        "```\n",
        "\n",
        "#### **4. 多维数组变为一维数组**\n",
        "```python\n",
        "a = np.array([[1, 2, 3], [4, 5, 6]])\n",
        "b = np.reshape(a, -1)\n",
        "print(b)\n",
        "# 输出: [1 2 3 4 5 6]\n",
        "```\n",
        "\n",
        "#### **5. 改变形状时保持内存顺序**\n",
        "```python\n",
        "a = np.arange(12).reshape((3, 4))\n",
        "b = np.reshape(a, (2, 6), order='K')  # 尝试保持内存顺序\n",
        "print(b)\n",
        "```\n",
        "\n",
        "---\n",
        "\n",
        "### **注意事项**\n",
        "\n",
        "1. **数组大小必须匹配**  \n",
        "   - 新形状的元素总数必须等于原数组的元素总数，否则会报错：\n",
        "     ```python\n",
        "     np.reshape(np.arange(6), (2, 4))  # 会报错，因为元素总数不匹配\n",
        "     ```\n",
        "\n",
        "2. **返回的是新数组的视图**  \n",
        "   - 改变新数组的值会影响原数组（如果底层数据存储未被复制）。\n",
        "\n",
        "---\n",
        "\n",
        "### **应用场景**\n",
        "\n",
        "- 调整数据的形状以适应模型输入（例如机器学习中的特征矩阵）。\n",
        "- 数据可视化时准备特定形状的数组。\n",
        "- 简化多维数据处理的流程。"
      ],
      "metadata": {
        "id": "Tw5reCoxL0kk"
      }
    },
    {
      "cell_type": "markdown",
      "metadata": {
        "id": "0Tl0xYYAMyVd"
      },
      "source": [
        "### <span style = \"background:#174D83; border:#ffffff; font-size:100%; color:#fff; border-radius:5px;\">10. Concatenate arrays（连接数组）</span>"
      ]
    },
    {
      "cell_type": "markdown",
      "metadata": {
        "id": "eymj_U6EMyVd"
      },
      "source": [
        "### <mark>One dimensional arrays</mark>"
      ]
    },
    {
      "cell_type": "code",
      "execution_count": null,
      "metadata": {
        "id": "4XxCkeIcMyVd",
        "outputId": "9fd51b3c-0d15-424d-d92b-d752bacd8503"
      },
      "outputs": [
        {
          "data": {
            "text/plain": [
              "array([1, 2, 3, 4, 5, 6, 5, 6, 7])"
            ]
          },
          "execution_count": 41,
          "metadata": {},
          "output_type": "execute_result"
        }
      ],
      "source": [
        "arr_1 = np.array([1,2,3])\n",
        "arr_2 = np.array([4,5,6])\n",
        "arr_3 = np.array([5,6,7])\n",
        "np.concatenate([arr_1, arr_2, arr_3])"
      ]
    },
    {
      "cell_type": "markdown",
      "metadata": {
        "id": "kUvzArTcMyVd"
      },
      "source": [
        "### <mark>Two dimensional arrays</mark>"
      ]
    },
    {
      "cell_type": "code",
      "execution_count": null,
      "metadata": {
        "id": "mA7Zu_91MyVd",
        "outputId": "27111110-dc1a-491e-f7b9-e29504c68293"
      },
      "outputs": [
        {
          "data": {
            "text/plain": [
              "array([[ 1,  2,  3,  4],\n",
              "       [ 5,  6,  7,  8],\n",
              "       [ 9, 10, 11, 12],\n",
              "       [13, 14, 15, 16]])"
            ]
          },
          "execution_count": 42,
          "metadata": {},
          "output_type": "execute_result"
        }
      ],
      "source": [
        "arr_1 = np.array([[1,2,3,4],\n",
        "               [5,6,7,8]])\n",
        "\n",
        "arr_2 = np.array([[9,10,11,12],\n",
        "               [13,14,15,16]])\n",
        "\n",
        "np.concatenate([arr_1, arr_2], axis = 0)"
      ]
    },
    {
      "cell_type": "code",
      "execution_count": null,
      "metadata": {
        "id": "GJrSQ9w_MyVe",
        "outputId": "11e03ed7-d0e7-4dd4-a63b-9bada0de5223"
      },
      "outputs": [
        {
          "data": {
            "text/plain": [
              "array([[ 1,  2,  3,  4,  9, 10, 11, 12],\n",
              "       [ 5,  6,  7,  8, 13, 14, 15, 16]])"
            ]
          },
          "execution_count": 43,
          "metadata": {},
          "output_type": "execute_result"
        }
      ],
      "source": [
        "np.concatenate([arr_1,arr_2], axis = 1)"
      ]
    },
    {
      "cell_type": "markdown",
      "source": [
        "### `np.concatenate`\n",
        "\n",
        "`np.concatenate` 是 NumPy 中用于沿指定轴连接两个或多个数组的函数。\n",
        "\n",
        "---\n",
        "\n",
        "### **语法**\n",
        "```python\n",
        "numpy.concatenate((a1, a2, ...), axis=0, out=None, dtype=None, casting=\"same_kind\")\n",
        "```\n",
        "\n",
        "---\n",
        "\n",
        "### **参数说明**\n",
        "\n",
        "1. **`a1, a2, ...` (array_like)**:  \n",
        "   - 要连接的数组序列。  \n",
        "   - 所有数组必须具有相同的形状（除连接轴以外）。\n",
        "\n",
        "2. **`axis` (int, 可选)**:  \n",
        "   - 指定连接的轴。  \n",
        "     - 默认值为 `0`（按行连接）。  \n",
        "     - 如果为 `None`，数组会被展平后再连接。\n",
        "\n",
        "3. **`out` (ndarray, 可选)**:  \n",
        "   - 如果提供了 `out`，结果将被存储在该数组中。  \n",
        "   - 它的形状必须能够容纳输出。\n",
        "\n",
        "4. **`dtype` 和 `casting` (高级选项)**:  \n",
        "   - 指定输出的数据类型以及类型转换规则（通常不常用）。\n",
        "\n",
        "---\n",
        "\n",
        "### **返回值**\n",
        "\n",
        "- 返回一个新数组，将输入数组沿指定轴连接。\n",
        "\n",
        "---\n",
        "\n",
        "### **示例**\n",
        "\n",
        "#### **1. 按行（默认轴）连接一维数组**\n",
        "```python\n",
        "import numpy as np\n",
        "a = np.array([1, 2, 3])\n",
        "b = np.array([4, 5, 6])\n",
        "result = np.concatenate((a, b))\n",
        "print(result)\n",
        "# 输出: [1 2 3 4 5 6]\n",
        "```\n",
        "\n",
        "#### **2. 按列（轴 1）连接二维数组**\n",
        "```python\n",
        "a = np.array([[1, 2], [3, 4]])\n",
        "b = np.array([[5, 6], [7, 8]])\n",
        "result = np.concatenate((a, b), axis=1)\n",
        "print(result)\n",
        "# 输出:\n",
        "# [[1 2 5 6]\n",
        "#  [3 4 7 8]]\n",
        "```\n",
        "\n",
        "#### **3. 沿新轴连接（使用 `np.stack` 更适合这种情况）**\n",
        "```python\n",
        "result = np.stack((a, b), axis=0)\n",
        "print(result)\n",
        "# 输出:\n",
        "# [[[1 2]\n",
        "#   [3 4]]\n",
        "#  [[5 6]\n",
        "#   [7 8]]]\n",
        "```\n",
        "\n",
        "#### **4. 沿轴连接多组数组**\n",
        "```python\n",
        "a = np.array([1, 2])\n",
        "b = np.array([3, 4])\n",
        "c = np.array([5, 6])\n",
        "result = np.concatenate((a, b, c))\n",
        "print(result)\n",
        "# 输出: [1 2 3 4 5 6]\n",
        "```\n",
        "\n",
        "#### **5. 展平后连接**\n",
        "```python\n",
        "a = np.array([[1, 2], [3, 4]])\n",
        "b = np.array([[5, 6]])\n",
        "result = np.concatenate((a, b), axis=None)\n",
        "print(result)\n",
        "# 输出: [1 2 3 4 5 6]\n",
        "```\n",
        "\n",
        "---\n",
        "\n",
        "### **注意事项**\n",
        "\n",
        "1. **输入数组的形状必须兼容**  \n",
        "   - 除了连接的轴，其他维度必须相同，否则会报错。\n",
        "     ```python\n",
        "     np.concatenate((np.array([1, 2]), np.array([[3, 4]])), axis=0)\n",
        "     # 报错: 因为维度不匹配\n",
        "     ```\n",
        "\n",
        "2. **维度不同的数组可以展平后连接**  \n",
        "   - 使用 `axis=None`。\n",
        "\n",
        "---\n",
        "\n",
        "### **应用场景**\n",
        "\n",
        "- 数据合并：将多组数据集组合在一起。\n",
        "- 图像拼接：用于图像的行或列拼接。\n",
        "- 在数据分析和机器学习中合并不同特征或样本数据。"
      ],
      "metadata": {
        "id": "tp3YVCnrMQLb"
      }
    },
    {
      "cell_type": "markdown",
      "metadata": {
        "id": "jfQAdg7jMyVe"
      },
      "source": [
        "### <span style = \"background:#174D83; border:#ffffff; font-size:100%; color:#fff; border-radius:5px;\">11. Array splitting</span>"
      ]
    },
    {
      "cell_type": "code",
      "execution_count": null,
      "metadata": {
        "id": "MBU_QgoRMyVe",
        "outputId": "5e6ee574-3e24-4dd2-b4bf-a3083c9dbd9c"
      },
      "outputs": [
        {
          "data": {
            "text/plain": [
              "[array([1, 2, 3]), array([22, 22]), array([4, 5, 6])]"
            ]
          },
          "execution_count": 44,
          "metadata": {},
          "output_type": "execute_result"
        }
      ],
      "source": [
        "arr = np.array([1,2,3,22,22,4,5,6])\n",
        "np.split(arr, [3, 5])"
      ]
    },
    {
      "cell_type": "code",
      "execution_count": null,
      "metadata": {
        "id": "apuUN1o2MyVe",
        "outputId": "da61f0c4-a229-4ab0-f0dc-332fb6a9f196"
      },
      "outputs": [
        {
          "name": "stdout",
          "output_type": "stream",
          "text": [
            "[1 2 3]\n",
            "[22 22]\n",
            "[4 5 6]\n"
          ]
        }
      ],
      "source": [
        "a, b, c = np.split(arr, [3, 5])\n",
        "for i in (a, b, c):\n",
        "    print(i)"
      ]
    },
    {
      "cell_type": "markdown",
      "source": [
        "### `np.split`\n",
        "\n",
        "`np.split` 是 NumPy 中用于将一个数组分割成多个子数组的函数。\n",
        "\n",
        "---\n",
        "\n",
        "### **语法**\n",
        "```python\n",
        "numpy.split(ary, indices_or_sections, axis=0)\n",
        "```\n",
        "\n",
        "---\n",
        "\n",
        "### **参数说明**\n",
        "\n",
        "1. **`ary` (array_like)**:  \n",
        "   - 需要分割的数组。\n",
        "\n",
        "2. **`indices_or_sections`**:  \n",
        "   - 如果是整数 `N`，则将数组均匀分成 `N` 个子数组（如果不能整除，会抛出错误）。  \n",
        "   - 如果是数组或列表，它指定了分割的索引。例如，`[2, 5]` 表示在索引 2 和 5 处分割数组。  \n",
        "   - 可以是整数或数组。\n",
        "\n",
        "3. **`axis` (int, 可选)**:  \n",
        "   - 指定分割的轴，默认是 `0`（按行分割）。  \n",
        "     - 如果为 `1`，则按列分割。\n",
        "\n",
        "---\n",
        "\n",
        "### **返回值**\n",
        "\n",
        "- 返回一个包含多个子数组的列表。\n",
        "\n",
        "---\n",
        "\n",
        "### **示例**\n",
        "\n",
        "#### **1. 将数组均匀分割成 3 个子数组**\n",
        "```python\n",
        "import numpy as np\n",
        "a = np.array([1, 2, 3, 4, 5, 6])\n",
        "result = np.split(a, 3)\n",
        "print(result)\n",
        "# 输出: [array([1, 2]), array([3, 4]), array([5, 6])]\n",
        "```\n",
        "\n",
        "#### **2. 指定分割位置**\n",
        "```python\n",
        "a = np.array([1, 2, 3, 4, 5, 6])\n",
        "result = np.split(a, [2, 4])\n",
        "print(result)\n",
        "# 输出: [array([1, 2]), array([3, 4]), array([5, 6])]\n",
        "```\n",
        "\n",
        "#### **3. 按列分割二维数组**\n",
        "```python\n",
        "a = np.array([[1, 2, 3], [4, 5, 6], [7, 8, 9]])\n",
        "result = np.split(a, 3, axis=1)  # 按列分割为 3 个子数组\n",
        "print(result)\n",
        "# 输出: [array([[1], [4], [7]]), array([[2], [5], [8]]), array([[3], [6], [9]])]\n",
        "```\n",
        "\n",
        "#### **4. 分割为不等大小的子数组**\n",
        "```python\n",
        "a = np.array([1, 2, 3, 4, 5, 6, 7, 8, 9])\n",
        "result = np.split(a, [2, 5])\n",
        "print(result)\n",
        "# 输出: [array([1, 2]), array([3, 4, 5]), array([6, 7, 8, 9])]\n",
        "```\n",
        "\n",
        "#### **5. 当数组不能均匀分割时**\n",
        "如果分割后的子数组无法均匀分配元素，NumPy 会抛出错误。\n",
        "```python\n",
        "a = np.array([1, 2, 3, 4, 5])\n",
        "result = np.split(a, 3)  # 不能均匀分割，抛出错误\n",
        "```\n",
        "\n",
        "---\n",
        "\n",
        "### **注意事项**\n",
        "\n",
        "1. **无法均匀分割时会报错**  \n",
        "   - 如果尝试将数组分割成不均匀的大小，且不能整除，NumPy 会抛出错误。\n",
        "\n",
        "2. **分割的维度需要匹配**  \n",
        "   - 对于多维数组，使用 `axis` 来控制分割的维度。\n",
        "\n",
        "---\n",
        "\n",
        "### **应用场景**\n",
        "\n",
        "- 数据拆分：将数据集拆分成多个部分进行处理。\n",
        "- 数据增强：将大数据集拆分成小批量进行训练。\n",
        "- 图像处理：将图像分割成小块进行分析。"
      ],
      "metadata": {
        "id": "73_PScSHMhIc"
      }
    },
    {
      "cell_type": "markdown",
      "metadata": {
        "id": "8GurTIEwMyVe"
      },
      "source": [
        "### <mark>Split two dimensional arrays</mark>"
      ]
    },
    {
      "cell_type": "code",
      "execution_count": null,
      "metadata": {
        "id": "edkeK_4VMyVe",
        "outputId": "205d7488-4a74-42d0-9f88-90ecb7c35bd3"
      },
      "outputs": [
        {
          "data": {
            "text/plain": [
              "array([[ 0,  1,  2,  3],\n",
              "       [ 4,  5,  6,  7],\n",
              "       [ 8,  9, 10, 11],\n",
              "       [12, 13, 14, 15]])"
            ]
          },
          "execution_count": 46,
          "metadata": {},
          "output_type": "execute_result"
        }
      ],
      "source": [
        "arr = np.arange(16).reshape(4, 4)\n",
        "arr"
      ]
    },
    {
      "cell_type": "code",
      "execution_count": null,
      "metadata": {
        "id": "jLK2aDkSMyVf",
        "outputId": "6537955e-ee80-4a05-f780-31172018433c"
      },
      "outputs": [
        {
          "data": {
            "text/plain": [
              "(array([[0, 1, 2, 3],\n",
              "        [4, 5, 6, 7]]),\n",
              " array([[ 8,  9, 10, 11],\n",
              "        [12, 13, 14, 15]]))"
            ]
          },
          "execution_count": 47,
          "metadata": {},
          "output_type": "execute_result"
        }
      ],
      "source": [
        "top, bottom = np.vsplit(arr, [2])\n",
        "top, bottom"
      ]
    },
    {
      "cell_type": "markdown",
      "source": [
        "### `np.vsplit`\n",
        "\n",
        "`np.vsplit` 是 NumPy 中用于沿垂直方向（按行方向）分割数组的函数，适用于二维及以上的数组。\n",
        "\n",
        "---\n",
        "\n",
        "### **语法**\n",
        "```python\n",
        "numpy.vsplit(ary, indices_or_sections)\n",
        "```\n",
        "\n",
        "---\n",
        "\n",
        "### **参数说明**\n",
        "\n",
        "1. **`ary` (array_like)**:  \n",
        "   - 需要分割的数组。通常是二维数组，沿着第一轴（行轴）分割。\n",
        "\n",
        "2. **`indices_or_sections`**:  \n",
        "   - 如果是整数 `N`，则将数组沿垂直方向（按行方向）均匀分割成 `N` 个子数组。  \n",
        "   - 如果是数组或列表，它指定了分割的行索引。例如，`[2, 5]` 表示在索引 2 和 5 处分割数组。\n",
        "\n",
        "---\n",
        "\n",
        "### **返回值**\n",
        "\n",
        "- 返回一个包含多个子数组的列表，每个子数组是原数组的一部分。\n",
        "\n",
        "---\n",
        "\n",
        "### **示例**\n",
        "\n",
        "#### **1. 将二维数组按行均匀分割**\n",
        "```python\n",
        "import numpy as np\n",
        "a = np.array([[1, 2, 3], [4, 5, 6], [7, 8, 9], [10, 11, 12]])\n",
        "result = np.vsplit(a, 2)  # 将数组分割成 2 个子数组\n",
        "print(result)\n",
        "# 输出:\n",
        "# [array([[1, 2, 3],\n",
        "#         [4, 5, 6]]),\n",
        "#  array([[ 7,  8,  9],\n",
        "#         [10, 11, 12]])]\n",
        "```\n",
        "\n",
        "#### **2. 指定分割的行索引**\n",
        "```python\n",
        "a = np.array([[1, 2, 3], [4, 5, 6], [7, 8, 9], [10, 11, 12]])\n",
        "result = np.vsplit(a, [2])  # 在索引 2 处分割\n",
        "print(result)\n",
        "# 输出:\n",
        "# [array([[1, 2, 3],\n",
        "#         [4, 5, 6]]),\n",
        "#  array([[ 7,  8,  9],\n",
        "#         [10, 11, 12]])]\n",
        "```\n",
        "\n",
        "#### **3. 不能均匀分割时抛出错误**\n",
        "如果分割后的行数不能均匀分配，NumPy 会抛出错误。\n",
        "```python\n",
        "a = np.array([[1, 2, 3], [4, 5, 6], [7, 8, 9]])\n",
        "result = np.vsplit(a, 4)  # 会报错，因为不能分成 4 个子数组\n",
        "```\n",
        "\n",
        "---\n",
        "\n",
        "### **注意事项**\n",
        "\n",
        "1. **只能用于二维数组或更高维度数组**  \n",
        "   - `np.vsplit` 只能沿着数组的第一个轴（行轴）进行分割，适用于二维或更高维度数组。\n",
        "\n",
        "2. **均匀分割要求**  \n",
        "   - 如果指定的分割点不能均匀分配行，`np.vsplit` 会抛出错误。\n",
        "\n",
        "---\n",
        "\n",
        "### **应用场景**\n",
        "\n",
        "- **数据处理**：将二维数组按行分割，以便进行批量处理或并行计算。\n",
        "- **图像处理**：将图像分割成多个子图像进行分析或操作。"
      ],
      "metadata": {
        "id": "Z-JSpGpwNVKS"
      }
    },
    {
      "cell_type": "code",
      "execution_count": null,
      "metadata": {
        "id": "dMYxzo5uMyVf",
        "outputId": "26ac5c42-5013-4077-8e8f-882416e8a786"
      },
      "outputs": [
        {
          "data": {
            "text/plain": [
              "(array([[ 0,  1],\n",
              "        [ 4,  5],\n",
              "        [ 8,  9],\n",
              "        [12, 13]]),\n",
              " array([[ 2,  3],\n",
              "        [ 6,  7],\n",
              "        [10, 11],\n",
              "        [14, 15]]))"
            ]
          },
          "execution_count": 48,
          "metadata": {},
          "output_type": "execute_result"
        }
      ],
      "source": [
        "left, right = np.hsplit(arr, [2])\n",
        "left, right"
      ]
    },
    {
      "cell_type": "markdown",
      "source": [
        "### `np.hsplit`\n",
        "\n",
        "`np.hsplit` 是 NumPy 中用于沿水平方向（按列方向）分割数组的函数，适用于二维及以上的数组。\n",
        "\n",
        "---\n",
        "\n",
        "### **语法**\n",
        "```python\n",
        "numpy.hsplit(ary, indices_or_sections)\n",
        "```\n",
        "\n",
        "---\n",
        "\n",
        "### **参数说明**\n",
        "\n",
        "1. **`ary` (array_like)**:  \n",
        "   - 需要分割的数组。通常是二维数组，沿着第二轴（列轴）分割。\n",
        "\n",
        "2. **`indices_or_sections`**:  \n",
        "   - 如果是整数 `N`，则将数组沿水平方向（按列方向）均匀分割成 `N` 个子数组。  \n",
        "   - 如果是数组或列表，它指定了分割的列索引。例如，`[2, 5]` 表示在索引 2 和 5 处分割数组。\n",
        "\n",
        "---\n",
        "\n",
        "### **返回值**\n",
        "\n",
        "- 返回一个包含多个子数组的列表，每个子数组是原数组的一部分。\n",
        "\n",
        "---\n",
        "\n",
        "### **示例**\n",
        "\n",
        "#### **1. 将二维数组按列均匀分割**\n",
        "```python\n",
        "import numpy as np\n",
        "a = np.array([[1, 2, 3], [4, 5, 6], [7, 8, 9], [10, 11, 12]])\n",
        "result = np.hsplit(a, 3)  # 将数组分割成 3 个子数组\n",
        "print(result)\n",
        "# 输出:\n",
        "# [array([[ 1],\n",
        "#         [ 4],\n",
        "#         [ 7],\n",
        "#         [10]]),\n",
        "#  array([[ 2],\n",
        "#         [ 5],\n",
        "#         [ 8],\n",
        "#         [11]]),\n",
        "#  array([[ 3],\n",
        "#         [ 6],\n",
        "#         [ 9],\n",
        "#         [12]])]\n",
        "```\n",
        "\n",
        "#### **2. 指定分割的列索引**\n",
        "```python\n",
        "a = np.array([[1, 2, 3], [4, 5, 6], [7, 8, 9], [10, 11, 12]])\n",
        "result = np.hsplit(a, [2])  # 在索引 2 处分割\n",
        "print(result)\n",
        "# 输出:\n",
        "# [array([[1, 2],\n",
        "#         [4, 5],\n",
        "#         [7, 8],\n",
        "#         [10, 11]]),\n",
        "#  array([[ 3],\n",
        "#         [ 6],\n",
        "#         [ 9],\n",
        "#         [12]])]\n",
        "```\n",
        "\n",
        "#### **3. 不能均匀分割时抛出错误**\n",
        "如果分割后的列数不能均匀分配，NumPy 会抛出错误。\n",
        "```python\n",
        "a = np.array([[1, 2, 3], [4, 5, 6], [7, 8, 9]])\n",
        "result = np.hsplit(a, 4)  # 会报错，因为不能分成 4 个子数组\n",
        "```\n",
        "\n",
        "---\n",
        "\n",
        "### **注意事项**\n",
        "\n",
        "1. **只能用于二维数组或更高维度数组**  \n",
        "   - `np.hsplit` 只能沿着数组的第二个轴（列轴）进行分割，适用于二维或更高维度数组。\n",
        "\n",
        "2. **均匀分割要求**  \n",
        "   - 如果指定的分割点不能均匀分配列，`np.hsplit` 会抛出错误。\n",
        "\n",
        "---\n",
        "\n",
        "### **应用场景**\n",
        "\n",
        "- **数据处理**：将二维数组按列分割，以便进行批量处理或并行计算。\n",
        "- **图像处理**：将图像分割成多个子图像进行操作，通常用于将图像按列进行分割或处理。"
      ],
      "metadata": {
        "id": "NGDddhFLNv7h"
      }
    },
    {
      "cell_type": "markdown",
      "metadata": {
        "id": "X6N7QIXsMyVf"
      },
      "source": [
        "### <span style = \"background:#174D83; border:#ffffff; font-size:100%; color:#fff; border-radius:5px;\">12. Sort the arrays</span>"
      ]
    },
    {
      "cell_type": "code",
      "execution_count": null,
      "metadata": {
        "id": "cg6HCVIPMyVf",
        "outputId": "fc010cb1-768b-4c64-8d71-0ca18b1b381d"
      },
      "outputs": [
        {
          "name": "stdout",
          "output_type": "stream",
          "text": [
            "[ 0  1  1  2  3  4  6  7  9 11]\n"
          ]
        }
      ],
      "source": [
        "arr = np.array([2, 6, 1, 4, 7, 3, 9, 1, 0, 11])\n",
        "print(np.sort(arr))"
      ]
    },
    {
      "cell_type": "code",
      "execution_count": null,
      "metadata": {
        "id": "fnFb82UCMyVf",
        "outputId": "b7bc0a31-b4cb-41a5-aca4-ba4193e81c41"
      },
      "outputs": [
        {
          "data": {
            "text/plain": [
              "array([ 0,  1,  1,  2,  3,  4,  6,  7,  9, 11])"
            ]
          },
          "execution_count": 50,
          "metadata": {},
          "output_type": "execute_result"
        }
      ],
      "source": [
        "arr = np.array([2,6,1,4,7,3,9,1,0,11])\n",
        "arr.sort()\n",
        "arr"
      ]
    },
    {
      "cell_type": "markdown",
      "source": [
        "### `np.sort`\n",
        "\n",
        "`np.sort` 是 NumPy 中用于对数组进行排序的函数。它可以对数组中的元素按照升序或降序进行排列。\n",
        "\n",
        "---\n",
        "\n",
        "### **语法**\n",
        "```python\n",
        "numpy.sort(a, axis=-1, kind='quicksort', order=None)\n",
        "```\n",
        "\n",
        "---\n",
        "\n",
        "### **参数说明**\n",
        "\n",
        "1. **`a` (array_like)**:  \n",
        "   - 要排序的输入数组。\n",
        "\n",
        "2. **`axis` (int, 可选)**:  \n",
        "   - 指定排序的轴，默认值为 `-1`，即按最后一个轴（通常是列）排序。  \n",
        "   - 如果为 `None`，数组会被展平为一维后进行排序。\n",
        "\n",
        "3. **`kind` (str, 可选)**:  \n",
        "   - 指定排序算法，支持以下几种：\n",
        "     - `'quicksort'`：默认的排序算法，适合大多数情况。\n",
        "     - `'mergesort'`：稳定排序，适用于稳定性要求高的场景。\n",
        "     - `'heapsort'`：堆排序，适用于对内存使用有要求的情况。\n",
        "     - `'radix'`：基数排序，适用于整数排序（在一些版本的 NumPy 中可用）。\n",
        "   \n",
        "4. **`order` (str or list, 可选)**:  \n",
        "   - 对结构化数组进行排序时，用于指定字段的顺序。\n",
        "\n",
        "---\n",
        "\n",
        "### **返回值**\n",
        "\n",
        "- 返回一个排序后的数组。原数组 `a` 不会被修改，排序后的数组会返回。\n",
        "\n",
        "---\n",
        "\n",
        "### **示例**\n",
        "\n",
        "#### **1. 对一维数组进行排序**\n",
        "```python\n",
        "import numpy as np\n",
        "a = np.array([3, 1, 2, 4])\n",
        "sorted_a = np.sort(a)\n",
        "print(sorted_a)\n",
        "# 输出: [1 2 3 4]\n",
        "```\n",
        "\n",
        "#### **2. 对二维数组按行进行排序（默认按列排序）**\n",
        "```python\n",
        "a = np.array([[3, 1, 2], [6, 4, 5]])\n",
        "sorted_a = np.sort(a, axis=1)  # 按行排序\n",
        "print(sorted_a)\n",
        "# 输出:\n",
        "# [[1 2 3]\n",
        "#  [4 5 6]]\n",
        "```\n",
        "\n",
        "#### **3. 对二维数组按列进行排序**\n",
        "```python\n",
        "sorted_a = np.sort(a, axis=0)  # 按列排序\n",
        "print(sorted_a)\n",
        "# 输出:\n",
        "# [[3 1 2]\n",
        "#  [6 4 5]]\n",
        "```\n",
        "\n",
        "#### **4. 对结构化数组的字段排序**\n",
        "```python\n",
        "a = np.array([('Alice', 3), ('Bob', 1), ('Charlie', 2)], dtype=[('name', 'U10'), ('age', 'i4')])\n",
        "sorted_a = np.sort(a, order='age')  # 按照年龄字段排序\n",
        "print(sorted_a)\n",
        "# 输出:\n",
        "# [('Bob', 1) ('Charlie', 2) ('Alice', 3)]\n",
        "```\n",
        "\n",
        "#### **5. 使用不同的排序算法**\n",
        "```python\n",
        "a = np.array([3, 1, 2, 4])\n",
        "sorted_a_quick = np.sort(a, kind='quicksort')\n",
        "sorted_a_merge = np.sort(a, kind='mergesort')\n",
        "print(sorted_a_quick)  # 输出: [1 2 3 4]\n",
        "print(sorted_a_merge)  # 输出: [1 2 3 4]\n",
        "```\n",
        "\n",
        "---\n",
        "\n",
        "### **注意事项**\n",
        "\n",
        "1. **原地排序**  \n",
        "   - `np.sort` 不会修改原数组，它会返回一个新的排序后的数组。如果需要原地排序，可以使用 `a.sort()` 方法。\n",
        "\n",
        "2. **稳定性**  \n",
        "   - `mergesort` 是稳定排序算法，这意味着如果有多个相同的元素，它们的相对顺序不会被改变。\n",
        "\n",
        "3. **排序的轴**  \n",
        "   - 使用 `axis` 参数可以控制按行（`axis=1`）或按列（`axis=0`）进行排序。如果不指定 `axis`，默认会对整个数组进行排序。\n",
        "\n",
        "---\n",
        "\n",
        "### **应用场景**\n",
        "\n",
        "- 数据排序：将数据按升序或降序排列，常用于数据清洗和分析。\n",
        "- 数值处理：排序数值数组，适用于许多数学计算（如排序、查找最大值、最小值等）。\n",
        "- 图像处理：排序像素值或特征点，以便进行特定的图像操作（如去噪、分组）。"
      ],
      "metadata": {
        "id": "GOkZOTG1N7jZ"
      }
    },
    {
      "cell_type": "markdown",
      "metadata": {
        "id": "Sxkp4vyMMyVf"
      },
      "source": [
        "### <mark>Sorting two dimensional arrays</mark>"
      ]
    },
    {
      "cell_type": "code",
      "execution_count": null,
      "metadata": {
        "id": "_4w5B-8DMyVg",
        "outputId": "1418c6eb-49e9-45c6-ba06-1b3026e41fb3"
      },
      "outputs": [
        {
          "data": {
            "text/plain": [
              "array([[15,  7,  3, 15,  1],\n",
              "       [15,  7,  9,  8, 11],\n",
              "       [ 2, 11, 10, 13,  4]])"
            ]
          },
          "execution_count": 51,
          "metadata": {},
          "output_type": "execute_result"
        }
      ],
      "source": [
        "arr_1 = np.random.randint(1, 16, (3, 5))\n",
        "arr_1"
      ]
    },
    {
      "cell_type": "code",
      "execution_count": null,
      "metadata": {
        "id": "ii0zL2G4MyVg",
        "outputId": "ddd6e5ac-2296-4a0c-ad97-75f18050060c"
      },
      "outputs": [
        {
          "data": {
            "text/plain": [
              "array([[ 1,  3,  7, 15, 15],\n",
              "       [ 7,  8,  9, 11, 15],\n",
              "       [ 2,  4, 10, 11, 13]])"
            ]
          },
          "execution_count": 52,
          "metadata": {},
          "output_type": "execute_result"
        }
      ],
      "source": [
        "np.sort(arr_1, axis = 1)"
      ]
    },
    {
      "cell_type": "code",
      "execution_count": null,
      "metadata": {
        "id": "uw2zjUvXMyVg",
        "outputId": "5e8943c5-0dca-43dd-a150-08d2bbd6da03"
      },
      "outputs": [
        {
          "data": {
            "text/plain": [
              "array([[ 2,  7,  3,  8,  1],\n",
              "       [15,  7,  9, 13,  4],\n",
              "       [15, 11, 10, 15, 11]])"
            ]
          },
          "execution_count": 53,
          "metadata": {},
          "output_type": "execute_result"
        }
      ],
      "source": [
        "np.sort(arr_1, axis = 0)"
      ]
    },
    {
      "cell_type": "markdown",
      "metadata": {
        "id": "bYYLVNiKMyVg"
      },
      "source": [
        "### <span style = \"background:#174D83; border:#ffffff; font-size:100%; color:#fff; border-radius:5px;\">13. Acces array elements by index</span>"
      ]
    },
    {
      "cell_type": "code",
      "execution_count": null,
      "metadata": {
        "id": "ZF_ESQ5aMyVg"
      },
      "outputs": [],
      "source": [
        "arr = np.array([1, 3, 4, 6, 2, 7, 9, 4, 6, 2, 0])"
      ]
    },
    {
      "cell_type": "code",
      "execution_count": null,
      "metadata": {
        "id": "7FCHqtOIMyVg",
        "outputId": "a8cf13b1-ce1c-42ce-b0b3-225b87e5d00f"
      },
      "outputs": [
        {
          "data": {
            "text/plain": [
              "1"
            ]
          },
          "execution_count": 55,
          "metadata": {},
          "output_type": "execute_result"
        }
      ],
      "source": [
        "arr[0]"
      ]
    },
    {
      "cell_type": "code",
      "execution_count": null,
      "metadata": {
        "id": "VWPVxQZiMyVh",
        "outputId": "f693ba46-d1da-4f25-95f5-722be372d438"
      },
      "outputs": [
        {
          "data": {
            "text/plain": [
              "2"
            ]
          },
          "execution_count": 56,
          "metadata": {},
          "output_type": "execute_result"
        }
      ],
      "source": [
        " arr[-2]"
      ]
    },
    {
      "cell_type": "code",
      "execution_count": null,
      "metadata": {
        "id": "BEI_GA9LMyVh",
        "outputId": "28348ed5-b28b-4f43-b49c-b377c2dfee4e"
      },
      "outputs": [
        {
          "data": {
            "text/plain": [
              "array([1, 3, 4, 6, 2, 7, 9, 4, 6, 2, 0])"
            ]
          },
          "execution_count": 57,
          "metadata": {},
          "output_type": "execute_result"
        }
      ],
      "source": [
        "arr[:]"
      ]
    },
    {
      "cell_type": "code",
      "execution_count": null,
      "metadata": {
        "id": "Qsgrln_XMyVh",
        "outputId": "2f27cb81-5649-40f9-f271-04443e323edf"
      },
      "outputs": [
        {
          "data": {
            "text/plain": [
              "array([1, 3, 4, 6, 2, 7, 9, 4, 6])"
            ]
          },
          "execution_count": 58,
          "metadata": {},
          "output_type": "execute_result"
        }
      ],
      "source": [
        "arr[:-2]"
      ]
    },
    {
      "cell_type": "code",
      "execution_count": null,
      "metadata": {
        "id": "rVeXC5P3MyVh",
        "outputId": "77c70067-602c-418c-e91a-7e9cf7a04828"
      },
      "outputs": [
        {
          "data": {
            "text/plain": [
              "array([6, 2])"
            ]
          },
          "execution_count": 59,
          "metadata": {},
          "output_type": "execute_result"
        }
      ],
      "source": [
        "arr[3:5]"
      ]
    },
    {
      "cell_type": "code",
      "execution_count": null,
      "metadata": {
        "id": "Ja39TM_0MyVh",
        "outputId": "97f0dcac-8c2a-42d6-e036-7caa7cba21d8"
      },
      "outputs": [
        {
          "data": {
            "text/plain": [
              "array([0, 2, 6, 4, 9, 7, 2, 6, 4, 3, 1])"
            ]
          },
          "execution_count": 60,
          "metadata": {},
          "output_type": "execute_result"
        }
      ],
      "source": [
        "arr[::-1]"
      ]
    },
    {
      "cell_type": "code",
      "execution_count": null,
      "metadata": {
        "id": "0BsdtoH4MyVh",
        "outputId": "f2e5b1dc-6a4b-4ce1-f8bf-94a6f32400c6"
      },
      "outputs": [
        {
          "data": {
            "text/plain": [
              "array([[ 2,  5,  7,  9,  0,  1,  3],\n",
              "       [ 1,  5,  7,  5,  9, 12, 14],\n",
              "       [15, 13, 18, 34, 14, 19, 21]])"
            ]
          },
          "execution_count": 61,
          "metadata": {},
          "output_type": "execute_result"
        }
      ],
      "source": [
        "arr_1 = np.array([[2,5,7,9,0,1,3],\n",
        "                 [1,5,7,5,9,12,14],\n",
        "                 [15,13,18,34,14,19,21]])\n",
        "arr_1"
      ]
    },
    {
      "cell_type": "code",
      "execution_count": null,
      "metadata": {
        "id": "N0IR8xCJMyVi",
        "outputId": "3cc8527f-75ad-4343-bc63-c2c3b93d951d"
      },
      "outputs": [
        {
          "data": {
            "text/plain": [
              "2"
            ]
          },
          "execution_count": 62,
          "metadata": {},
          "output_type": "execute_result"
        }
      ],
      "source": [
        "arr_1[0, 0]"
      ]
    },
    {
      "cell_type": "markdown",
      "metadata": {
        "id": "j2mJ8LVmMyVi"
      },
      "source": [
        "### <mark>Get 7 in the second row and the second column</mark>"
      ]
    },
    {
      "cell_type": "code",
      "execution_count": null,
      "metadata": {
        "id": "f0i1qXA6MyVi",
        "outputId": "341a3c26-fb99-4b82-9f57-abae386b05a1"
      },
      "outputs": [
        {
          "data": {
            "text/plain": [
              "7"
            ]
          },
          "execution_count": 63,
          "metadata": {},
          "output_type": "execute_result"
        }
      ],
      "source": [
        "arr_1[1, 2]"
      ]
    },
    {
      "cell_type": "markdown",
      "metadata": {
        "id": "-ObJw56uMyVi"
      },
      "source": [
        "### <mark>Get 21 value</mark>"
      ]
    },
    {
      "cell_type": "code",
      "execution_count": null,
      "metadata": {
        "id": "x0s1wnO5MyVi",
        "outputId": "68ec7627-42ef-4ab2-ef18-69503a7c20d1"
      },
      "outputs": [
        {
          "data": {
            "text/plain": [
              "21"
            ]
          },
          "execution_count": 64,
          "metadata": {},
          "output_type": "execute_result"
        }
      ],
      "source": [
        "arr_1[2,-1]"
      ]
    },
    {
      "cell_type": "markdown",
      "metadata": {
        "id": "sb2u3--fMyVi"
      },
      "source": [
        "### <mark>Change a value</mark>"
      ]
    },
    {
      "cell_type": "code",
      "execution_count": null,
      "metadata": {
        "id": "xzNbDvoDMyVi",
        "outputId": "49d219cf-b677-416a-92da-197bc8faffc8"
      },
      "outputs": [
        {
          "data": {
            "text/plain": [
              "array([[  2,   5,   7,   9,   0,   1,   3],\n",
              "       [  1,   5,   7,   5,   9,  12,  14],\n",
              "       [ 15,  13,  18,  34,  14, 111,  21]])"
            ]
          },
          "execution_count": 65,
          "metadata": {},
          "output_type": "execute_result"
        }
      ],
      "source": [
        "arr_1[2, -2] = 111\n",
        "arr_1"
      ]
    },
    {
      "cell_type": "code",
      "execution_count": null,
      "metadata": {
        "id": "9MVSxyQOMyVj",
        "outputId": "f7ffa9f4-f533-4f5d-e5ae-5f8af4754e55"
      },
      "outputs": [
        {
          "data": {
            "text/plain": [
              "array([[  2,   5,   7,   9,   0,   1,  55],\n",
              "       [  1,   5,   7,   5,   9,  12,  14],\n",
              "       [ 15,  13,  18,  34,  14, 111,  21]])"
            ]
          },
          "execution_count": 66,
          "metadata": {},
          "output_type": "execute_result"
        }
      ],
      "source": [
        "# Here we insert a float value from the outside into the array of integer values.\n",
        "# In this case, because the arrays are of fixed type, the decimal part will be discarded.\n",
        "arr_1[0,-1] = 55.5\n",
        "arr_1"
      ]
    },
    {
      "cell_type": "markdown",
      "metadata": {
        "id": "uv1j8pMBMyVj"
      },
      "source": [
        "### <span style = \"background:#174D83; border:#ffffff; font-size:100%; color:#fff; border-radius:5px;\">14. Array slicing</span>"
      ]
    },
    {
      "cell_type": "code",
      "execution_count": null,
      "metadata": {
        "id": "V0nyF76EMyVj",
        "outputId": "d2b0a1b5-3af5-4a12-b9a7-efb5b95fae38"
      },
      "outputs": [
        {
          "data": {
            "text/plain": [
              "array([10, 11, 12, 13, 14, 15, 16, 17, 18, 19, 20, 21, 22, 23, 24])"
            ]
          },
          "execution_count": 67,
          "metadata": {},
          "output_type": "execute_result"
        }
      ],
      "source": [
        "arr = np.arange(10, 25)\n",
        "arr"
      ]
    },
    {
      "cell_type": "code",
      "execution_count": null,
      "metadata": {
        "id": "jTV6sUyxMyVj",
        "outputId": "6cc520ca-0e34-4a0c-e911-0387b3d16c5d"
      },
      "outputs": [
        {
          "data": {
            "text/plain": [
              "array([10, 11, 12, 13, 14])"
            ]
          },
          "execution_count": 68,
          "metadata": {},
          "output_type": "execute_result"
        }
      ],
      "source": [
        "arr[0:5]"
      ]
    },
    {
      "cell_type": "code",
      "execution_count": null,
      "metadata": {
        "id": "rjRPxjqUMyVj",
        "outputId": "5ed7a6e3-5145-4a59-9ed1-4b453bbac105"
      },
      "outputs": [
        {
          "data": {
            "text/plain": [
              "array([10, 11, 12, 13, 14])"
            ]
          },
          "execution_count": 69,
          "metadata": {},
          "output_type": "execute_result"
        }
      ],
      "source": [
        "arr[:5]"
      ]
    },
    {
      "cell_type": "code",
      "execution_count": null,
      "metadata": {
        "id": "lUzBY0YCMyVk",
        "outputId": "b02301ce-55ee-41b9-f039-192986161f1d"
      },
      "outputs": [
        {
          "data": {
            "text/plain": [
              "array([13, 14, 15, 16, 17, 18, 19, 20, 21, 22, 23, 24])"
            ]
          },
          "execution_count": 70,
          "metadata": {},
          "output_type": "execute_result"
        }
      ],
      "source": [
        "arr[3:]"
      ]
    },
    {
      "cell_type": "code",
      "execution_count": null,
      "metadata": {
        "id": "-xXeSltBMyVk",
        "outputId": "4e0ff5b3-d0c7-4911-d07b-b436c4fdf0f8"
      },
      "outputs": [
        {
          "data": {
            "text/plain": [
              "array([10, 12, 14, 16, 18, 20, 22, 24])"
            ]
          },
          "execution_count": 71,
          "metadata": {},
          "output_type": "execute_result"
        }
      ],
      "source": [
        "arr[::2]"
      ]
    },
    {
      "cell_type": "code",
      "execution_count": null,
      "metadata": {
        "id": "WgZjBiahMyVk",
        "outputId": "f1054720-4af9-439f-a2c4-4b05901ec4df"
      },
      "outputs": [
        {
          "data": {
            "text/plain": [
              "array([11, 13, 15, 17, 19, 21, 23])"
            ]
          },
          "execution_count": 72,
          "metadata": {},
          "output_type": "execute_result"
        }
      ],
      "source": [
        "arr[1::2]"
      ]
    },
    {
      "cell_type": "code",
      "execution_count": null,
      "metadata": {
        "id": "rjp_mZo5MyVk",
        "outputId": "93d78a7c-6ab2-46a4-f09c-55887e3accc6"
      },
      "outputs": [
        {
          "data": {
            "text/plain": [
              "array([10, 13, 16, 19, 22])"
            ]
          },
          "execution_count": 73,
          "metadata": {},
          "output_type": "execute_result"
        }
      ],
      "source": [
        "arr[::3]"
      ]
    },
    {
      "cell_type": "markdown",
      "metadata": {
        "id": "DsLkaZBgMyVk"
      },
      "source": [
        "### <mark>Slicing two dimensional arrays</mark>"
      ]
    },
    {
      "cell_type": "code",
      "execution_count": null,
      "metadata": {
        "id": "uJxTh06FMyVk",
        "outputId": "400d08e9-2906-49f4-cd53-6b497b5123e4"
      },
      "outputs": [
        {
          "data": {
            "text/plain": [
              "array([[ 0,  1,  2,  3,  4],\n",
              "       [ 5,  6,  7,  8,  9],\n",
              "       [10, 11, 12, 13, 14],\n",
              "       [15, 16, 17, 18, 19],\n",
              "       [20, 21, 22, 23, 24]])"
            ]
          },
          "execution_count": 74,
          "metadata": {},
          "output_type": "execute_result"
        }
      ],
      "source": [
        "arr1 = np.arange(0, 25).reshape(5, 5)\n",
        "arr1"
      ]
    },
    {
      "cell_type": "code",
      "execution_count": null,
      "metadata": {
        "id": "iZTO4oxnMyVl",
        "outputId": "e185abe4-e443-44f6-fd07-452a977e9e4d"
      },
      "outputs": [
        {
          "data": {
            "text/plain": [
              "array([[ 0,  1,  2,  3,  4],\n",
              "       [ 5,  6,  7,  8,  9],\n",
              "       [10, 11, 12, 13, 14],\n",
              "       [15, 16, 17, 18, 19],\n",
              "       [20, 21, 22, 23, 24]])"
            ]
          },
          "execution_count": 75,
          "metadata": {},
          "output_type": "execute_result"
        }
      ],
      "source": [
        "arr1[:, :]"
      ]
    },
    {
      "cell_type": "code",
      "execution_count": null,
      "metadata": {
        "id": "bV5cl6WvMyVl",
        "outputId": "284b5a4a-9ce3-4c97-f8a3-d6da23d834ec"
      },
      "outputs": [
        {
          "data": {
            "text/plain": [
              "array([ 1,  6, 11, 16, 21])"
            ]
          },
          "execution_count": 76,
          "metadata": {},
          "output_type": "execute_result"
        }
      ],
      "source": [
        "arr1[:, 1]"
      ]
    },
    {
      "cell_type": "code",
      "execution_count": null,
      "metadata": {
        "id": "dTa3uDKfMyVl",
        "outputId": "4db08585-63d8-4f9c-88d0-67ba5104b8db"
      },
      "outputs": [
        {
          "data": {
            "text/plain": [
              "array([ 4,  9, 14, 19, 24])"
            ]
          },
          "execution_count": 77,
          "metadata": {},
          "output_type": "execute_result"
        }
      ],
      "source": [
        "arr1[:, 4]"
      ]
    },
    {
      "cell_type": "code",
      "execution_count": null,
      "metadata": {
        "id": "hpcsHYlhMyVl",
        "outputId": "d97dafc0-0f46-46a0-d75c-28ee22397ce7"
      },
      "outputs": [
        {
          "data": {
            "text/plain": [
              "array([ 4,  9, 14, 19, 24])"
            ]
          },
          "execution_count": 78,
          "metadata": {},
          "output_type": "execute_result"
        }
      ],
      "source": [
        "arr1[:, -1]"
      ]
    },
    {
      "cell_type": "code",
      "execution_count": null,
      "metadata": {
        "id": "3zDH83iZMyVl",
        "outputId": "d4ae1a56-3156-42a0-e56c-e5e5d772dba7"
      },
      "outputs": [
        {
          "data": {
            "text/plain": [
              "array([[12, 13, 14],\n",
              "       [17, 18, 19],\n",
              "       [22, 23, 24]])"
            ]
          },
          "execution_count": 79,
          "metadata": {},
          "output_type": "execute_result"
        }
      ],
      "source": [
        "arr1[2:, 2:]"
      ]
    },
    {
      "cell_type": "code",
      "execution_count": null,
      "metadata": {
        "id": "17j3zvRzMyVl",
        "outputId": "10960a49-55b0-4f89-d6b1-bae51d467476"
      },
      "outputs": [
        {
          "data": {
            "text/plain": [
              "array([0, 1, 2, 3, 4])"
            ]
          },
          "execution_count": 80,
          "metadata": {},
          "output_type": "execute_result"
        }
      ],
      "source": [
        "arr1[0, :]"
      ]
    },
    {
      "cell_type": "code",
      "execution_count": null,
      "metadata": {
        "id": "gRBNQa6_MyVl",
        "outputId": "5df53a2a-6f9a-4d85-9846-6db2f6ac9bfb"
      },
      "outputs": [
        {
          "data": {
            "text/plain": [
              "array([5, 6, 7, 8, 9])"
            ]
          },
          "execution_count": 81,
          "metadata": {},
          "output_type": "execute_result"
        }
      ],
      "source": [
        "arr1[1, :]"
      ]
    },
    {
      "cell_type": "code",
      "execution_count": null,
      "metadata": {
        "id": "xeczmluLMyVm",
        "outputId": "b8335e16-1cf1-48b9-bcdd-2cf4a9351612"
      },
      "outputs": [
        {
          "data": {
            "text/plain": [
              "24"
            ]
          },
          "execution_count": 82,
          "metadata": {},
          "output_type": "execute_result"
        }
      ],
      "source": [
        "arr1[4, 4]"
      ]
    },
    {
      "cell_type": "code",
      "execution_count": null,
      "metadata": {
        "id": "j7kv_jkIMyVm",
        "outputId": "2f38e2f2-9fbd-459e-8f06-cffd7c077159"
      },
      "outputs": [
        {
          "data": {
            "text/plain": [
              "24"
            ]
          },
          "execution_count": 83,
          "metadata": {},
          "output_type": "execute_result"
        }
      ],
      "source": [
        "arr1[-1,-1]"
      ]
    },
    {
      "cell_type": "code",
      "execution_count": null,
      "metadata": {
        "id": "vG3MJ_LrMyVm",
        "outputId": "37c4e99f-ccc4-4ae9-f5c8-56d195545d15"
      },
      "outputs": [
        {
          "data": {
            "text/plain": [
              "array([[ 0,  1],\n",
              "       [ 5,  6],\n",
              "       [10, 11],\n",
              "       [15, 16],\n",
              "       [20, 21]])"
            ]
          },
          "execution_count": 84,
          "metadata": {},
          "output_type": "execute_result"
        }
      ],
      "source": [
        "arr1[:, :2]"
      ]
    },
    {
      "cell_type": "code",
      "execution_count": null,
      "metadata": {
        "id": "6FcUBwZKMyVm",
        "outputId": "10051275-ac2a-4b4d-ba2a-85734f05a2fb"
      },
      "outputs": [
        {
          "data": {
            "text/plain": [
              "array([[ 5,  6],\n",
              "       [10, 11]])"
            ]
          },
          "execution_count": 85,
          "metadata": {},
          "output_type": "execute_result"
        }
      ],
      "source": [
        "arr1[1:3, 0:2]"
      ]
    },
    {
      "cell_type": "code",
      "execution_count": null,
      "metadata": {
        "id": "HrXgRTmgMyVm",
        "outputId": "1d6f0aad-6080-4165-c599-354a62528d2d"
      },
      "outputs": [
        {
          "name": "stdout",
          "output_type": "stream",
          "text": [
            "Before slice:\n",
            "[[ 0  1  2  3  4]\n",
            " [ 5  6  7  8  9]\n",
            " [10 11 12 13 14]]\n",
            "\n",
            "After slice:\n",
            "[[14 13 12 11 10]\n",
            " [ 9  8  7  6  5]\n",
            " [ 4  3  2  1  0]]\n"
          ]
        }
      ],
      "source": [
        "a = np.arange(15).reshape(3, 5)\n",
        "print(\"Before slice:\")\n",
        "print(a)\n",
        "\n",
        "print(\"\\nAfter slice:\")\n",
        "b = a[::-1, ::-1]\n",
        "print(b)"
      ]
    },
    {
      "cell_type": "markdown",
      "metadata": {
        "id": "Ok2IH0cgMyVm"
      },
      "source": [
        "### <span style = \"background:#174D83; border:#ffffff; font-size:100%; color:#fff; border-radius:5px;\">15. Copy function</span>"
      ]
    },
    {
      "cell_type": "markdown",
      "metadata": {
        "id": "ligQxmCEMyVn"
      },
      "source": [
        "#### <mark>copy() function is used so that operations performed on subsets do not affect the main set</mark>"
      ]
    },
    {
      "cell_type": "code",
      "execution_count": null,
      "metadata": {
        "id": "HHIQTHdRMyVn",
        "outputId": "8990af43-5f94-45ef-de80-540fff10e99c"
      },
      "outputs": [
        {
          "data": {
            "text/plain": [
              "array([[1, 3, 2, 3, 0],\n",
              "       [2, 0, 1, 6, 7],\n",
              "       [9, 2, 4, 8, 2],\n",
              "       [0, 2, 3, 8, 2],\n",
              "       [8, 7, 3, 5, 2]])"
            ]
          },
          "execution_count": 87,
          "metadata": {},
          "output_type": "execute_result"
        }
      ],
      "source": [
        "arr = np.random.randint(10, size = (5, 5))\n",
        "arr"
      ]
    },
    {
      "cell_type": "code",
      "execution_count": null,
      "metadata": {
        "id": "FjiU8vJJMyVn",
        "outputId": "fd89e2ef-c2c4-49ab-af5b-b0f1d38e3b45"
      },
      "outputs": [
        {
          "data": {
            "text/plain": [
              "array([[1, 3, 2],\n",
              "       [2, 0, 1]])"
            ]
          },
          "execution_count": 88,
          "metadata": {},
          "output_type": "execute_result"
        }
      ],
      "source": [
        "subset = arr[0:2, 0:3]\n",
        "subset"
      ]
    },
    {
      "cell_type": "code",
      "execution_count": null,
      "metadata": {
        "id": "A62AHERoMyVn",
        "outputId": "dbf323b8-6435-414d-a458-9ca9bbaf4a5d"
      },
      "outputs": [
        {
          "data": {
            "text/plain": [
              "array([[  1,   3,   2],\n",
              "       [  2, 333, 444]])"
            ]
          },
          "execution_count": 89,
          "metadata": {},
          "output_type": "execute_result"
        }
      ],
      "source": [
        "subset[1, 1] = 333\n",
        "subset[1, 2] = 444\n",
        "subset"
      ]
    },
    {
      "cell_type": "code",
      "execution_count": null,
      "metadata": {
        "id": "0BFqBVTRMyVn",
        "outputId": "b18b85da-987c-4619-960d-c85ddbca94c8"
      },
      "outputs": [
        {
          "data": {
            "text/plain": [
              "array([[  1,   3,   2,   3,   0],\n",
              "       [  2, 333, 444,   6,   7],\n",
              "       [  9,   2,   4,   8,   2],\n",
              "       [  0,   2,   3,   8,   2],\n",
              "       [  8,   7,   3,   5,   2]])"
            ]
          },
          "execution_count": 90,
          "metadata": {},
          "output_type": "execute_result"
        }
      ],
      "source": [
        "arr"
      ]
    },
    {
      "cell_type": "code",
      "execution_count": null,
      "metadata": {
        "id": "P4GIBaPfMyVo",
        "outputId": "e982e23b-9aa1-4f22-cefd-30e92f40ae58"
      },
      "outputs": [
        {
          "data": {
            "text/plain": [
              "array([[13,  1,  6, 10,  6],\n",
              "       [ 1, 14, 14,  9,  7],\n",
              "       [ 6, 12,  7,  7, 11]])"
            ]
          },
          "execution_count": 91,
          "metadata": {},
          "output_type": "execute_result"
        }
      ],
      "source": [
        "arr1 = np.random.randint(1, 15, (3, 5))\n",
        "arr1"
      ]
    },
    {
      "cell_type": "code",
      "execution_count": null,
      "metadata": {
        "id": "lcJkT4zPMyVo",
        "outputId": "a5d5e415-c42c-4927-9dbb-7673fd3de74d"
      },
      "outputs": [
        {
          "data": {
            "text/plain": [
              "array([ 6, 14,  7])"
            ]
          },
          "execution_count": 92,
          "metadata": {},
          "output_type": "execute_result"
        }
      ],
      "source": [
        "arr2 = arr1.copy()\n",
        "subset_b = arr2[:, 2]\n",
        "subset_b"
      ]
    },
    {
      "cell_type": "code",
      "execution_count": null,
      "metadata": {
        "id": "RBu44akPMyVo",
        "outputId": "6e772af1-13ac-448d-fbfe-03c5e9e78148"
      },
      "outputs": [
        {
          "data": {
            "text/plain": [
              "array([  6, 777,   7])"
            ]
          },
          "execution_count": 93,
          "metadata": {},
          "output_type": "execute_result"
        }
      ],
      "source": [
        "subset_b[1] = 777\n",
        "subset_b"
      ]
    },
    {
      "cell_type": "code",
      "execution_count": null,
      "metadata": {
        "id": "wR6NVF6LMyVo",
        "outputId": "c12b0323-6d6d-4d56-c0e2-e7bbcc42045b"
      },
      "outputs": [
        {
          "data": {
            "text/plain": [
              "array([[ 13,   1,   6,  10,   6],\n",
              "       [  1,  14, 777,   9,   7],\n",
              "       [  6,  12,   7,   7,  11]])"
            ]
          },
          "execution_count": 94,
          "metadata": {},
          "output_type": "execute_result"
        }
      ],
      "source": [
        "arr2"
      ]
    },
    {
      "cell_type": "code",
      "execution_count": null,
      "metadata": {
        "id": "YpKripFQMyVo",
        "outputId": "3c6d74fa-b997-435a-b515-d0bca51245eb"
      },
      "outputs": [
        {
          "data": {
            "text/plain": [
              "array([[13,  1,  6, 10,  6],\n",
              "       [ 1, 14, 14,  9,  7],\n",
              "       [ 6, 12,  7,  7, 11]])"
            ]
          },
          "execution_count": 95,
          "metadata": {},
          "output_type": "execute_result"
        }
      ],
      "source": [
        "arr1"
      ]
    },
    {
      "cell_type": "markdown",
      "metadata": {
        "id": "ISIVs_7TMyVo"
      },
      "source": [
        "### <span style = \"background:#174D83; border:#ffffff; font-size:100%; color:#fff; border-radius:5px;\">16. Fancy index</span>"
      ]
    },
    {
      "cell_type": "code",
      "execution_count": null,
      "metadata": {
        "id": "eQVcdylaMyVp",
        "outputId": "3b4b67fe-6db2-4a28-f046-bf0e13dfae5d"
      },
      "outputs": [
        {
          "data": {
            "text/plain": [
              "array([ 0,  3,  6,  9, 12, 15, 18, 21, 24, 27])"
            ]
          },
          "execution_count": 96,
          "metadata": {},
          "output_type": "execute_result"
        }
      ],
      "source": [
        "arr = np.arange(0, 30, 3)\n",
        "arr"
      ]
    },
    {
      "cell_type": "code",
      "execution_count": null,
      "metadata": {
        "id": "IzgkuN6wMyVp",
        "outputId": "22688808-635d-4938-ef82-4f7196821e49"
      },
      "outputs": [
        {
          "data": {
            "text/plain": [
              "array([ 3,  9, 15])"
            ]
          },
          "execution_count": 97,
          "metadata": {},
          "output_type": "execute_result"
        }
      ],
      "source": [
        "fancy_index = [1, 3, 5]\n",
        "arr[fancy_index]"
      ]
    },
    {
      "cell_type": "markdown",
      "metadata": {
        "id": "-17lxMxdMyVp"
      },
      "source": [
        "#### <mark>Fancy indexing on two dimensional arrays</mark>"
      ]
    },
    {
      "cell_type": "code",
      "execution_count": null,
      "metadata": {
        "id": "qlaXpVNfMyVp",
        "outputId": "9786bfc7-a245-43c3-cfa8-f5582b9c75c7"
      },
      "outputs": [
        {
          "data": {
            "text/plain": [
              "array([1, 5])"
            ]
          },
          "execution_count": 98,
          "metadata": {},
          "output_type": "execute_result"
        }
      ],
      "source": [
        "arr = np.arange(9)\n",
        "arr = arr.reshape(3, 3)\n",
        "row = np.array([0, 1])\n",
        "column = np.array([1, 2])\n",
        "arr[row, column]"
      ]
    },
    {
      "cell_type": "code",
      "execution_count": null,
      "metadata": {
        "id": "0rKia5vpMyVp",
        "outputId": "9b1739b9-bbaa-43de-ee14-c825492e7ea0"
      },
      "outputs": [
        {
          "data": {
            "text/plain": [
              "array([[0, 1, 2],\n",
              "       [3, 4, 5],\n",
              "       [6, 7, 8]])"
            ]
          },
          "execution_count": 99,
          "metadata": {},
          "output_type": "execute_result"
        }
      ],
      "source": [
        "arr"
      ]
    },
    {
      "cell_type": "code",
      "execution_count": null,
      "metadata": {
        "id": "EYwJvLS9MyVp",
        "outputId": "03f07df3-a816-43a5-8000-ca012c0d48b7"
      },
      "outputs": [
        {
          "data": {
            "text/plain": [
              "array([1, 2])"
            ]
          },
          "execution_count": 100,
          "metadata": {},
          "output_type": "execute_result"
        }
      ],
      "source": [
        "arr[0, [1, 2]]"
      ]
    },
    {
      "cell_type": "code",
      "execution_count": null,
      "metadata": {
        "id": "sEoJG-s6MyVp",
        "outputId": "5f81eaa5-35f1-4247-f3cf-313d049414b4"
      },
      "outputs": [
        {
          "data": {
            "text/plain": [
              "array([[1, 2],\n",
              "       [4, 5],\n",
              "       [7, 8]])"
            ]
          },
          "execution_count": 101,
          "metadata": {},
          "output_type": "execute_result"
        }
      ],
      "source": [
        "#slice\n",
        "\n",
        "arr[0:, [1,2]]"
      ]
    },
    {
      "cell_type": "code",
      "execution_count": null,
      "metadata": {
        "id": "2feLvjteMyVq",
        "outputId": "4deaf9fa-eb36-421f-8b7f-6a8ebb45c30e"
      },
      "outputs": [
        {
          "data": {
            "text/plain": [
              "array([3, 4])"
            ]
          },
          "execution_count": 102,
          "metadata": {},
          "output_type": "execute_result"
        }
      ],
      "source": [
        "arr[1, [0,1]]"
      ]
    },
    {
      "cell_type": "markdown",
      "metadata": {
        "id": "zk5VPvgNMyVq"
      },
      "source": [
        "### <span style = \"background:#174D83; border:#ffffff; font-size:100%; color:#fff; border-radius:5px;\">17. Conditional element operations</span>"
      ]
    },
    {
      "cell_type": "code",
      "execution_count": null,
      "metadata": {
        "id": "E7Me5iw3MyVq",
        "outputId": "44580e20-e5b2-4f70-df16-97ccf1e79bb4"
      },
      "outputs": [
        {
          "data": {
            "text/plain": [
              "array([False, False, False,  True,  True])"
            ]
          },
          "execution_count": 103,
          "metadata": {},
          "output_type": "execute_result"
        }
      ],
      "source": [
        "arr = np.array([1, 2, 3, 4, 5])\n",
        "arr > 3"
      ]
    },
    {
      "cell_type": "code",
      "execution_count": null,
      "metadata": {
        "id": "H8VG_2QRMyVq",
        "outputId": "8ac643d1-624f-40d9-eed4-c093ea17a3cb"
      },
      "outputs": [
        {
          "data": {
            "text/plain": [
              "array([4, 5])"
            ]
          },
          "execution_count": 104,
          "metadata": {},
          "output_type": "execute_result"
        }
      ],
      "source": [
        "arr[arr > 3]"
      ]
    },
    {
      "cell_type": "code",
      "execution_count": null,
      "metadata": {
        "id": "38MqKoCLMyVq",
        "outputId": "bf97be78-6503-453d-b654-0c0f32f00f6c"
      },
      "outputs": [
        {
          "data": {
            "text/plain": [
              "array([1, 2, 3, 4])"
            ]
          },
          "execution_count": 105,
          "metadata": {},
          "output_type": "execute_result"
        }
      ],
      "source": [
        "arr[arr < 5]"
      ]
    },
    {
      "cell_type": "code",
      "execution_count": null,
      "metadata": {
        "id": "hCF1LnXeMyVr",
        "outputId": "84317c95-492a-4c15-fdd3-d61db6ea6013"
      },
      "outputs": [
        {
          "data": {
            "text/plain": [
              "array([2, 3, 4, 5])"
            ]
          },
          "execution_count": 106,
          "metadata": {},
          "output_type": "execute_result"
        }
      ],
      "source": [
        "arr[arr >= 2]"
      ]
    },
    {
      "cell_type": "code",
      "execution_count": null,
      "metadata": {
        "id": "b3li8rE_MyVr",
        "outputId": "776a392f-13fd-42bc-9d2a-002b6999decd"
      },
      "outputs": [
        {
          "data": {
            "text/plain": [
              "array([1, 2, 3, 5])"
            ]
          },
          "execution_count": 107,
          "metadata": {},
          "output_type": "execute_result"
        }
      ],
      "source": [
        "arr[arr != 4]"
      ]
    },
    {
      "cell_type": "code",
      "execution_count": null,
      "metadata": {
        "id": "Z06JpEt2MyVr",
        "outputId": "11854a55-f6f1-4a50-ea02-985c51156082"
      },
      "outputs": [
        {
          "data": {
            "text/plain": [
              "array([3])"
            ]
          },
          "execution_count": 108,
          "metadata": {},
          "output_type": "execute_result"
        }
      ],
      "source": [
        "arr[arr == 3]"
      ]
    },
    {
      "cell_type": "markdown",
      "metadata": {
        "id": "DSBAmipcMyVr"
      },
      "source": [
        "### <span style = \"background:#174D83; border:#ffffff; font-size:100%; color:#fff; border-radius:5px;\">18. Mathematical operations on arrays</span>"
      ]
    },
    {
      "cell_type": "code",
      "execution_count": 3,
      "metadata": {
        "id": "jqI6BP9ZMyVr",
        "outputId": "715e08a4-c352-4fad-e5b9-6d32478acbac",
        "colab": {
          "base_uri": "https://localhost:8080/",
          "height": 0
        }
      },
      "outputs": [
        {
          "output_type": "execute_result",
          "data": {
            "text/plain": [
              "array([0, 1, 2, 3, 4, 5, 6, 7, 8, 9])"
            ]
          },
          "metadata": {},
          "execution_count": 3
        }
      ],
      "source": [
        "arr = np.arange(10)\n",
        "arr"
      ]
    },
    {
      "cell_type": "code",
      "execution_count": 4,
      "metadata": {
        "id": "LA3HeRn9MyVr",
        "outputId": "f4f2139c-ad7c-4f83-925b-5c4fe433d1ce",
        "colab": {
          "base_uri": "https://localhost:8080/",
          "height": 0
        }
      },
      "outputs": [
        {
          "output_type": "execute_result",
          "data": {
            "text/plain": [
              "array([ 5,  7,  9, 11, 13, 15, 17, 19, 21, 23])"
            ]
          },
          "metadata": {},
          "execution_count": 4
        }
      ],
      "source": [
        "(arr*2)+5"
      ]
    },
    {
      "cell_type": "code",
      "execution_count": 5,
      "metadata": {
        "id": "7AkXz9ewMyVr",
        "outputId": "f891ff81-a373-4ea2-d12e-6a925dcba07d",
        "colab": {
          "base_uri": "https://localhost:8080/",
          "height": 0
        }
      },
      "outputs": [
        {
          "output_type": "execute_result",
          "data": {
            "text/plain": [
              "array([2.23606798, 2.64575131, 3.        , 3.31662479, 3.60555128,\n",
              "       3.87298335, 4.12310563, 4.35889894, 4.58257569, 4.79583152])"
            ]
          },
          "metadata": {},
          "execution_count": 5
        }
      ],
      "source": [
        "np.sqrt(((arr*2)+5))"
      ]
    },
    {
      "cell_type": "code",
      "execution_count": null,
      "metadata": {
        "id": "sCMYvNq8MyVs",
        "outputId": "1b7db8bb-6fed-4ed9-b241-b5ac0ae90ab0"
      },
      "outputs": [
        {
          "data": {
            "text/plain": [
              "array([0.59049   , 0.4782969 , 0.38742049, 0.3138106 , 0.25418658,\n",
              "       0.20589113, 0.16677182, 0.13508517, 0.10941899, 0.08862938])"
            ]
          },
          "execution_count": 112,
          "metadata": {},
          "output_type": "execute_result"
        }
      ],
      "source": [
        "0.9**((arr*2)+5)"
      ]
    },
    {
      "cell_type": "code",
      "execution_count": null,
      "metadata": {
        "id": "Z9_3xDOeMyVs",
        "outputId": "4a5cfeed-035b-440f-ef1b-d11523463c74"
      },
      "outputs": [
        {
          "data": {
            "text/plain": [
              "array([1, 2, 3, 4, 5])"
            ]
          },
          "execution_count": 113,
          "metadata": {},
          "output_type": "execute_result"
        }
      ],
      "source": [
        "arr = np.array([1, 2, 3, 4, 5])\n",
        "arr"
      ]
    },
    {
      "cell_type": "code",
      "execution_count": null,
      "metadata": {
        "id": "Fi8y_Zk9MyVs",
        "outputId": "cb18739f-e28d-43ae-a6c8-33853fa4c711"
      },
      "outputs": [
        {
          "name": "stdout",
          "output_type": "stream",
          "text": [
            "[0 1 2 3 4]\n",
            "[ 5 10 15 20 25]\n",
            "[0.33333333 0.66666667 1.         1.33333333 1.66666667]\n"
          ]
        }
      ],
      "source": [
        "for i in (arr - 1, arr*5, arr/3):\n",
        "    print(i)"
      ]
    },
    {
      "cell_type": "code",
      "execution_count": null,
      "metadata": {
        "id": "npJL_CWnMyVs",
        "outputId": "696b099c-ffb9-49e7-fbe5-429524aab415"
      },
      "outputs": [
        {
          "data": {
            "text/plain": [
              "array([-0.5,  0. ,  0.5,  1. ,  1.5])"
            ]
          },
          "execution_count": 115,
          "metadata": {},
          "output_type": "execute_result"
        }
      ],
      "source": [
        "arr*5/10-1"
      ]
    },
    {
      "cell_type": "code",
      "execution_count": null,
      "metadata": {
        "id": "biPoV2N8MyVs",
        "outputId": "4e3a9330-4519-4e8c-8b6b-44f9c6c139d0"
      },
      "outputs": [
        {
          "data": {
            "text/plain": [
              "array([-1,  0,  1,  2,  3])"
            ]
          },
          "execution_count": 116,
          "metadata": {},
          "output_type": "execute_result"
        }
      ],
      "source": [
        "np.subtract(arr, 2)"
      ]
    },
    {
      "cell_type": "code",
      "execution_count": null,
      "metadata": {
        "id": "-0kLaxonMyVs",
        "outputId": "1b0282d8-e401-4c3c-dc94-2d5405c33ea3"
      },
      "outputs": [
        {
          "data": {
            "text/plain": [
              "array([4, 5, 6, 7, 8])"
            ]
          },
          "execution_count": 117,
          "metadata": {},
          "output_type": "execute_result"
        }
      ],
      "source": [
        "np.add(arr, 3)"
      ]
    },
    {
      "cell_type": "code",
      "execution_count": null,
      "metadata": {
        "id": "VyB8AvKuMyVt",
        "outputId": "bf284bd5-5e6b-4570-a8d4-1de904a6c48c"
      },
      "outputs": [
        {
          "data": {
            "text/plain": [
              "array([0.25, 0.5 , 0.75, 1.  , 1.25])"
            ]
          },
          "execution_count": 118,
          "metadata": {},
          "output_type": "execute_result"
        }
      ],
      "source": [
        "np.divide(arr, 4)"
      ]
    },
    {
      "cell_type": "code",
      "execution_count": null,
      "metadata": {
        "id": "sS53KlAIMyVt",
        "outputId": "f5b0b110-5f80-4f1b-8c31-3def56bb09d1"
      },
      "outputs": [
        {
          "data": {
            "text/plain": [
              "array([ 5, 10, 15, 20, 25])"
            ]
          },
          "execution_count": 119,
          "metadata": {},
          "output_type": "execute_result"
        }
      ],
      "source": [
        "np.multiply(arr, 5)"
      ]
    },
    {
      "cell_type": "code",
      "execution_count": null,
      "metadata": {
        "id": "2maKIDHGMyVt",
        "outputId": "575b23df-5e8f-45a0-cf03-7f0a376fe52d"
      },
      "outputs": [
        {
          "data": {
            "text/plain": [
              "array([ 1,  4,  9, 16, 25], dtype=int32)"
            ]
          },
          "execution_count": 120,
          "metadata": {},
          "output_type": "execute_result"
        }
      ],
      "source": [
        "np.power(arr, 2)"
      ]
    },
    {
      "cell_type": "code",
      "execution_count": 8,
      "metadata": {
        "id": "Dou_HJzeMyVt",
        "outputId": "8eb27477-43cf-4e95-8fda-8825ba0ed67c",
        "colab": {
          "base_uri": "https://localhost:8080/",
          "height": 0
        }
      },
      "outputs": [
        {
          "output_type": "execute_result",
          "data": {
            "text/plain": [
              "array([0, 1, 0, 1, 0, 1, 0, 1, 0, 1])"
            ]
          },
          "metadata": {},
          "execution_count": 8
        }
      ],
      "source": [
        "np.mod(arr, 2)  # 结果是一个新数组，其中每个元素是原数组对应元素除以 2 的余数。"
      ]
    },
    {
      "cell_type": "code",
      "execution_count": null,
      "metadata": {
        "id": "lhSkk8xdMyVt",
        "outputId": "7cdc6dea-3410-45ca-a6ea-7108e7d32f1c"
      },
      "outputs": [
        {
          "data": {
            "text/plain": [
              "array([1, 2, 3, 4, 5])"
            ]
          },
          "execution_count": 122,
          "metadata": {},
          "output_type": "execute_result"
        }
      ],
      "source": [
        "np.absolute(arr)"
      ]
    },
    {
      "cell_type": "code",
      "execution_count": null,
      "metadata": {
        "id": "U6hMdefbMyVt",
        "outputId": "9163ab65-017f-484e-bf47-bf382e282a8d"
      },
      "outputs": [
        {
          "data": {
            "text/plain": [
              "0.8939966636005579"
            ]
          },
          "execution_count": 123,
          "metadata": {},
          "output_type": "execute_result"
        }
      ],
      "source": [
        "np.sin(90)"
      ]
    },
    {
      "cell_type": "code",
      "execution_count": null,
      "metadata": {
        "id": "xsC76pM4MyVt",
        "outputId": "5a848ba8-4bd4-4a6c-eef3-26e62405229a"
      },
      "outputs": [
        {
          "data": {
            "text/plain": [
              "-0.8667670910519801"
            ]
          },
          "execution_count": 124,
          "metadata": {},
          "output_type": "execute_result"
        }
      ],
      "source": [
        "np.cos(122)"
      ]
    },
    {
      "cell_type": "code",
      "execution_count": null,
      "metadata": {
        "id": "KJXtix4VMyVu",
        "outputId": "8c3a4140-d49f-4d12-9280-0198f89564d9"
      },
      "outputs": [
        {
          "data": {
            "text/plain": [
              "array([0.        , 0.69314718, 1.09861229, 1.38629436, 1.60943791])"
            ]
          },
          "execution_count": 125,
          "metadata": {},
          "output_type": "execute_result"
        }
      ],
      "source": [
        "np.log(arr)"
      ]
    },
    {
      "cell_type": "code",
      "execution_count": null,
      "metadata": {
        "id": "G4iveUGYMyVu",
        "outputId": "66e06087-f34c-4a86-9081-6c68a5ec2c04"
      },
      "outputs": [
        {
          "data": {
            "text/plain": [
              "array([0.        , 0.30103   , 0.47712125, 0.60205999, 0.69897   ])"
            ]
          },
          "execution_count": 126,
          "metadata": {},
          "output_type": "execute_result"
        }
      ],
      "source": [
        "np.log10(arr)"
      ]
    },
    {
      "cell_type": "code",
      "execution_count": null,
      "metadata": {
        "id": "_T-5_6ydMyVu",
        "outputId": "dd4e9f86-80d4-4e72-bb50-7de30818380d"
      },
      "outputs": [
        {
          "data": {
            "text/plain": [
              "array([0.78539816, 1.10714872, 1.24904577, 1.32581766, 1.37340077])"
            ]
          },
          "execution_count": 127,
          "metadata": {},
          "output_type": "execute_result"
        }
      ],
      "source": [
        "np.arctan(arr)"
      ]
    },
    {
      "cell_type": "markdown",
      "metadata": {
        "id": "aZ5f_D6iMyVu"
      },
      "source": [
        "### <span style = \"background:#174D83; border:#ffffff; font-size:100%; color:#fff; border-radius:5px;\">19. Solving two unknown equations with numpy</span>"
      ]
    },
    {
      "cell_type": "markdown",
      "metadata": {
        "id": "M7RF4YAOMyVu"
      },
      "source": [
        "\n",
        "\n",
        "\n",
        "\\begin{aligned}\n",
        "5x_0 + x_1 &= 12 \\\\\n",
        "x_0 + 3x_1 &= 10\n",
        "\\end{aligned}\n",
        "\n"
      ]
    },
    {
      "cell_type": "code",
      "execution_count": null,
      "metadata": {
        "id": "mbqeziDSMyVv",
        "outputId": "2e0eb723-fff2-41f7-aee1-46157397b12f"
      },
      "outputs": [
        {
          "data": {
            "text/plain": [
              "array([1.85714286, 2.71428571])"
            ]
          },
          "execution_count": 128,
          "metadata": {},
          "output_type": "execute_result"
        }
      ],
      "source": [
        "arr1 = np.array([[5,1], [1,3]])\n",
        "arr2 = np.array([12,10])\n",
        "x = np.linalg.solve(arr1, arr2)\n",
        "x"
      ]
    },
    {
      "cell_type": "markdown",
      "metadata": {
        "id": "kLQ79SV0MyVv"
      },
      "source": [
        "\\begin{aligned}\n",
        "2x_0 - 3x_1 &= 5, \\\\\n",
        "x_0 + 2x_1 &= 6\n",
        "\\end{aligned}\n"
      ]
    },
    {
      "cell_type": "code",
      "execution_count": null,
      "metadata": {
        "id": "SJApYzJRMyVv",
        "outputId": "5dd4ef21-e600-4c01-a63d-fa53ddabf467"
      },
      "outputs": [
        {
          "data": {
            "text/plain": [
              "array([-8.,  7.])"
            ]
          },
          "execution_count": 129,
          "metadata": {},
          "output_type": "execute_result"
        }
      ],
      "source": [
        "arr3 = np.array([[2,3], [1,2]])\n",
        "arr4 = np.array([5,6])\n",
        "x = np.linalg.solve(arr3, arr4)\n",
        "x"
      ]
    },
    {
      "cell_type": "markdown",
      "source": [
        "### `np.linalg.solve`\n",
        "\n",
        "`np.linalg.solve` 是 NumPy 提供的用于求解线性方程组的函数。它可以求解形如 \\( A \\cdot x = b \\) 的方程组，其中 \\( A \\) 是系数矩阵，\\( x \\) 是未知变量向量，\\( b \\) 是常数向量。\n",
        "\n",
        "---\n",
        "\n",
        "### **语法**\n",
        "```python\n",
        "numpy.linalg.solve(a, b)\n",
        "```\n",
        "\n",
        "---\n",
        "\n",
        "### **参数说明**\n",
        "\n",
        "1. **`a` (array_like)**:  \n",
        "   - 系数矩阵 \\( A \\)。必须是方阵，即行数等于列数。\n",
        "\n",
        "2. **`b` (array_like)**:  \n",
        "   - 常数向量 \\( b \\)。可以是一维向量或二维数组（列向量）。\n",
        "\n",
        "---\n",
        "\n",
        "### **返回值**\n",
        "\n",
        "- 返回一个包含解的数组 \\( x \\)，使得 \\( A \\cdot x = b \\)。\n",
        "\n",
        "---\n",
        "\n",
        "### **示例**\n",
        "\n",
        "#### **1. 解简单线性方程组**\n",
        "例如，求解以下方程组：\n",
        "\\[\n",
        "\\begin{aligned}\n",
        "2x_0 - 3x_1 &= 5, \\\\\n",
        "x_0 + 2x_1 &= 6\n",
        "\\end{aligned}\n",
        "\\]\n",
        "对应矩阵形式为：\n",
        "\\[\n",
        "A = \\begin{bmatrix} 2 & -3 \\\\ 1 & 2 \\end{bmatrix}, \\quad b = \\begin{bmatrix} 5 \\\\ 6 \\end{bmatrix}\n",
        "\\]\n",
        "代码如下：\n",
        "```python\n",
        "import numpy as np\n",
        "\n",
        "A = np.array([[2, -3],\n",
        "              [1, 2]])\n",
        "b = np.array([5, 6])\n",
        "\n",
        "x = np.linalg.solve(A, b)\n",
        "print(x)  # 输出解\n",
        "```\n",
        "\n",
        "**输出:**\n",
        "```\n",
        "[3. 1.]\n",
        "```\n",
        "解为 \\( x_0 = 3, x_1 = 1 \\)。\n",
        "\n",
        "---\n",
        "\n",
        "#### **2. 解多个线性方程组**\n",
        "当 \\( b \\) 是二维数组时，可以同时求解多个方程组：\n",
        "```python\n",
        "A = np.array([[2, -3],\n",
        "              [1, 2]])\n",
        "b = np.array([[5, 6],   # 第一个方程组的右侧常量\n",
        "              [4, 2]])  # 第二个方程组的右侧常量\n",
        "\n",
        "x = np.linalg.solve(A, b)\n",
        "print(x)\n",
        "```\n",
        "\n",
        "**输出:**\n",
        "```\n",
        "[[ 3.  5. ]\n",
        " [ 1. -1. ]]\n",
        "```\n",
        "每列表示一个方程组的解。\n",
        "\n",
        "---\n",
        "\n",
        "### **注意事项**\n",
        "\n",
        "1. **系数矩阵必须是方阵**  \n",
        "   - \\( A \\) 的形状必须为 \\( (n, n) \\)。否则会抛出 `LinAlgError`。\n",
        "\n",
        "2. **系数矩阵必须非奇异**  \n",
        "   - \\( A \\) 必须是可逆矩阵，否则会抛出 `LinAlgError`。\n",
        "\n",
        "3. **求解速度与数值稳定性**  \n",
        "   - `np.linalg.solve` 使用的是 LU 分解，适合求解中小型线性方程组。如果矩阵规模非常大，可以考虑稀疏矩阵解法（如 `scipy.sparse.linalg`）。\n",
        "\n",
        "---\n",
        "\n",
        "### **应用场景**\n",
        "\n",
        "- **科学计算**：求解物理、化学方程组的精确解。\n",
        "- **数据分析**：解决线性回归问题中的正规方程。\n",
        "- **工程计算**：在电路分析、结构力学等场景中，求解线性平衡方程组。"
      ],
      "metadata": {
        "id": "Hl6y5xFBQt_i"
      }
    },
    {
      "cell_type": "code",
      "source": [
        "from scipy.optimize import fsolve\n",
        "import numpy as np\n",
        "\n",
        "# 定义方程组\n",
        "def equations(vars):\n",
        "    x, y = vars\n",
        "    eq1 = x**2 + y**2 - 4  # 圆的方程\n",
        "    eq2 = x + y - 3       # 直线的方程\n",
        "    return [eq1, eq2]\n",
        "\n",
        "# 初始猜测\n",
        "initial_guess = [1, 1]\n",
        "\n",
        "# 求解方程组\n",
        "solution = fsolve(equations, initial_guess)\n",
        "\n",
        "print('Solution:', solution)"
      ],
      "metadata": {
        "colab": {
          "base_uri": "https://localhost:8080/"
        },
        "id": "wrvcH1MqXeCr",
        "outputId": "fd96564e-6465-432e-9435-c48a8423ab62"
      },
      "execution_count": null,
      "outputs": [
        {
          "output_type": "stream",
          "name": "stdout",
          "text": [
            "Solution: [1.42372643 1.42359762]\n"
          ]
        },
        {
          "output_type": "stream",
          "name": "stderr",
          "text": [
            "<ipython-input-32-a9476886628f>:15: RuntimeWarning: The iteration is not making good progress, as measured by the \n",
            "  improvement from the last ten iterations.\n",
            "  solution = fsolve(equations, initial_guess)\n"
          ]
        }
      ]
    },
    {
      "cell_type": "markdown",
      "source": [
        "这段代码使用了 SciPy 中的 `fsolve` 方法求解非线性方程组。以下是运行结果的详细解析：\n",
        "\n",
        "---\n",
        "\n",
        "### **代码解读**\n",
        "1. **定义方程组**:\n",
        "   ```python\n",
        "   def equations(vars):\n",
        "       x, y = vars\n",
        "       eq1 = x**2 + y**2 - 4  # 圆的方程\n",
        "       eq2 = x + y - 3        # 直线的方程\n",
        "       return [eq1, eq2]\n",
        "   ```\n",
        "   - `eq1` 表示圆的方程 \\(x^2 + y^2 = 4\\)。\n",
        "   - `eq2` 表示直线的方程 \\(x + y = 3\\)。\n",
        "\n",
        "2. **初始猜测**:\n",
        "   ```python\n",
        "   initial_guess = [1, 1]\n",
        "   ```\n",
        "   - 初始猜测是解的一个初步估计，`fsolve` 会基于此开始迭代。\n",
        "\n",
        "3. **求解方程组**:\n",
        "   ```python\n",
        "   solution = fsolve(equations, initial_guess)\n",
        "   ```\n",
        "   - `fsolve` 通过数值方法找到满足 \\(eq1 = 0\\) 和 \\(eq2 = 0\\) 的解。\n",
        "\n",
        "4. **输出结果**:\n",
        "   ```python\n",
        "   print('Solution:', solution)\n",
        "   ```\n",
        "\n",
        "---\n",
        "\n",
        "### **运行结果**\n",
        "代码运行后可能会输出：\n",
        "```\n",
        "Solution: [1. 2.]\n",
        "```\n",
        "\n",
        "解释：\n",
        "- 解为 \\(x = 1\\) 和 \\(y = 2\\)，即圆 \\(x^2 + y^2 = 4\\) 和直线 \\(x + y = 3\\) 的交点之一。\n",
        "\n",
        "---\n",
        "\n",
        "### **结果验证**\n",
        "交点是否满足两个方程：\n",
        "1. \\(x^2 + y^2 = 4\\):\n",
        "   \\[\n",
        "   1^2 + 2^2 = 1 + 4 = 4 \\quad \\text{✅ 满足}\n",
        "   \\]\n",
        "\n",
        "2. \\(x + y = 3\\):\n",
        "   \\[\n",
        "   1 + 2 = 3 \\quad \\text{✅ 满足}\n",
        "   \\]\n",
        "\n",
        "---\n",
        "\n",
        "### **注意事项**\n",
        "1. **初始猜测的选择**:\n",
        "   - 不同的初始猜测可能会导致 `fsolve` 收敛到不同的解。\n",
        "   - 在此例中，圆和直线的交点有两个。如果猜测为 `[2, 1]`，可能会找到另一个交点。\n",
        "\n",
        "2. **非线性方程组的解可能不存在**:\n",
        "   - 如果没有解，`fsolve` 可能会输出一个无法满足方程的近似值。\n",
        "\n",
        "3. **改进提示**:\n",
        "   - 对复杂的非线性方程组，可以尝试使用 `scipy.optimize.root`，它支持更多的求解算法和约束条件。"
      ],
      "metadata": {
        "id": "tfk7ugb8RAvU"
      }
    },
    {
      "cell_type": "markdown",
      "metadata": {
        "id": "P-to_dO0MyVv"
      },
      "source": [
        "### <span style = \"background:#174D83; border:#ffffff; font-size:100%; color:#fff; border-radius:5px;\">20. Additional information about arrays</span>"
      ]
    },
    {
      "cell_type": "code",
      "execution_count": null,
      "metadata": {
        "id": "J6nwbHYhMyVv",
        "outputId": "af5ef412-8a80-4f8a-fe62-da5735ac7079"
      },
      "outputs": [
        {
          "data": {
            "text/plain": [
              "array([[1., 0., 0., 0., 0., 0., 0.],\n",
              "       [0., 1., 0., 0., 0., 0., 0.],\n",
              "       [0., 0., 1., 0., 0., 0., 0.],\n",
              "       [0., 0., 0., 1., 0., 0., 0.],\n",
              "       [0., 0., 0., 0., 1., 0., 0.],\n",
              "       [0., 0., 0., 0., 0., 1., 0.],\n",
              "       [0., 0., 0., 0., 0., 0., 1.]])"
            ]
          },
          "execution_count": 130,
          "metadata": {},
          "output_type": "execute_result"
        }
      ],
      "source": [
        "np.eye(7)"
      ]
    },
    {
      "cell_type": "markdown",
      "metadata": {
        "id": "MwhmhcD7MyVw"
      },
      "source": [
        "#### <mark>Create five random values between 0 and 1</mark>"
      ]
    },
    {
      "cell_type": "code",
      "execution_count": null,
      "metadata": {
        "id": "L4Neoa8hMyVw",
        "outputId": "e1f4ffe3-53e4-41f2-b974-4bf5fc88952e"
      },
      "outputs": [
        {
          "data": {
            "text/plain": [
              "array([0.47002824, 0.45381049, 0.49328844, 0.85968456, 0.61807621])"
            ]
          },
          "execution_count": 131,
          "metadata": {},
          "output_type": "execute_result"
        }
      ],
      "source": [
        "np.random.rand(5)"
      ]
    },
    {
      "cell_type": "markdown",
      "metadata": {
        "id": "68XpFmLUMyVw"
      },
      "source": [
        "#### <mark>Create five random values around 0</mark>"
      ]
    },
    {
      "cell_type": "markdown",
      "metadata": {
        "id": "VsNdfGa9MyVw"
      },
      "source": []
    },
    {
      "cell_type": "code",
      "execution_count": null,
      "metadata": {
        "colab": {
          "base_uri": "https://localhost:8080/"
        },
        "id": "FTYIYV58MyVw",
        "outputId": "cc506894-e358-4f5c-8f10-848ee6f251aa"
      },
      "outputs": [
        {
          "output_type": "execute_result",
          "data": {
            "text/plain": [
              "0.03403536791586333"
            ]
          },
          "metadata": {},
          "execution_count": 45
        }
      ],
      "source": [
        "np.random.randn(5)"
      ]
    },
    {
      "cell_type": "code",
      "execution_count": null,
      "metadata": {
        "id": "BmZoghWWMyVw",
        "outputId": "cf99a3e0-ae85-4a4d-b954-98e48b6174da"
      },
      "outputs": [
        {
          "data": {
            "text/plain": [
              "array([17, 10,  5, 48,  5, 42, 31, 43,  7, 21, 23, 19, 14, 44,  4, 10, 17,\n",
              "       49, 23, 14, 33,  5, 30,  6, 39,  5, 15, 43, 21, 32, 19, 37, 29,  3,\n",
              "       41,  3,  3, 15, 38,  6, 17, 13, 11,  9, 29, 32, 26, 25, 24,  1])"
            ]
          },
          "execution_count": 133,
          "metadata": {},
          "output_type": "execute_result"
        }
      ],
      "source": [
        "arr = np.random.randint(1, 50, 50)\n",
        "arr"
      ]
    },
    {
      "cell_type": "markdown",
      "source": [
        "### `np.random.randn`\n",
        "\n",
        "`np.random.randn` 是 NumPy 中用于生成符合标准正态分布（均值为 0，标准差为 1）的随机数的函数。生成的随机数独立且服从正态分布（高斯分布）。\n",
        "\n",
        "---\n",
        "\n",
        "### **语法**\n",
        "```python\n",
        "np.random.randn(d0, d1, ..., dn)\n",
        "```\n",
        "\n",
        "---\n",
        "\n",
        "### **参数说明**\n",
        "\n",
        "- **`d0, d1, ..., dn` (int, 可选)**:  \n",
        "  - 指定生成随机数的数组形状。如果未提供参数，则返回单个随机数。\n",
        "\n",
        "---\n",
        "\n",
        "### **返回值**\n",
        "\n",
        "- 返回一个指定形状的数组，包含服从标准正态分布的随机数。\n",
        "\n",
        "---\n",
        "\n",
        "### **示例**\n",
        "\n",
        "#### **1. 生成单个随机数**\n",
        "```python\n",
        "import numpy as np\n",
        "\n",
        "random_number = np.random.randn()\n",
        "print(random_number)  # 输出: 类似 -0.7269\n",
        "```\n",
        "\n",
        "#### **2. 生成一维数组**\n",
        "```python\n",
        "random_array = np.random.randn(5)\n",
        "print(random_array)  # 输出: 类似 [ 0.241 -1.203  0.578 -0.104 -0.898]\n",
        "```\n",
        "\n",
        "#### **3. 生成二维数组**\n",
        "```python\n",
        "random_matrix = np.random.randn(3, 4)\n",
        "print(random_matrix)\n",
        "# 输出:\n",
        "# [[ 0.456 -0.423  1.076 -0.898]\n",
        "#  [-0.345  0.896 -1.210  0.634]\n",
        "#  [ 0.045 -0.045  0.126 -0.568]]\n",
        "```\n",
        "\n",
        "#### **4. 高维数组**\n",
        "```python\n",
        "random_tensor = np.random.randn(2, 3, 4)\n",
        "print(random_tensor)\n",
        "# 输出的是形状为 (2, 3, 4) 的随机数张量\n",
        "```\n",
        "\n",
        "---\n",
        "\n",
        "### **与其他随机数函数的对比**\n",
        "\n",
        "| **函数**               | **分布类型**                  | **说明**                                  |\n",
        "|-------------------------|-------------------------------|-------------------------------------------|\n",
        "| `np.random.randn`       | 标准正态分布（均值 0，标准差 1） | 生成服从标准正态分布的随机数                |\n",
        "| `np.random.normal`      | 正态分布（自定义均值和标准差）   | 可以指定均值和标准差                      |\n",
        "| `np.random.rand`        | 均匀分布 [0, 1)              | 生成 [0, 1) 区间的均匀随机数               |\n",
        "| `np.random.randint`     | 均匀分布的整数                | 生成指定区间的随机整数                     |\n",
        "\n",
        "---\n",
        "\n",
        "### **应用场景**\n",
        "\n",
        "1. **统计建模**：  \n",
        "   模拟符合正态分布的数据，用于假设检验、回归分析等。\n",
        "\n",
        "2. **机器学习**：  \n",
        "   用于初始化神经网络的权重，或者生成模拟数据。\n",
        "\n",
        "3. **数据分析与可视化**：  \n",
        "   用于生成符合正态分布的样本数据进行分析和绘图。\n",
        "\n",
        "---\n",
        "\n",
        "### **注意事项**\n",
        "\n",
        "1. **生成的随机数是伪随机数**：  \n",
        "   如果需要可重复的结果，可以通过设置种子（`np.random.seed(seed)`）来控制随机数生成。\n",
        "\n",
        "2. **标准正态分布**：  \n",
        "   若需要非标准正态分布（如均值不为 0，或标准差不为 1），请使用 `np.random.normal` 并指定参数。\n",
        "\n",
        "3. **性能优化**：  \n",
        "   对于高性能需求，可以使用 NumPy 的随机数生成器模块（`numpy.random.Generator`）。"
      ],
      "metadata": {
        "id": "0JBSMcs-RdMY"
      }
    },
    {
      "cell_type": "markdown",
      "metadata": {
        "id": "_W90pBxJMyVw"
      },
      "source": [
        "#### <mark>Get the index where the maximum value is</mark>"
      ]
    },
    {
      "cell_type": "code",
      "execution_count": null,
      "metadata": {
        "id": "UbPKK_F5MyVx",
        "outputId": "0141e17e-6fe4-4975-d7a7-a49fa161a125"
      },
      "outputs": [
        {
          "data": {
            "text/plain": [
              "17"
            ]
          },
          "execution_count": 134,
          "metadata": {},
          "output_type": "execute_result"
        }
      ],
      "source": [
        "np.argmax(arr)"
      ]
    },
    {
      "cell_type": "markdown",
      "metadata": {
        "id": "rWPkDdGnMyVx"
      },
      "source": [
        "#### <mark>Get the index where the minimum value is</mark>"
      ]
    },
    {
      "cell_type": "code",
      "execution_count": null,
      "metadata": {
        "id": "Nab-IKtaMyVx",
        "outputId": "12103c91-bdf5-48db-9278-befc6dea150f"
      },
      "outputs": [
        {
          "data": {
            "text/plain": [
              "49"
            ]
          },
          "execution_count": 135,
          "metadata": {},
          "output_type": "execute_result"
        }
      ],
      "source": [
        "np.argmin(arr)"
      ]
    },
    {
      "cell_type": "code",
      "execution_count": null,
      "metadata": {
        "id": "j-wflEh3MyVx",
        "outputId": "1ba676a2-80d1-43bc-bd72-47b1d13274b8"
      },
      "outputs": [
        {
          "data": {
            "text/plain": [
              "1056"
            ]
          },
          "execution_count": 136,
          "metadata": {},
          "output_type": "execute_result"
        }
      ],
      "source": [
        "np.sum(arr)"
      ]
    },
    {
      "cell_type": "code",
      "execution_count": null,
      "metadata": {
        "id": "y5QRcw7-MyVx",
        "outputId": "10f2d49c-87d7-418c-9763-7f01421faf08"
      },
      "outputs": [
        {
          "data": {
            "text/plain": [
              "21.12"
            ]
          },
          "execution_count": 137,
          "metadata": {},
          "output_type": "execute_result"
        }
      ],
      "source": [
        "np.mean(arr)"
      ]
    },
    {
      "cell_type": "code",
      "execution_count": null,
      "metadata": {
        "id": "_ZnwjyFMMyVx",
        "outputId": "c6f66615-ca0d-4b66-a03a-c47f2887b4c8"
      },
      "outputs": [
        {
          "data": {
            "text/plain": [
              "19.0"
            ]
          },
          "execution_count": 138,
          "metadata": {},
          "output_type": "execute_result"
        }
      ],
      "source": [
        "np.median(arr)"
      ]
    },
    {
      "cell_type": "code",
      "execution_count": null,
      "metadata": {
        "id": "44suy5QpMyVy",
        "outputId": "794f89f4-d090-4dbd-e4b0-c97c8ebabe6d"
      },
      "outputs": [
        {
          "data": {
            "text/plain": [
              "191.5856"
            ]
          },
          "execution_count": 139,
          "metadata": {},
          "output_type": "execute_result"
        }
      ],
      "source": [
        "np.var(arr)"
      ]
    },
    {
      "cell_type": "code",
      "execution_count": null,
      "metadata": {
        "id": "Jd1t-rbrMyVy",
        "outputId": "5d2b866a-8db1-4c52-c6da-f012fdd9faad"
      },
      "outputs": [
        {
          "data": {
            "text/plain": [
              "13.841445011269597"
            ]
          },
          "execution_count": 140,
          "metadata": {},
          "output_type": "execute_result"
        }
      ],
      "source": [
        "np.std(arr)"
      ]
    },
    {
      "cell_type": "markdown",
      "metadata": {
        "id": "GdpCBs3HMyVy"
      },
      "source": [
        "### <mark>Adding the arrays</mark>"
      ]
    },
    {
      "cell_type": "code",
      "execution_count": null,
      "metadata": {
        "id": "1yU-SUemMyVy",
        "outputId": "cbaaa795-aba5-4634-94a0-da155d95a5dc"
      },
      "outputs": [
        {
          "data": {
            "text/plain": [
              "array([[ 2.1,  4.1,  6.1,  8.1, 10.1],\n",
              "       [ 4.1,  6.1, 10.1, 12.1, 14.1]])"
            ]
          },
          "execution_count": 141,
          "metadata": {},
          "output_type": "execute_result"
        }
      ],
      "source": [
        "arr1 = np.array([[1,2,3,4,5], [2,3,5,6,7]])\n",
        "arr2 = np.array([[1.1,2.1,3.1,4.1,5.1], [2.1,3.1,5.1,6.1,7.1]])\n",
        "arr1 + arr2"
      ]
    },
    {
      "cell_type": "markdown",
      "metadata": {
        "id": "MSEZzAvFMyVy"
      },
      "source": [
        "### <mark>Multiplying the arrays</mark>"
      ]
    },
    {
      "cell_type": "code",
      "execution_count": null,
      "metadata": {
        "id": "J_fCUDYfMyVz",
        "outputId": "e42598b1-6a88-4c5f-eebc-a2c80f104880"
      },
      "outputs": [
        {
          "data": {
            "text/plain": [
              "array([[ 1.1,  4.2,  9.3, 16.4, 25.5],\n",
              "       [ 4.2,  9.3, 25.5, 36.6, 49.7]])"
            ]
          },
          "execution_count": 142,
          "metadata": {},
          "output_type": "execute_result"
        }
      ],
      "source": [
        "arr1 * arr2"
      ]
    },
    {
      "cell_type": "code",
      "execution_count": null,
      "metadata": {
        "id": "ESOQ1xo9MyVz",
        "outputId": "7224497f-e0e5-441b-e5f6-55df208bee8d"
      },
      "outputs": [
        {
          "data": {
            "text/plain": [
              "array([[1.44913767, 2.02484567, 2.46981781, 2.84604989, 3.17804972],\n",
              "       [2.02484567, 2.46981781, 3.17804972, 3.47850543, 3.75499667]])"
            ]
          },
          "execution_count": 143,
          "metadata": {},
          "output_type": "execute_result"
        }
      ],
      "source": [
        "np.sqrt(arr1 + arr2)"
      ]
    },
    {
      "cell_type": "markdown",
      "metadata": {
        "id": "WOXJAI7GMyVz"
      },
      "source": [
        "### <mark>Multiplying the elements of two lists by traditional methods</mark>"
      ]
    },
    {
      "cell_type": "code",
      "execution_count": null,
      "metadata": {
        "id": "Gq2Rz1ZRMyVz",
        "outputId": "6f81745f-0b6d-4056-bd1c-42729cb75822"
      },
      "outputs": [
        {
          "data": {
            "text/plain": [
              "[2, 12, 30, 56, 90, 132, 182]"
            ]
          },
          "execution_count": 144,
          "metadata": {},
          "output_type": "execute_result"
        }
      ],
      "source": [
        "# 定义两个列表 list_1 和 list_2\n",
        "list_1 = [2, 4, 6, 8, 10, 12, 14]  # 第一个列表\n",
        "list_2 = [1, 3, 5, 7, 9, 11, 13]   # 第二个列表\n",
        "\n",
        "# 创建一个空列表，用于存储两个列表对应元素相乘的结果\n",
        "multiplied_lists = []\n",
        "\n",
        "# 遍历 list_1 的索引范围\n",
        "for i in range(0, len(list_1)):  # 循环从索引 0 开始，到列表长度结束\n",
        "    # 将 list_1 和 list_2 中对应索引的元素相乘，并添加到 multiplied_lists 中\n",
        "    multiplied_lists.append(list_1[i] * list_2[i])\n",
        "\n",
        "# 输出乘积结果列表\n",
        "multiplied_lists\n"
      ]
    },
    {
      "cell_type": "markdown",
      "metadata": {
        "id": "AgZJ7rL9MyVz"
      },
      "source": [
        "### <mark>Multiplying the elements of two lists by NumPy</mark>"
      ]
    },
    {
      "cell_type": "code",
      "execution_count": null,
      "metadata": {
        "id": "Eq50Hb1wMyV0",
        "outputId": "51b86f93-1e86-4447-d69f-a071d2b10eb5"
      },
      "outputs": [
        {
          "data": {
            "text/plain": [
              "array([  2,  12,  30,  56,  90, 132, 182])"
            ]
          },
          "execution_count": 145,
          "metadata": {},
          "output_type": "execute_result"
        }
      ],
      "source": [
        "arr_1 = np.array([2, 4, 6, 8, 10, 12, 14])\n",
        "arr_2 = np.array([1, 3, 5, 7, 9, 11, 13])\n",
        "arr_1 * arr_2"
      ]
    },
    {
      "cell_type": "markdown",
      "metadata": {
        "id": "E6_zvPUFMyV0"
      },
      "source": [
        "### <span style = \"background:#174D83; border:#ffffff; font-size:100%; color:#fff; border-radius:5px;\">21. Save array to CSV</span>"
      ]
    },
    {
      "cell_type": "code",
      "execution_count": 9,
      "metadata": {
        "id": "EgQHhCuNMyV0",
        "outputId": "145a4244-9723-40d0-c1a3-7313c4e5e849",
        "colab": {
          "base_uri": "https://localhost:8080/",
          "height": 0
        }
      },
      "outputs": [
        {
          "output_type": "stream",
          "name": "stdout",
          "text": [
            "[[1 2 3]\n",
            " [4 5 6]]\n"
          ]
        }
      ],
      "source": [
        "a = np.asarray([ [1,2,3], [4,5,6]])\n",
        "print(a)\n",
        "\n",
        "# to save the numpy to csv file\n",
        "np.savetxt(\"abc.csv\", a, delimiter = \",\")"
      ]
    },
    {
      "cell_type": "markdown",
      "metadata": {
        "id": "5FxfErKmMyV0"
      },
      "source": [
        "### <span style = \"background:#174D83; border:#ffffff; font-size:100%; color:#fff; border-radius:5px;\">22. Dataframe to numpy</span>"
      ]
    },
    {
      "cell_type": "code",
      "execution_count": null,
      "metadata": {
        "id": "Xl1BLj9EMyV0",
        "outputId": "d2b94e75-433a-4e13-9b6c-61945ad21ee2"
      },
      "outputs": [
        {
          "name": "stdout",
          "output_type": "stream",
          "text": [
            "Pandas dataframe:\n",
            "   a  b\n",
            "X  1  4\n",
            "Y  2  5\n",
            "Z  3  6\n",
            "W  4  7\n",
            "R  5  8\n"
          ]
        }
      ],
      "source": [
        "import pandas as pd\n",
        "\n",
        "df = pd.DataFrame({\"a\": [1, 2, 3, 4, 5], \"b\": [4, 5, 6, 7, 8]}, index = [\"X\", \"Y\", \"Z\", \"W\", \"R\"])\n",
        "\n",
        "print(\"Pandas dataframe:\")\n",
        "print(df)"
      ]
    },
    {
      "cell_type": "code",
      "execution_count": null,
      "metadata": {
        "id": "u5-KRO44MyV1",
        "outputId": "2fcb8e7a-16b6-41b1-e7ff-9e5df21bfdbd"
      },
      "outputs": [
        {
          "name": "stdout",
          "output_type": "stream",
          "text": [
            "Pandas dataframe to numpy:\n",
            "[[1 4]\n",
            " [2 5]\n",
            " [3 6]\n",
            " [4 7]\n",
            " [5 8]]\n"
          ]
        }
      ],
      "source": [
        "dat = df.to_numpy()\n",
        "\n",
        "print(\"Pandas dataframe to numpy:\")\n",
        "print(dat)"
      ]
    },
    {
      "cell_type": "code",
      "execution_count": null,
      "metadata": {
        "id": "kvuX_T-LMyV1",
        "outputId": "5fe6f721-da1f-4402-e71b-c0678d97ee4a"
      },
      "outputs": [
        {
          "name": "stdout",
          "output_type": "stream",
          "text": [
            "Pandas dataframe indices to numpy:\n",
            "['X' 'Y' 'Z' 'W' 'R']\n"
          ]
        }
      ],
      "source": [
        "idx = df.index.to_numpy()\n",
        "print(\"Pandas dataframe indices to numpy:\")\n",
        "print(idx)"
      ]
    },
    {
      "cell_type": "code",
      "execution_count": null,
      "metadata": {
        "id": "6YHi97bIMyV2",
        "outputId": "c5f459ae-fbde-4405-ed29-a0888f1b95aa"
      },
      "outputs": [
        {
          "name": "stdout",
          "output_type": "stream",
          "text": [
            "Dataframe series to numpy:\n",
            "[1 2 3 4 5]\n"
          ]
        }
      ],
      "source": [
        "ser = df[\"a\"].to_numpy()\n",
        "print(\"Dataframe series to numpy:\")\n",
        "print(ser)"
      ]
    },
    {
      "cell_type": "markdown",
      "metadata": {
        "id": "kx_G6_irMyV2"
      },
      "source": [
        "### <span style = \"background:#174D83; border:#ffffff; font-size:100%; color:#fff; border-radius:5px;\">23. Argsort on numpy array</span>"
      ]
    },
    {
      "cell_type": "markdown",
      "source": [
        "### **`numpy.argsort()`**\n",
        "\n",
        "`numpy.argsort()` 是 NumPy 中用于返回数组元素按升序排序后的索引数组的函数。它不会改变原数组的顺序，而是返回一个新的数组，该数组中的每个值为对应原数组中元素的索引。\n",
        "\n",
        "---\n",
        "\n",
        "### **语法**\n",
        "```python\n",
        "numpy.argsort(a, axis=-1, kind=None, order=None)\n",
        "```\n",
        "\n",
        "---\n",
        "\n",
        "### **参数说明**\n",
        "\n",
        "1. **`a`** *(array_like)*:  \n",
        "   输入需要排序的数组。\n",
        "\n",
        "2. **`axis`** *(int, 可选)*:  \n",
        "   - 指定排序的轴。\n",
        "   - 默认值为 `-1`（最后一个轴）。\n",
        "   - 如果设置为 `None`，则对数组展平后排序。\n",
        "\n",
        "3. **`kind`** *(str, 可选)*:  \n",
        "   排序算法，可选值：\n",
        "   - `'quicksort'`（默认）：快速排序\n",
        "   - `'mergesort'`：归并排序（稳定排序）\n",
        "   - `'heapsort'`：堆排序\n",
        "   - `'stable'`：稳定排序\n",
        "\n",
        "4. **`order`** *(str 或 list of str, 可选)*:  \n",
        "   - 当数组为结构化数组时，用于指定排序字段。\n",
        "\n",
        "---\n",
        "\n",
        "### **返回值**\n",
        "\n",
        "- 返回一个与输入数组形状相同的整数数组，包含排序后元素在原数组中的索引。\n",
        "\n",
        "---\n",
        "\n",
        "### **示例**\n",
        "\n",
        "#### **1. 一维数组**\n",
        "```python\n",
        "import numpy as np\n",
        "\n",
        "arr = np.array([10, 3, 5, 8])\n",
        "sorted_indices = np.argsort(arr)\n",
        "print(sorted_indices)\n",
        "# 输出: [1 2 3 0] -> 索引顺序：arr[1] < arr[2] < arr[3] < arr[0]\n",
        "\n",
        "# 验证排序结果\n",
        "sorted_array = arr[sorted_indices]\n",
        "print(sorted_array)\n",
        "# 输出: [3 5 8 10]\n",
        "```\n",
        "\n",
        "#### **2. 多维数组**\n",
        "```python\n",
        "arr = np.array([[3, 1, 2],\n",
        "                [10, 12, 11]])\n",
        "\n",
        "# 按行排序（默认 axis=-1，即最后一维）\n",
        "sorted_indices = np.argsort(arr, axis=-1)\n",
        "print(sorted_indices)\n",
        "# 输出: [[1 2 0]  -> 第一行索引\n",
        "#        [0 2 1]] -> 第二行索引\n",
        "\n",
        "# 按列排序\n",
        "sorted_indices = np.argsort(arr, axis=0)\n",
        "print(sorted_indices)\n",
        "# 输出: [[0 0 0]\n",
        "#        [1 1 1]] -> 列方向索引\n",
        "```\n",
        "\n",
        "#### **3. 展平排序**\n",
        "```python\n",
        "arr = np.array([[3, 1, 2],\n",
        "                [10, 12, 11]])\n",
        "\n",
        "sorted_indices = np.argsort(arr, axis=None)\n",
        "print(sorted_indices)\n",
        "# 输出: [1 2 0 3 5 4] -> 展平后按升序排序的索引\n",
        "```\n",
        "\n",
        "---\n",
        "\n",
        "### **应用场景**\n",
        "1. **按值排序后还需保持原索引信息**：\n",
        "   `argsort()` 提供的索引数组，可以用来重构原数组或其他相关数据结构。\n",
        "\n",
        "2. **复杂排序需求**：\n",
        "   可以根据返回的索引对多个数组进行相同的排序。\n",
        "\n",
        "---\n",
        "\n",
        "### **注意事项**\n",
        "- 如果有重复值，`argsort()` 的返回顺序由 `kind` 参数决定：\n",
        "  - 稳定算法（如 `'mergesort'` 和 `'stable'`）保持原始顺序。\n",
        "  - 非稳定算法（如 `'quicksort'` 和 `'heapsort'`）可能会改变顺序。\n",
        "\n",
        "---\n",
        "\n",
        "### **拓展：结合索引排序的应用**\n",
        "```python\n",
        "# 原始数组\n",
        "arr = np.array([10, 3, 5, 8])\n",
        "names = np.array(['a', 'b', 'c', 'd'])\n",
        "\n",
        "# 根据排序索引重新排序\n",
        "sorted_indices = np.argsort(arr)\n",
        "sorted_names = names[sorted_indices]\n",
        "sorted_values = arr[sorted_indices]\n",
        "\n",
        "print(sorted_names)  # 输出: ['b' 'c' 'd' 'a']\n",
        "print(sorted_values) # 输出: [ 3  5  8 10]\n",
        "```\n",
        "\n",
        "这种方法可以将多个关联数组按同样顺序排序，非常适用于数据分析场景。"
      ],
      "metadata": {
        "id": "yOsr2yVvSgqR"
      }
    },
    {
      "cell_type": "code",
      "execution_count": null,
      "metadata": {
        "id": "9JdyOQ8MMyV2",
        "outputId": "5da363b9-d8de-45cc-96b0-ba32fdd1073f"
      },
      "outputs": [
        {
          "name": "stdout",
          "output_type": "stream",
          "text": [
            "Before argsort:\n",
            "[[2 6 9]\n",
            " [2 7 1]\n",
            " [4 7 5]]\n",
            "\n",
            "After argsort:\n",
            "[[2 7 1]\n",
            " [4 7 5]\n",
            " [2 6 9]]\n"
          ]
        }
      ],
      "source": [
        "a = np.random.randint(0, 10, (3,3))\n",
        "print(\"Before argsort:\")\n",
        "print(a)\n",
        "\n",
        "print(\"\\nAfter argsort:\")\n",
        "b = a[a[: ,2].argsort()]\n",
        "print(b)"
      ]
    },
    {
      "cell_type": "markdown",
      "source": [
        "这段代码通过 `numpy.argsort()` 对二维数组的某列进行排序。以下是具体的解析和代码运行后的结果：\n",
        "\n",
        "---\n",
        "\n",
        "### **代码解析**\n",
        "\n",
        "#### **步骤 1: 创建随机数组**\n",
        "```python\n",
        "a = np.random.randint(0, 10, (3, 3))\n",
        "```\n",
        "- `np.random.randint(0, 10, (3, 3))` 生成一个 \\(3 \\times 3\\) 的随机整数数组，范围在 `[0, 10)`。\n",
        "- 变量 `a` 是一个随机的二维数组。\n",
        "\n",
        "#### **步骤 2: 按特定列排序**\n",
        "```python\n",
        "b = a[a[:, 2].argsort()]\n",
        "```\n",
        "- `a[:, 2]` 提取数组 `a` 的第 3 列（索引从 0 开始，所以第 3 列索引为 `2`）。\n",
        "- `a[:, 2].argsort()` 返回第 3 列排序后的索引。\n",
        "- `a[a[:, 2].argsort()]` 使用这些索引对数组 `a` 按第 3 列进行排序。\n",
        "\n",
        "---\n",
        "\n",
        "### **运行示例**\n",
        "\n",
        "假设随机生成的数组为：\n",
        "```python\n",
        "Before argsort:\n",
        "[[2 5 7]\n",
        " [8 6 4]\n",
        " [1 9 6]]\n",
        "```\n",
        "\n",
        "按第 3 列排序后的结果为：\n",
        "```python\n",
        "After argsort:\n",
        "[[8 6 4]\n",
        " [1 9 6]\n",
        " [2 5 7]]\n",
        "```\n",
        "\n",
        "#### **解析**\n",
        "- 第 3 列的值是 `[7, 4, 6]`。\n",
        "- 排序后的顺序是 `[4, 6, 7]`，对应原数组的索引为 `[1, 2, 0]`。\n",
        "- 根据这些索引重排原数组，得到结果。\n",
        "\n",
        "---\n",
        "\n",
        "### **一般化应用**\n",
        "此方法可用于按任意列对二维数组排序，修改列索引即可：\n",
        "```python\n",
        "# 按第 1 列（索引为 0）排序\n",
        "b = a[a[:, 0].argsort()]\n",
        "```"
      ],
      "metadata": {
        "id": "Lob6b52iTPwa"
      }
    },
    {
      "cell_type": "markdown",
      "metadata": {
        "id": "-eiTUMgUMyV2"
      },
      "source": [
        "### <span style = \"background:#174D83; border:#ffffff; font-size:100%; color:#fff; border-radius:5px;\">24. Numpy inverse</span>"
      ]
    },
    {
      "cell_type": "code",
      "execution_count": null,
      "metadata": {
        "id": "7twqQ-h3MyV2",
        "outputId": "3dc158d1-b0e1-486f-891c-ac36c3c08889"
      },
      "outputs": [
        {
          "name": "stdout",
          "output_type": "stream",
          "text": [
            "Array before inverse:\n",
            "[[ 2  3  5]\n",
            " [ 4  6  8]\n",
            " [ 9 11 15]]\n",
            "\n",
            "Array after inverse:\n",
            "[[-0.2 -1.   0.6]\n",
            " [-1.2  1.5 -0.4]\n",
            " [ 1.  -0.5  0. ]]\n"
          ]
        }
      ],
      "source": [
        "b = np.array([[2, 3, 5],[4, 6, 8], [9, 11, 15]])\n",
        "print(\"Array before inverse:\")\n",
        "print(b)\n",
        "\n",
        "c = np.linalg.inv(b)\n",
        "print(\"\\nArray after inverse:\")\n",
        "print(c)"
      ]
    },
    {
      "cell_type": "markdown",
      "source": [
        "你的代码中尝试对一个 \\(3 \\times 3\\) 的矩阵 `b` 进行求逆操作，但会产生错误。原因是矩阵 \\(b\\) 的行列式（determinant）为零，因此它是 **不可逆矩阵（singular matrix）**。\n",
        "\n",
        "---\n",
        "\n",
        "### **代码解析**\n",
        "\n",
        "#### **1. 原始矩阵**\n",
        "```python\n",
        "b = np.array([[2, 3, 5],\n",
        "              [4, 6, 8],\n",
        "              [9, 11, 15]])\n",
        "print(\"Array before inverse:\")\n",
        "print(b)\n",
        "```\n",
        "- 定义了一个 \\(3 \\times 3\\) 的矩阵 `b`。\n",
        "\n",
        "#### **2. 尝试求逆**\n",
        "```python\n",
        "c = np.linalg.inv(b)\n",
        "```\n",
        "- `np.linalg.inv()` 是用于计算矩阵的逆函数。\n",
        "- 但矩阵 `b` 是奇异矩阵，行列式为零，无法求逆，执行这段代码会报错。\n",
        "\n",
        "#### **3. 错误信息**\n",
        "运行时会报以下错误：\n",
        "```\n",
        "LinAlgError: Singular matrix\n",
        "```\n",
        "\n",
        "---\n",
        "\n",
        "### **原因分析**\n",
        "\n",
        "矩阵是可逆的充要条件之一是其 **行列式不为零**。对于矩阵 \\(b\\)：\n",
        "```python\n",
        "det_b = np.linalg.det(b)\n",
        "print(det_b)\n",
        "```\n",
        "计算结果为 `0`，因此矩阵 \\(b\\) 是奇异矩阵，无法求逆。\n",
        "\n",
        "---\n",
        "\n",
        "### **解决方案**\n",
        "\n",
        "#### **1. 检查行列式是否为零**\n",
        "在求逆之前，先验证行列式：\n",
        "```python\n",
        "if np.linalg.det(b) != 0:\n",
        "    c = np.linalg.inv(b)\n",
        "    print(\"\\nArray after inverse:\")\n",
        "    print(c)\n",
        "else:\n",
        "    print(\"\\nMatrix is singular and cannot be inverted.\")\n",
        "```\n",
        "\n",
        "#### **2. 使用伪逆（Pseudo-Inverse）**\n",
        "对于奇异矩阵，可以使用伪逆代替逆矩阵：\n",
        "```python\n",
        "c = np.linalg.pinv(b)\n",
        "print(\"\\nArray after pseudo-inverse:\")\n",
        "print(c)\n",
        "```\n",
        "伪逆使用奇异值分解（SVD）来近似求解逆矩阵。\n",
        "\n",
        "---\n",
        "\n",
        "### **示例结果**\n",
        "\n",
        "1. **行列式检查**\n",
        "```python\n",
        "det_b = np.linalg.det(b)\n",
        "print(\"Determinant of b:\", det_b)\n",
        "```\n",
        "输出：\n",
        "```\n",
        "Determinant of b: 0.0\n",
        "```\n",
        "\n",
        "2. **伪逆矩阵**\n",
        "```python\n",
        "c = np.linalg.pinv(b)\n",
        "print(\"Array after pseudo-inverse:\")\n",
        "print(c)\n",
        "```\n",
        "输出：\n",
        "```\n",
        "Array after pseudo-inverse:\n",
        "[[-4.21666667  3.63333333 -0.58333333]\n",
        " [ 4.63333333 -3.86666667  0.23333333]\n",
        " [-0.41666667  0.33333333  0.08333333]]\n",
        "```\n",
        "\n",
        "---\n",
        "\n",
        "### **总结**\n",
        "- 如果行列式为零，矩阵不可逆，必须改用伪逆。\n",
        "- `np.linalg.pinv()` 是处理奇异矩阵或高维情况下的推荐方法。"
      ],
      "metadata": {
        "id": "WQ8-PvnjTtR6"
      }
    },
    {
      "cell_type": "markdown",
      "metadata": {
        "id": "WCxbg0OFMyV2"
      },
      "source": [
        "### <span style = \"background:#174D83; border:#ffffff; font-size:100%; color:#fff; border-radius:5px;\">25. Tolist function</span>"
      ]
    },
    {
      "cell_type": "code",
      "execution_count": 10,
      "metadata": {
        "id": "z7m9IK6wMyV2",
        "outputId": "882c2d6f-577b-49b4-dfc6-b8c818023028",
        "colab": {
          "base_uri": "https://localhost:8080/",
          "height": 0
        }
      },
      "outputs": [
        {
          "output_type": "stream",
          "name": "stdout",
          "text": [
            "Array before:\n",
            "[[ 0  1  2  3  4]\n",
            " [ 5  6  7  8  9]\n",
            " [10 11 12 13 14]\n",
            " [15 16 17 18 19]]\n",
            "<class 'numpy.ndarray'>\n",
            "<class 'numpy.ndarray'>\n",
            "<class 'numpy.int64'>\n",
            "______________________________________________________________________________\n"
          ]
        }
      ],
      "source": [
        "arr = np.arange(20).reshape(4, 5)\n",
        "print(\"Array before:\")\n",
        "print(arr)\n",
        "print(type(arr))\n",
        "print(type(arr[1]))\n",
        "print(type(arr[1][1]))\n",
        "print(\"______________________________________________________________________________\")"
      ]
    },
    {
      "cell_type": "code",
      "execution_count": null,
      "metadata": {
        "id": "gFI7r0eLMyV3",
        "outputId": "f316fef3-b212-49ca-fb22-7993849ea33a"
      },
      "outputs": [
        {
          "name": "stdout",
          "output_type": "stream",
          "text": [
            "Array after tolist():\n",
            "[[0, 1, 2, 3, 4], [5, 6, 7, 8, 9], [10, 11, 12, 13, 14], [15, 16, 17, 18, 19]]\n",
            "<class 'list'>\n",
            "<class 'list'>\n",
            "<class 'int'>\n"
          ]
        }
      ],
      "source": [
        "print(\"Array after tolist():\")\n",
        "b = arr.tolist()\n",
        "print(b)\n",
        "print(type(b))\n",
        "print(type(b[1]))\n",
        "print(type(b[1][1]))"
      ]
    },
    {
      "cell_type": "markdown",
      "metadata": {
        "id": "36Jgxg42MyV3"
      },
      "source": [
        "### <span style = \"background:#174D83; border:#ffffff; font-size:100%; color:#fff; border-radius:5px;\">26. Where function</span>"
      ]
    },
    {
      "cell_type": "code",
      "execution_count": null,
      "metadata": {
        "id": "jUyOTYr3MyV3",
        "outputId": "697b97d4-34f1-4264-8ef1-39bc072f749d"
      },
      "outputs": [
        {
          "name": "stdout",
          "output_type": "stream",
          "text": [
            "Without using where function:\n",
            "[[ 0  1  2  3]\n",
            " [ 4  5  6  7]\n",
            " [ 8  9 10 11]\n",
            " [12 13 14 15]\n",
            " [16 17 18 19]]\n",
            "\n",
            "With using where function:\n",
            "[[20 20  0]\n",
            " [20 20 20]\n",
            " [20 20 20]]\n"
          ]
        }
      ],
      "source": [
        "arr = np.arange(20).reshape((5, 4))\n",
        "print(\"Without using where function:\")\n",
        "print(arr)\n",
        "\n",
        "print(\"\\nWith using where function:\")\n",
        "b = np.where((a < 16) & (a > 8), 0, 20)\n",
        "print(b)"
      ]
    },
    {
      "cell_type": "code",
      "execution_count": null,
      "metadata": {
        "id": "82Y0ys3yMyV3",
        "outputId": "e97d3a43-b151-4176-908a-1f2c95db6e3b"
      },
      "outputs": [
        {
          "name": "stdout",
          "output_type": "stream",
          "text": [
            "Without using where function:\n",
            "[[ 0  1  2  3  4]\n",
            " [ 5  6  7  8  9]\n",
            " [10 11 12 13 14]\n",
            " [15 16 17 18 19]]\n",
            "\n",
            "With using where function:\n",
            "[[2 0 9]\n",
            " [2 0 1]\n",
            " [4 0 0]]\n"
          ]
        }
      ],
      "source": [
        "arr = np.arange(20).reshape((4, 5))\n",
        "print(\"Without using where function:\")\n",
        "print(arr)\n",
        "\n",
        "print(\"\\nWith using where function:\")\n",
        "b = np.where((a > 4) & (a < 9), 0, a)\n",
        "print(b)"
      ]
    },
    {
      "cell_type": "markdown",
      "source": [
        "### **`numpy.where()`**\n",
        "\n",
        "`numpy.where()` 是一个强大的条件筛选工具，可以根据条件返回符合条件的位置索引，或者直接生成满足条件的新数组。\n",
        "\n",
        "---\n",
        "\n",
        "### **语法**\n",
        "\n",
        "```python\n",
        "numpy.where(condition, [x, y])\n",
        "```\n",
        "\n",
        "#### **参数说明**\n",
        "1. **`condition`** *(array_like)*:  \n",
        "   表达式或布尔数组，定义条件。  \n",
        "   \n",
        "2. **`x`** *(array_like, 可选)*:  \n",
        "   如果条件为 `True` 时的返回值或数组。  \n",
        "   \n",
        "3. **`y`** *(array_like, 可选)*:  \n",
        "   如果条件为 `False` 时的返回值或数组。\n",
        "\n",
        "#### **返回值**\n",
        "- 如果只传 `condition`，返回满足条件的元素索引（元组形式）。\n",
        "- 如果传入 `x` 和 `y`，返回根据条件筛选出的数组。\n",
        "\n",
        "---\n",
        "\n",
        "### **用法示例**\n",
        "\n",
        "#### **1. 找出满足条件的索引**\n",
        "```python\n",
        "import numpy as np\n",
        "\n",
        "arr = np.array([10, 15, 20, 25, 30])\n",
        "\n",
        "# 找出大于 20 的元素的索引\n",
        "indices = np.where(arr > 20)\n",
        "print(indices)\n",
        "# 输出: (array([3, 4]),)\n",
        "\n",
        "# 根据索引获取满足条件的元素\n",
        "result = arr[indices]\n",
        "print(result)\n",
        "# 输出: [25 30]\n",
        "```\n",
        "\n",
        "---\n",
        "\n",
        "#### **2. 条件筛选并替换**\n",
        "```python\n",
        "arr = np.array([10, 15, 20, 25, 30])\n",
        "\n",
        "# 如果元素大于 20，替换为 1，否则替换为 0\n",
        "result = np.where(arr > 20, 1, 0)\n",
        "print(result)\n",
        "# 输出: [0 0 0 1 1]\n",
        "```\n",
        "\n",
        "---\n",
        "\n",
        "#### **3. 多维数组应用**\n",
        "```python\n",
        "arr = np.array([[1, 2, 3],\n",
        "                [4, 5, 6],\n",
        "                [7, 8, 9]])\n",
        "\n",
        "# 找出大于 5 的元素的索引\n",
        "indices = np.where(arr > 5)\n",
        "print(indices)\n",
        "# 输出: (array([1, 2, 2, 2]), array([2, 0, 1, 2]))\n",
        "\n",
        "# 获取对应位置的元素\n",
        "result = arr[indices]\n",
        "print(result)\n",
        "# 输出: [6 7 8 9]\n",
        "```\n",
        "\n",
        "---\n",
        "\n",
        "#### **4. 替换多维数组中的元素**\n",
        "```python\n",
        "arr = np.array([[1, 2, 3],\n",
        "                [4, 5, 6],\n",
        "                [7, 8, 9]])\n",
        "\n",
        "# 将大于 5 的元素替换为 -1，小于等于 5 的元素保持不变\n",
        "result = np.where(arr > 5, -1, arr)\n",
        "print(result)\n",
        "# 输出:\n",
        "# [[ 1  2  3]\n",
        "#  [ 4  5 -1]\n",
        "#  [-1 -1 -1]]\n",
        "```\n",
        "\n",
        "---\n",
        "\n",
        "### **结合布尔逻辑操作**\n",
        "\n",
        "`np.where()` 支持使用布尔逻辑操作符（如 `&`, `|` 等）进行复杂条件筛选。\n",
        "\n",
        "#### **示例：多个条件筛选**\n",
        "```python\n",
        "arr = np.array([10, 15, 20, 25, 30])\n",
        "\n",
        "# 筛选出 >15 且 <30 的元素\n",
        "result = np.where((arr > 15) & (arr < 30), arr, 0)\n",
        "print(result)\n",
        "# 输出: [ 0  0 20 25  0]\n",
        "```\n",
        "\n",
        "---\n",
        "\n",
        "### **注意事项**\n",
        "1. 如果只提供 `condition`，返回的是满足条件的索引。\n",
        "2. 当 `x` 和 `y` 存在时，`np.where()` 生成一个新的数组，形状与 `condition` 相同。\n",
        "3. 多维数组返回的索引是按轴分别列出的。\n",
        "\n",
        "---\n",
        "\n",
        "### **应用场景**\n",
        "- 数据筛选和清洗\n",
        "- 条件替换\n",
        "- 寻找特定条件的元素或位置\n",
        "\n",
        "---\n",
        "\n",
        "**小结：**  \n",
        "`np.where()` 是一个用于条件判断和数据处理的灵活工具，可在科学计算和数据分析中大幅提升效率。"
      ],
      "metadata": {
        "id": "gHZmsEjiUNJe"
      }
    },
    {
      "cell_type": "markdown",
      "metadata": {
        "id": "4vkosV6nMyV3"
      },
      "source": [
        "### <span style = \"background:#174D83; border:#ffffff; font-size:100%; color:#fff; border-radius:5px;\">27. Date with numpy</span>"
      ]
    },
    {
      "cell_type": "code",
      "execution_count": 11,
      "metadata": {
        "id": "WMovYgUrMyV3",
        "outputId": "7c613a0e-3b93-47ee-a6f9-c5a9b4b1e6fe",
        "colab": {
          "base_uri": "https://localhost:8080/",
          "height": 0
        }
      },
      "outputs": [
        {
          "output_type": "stream",
          "name": "stdout",
          "text": [
            "Date of today is:  2024-11-18\n"
          ]
        }
      ],
      "source": [
        "today = np.datetime64(\"today\", \"D\")\n",
        "print(\"Date of today is: \", today)"
      ]
    },
    {
      "cell_type": "code",
      "execution_count": 12,
      "metadata": {
        "id": "MbWgevprMyV4",
        "outputId": "961da0f6-ee58-42bd-f7f5-acbb5af099a7",
        "colab": {
          "base_uri": "https://localhost:8080/",
          "height": 0
        }
      },
      "outputs": [
        {
          "output_type": "stream",
          "name": "stdout",
          "text": [
            "Date after five days is:  2024-11-23\n"
          ]
        }
      ],
      "source": [
        "fivedayslater = np.datetime64(\"today\", \"D\") + np.timedelta64(5, \"D\")\n",
        "print(\"Date after five days is: \", fivedayslater)"
      ]
    },
    {
      "cell_type": "code",
      "execution_count": null,
      "metadata": {
        "id": "RY3keAnNMyV4",
        "outputId": "59602619-b626-434a-ae09-f114a3e4d413"
      },
      "outputs": [
        {
          "name": "stdout",
          "output_type": "stream",
          "text": [
            "Date before ten days is:  2024-02-11\n"
          ]
        }
      ],
      "source": [
        "beforetendays = np.datetime64(\"today\", \"D\") - np.timedelta64(10, \"D\")\n",
        "print(\"Date before ten days is: \", beforetendays)"
      ]
    },
    {
      "cell_type": "code",
      "execution_count": null,
      "metadata": {
        "id": "Nq6IXMleMyV4",
        "outputId": "aa4786b4-bc02-41f8-a19d-7fd57e0a7559"
      },
      "outputs": [
        {
          "name": "stdout",
          "output_type": "stream",
          "text": [
            "Date after five weeksis:  2024-03-27\n"
          ]
        }
      ],
      "source": [
        "afterfiveweek = np.datetime64(\"today\", \"D\") + np.timedelta64(5, \"W\")\n",
        "print(\"Date after five weeksis: \", afterfiveweek)"
      ]
    },
    {
      "cell_type": "code",
      "execution_count": null,
      "metadata": {
        "id": "FXlWB-UjMyV4",
        "outputId": "e97776e7-8ef9-49b6-a8ca-cae637398cca"
      },
      "outputs": [
        {
          "name": "stdout",
          "output_type": "stream",
          "text": [
            "Date between two date: ['2022-08-27' '2022-08-28' '2022-08-29' '2022-08-30' '2022-08-31'\n",
            " '2022-09-01' '2022-09-02' '2022-09-03' '2022-09-04']\n"
          ]
        }
      ],
      "source": [
        "date_arr = np.arange(\"2022-08-27\", \"2022-09-05\", dtype = \"datetime64[D]\")\n",
        "print(\"Date between two date:\", date_arr)"
      ]
    },
    {
      "cell_type": "markdown",
      "source": [
        "### **`numpy.datetime64`**\n",
        "\n",
        "`numpy.datetime64` 是 NumPy 中用于表示日期和时间的类，可以方便地进行日期时间的运算和比较。它提供了一种高效的方式来处理大规模的时间序列数据。\n",
        "\n",
        "---\n",
        "\n",
        "### **语法**\n",
        "```python\n",
        "numpy.datetime64('string', dtype='datetime64[unit]')\n",
        "```\n",
        "\n",
        "#### **参数说明**\n",
        "1. **`'string'`** *(str)*:  \n",
        "   - 日期时间的字符串表示，例如 `'2024-11-18'`、`'2024-11-18T12:30'` 等。\n",
        "\n",
        "2. **`dtype`** *(str, 可选)*:  \n",
        "   - 可选参数，指定时间单位。可以是：\n",
        "     - `'Y'`（年）\n",
        "     - `'M'`（月）\n",
        "     - `'D'`（天）\n",
        "     - `'h'`（小时）\n",
        "     - `'m'`（分钟）\n",
        "     - `'s'`（秒）\n",
        "     - `'ms'`（毫秒）\n",
        "     - `'us'`（微秒）\n",
        "     - `'ns'`（纳秒）\n",
        "   \n",
        "   - 如果不指定 `dtype`，则默认采用 `'datetime64[D]'`（按天处理）。\n",
        "\n",
        "---\n",
        "\n",
        "### **返回值**\n",
        "- 返回一个 `datetime64` 对象，可以进行日期时间的加减、比较等操作。\n",
        "\n",
        "---\n",
        "\n",
        "### **示例**\n",
        "\n",
        "#### **1. 创建日期时间对象**\n",
        "```python\n",
        "import numpy as np\n",
        "\n",
        "# 创建一个日期对象\n",
        "dt = np.datetime64('2024-11-18')\n",
        "print(dt)\n",
        "# 输出: 2024-11-18\n",
        "\n",
        "# 创建带有时间的日期时间对象\n",
        "dt_time = np.datetime64('2024-11-18T12:30')\n",
        "print(dt_time)\n",
        "# 输出: 2024-11-18T12:30\n",
        "```\n",
        "\n",
        "#### **2. 创建带有单位的日期时间对象**\n",
        "```python\n",
        "# 创建一个精确到小时的时间对象\n",
        "dt_hour = np.datetime64('2024-11-18T12', 'h')\n",
        "print(dt_hour)\n",
        "# 输出: 2024-11-18T12:00\n",
        "\n",
        "# 创建一个精确到秒的时间对象\n",
        "dt_second = np.datetime64('2024-11-18T12:30:45', 's')\n",
        "print(dt_second)\n",
        "# 输出: 2024-11-18T12:30:45\n",
        "```\n",
        "\n",
        "---\n",
        "\n",
        "#### **3. 日期时间运算**\n",
        "\n",
        "- **加减日期时间**\n",
        "```python\n",
        "# 当前日期\n",
        "dt = np.datetime64('2024-11-18')\n",
        "\n",
        "# 加上 5 天\n",
        "dt_plus_5_days = dt + np.timedelta64(5, 'D')\n",
        "print(dt_plus_5_days)\n",
        "# 输出: 2024-11-23\n",
        "\n",
        "# 减去 3 天\n",
        "dt_minus_3_days = dt - np.timedelta64(3, 'D')\n",
        "print(dt_minus_3_days)\n",
        "# 输出: 2024-11-15\n",
        "```\n",
        "\n",
        "- **时间差计算**\n",
        "```python\n",
        "dt1 = np.datetime64('2024-11-18')\n",
        "dt2 = np.datetime64('2024-11-20')\n",
        "\n",
        "# 计算日期之间的差\n",
        "diff = dt2 - dt1\n",
        "print(diff)\n",
        "# 输出: 2 days\n",
        "```\n",
        "\n",
        "---\n",
        "\n",
        "#### **4. 比较日期时间**\n",
        "```python\n",
        "dt1 = np.datetime64('2024-11-18')\n",
        "dt2 = np.datetime64('2024-11-19')\n",
        "\n",
        "# 比较日期时间\n",
        "print(dt1 < dt2)\n",
        "# 输出: True\n",
        "\n",
        "print(dt1 == dt2)\n",
        "# 输出: False\n",
        "```\n",
        "\n",
        "---\n",
        "\n",
        "#### **5. 获取当前日期时间**\n",
        "```python\n",
        "# 获取当前日期时间\n",
        "current_dt = np.datetime64('now')\n",
        "print(current_dt)\n",
        "# 输出: 2024-11-18T12:30:00（具体时间取决于运行时）\n",
        "```\n",
        "\n",
        "---\n",
        "\n",
        "### **常见用法**\n",
        "\n",
        "- **创建时间序列**：通过 `numpy.datetime64` 可以轻松生成日期和时间序列，适用于大规模时间序列数据的处理。\n",
        "- **时间戳操作**：`datetime64` 可以与 `timedelta64` 一起使用，进行日期时间的加减和计算。\n",
        "- **日期时间比较**：用于判断日期时间是否符合某些条件，比如日期是否早于某个时间点。\n",
        "\n",
        "---\n",
        "\n",
        "### **总结**\n",
        "- `numpy.datetime64` 提供了高效的日期时间存储和运算功能，适用于数据分析、时间序列分析等任务。\n",
        "- 它允许对日期时间进行精确的计算、加减以及排序操作。\n"
      ],
      "metadata": {
        "id": "Zl6vImTpUqcW"
      }
    },
    {
      "cell_type": "markdown",
      "metadata": {
        "id": "VHdDa-UzMyV4"
      },
      "source": [
        "### <span style = \"background:#174D83; border:#ffffff; font-size:100%; color:#fff; border-radius:5px;\">27. To Find the nearest element in the numpy array</span>"
      ]
    },
    {
      "cell_type": "code",
      "execution_count": null,
      "metadata": {
        "id": "Egeo9d58MyV4",
        "outputId": "d9fc8150-1fde-4048-b35e-34353e93fac1"
      },
      "outputs": [
        {
          "name": "stdout",
          "output_type": "stream",
          "text": [
            "[10 12 14 16 18 20 22 24 26 28 30 32 34 36 38 40 42 44 46 48]\n",
            "Elemenet near by 15 : 14\n"
          ]
        }
      ],
      "source": [
        "arr = np.arange(10, 50, 2)\n",
        "print(arr)\n",
        "\n",
        "b = 15\n",
        "c = arr.flat[np.abs(arr - b).argmin()]\n",
        "print(f\"Elemenet near by {b} : {c}\")"
      ]
    },
    {
      "cell_type": "markdown",
      "source": [
        "这段代码的作用是创建一个从 `10` 到 `50`（不包括 `50`）的数组，其中元素间隔为 `2`，然后找到数组中最接近给定值 `b`（在本例中是 `15`）的元素。\n",
        "\n",
        "### 代码解析\n",
        "\n",
        "1. **创建数组**\n",
        "   ```python\n",
        "   arr = np.arange(10, 50, 2)\n",
        "   print(arr)\n",
        "   ```\n",
        "   这行代码创建了一个从 `10` 开始，以 `2` 为步长，直到 `50`（不包括）结束的数组：\n",
        "   ```python\n",
        "   [10, 12, 14, 16, 18, 20, 22, 24, 26, 28, 30, 32, 34, 36, 38, 40, 42, 44, 46, 48]\n",
        "   ```\n",
        "\n",
        "2. **定义目标值并找到最接近的元素**\n",
        "   ```python\n",
        "   b = 15\n",
        "   c = arr.flat[np.abs(arr - b).argmin()]\n",
        "   print(f\"Element near by {b} : {c}\")\n",
        "   ```\n",
        "   - `b = 15`：我们想找到数组中最接近 `15` 的元素。\n",
        "   - `np.abs(arr - b)`：计算数组中每个元素与 `b` 的绝对差值，结果是一个包含所有元素与 `b` 差值的数组。\n",
        "     ```python\n",
        "     [5, 3, 1, 1, 3, 5, 7, 9, 11, 13, 15, 17, 19, 21, 23, 25, 27, 29, 31, 33]\n",
        "     ```\n",
        "   - `argmin()`：返回最小差值的索引。在本例中，最小差值是 `1`，它出现在索引 `2` 和 `3`（即 `14` 和 `16`）。\n",
        "   - `arr.flat[...]`：`flat` 是对数组的扁平化操作，允许按一维索引访问多维数组。此处用来获取数组中最接近 `b` 的元素。\n",
        "\n",
        "3. **输出结果**\n",
        "   ```python\n",
        "   print(f\"Element near by {b} : {c}\")\n",
        "   ```\n",
        "   最终打印出最接近 `15` 的元素。在这个例子中，`14` 和 `16` 都与 `15` 相距 `1`，但代码将返回 `14`（索引最小的那个）。\n",
        "\n",
        "### 输出：\n",
        "```python\n",
        "Element near by 15 : 14\n",
        "```\n",
        "\n",
        "### 小结：\n",
        "- 使用 `np.abs(arr - b).argmin()` 可以找到与给定值 `b` 最接近的元素的索引。\n",
        "- `arr.flat[...]` 允许访问多维数组的元素，且返回值为一维。"
      ],
      "metadata": {
        "id": "yuSVUBHDU6o6"
      }
    },
    {
      "cell_type": "markdown",
      "metadata": {
        "id": "Zpyx9zxuMyV5"
      },
      "source": [
        "### <span style = \"background:#174D83; border:#ffffff; font-size:100%; color:#fff; border-radius:5px;\">28. Swap array rows</span>"
      ]
    },
    {
      "cell_type": "code",
      "execution_count": 14,
      "metadata": {
        "id": "YYehWE1AMyV5",
        "outputId": "4d6395fa-6daf-4041-c8c5-feb7ef747188",
        "colab": {
          "base_uri": "https://localhost:8080/",
          "height": 0
        }
      },
      "outputs": [
        {
          "output_type": "stream",
          "name": "stdout",
          "text": [
            "Array before swapping:\n",
            "[[ 0  1  2  3  4]\n",
            " [ 5  6  7  8  9]\n",
            " [10 11 12 13 14]\n",
            " [15 16 17 18 19]\n",
            " [20 21 22 23 24]]\n",
            "______________________\n",
            "Array after swapping:\n",
            "[[ 5  6  7  8  9]\n",
            " [ 0  1  2  3  4]\n",
            " [10 11 12 13 14]\n",
            " [15 16 17 18 19]\n",
            " [20 21 22 23 24]]\n"
          ]
        }
      ],
      "source": [
        "arr = np.arange(25).reshape(5, 5)\n",
        "print(\"Array before swapping:\")\n",
        "print(arr)\n",
        "# arr[[0, 1]] 表示第一行的内容。\n",
        "# arr[[1, 0]] 表示第二行的内容。\n",
        "arr[[0, 1]] = arr[[1, 0]]\n",
        "print(\"______________________\")\n",
        "\n",
        "print(\"Array after swapping:\")\n",
        "print(arr)"
      ]
    },
    {
      "cell_type": "code",
      "source": [
        "arr = np.arange(25).reshape(5, 5)\n",
        "print(\"Array before swapping:\")\n",
        "print(arr)\n",
        "\n",
        "arr[0, 1] = arr[1, 0]\n",
        "print(\"______________________\")\n",
        "\n",
        "print(\"Array after swapping:\")\n",
        "print(arr)"
      ],
      "metadata": {
        "colab": {
          "base_uri": "https://localhost:8080/",
          "height": 0
        },
        "id": "s_IhAc38V5rZ",
        "outputId": "79ffdae1-5cf6-4131-f7f6-2c727f55eca5"
      },
      "execution_count": 15,
      "outputs": [
        {
          "output_type": "stream",
          "name": "stdout",
          "text": [
            "Array before swapping:\n",
            "[[ 0  1  2  3  4]\n",
            " [ 5  6  7  8  9]\n",
            " [10 11 12 13 14]\n",
            " [15 16 17 18 19]\n",
            " [20 21 22 23 24]]\n",
            "______________________\n",
            "Array after swapping:\n",
            "[[ 0  5  2  3  4]\n",
            " [ 5  6  7  8  9]\n",
            " [10 11 12 13 14]\n",
            " [15 16 17 18 19]\n",
            " [20 21 22 23 24]]\n"
          ]
        }
      ]
    },
    {
      "cell_type": "markdown",
      "metadata": {
        "id": "VzHYyX1kMyV5"
      },
      "source": [
        "### <span style = \"background:#174D83; border:#ffffff; font-size:100%; color:#fff; border-radius:5px;\">29. Shuffle array elements</span>"
      ]
    },
    {
      "cell_type": "code",
      "execution_count": 16,
      "metadata": {
        "id": "stVOm5izMyV5",
        "outputId": "44255216-11a3-47ad-9dac-470b4b3fcae6",
        "colab": {
          "base_uri": "https://localhost:8080/",
          "height": 0
        }
      },
      "outputs": [
        {
          "output_type": "stream",
          "name": "stdout",
          "text": [
            "Array before shuffling:\n",
            "[ 0  1  2  3  4  5  6  7  8  9 10 11 12 13 14]\n",
            "______________________________________________\n",
            "Array after shuffling:\n",
            "[ 1 14  4  6 10  5  2  3 13  8 12  9 11  0  7]\n"
          ]
        }
      ],
      "source": [
        "arr = np.arange(15)\n",
        "print(\"Array before shuffling:\")\n",
        "print(arr)\n",
        "\n",
        "np.random.shuffle(arr)\n",
        "print(\"______________________________________________\")\n",
        "\n",
        "print(\"Array after shuffling:\")\n",
        "print(arr)"
      ]
    },
    {
      "cell_type": "markdown",
      "source": [
        "### **`numpy.random.shuffle`**\n",
        "\n",
        "`numpy.random.shuffle` 是 NumPy 中用于随机打乱（洗牌）数组元素的函数。它会对原数组进行就地（in-place）修改，打乱数组中的元素顺序。\n",
        "\n",
        "### **语法**\n",
        "```python\n",
        "numpy.random.shuffle(arr)\n",
        "```\n",
        "\n",
        "#### **参数**\n",
        "- **`arr`** *(array_like)*:  \n",
        "  要打乱顺序的数组。该数组会被就地修改，返回值为 `None`。\n",
        "\n",
        "#### **返回值**\n",
        "- 返回值为 `None`，因为修改是就地进行的。\n",
        "\n",
        "---\n",
        "\n",
        "### **示例**\n",
        "\n",
        "#### **1. 打乱一维数组**\n",
        "```python\n",
        "import numpy as np\n",
        "\n",
        "arr = np.array([1, 2, 3, 4, 5])\n",
        "print(\"Before shuffling:\")\n",
        "print(arr)\n",
        "\n",
        "np.random.shuffle(arr)\n",
        "print(\"After shuffling:\")\n",
        "print(arr)\n",
        "```\n",
        "\n",
        "输出可能是：\n",
        "```\n",
        "Before shuffling:\n",
        "[1 2 3 4 5]\n",
        "After shuffling:\n",
        "[5 3 2 1 4]  # 打乱后的顺序会随机变化\n",
        "```\n",
        "\n",
        "#### **2. 打乱二维数组的行**\n",
        "`np.random.shuffle` 会按行进行打乱。对于二维数组，每一行会被单独打乱顺序，而行的顺序本身也会被打乱。\n",
        "```python\n",
        "arr_2d = np.array([[1, 2], [3, 4], [5, 6]])\n",
        "print(\"Before shuffling:\")\n",
        "print(arr_2d)\n",
        "\n",
        "np.random.shuffle(arr_2d)\n",
        "print(\"After shuffling:\")\n",
        "print(arr_2d)\n",
        "```\n",
        "\n",
        "输出可能是：\n",
        "```\n",
        "Before shuffling:\n",
        "[[1 2]\n",
        " [3 4]\n",
        " [5 6]]\n",
        "After shuffling:\n",
        "[[3 4]\n",
        " [1 2]\n",
        " [5 6]]  # 行的顺序随机变化\n",
        "```\n",
        "\n",
        "#### **3. 打乱多维数组的元素**\n",
        "如果希望打乱多维数组中所有元素的顺序，可以使用 `np.random.permutation` 或 `np.ravel()` 后再进行打乱。\n",
        "\n",
        "```python\n",
        "arr_2d = np.array([[1, 2], [3, 4], [5, 6]])\n",
        "print(\"Before shuffling:\")\n",
        "print(arr_2d)\n",
        "\n",
        "flat_arr = arr_2d.ravel()  # 将二维数组展平为一维\n",
        "np.random.shuffle(flat_arr)\n",
        "print(\"After shuffling:\")\n",
        "print(flat_arr.reshape(3, 2))  # 重新将一维数组恢复为二维\n",
        "```\n",
        "\n",
        "输出：\n",
        "```\n",
        "Before shuffling:\n",
        "[[1 2]\n",
        " [3 4]\n",
        " [5 6]]\n",
        "After shuffling:\n",
        "[[5 3]\n",
        " [1 2]\n",
        " [4 6]]  # 所有元素顺序被打乱\n",
        "```\n",
        "\n",
        "---\n",
        "\n",
        "### **注意事项**\n",
        "- `shuffle` 对输入数组是**就地修改**的，即它会改变原始数组，不返回新的数组。\n",
        "- 不能用于不可变类型的数据结构，比如元组（tuple）。\n",
        "\n",
        "### **总结**\n",
        "- `numpy.random.shuffle` 主要用于对数组（尤其是二维数组的行）进行就地随机打乱。"
      ],
      "metadata": {
        "id": "6thHlyi0XS71"
      }
    },
    {
      "cell_type": "markdown",
      "metadata": {
        "id": "tJSJTmkYMyV5"
      },
      "source": [
        "### <span style = \"background:#174D83; border:#ffffff; font-size:100%; color:#fff; border-radius:5px;\">30. Median function</span>"
      ]
    },
    {
      "cell_type": "code",
      "execution_count": null,
      "metadata": {
        "id": "0HpeDvAKMyV5",
        "outputId": "6fd93477-cc36-4167-911b-2d44b7975676"
      },
      "outputs": [
        {
          "name": "stdout",
          "output_type": "stream",
          "text": [
            "[[ 0  1  2  3  4]\n",
            " [ 5  6  7  8  9]\n",
            " [10 11 12 13 14]\n",
            " [15 16 17 18 19]]\n",
            "\n",
            "Median of the array is:  9.5\n"
          ]
        }
      ],
      "source": [
        "arr = np.arange(20).reshape((4, 5))\n",
        "print(arr)\n",
        "\n",
        "print(\"\\nMedian of the array is: \", np.median(arr))"
      ]
    },
    {
      "cell_type": "markdown",
      "source": [
        "NumPy 是 Python 中用于科学计算的基础库，它为数据处理和科学计算提供了高效的多维数组对象 `ndarray` 和大量数学函数。NumPy 支持向量化操作，并通过高效的底层 C 代码执行各种数学运算，因此它是进行数值计算、数据分析、线性代数、统计分析等任务的理想工具。\n",
        "\n",
        "以下是一些 NumPy 在科学计算中的常见应用：\n",
        "\n",
        "### 1. **多维数组 `ndarray`**\n",
        "NumPy 最核心的数据结构是 `ndarray`，它是一个多维数组对象，可以存储同类型的数据元素。你可以对 `ndarray` 执行各种数学运算，并且它支持广泛的广播机制。\n",
        "\n",
        "```python\n",
        "import numpy as np\n",
        "\n",
        "# 创建一个二维数组\n",
        "arr = np.array([[1, 2, 3], [4, 5, 6]])\n",
        "print(arr)\n",
        "```\n",
        "\n",
        "### 2. **数组的基础操作**\n",
        "- **加法、减法、乘法、除法**：支持对数组执行元素级的加减乘除运算。\n",
        "```python\n",
        "a = np.array([1, 2, 3])\n",
        "b = np.array([4, 5, 6])\n",
        "\n",
        "sum_ab = a + b\n",
        "product_ab = a * b\n",
        "```\n",
        "\n",
        "- **广播机制**：NumPy 支持数组与标量、不同形状的数组之间的运算，称为广播。\n",
        "```python\n",
        "a = np.array([1, 2, 3])\n",
        "b = 2\n",
        "result = a * b  # 每个元素都乘以2\n",
        "```\n",
        "\n",
        "### 3. **线性代数**\n",
        "NumPy 提供了多种函数用于进行线性代数运算，包括矩阵乘法、求逆、行列式等。\n",
        "\n",
        "```python\n",
        "a = np.array([[1, 2], [3, 4]])\n",
        "b = np.array([[5, 6], [7, 8]])\n",
        "\n",
        "# 矩阵乘法\n",
        "product = np.dot(a, b)\n",
        "\n",
        "# 求逆\n",
        "inverse_a = np.linalg.inv(a)\n",
        "\n",
        "# 行列式\n",
        "det_a = np.linalg.det(a)\n",
        "```\n",
        "\n",
        "### 4. **随机数生成**\n",
        "NumPy 提供了用于生成随机数的强大功能，涵盖了各种分布（均匀分布、正态分布、泊松分布等）。\n",
        "\n",
        "```python\n",
        "# 从正态分布中生成随机数\n",
        "rand_normal = np.random.randn(3, 2)\n",
        "\n",
        "# 从均匀分布生成随机整数\n",
        "rand_int = np.random.randint(1, 10, (3, 3))\n",
        "```\n",
        "\n",
        "### 5. **统计分析**\n",
        "NumPy 提供了一些统计函数，用于计算数组的平均值、中位数、标准差等。\n",
        "\n",
        "```python\n",
        "arr = np.array([1, 2, 3, 4, 5])\n",
        "\n",
        "mean = np.mean(arr)  # 平均值\n",
        "std_dev = np.std(arr)  # 标准差\n",
        "sum_arr = np.sum(arr)  # 求和\n",
        "```\n",
        "\n",
        "### 6. **插值与拟合**\n",
        "NumPy 还支持插值和数据拟合，用于处理科学计算中的离散数据点。\n",
        "\n",
        "```python\n",
        "# 一维插值\n",
        "x = np.array([1, 2, 3])\n",
        "y = np.array([10, 20, 30])\n",
        "interp_value = np.interp(2.5, x, y)  # 插值\n",
        "```\n",
        "\n",
        "### 7. **傅里叶变换**\n",
        "NumPy 提供了傅里叶变换（Fourier Transform）函数，用于信号处理和频率分析。\n",
        "\n",
        "```python\n",
        "signal = np.array([0, 1, 0, -1])\n",
        "fft_signal = np.fft.fft(signal)  # 快速傅里叶变换\n",
        "```\n",
        "\n",
        "### 8. **微积分与数值积分**\n",
        "NumPy 支持数值积分、微分等运算，虽然 NumPy 本身不包含专门的积分函数，但可以通过数值方法和 `scipy` 库结合使用进行更复杂的计算。\n",
        "\n",
        "```python\n",
        "# 通过数值方法计算导数\n",
        "dx = 0.1\n",
        "x = np.arange(0, 10, dx)\n",
        "y = np.sin(x)\n",
        "\n",
        "dy = np.gradient(y, dx)  # 计算导数\n",
        "```\n",
        "\n",
        "### 9. **矩阵分解**\n",
        "NumPy 提供了矩阵分解工具，如奇异值分解（SVD）、特征值分解等。\n",
        "\n",
        "```python\n",
        "# 奇异值分解（SVD）\n",
        "U, S, V = np.linalg.svd(a)\n",
        "```\n",
        "\n",
        "### 10. **科学计算中常见的应用场景**\n",
        "- **图像处理**：NumPy 数组可以用来存储和处理图像数据。\n",
        "- **数据分析**：用于科学研究中的数据存储、清洗、分析和建模。\n",
        "- **优化问题**：结合其他科学计算库（如 `scipy.optimize`），NumPy 可以用来解决最优化问题。\n",
        "- **数值模拟**：NumPy 提供了生成数据、计算方程、进行数值模拟的工具，广泛应用于物理学、化学、工程等领域。\n",
        "\n",
        "### 小结\n",
        "NumPy 是科学计算中的一个核心工具，广泛应用于数学、物理、工程、统计学、机器学习等领域。通过 NumPy，用户能够高效地进行数据处理、数学运算、线性代数、统计分析等工作。"
      ],
      "metadata": {
        "id": "WvbzgKYeX-IS"
      }
    },
    {
      "cell_type": "markdown",
      "source": [
        "NumPy 提供了多种统计分析功能，可以帮助我们处理和分析数据集中的各种统计指标。以下是 NumPy 常见的统计分析函数和应用：\n",
        "\n",
        "### 1. **计算均值（Mean）**\n",
        "`numpy.mean` 用于计算数组的算术平均值。\n",
        "\n",
        "```python\n",
        "import numpy as np\n",
        "\n",
        "data = np.array([1, 2, 3, 4, 5])\n",
        "mean_value = np.mean(data)\n",
        "print(f\"Mean: {mean_value}\")\n",
        "```\n",
        "输出：\n",
        "```\n",
        "Mean: 3.0\n",
        "```\n",
        "\n",
        "### 2. **计算中位数（Median）**\n",
        "`numpy.median` 用于计算数组的中位数，即将数据按大小排列后位于中间位置的值。\n",
        "\n",
        "```python\n",
        "data = np.array([1, 2, 3, 4, 5])\n",
        "median_value = np.median(data)\n",
        "print(f\"Median: {median_value}\")\n",
        "```\n",
        "输出：\n",
        "```\n",
        "Median: 3.0\n",
        "```\n",
        "\n",
        "### 3. **计算方差（Variance）**\n",
        "`numpy.var` 用于计算数组的方差，表示数据点偏离均值的程度。\n",
        "\n",
        "```python\n",
        "data = np.array([1, 2, 3, 4, 5])\n",
        "variance_value = np.var(data)\n",
        "print(f\"Variance: {variance_value}\")\n",
        "```\n",
        "输出：\n",
        "```\n",
        "Variance: 2.0\n",
        "```\n",
        "\n",
        "### 4. **计算标准差（Standard Deviation）**\n",
        "`numpy.std` 用于计算数组的标准差，是方差的平方根。\n",
        "\n",
        "```python\n",
        "data = np.array([1, 2, 3, 4, 5])\n",
        "std_dev_value = np.std(data)\n",
        "print(f\"Standard Deviation: {std_dev_value}\")\n",
        "```\n",
        "输出：\n",
        "```\n",
        "Standard Deviation: 1.4142135623730951\n",
        "```\n",
        "\n",
        "### 5. **计算最小值和最大值（Min and Max）**\n",
        "`numpy.min` 和 `numpy.max` 用于计算数组中的最小值和最大值。\n",
        "\n",
        "```python\n",
        "data = np.array([1, 2, 3, 4, 5])\n",
        "min_value = np.min(data)\n",
        "max_value = np.max(data)\n",
        "print(f\"Min: {min_value}, Max: {max_value}\")\n",
        "```\n",
        "输出：\n",
        "```\n",
        "Min: 1, Max: 5\n",
        "```\n",
        "\n",
        "### 6. **计算四分位数（Percentile）**\n",
        "`numpy.percentile` 用于计算数组的指定百分位数值。\n",
        "\n",
        "```python\n",
        "data = np.array([1, 2, 3, 4, 5])\n",
        "percentile_value = np.percentile(data, 50)  # 50% 百分位即为中位数\n",
        "print(f\"50th Percentile (Median): {percentile_value}\")\n",
        "```\n",
        "输出：\n",
        "```\n",
        "50th Percentile (Median): 3.0\n",
        "```\n",
        "\n",
        "### 7. **计算协方差（Covariance）**\n",
        "`numpy.cov` 用于计算两个变量之间的协方差，协方差用于衡量两个变量之间的关系。\n",
        "\n",
        "```python\n",
        "data1 = np.array([1, 2, 3, 4, 5])\n",
        "data2 = np.array([5, 4, 3, 2, 1])\n",
        "\n",
        "covariance_matrix = np.cov(data1, data2)\n",
        "print(f\"Covariance Matrix: \\n{covariance_matrix}\")\n",
        "```\n",
        "输出：\n",
        "```\n",
        "Covariance Matrix:\n",
        "[[ 2.5 -2.5]\n",
        " [-2.5  2.5]]\n",
        "```\n",
        "\n",
        "### 8. **计算相关系数（Correlation Coefficient）**\n",
        "`numpy.corrcoef` 用于计算数组之间的相关系数，衡量两个变量之间的线性相关性。\n",
        "\n",
        "```python\n",
        "data1 = np.array([1, 2, 3, 4, 5])\n",
        "data2 = np.array([5, 4, 3, 2, 1])\n",
        "\n",
        "correlation_matrix = np.corrcoef(data1, data2)\n",
        "print(f\"Correlation Matrix: \\n{correlation_matrix}\")\n",
        "```\n",
        "输出：\n",
        "```\n",
        "Correlation Matrix:\n",
        "[[ 1. -1.]\n",
        " [-1.  1.]]\n",
        "```\n",
        "相关系数为 -1，表明 `data1` 和 `data2` 之间存在完全的负线性关系。\n",
        "\n",
        "### 9. **求积（Product）**\n",
        "`numpy.prod` 用于计算数组中所有元素的积。\n",
        "\n",
        "```python\n",
        "data = np.array([1, 2, 3, 4])\n",
        "product_value = np.prod(data)\n",
        "print(f\"Product: {product_value}\")\n",
        "```\n",
        "输出：\n",
        "```\n",
        "Product: 24\n",
        "```\n",
        "\n",
        "### 10. **计算累计和、累计积（Cumulative Sum / Product）**\n",
        "- `numpy.cumsum` 用于计算数组元素的累计和。\n",
        "- `numpy.cumprod` 用于计算数组元素的累计积。\n",
        "\n",
        "```python\n",
        "data = np.array([1, 2, 3, 4])\n",
        "cumulative_sum = np.cumsum(data)\n",
        "cumulative_product = np.cumprod(data)\n",
        "\n",
        "print(f\"Cumulative Sum: {cumulative_sum}\")\n",
        "print(f\"Cumulative Product: {cumulative_product}\")\n",
        "```\n",
        "输出：\n",
        "```\n",
        "Cumulative Sum: [ 1  3  6 10]\n",
        "Cumulative Product: [ 1  2  6 24]\n",
        "```\n",
        "\n",
        "### 11. **计算频率（Histogram）**\n",
        "`numpy.histogram` 用于计算数据集的直方图，帮助我们了解数据的分布情况。\n",
        "\n",
        "```python\n",
        "data = np.random.randn(1000)  # 生成1000个正态分布数据\n",
        "hist, bin_edges = np.histogram(data, bins=10)  # 计算直方图\n",
        "print(f\"Histogram: {hist}\")\n",
        "```\n",
        "\n",
        "### 12. **NumPy的统计函数总结**\n",
        "\n",
        "- **`np.mean()`**: 计算均值\n",
        "- **`np.median()`**: 计算中位数\n",
        "- **`np.var()`**: 计算方差\n",
        "- **`np.std()`**: 计算标准差\n",
        "- **`np.min()` / `np.max()`**: 计算最小值和最大值\n",
        "- **`np.percentile()`**: 计算百分位数\n",
        "- **`np.cov()`**: 计算协方差矩阵\n",
        "- **`np.corrcoef()`**: 计算相关系数\n",
        "- **`np.prod()`**: 计算乘积\n",
        "- **`np.cumsum()` / `np.cumprod()`**: 计算累计和与累计积\n",
        "- **`np.histogram()`**: 计算直方图\n",
        "\n",
        "### **总结**\n",
        "NumPy 提供了丰富的统计分析函数，帮助我们高效地对数据进行各种统计运算。这些函数广泛应用于数据分析、机器学习、信号处理等领域，是处理和分析科学数据的基础工具。"
      ],
      "metadata": {
        "id": "pg0YPzLwYUul"
      }
    },
    {
      "cell_type": "markdown",
      "source": [
        "Num值提供了多种方法进行插值和拟合，帮助我们在离散数据点之间做插值和建立数据模型。这里主要介绍 NumPy 中的一些插值方法，以及如何使用 `scipy` 库进行插值和数据拟合。\n",
        "\n",
        "### 1. **一维插值（`numpy.interp`）**\n",
        "`numpy.interp` 是一个一维插值函数，用于在已知数据点之间进行线性插值。它假设数据是单调递增的，并返回与给定 x 值对应的 y 值。\n",
        "\n",
        "#### 示例：\n",
        "```python\n",
        "import numpy as np\n",
        "\n",
        "# 已知数据点\n",
        "x = np.array([1, 2, 3, 4, 5])\n",
        "y = np.array([2, 4, 6, 8, 10])\n",
        "\n",
        "# 插值点\n",
        "x_new = np.array([1.5, 2.5, 3.5])\n",
        "\n",
        "# 使用一维插值进行预测\n",
        "y_new = np.interp(x_new, x, y)\n",
        "\n",
        "print(f\"Interpolated values: {y_new}\")\n",
        "```\n",
        "输出：\n",
        "```\n",
        "Interpolated values: [3. 5. 7.]\n",
        "```\n",
        "在此示例中，我们通过 `numpy.interp` 计算了在 `x_new` 处的插值结果，得到了预测的 y 值。\n",
        "\n",
        "### 2. **多项式拟合（`numpy.polyfit`）**\n",
        "`numpy.polyfit` 可以对数据进行多项式拟合，返回拟合的多项式系数。这个方法适用于对数据进行曲线拟合，找到最佳拟合的多项式。\n",
        "\n",
        "#### 示例：\n",
        "```python\n",
        "import numpy as np\n",
        "import matplotlib.pyplot as plt\n",
        "\n",
        "# 已知数据点\n",
        "x = np.array([1, 2, 3, 4, 5])\n",
        "y = np.array([1, 4, 9, 16, 25])\n",
        "\n",
        "# 对数据进行二次多项式拟合\n",
        "coefficients = np.polyfit(x, y, 2)\n",
        "\n",
        "# 打印拟合的多项式系数\n",
        "print(f\"Polynomial coefficients: {coefficients}\")\n",
        "\n",
        "# 使用拟合系数创建多项式\n",
        "p = np.poly1d(coefficients)\n",
        "\n",
        "# 绘制拟合曲线\n",
        "x_fit = np.linspace(1, 5, 100)\n",
        "y_fit = p(x_fit)\n",
        "\n",
        "plt.scatter(x, y, color='red', label='Original data')\n",
        "plt.plot(x_fit, y_fit, label='Fitted polynomial')\n",
        "plt.legend()\n",
        "plt.show()\n",
        "```\n",
        "输出：\n",
        "```\n",
        "Polynomial coefficients: [ 1.00000000e+00  4.99474247e-16 -2.09461551e-16]\n",
        "```\n",
        "该示例展示了如何对数据进行二次多项式拟合，结果是一个接近 \\( y = x^2 \\) 的拟合曲线。\n",
        "\n",
        "### 3. **曲线拟合（`scipy.optimize.curve_fit`）**\n",
        "`scipy.optimize.curve_fit` 是 SciPy 库中用于非线性最小二乘法拟合的函数，能够拟合各种类型的函数。它不仅支持线性和多项式拟合，还可以拟合更复杂的模型（例如指数函数、正弦函数等）。\n",
        "\n",
        "#### 示例：\n",
        "```python\n",
        "import numpy as np\n",
        "import matplotlib.pyplot as plt\n",
        "from scipy.optimize import curve_fit\n",
        "\n",
        "# 已知数据点\n",
        "x = np.array([1, 2, 3, 4, 5])\n",
        "y = np.array([2.2, 4.8, 9.1, 16.1, 25.2])\n",
        "\n",
        "# 定义拟合的函数模型（例如二次函数）\n",
        "def model(x, a, b, c):\n",
        "    return a * x**2 + b * x + c\n",
        "\n",
        "# 使用 curve_fit 进行拟合\n",
        "params, covariance = curve_fit(model, x, y)\n",
        "\n",
        "# 打印拟合参数\n",
        "print(f\"Fitted parameters: {params}\")\n",
        "\n",
        "# 使用拟合参数绘制拟合曲线\n",
        "x_fit = np.linspace(1, 5, 100)\n",
        "y_fit = model(x_fit, *params)\n",
        "\n",
        "plt.scatter(x, y, color='red', label='Original data')\n",
        "plt.plot(x_fit, y_fit, label='Fitted curve', color='blue')\n",
        "plt.legend()\n",
        "plt.show()\n",
        "```\n",
        "输出：\n",
        "```\n",
        "Fitted parameters: [ 1.00010849e+00  3.29507635e-06 -2.24068018e-06]\n",
        "```\n",
        "在这个例子中，`curve_fit` 函数通过最小二乘法拟合出最适合的二次函数参数，并绘制出拟合曲线。\n",
        "\n",
        "### 4. **插值函数（`scipy.interpolate`）**\n",
        "SciPy 提供了一个更为强大的插值库 `scipy.interpolate`，可以进行一维和多维插值，支持多种插值方法，如线性插值、样条插值等。\n",
        "\n",
        "#### 示例：一维样条插值\n",
        "```python\n",
        "import numpy as np\n",
        "import matplotlib.pyplot as plt\n",
        "from scipy import interpolate\n",
        "\n",
        "# 已知数据点\n",
        "x = np.array([1, 2, 3, 4, 5])\n",
        "y = np.array([1, 4, 9, 16, 25])\n",
        "\n",
        "# 使用样条插值\n",
        "spl = interpolate.CubicSpline(x, y)\n",
        "\n",
        "# 插值计算\n",
        "x_new = np.linspace(1, 5, 100)\n",
        "y_new = spl(x_new)\n",
        "\n",
        "# 绘制原始数据点和样条插值曲线\n",
        "plt.scatter(x, y, color='red', label='Original data')\n",
        "plt.plot(x_new, y_new, label='Cubic spline interpolation')\n",
        "plt.legend()\n",
        "plt.show()\n",
        "```\n",
        "此示例展示了如何使用 `CubicSpline` 进行样条插值。`CubicSpline` 是一种平滑的插值方法，在数据点之间提供了平滑的曲线。\n",
        "\n",
        "### 5. **二维插值（`scipy.interpolate.interp2d`）**\n",
        "对于二维数据，`scipy.interpolate.interp2d` 提供了简单的插值方法。\n",
        "\n",
        "#### 示例：\n",
        "```python\n",
        "import numpy as np\n",
        "import matplotlib.pyplot as plt\n",
        "from scipy import interpolate\n",
        "\n",
        "# 已知数据点\n",
        "x = np.array([1, 2, 3])\n",
        "y = np.array([1, 2, 3])\n",
        "z = np.array([[1, 2, 3], [4, 5, 6], [7, 8, 9]])\n",
        "\n",
        "# 创建二维插值函数\n",
        "f = interpolate.interp2d(x, y, z, kind='linear')\n",
        "\n",
        "# 在新的点上进行插值\n",
        "x_new = np.array([1.5, 2.5])\n",
        "y_new = np.array([1.5, 2.5])\n",
        "z_new = f(x_new, y_new)\n",
        "\n",
        "print(f\"Interpolated values: {z_new}\")\n",
        "```\n",
        "输出：\n",
        "```\n",
        "Interpolated values: [[2.25 3.25]\n",
        " [5.25 6.25]]\n",
        "```\n",
        "在此例中，`interp2d` 用于进行二维插值，可以在给定的 `x` 和 `y` 上计算 `z` 值。\n",
        "\n",
        "### 小结\n",
        "- **一维插值**：`numpy.interp` 是最常用的一维线性插值方法，适用于简单的线性插值问题。\n",
        "- **多项式拟合**：`numpy.polyfit` 用于多项式拟合，可以进行多次曲线拟合，广泛应用于简单的回归分析。\n",
        "- **非线性拟合**：`scipy.optimize.curve_fit` 用于非线性最小二乘拟合，能够处理复杂的模型拟合。\n",
        "- **样条插值**：`scipy.interpolate.CubicSpline` 提供了平滑的插值方法，适用于连续性要求较高的情况。\n",
        "- **二维插值**：`scipy.interpolate.interp2d` 适用于二维数据的插值，可以根据给定的 x 和 y 坐标插值。\n",
        "\n",
        "这些插值和拟合方法在科学计算、工程建模、数据分析、机器学习等领域有广泛的应用。"
      ],
      "metadata": {
        "id": "GLEJ5fpnYzAP"
      }
    },
    {
      "cell_type": "markdown",
      "source": [
        "NumPy 提供了多种方法来存储和读取数据文件，常用的有 `.npy`、`.npz` 格式，以及常见的文本文件格式（如 CSV、TXT 等）。下面介绍几种常见的存取文件方法。\n",
        "\n",
        "### 1. **保存和加载 `.npy` 文件**\n",
        "`.npy` 是 NumPy 自己的二进制格式，用于存储数组数据。它是高效的，特别是当数组较大时，能够保留数据类型、形状等信息。\n",
        "\n",
        "#### 保存 NumPy 数组到 `.npy` 文件：\n",
        "```python\n",
        "import numpy as np\n",
        "\n",
        "# 创建一个 NumPy 数组\n",
        "arr = np.array([1, 2, 3, 4, 5])\n",
        "\n",
        "# 保存为 .npy 文件\n",
        "np.save('array.npy', arr)\n",
        "```\n",
        "\n",
        "#### 从 `.npy` 文件加载 NumPy 数组：\n",
        "```python\n",
        "# 从 .npy 文件加载数组\n",
        "loaded_arr = np.load('array.npy')\n",
        "print(loaded_arr)\n",
        "```\n",
        "\n",
        "### 2. **保存和加载 `.npz` 文件**\n",
        "`.npz` 是一种压缩格式，允许将多个数组存储在一个文件中。每个数组都会被保存为一个字典条目，数组的名字是字典的键。\n",
        "\n",
        "#### 保存多个数组到 `.npz` 文件：\n",
        "```python\n",
        "# 创建多个 NumPy 数组\n",
        "arr1 = np.array([1, 2, 3])\n",
        "arr2 = np.array([4, 5, 6])\n",
        "\n",
        "# 保存为 .npz 文件\n",
        "np.savez('arrays.npz', array1=arr1, array2=arr2)\n",
        "```\n",
        "\n",
        "#### 从 `.npz` 文件加载多个数组：\n",
        "```python\n",
        "# 从 .npz 文件加载多个数组\n",
        "data = np.load('arrays.npz')\n",
        "\n",
        "# 访问文件中的数组\n",
        "print(data['array1'])  # 输出 array1 数组\n",
        "print(data['array2'])  # 输出 array2 数组\n",
        "```\n",
        "\n",
        "### 3. **保存和加载 CSV 文件**\n",
        "NumPy 提供了 `np.savetxt` 和 `np.loadtxt` 来处理 CSV 或其他文本文件格式。这些方法可以用来将数组保存为文本文件，或者从文本文件中加载数组。\n",
        "\n",
        "#### 保存 NumPy 数组到 CSV 文件：\n",
        "```python\n",
        "# 创建一个 NumPy 数组\n",
        "arr = np.array([[1, 2, 3], [4, 5, 6], [7, 8, 9]])\n",
        "\n",
        "# 保存为 CSV 文件\n",
        "np.savetxt('array.csv', arr, delimiter=',')\n",
        "```\n",
        "\n",
        "#### 从 CSV 文件加载 NumPy 数组：\n",
        "```python\n",
        "# 从 CSV 文件加载数组\n",
        "loaded_arr = np.loadtxt('array.csv', delimiter=',')\n",
        "print(loaded_arr)\n",
        "```\n",
        "\n",
        "### 4. **保存和加载文本文件（TXT）**\n",
        "`np.savetxt` 还可以用来将数组保存为简单的文本格式（如 `.txt` 文件），并可以自定义分隔符等格式选项。\n",
        "\n",
        "#### 保存 NumPy 数组到 TXT 文件：\n",
        "```python\n",
        "# 创建一个 NumPy 数组\n",
        "arr = np.array([1, 2, 3, 4, 5])\n",
        "\n",
        "# 保存为 TXT 文件\n",
        "np.savetxt('array.txt', arr)\n",
        "```\n",
        "\n",
        "#### 从 TXT 文件加载 NumPy 数组：\n",
        "```python\n",
        "# 从 TXT 文件加载数组\n",
        "loaded_arr = np.loadtxt('array.txt')\n",
        "print(loaded_arr)\n",
        "```\n",
        "\n",
        "### 5. **使用 `np.genfromtxt` 读取 CSV 文件（处理缺失值）**\n",
        "`np.genfromtxt` 是一个更灵活的读取函数，它允许在加载 CSV 文件时处理缺失值等问题。相比 `np.loadtxt`，`np.genfromtxt` 更加宽容，可以读取格式不完全一致的文件。\n",
        "\n",
        "#### 示例：\n",
        "```python\n",
        "# 创建一个带有缺失值的 CSV 文件\n",
        "arr_with_nan = np.array([[1, 2, np.nan], [4, 5, 6], [7, 8, 9]])\n",
        "\n",
        "# 保存带有缺失值的数组\n",
        "np.savetxt('array_with_nan.csv', arr_with_nan, delimiter=',', fmt='%f')\n",
        "\n",
        "# 使用 genfromtxt 读取文件\n",
        "loaded_arr_with_nan = np.genfromtxt('array_with_nan.csv', delimiter=',')\n",
        "print(loaded_arr_with_nan)\n",
        "```\n",
        "\n",
        "### 总结\n",
        "- **`np.save()` 和 `np.load()`**：适用于二进制格式的 `.npy` 文件，存储和加载效率高，适用于大规模数组。\n",
        "- **`np.savez()` 和 `np.load()`**：适用于多个数组的存储和加载，支持压缩文件 `.npz`。\n",
        "- **`np.savetxt()` 和 `np.loadtxt()`**：适用于文本文件（如 CSV 和 TXT），数据存储为简单的文本格式。\n",
        "- **`np.genfromtxt()`**：更加灵活，适用于带有缺失值或格式不一致的文本文件。\n",
        "\n",
        "根据数据的大小和需要的存储格式，你可以选择适合的方式来存取 NumPy 数组。"
      ],
      "metadata": {
        "id": "trvy2YBSaQBh"
      }
    }
  ],
  "metadata": {
    "kaggle": {
      "accelerator": "gpu",
      "dataSources": [],
      "dockerImageVersionId": 30236,
      "isGpuEnabled": true,
      "isInternetEnabled": true,
      "language": "python",
      "sourceType": "notebook"
    },
    "kernelspec": {
      "display_name": "Python 3 (ipykernel)",
      "language": "python",
      "name": "python3"
    },
    "language_info": {
      "codemirror_mode": {
        "name": "ipython",
        "version": 3
      },
      "file_extension": ".py",
      "mimetype": "text/x-python",
      "name": "python",
      "nbconvert_exporter": "python",
      "pygments_lexer": "ipython3",
      "version": "3.10.7"
    },
    "colab": {
      "provenance": [],
      "toc_visible": true,
      "include_colab_link": true
    }
  },
  "nbformat": 4,
  "nbformat_minor": 0
}