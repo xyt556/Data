{
 "cells": [
  {
   "cell_type": "markdown",
   "id": "2f4951b8-2cd5-4d4f-a1f1-77e9a9bc614d",
   "metadata": {
    "id": "2f4951b8-2cd5-4d4f-a1f1-77e9a9bc614d"
   },
   "source": [
    "## 爬取空气质量数据"
   ]
  },
  {
   "cell_type": "code",
   "execution_count": 2,
   "id": "L4pwvNtv7vSj",
   "metadata": {
    "colab": {
     "base_uri": "https://localhost:8080/"
    },
    "id": "L4pwvNtv7vSj",
    "outputId": "efbc678d-2d9a-4c79-d22b-c53dcd9a8aa6"
   },
   "outputs": [
    {
     "name": "stdout",
     "output_type": "stream",
     "text": [
      "\u001b[2K   \u001b[90m━━━━━━━━━━━━━━━━━━━━━━━━━━━━━━━━━━━━━━━━\u001b[0m \u001b[32m834.7/834.7 kB\u001b[0m \u001b[31m8.8 MB/s\u001b[0m eta \u001b[36m0:00:00\u001b[0ma \u001b[36m0:00:01\u001b[0m\n",
      "\u001b[?25h"
     ]
    }
   ],
   "source": [
    "!pip install pypinyin -q\n"
   ]
  },
  {
   "cell_type": "code",
   "execution_count": 1,
   "id": "b08deeb5-3d7f-4838-8a87-cb98b557074d",
   "metadata": {
    "id": "b08deeb5-3d7f-4838-8a87-cb98b557074d",
    "tags": []
   },
   "outputs": [
    {
     "ename": "KeyboardInterrupt",
     "evalue": "Interrupted by user",
     "output_type": "error",
     "traceback": [
      "\u001b[1;31m---------------------------------------------------------------------------\u001b[0m",
      "\u001b[1;31mKeyboardInterrupt\u001b[0m                         Traceback (most recent call last)",
      "Cell \u001b[1;32mIn[1], line 159\u001b[0m\n\u001b[0;32m    156\u001b[0m default_city \u001b[38;5;241m=\u001b[39m \u001b[38;5;124m'\u001b[39m\u001b[38;5;124m徐州\u001b[39m\u001b[38;5;124m'\u001b[39m\n\u001b[0;32m    157\u001b[0m default_filename \u001b[38;5;241m=\u001b[39m \u001b[38;5;124m'\u001b[39m\u001b[38;5;124mPM25_data_xuzhou.xlsx\u001b[39m\u001b[38;5;124m'\u001b[39m\n\u001b[1;32m--> 159\u001b[0m str_value \u001b[38;5;241m=\u001b[39m \u001b[38;5;28;43minput\u001b[39;49m\u001b[43m(\u001b[49m\u001b[38;5;124;43mf\u001b[39;49m\u001b[38;5;124;43m'\u001b[39;49m\u001b[38;5;124;43m请输入城市名（默认值：\u001b[39;49m\u001b[38;5;132;43;01m{\u001b[39;49;00m\u001b[43mdefault_city\u001b[49m\u001b[38;5;132;43;01m}\u001b[39;49;00m\u001b[38;5;124;43m）：\u001b[39;49m\u001b[38;5;124;43m'\u001b[39;49m\u001b[43m)\u001b[49m \u001b[38;5;129;01mor\u001b[39;00m default_city\n\u001b[0;32m    160\u001b[0m filename \u001b[38;5;241m=\u001b[39m \u001b[38;5;28minput\u001b[39m(\u001b[38;5;124mf\u001b[39m\u001b[38;5;124m'\u001b[39m\u001b[38;5;124m请输入保存文件名（包括文件后缀，如\u001b[39m\u001b[38;5;132;01m{\u001b[39;00mdefault_filename\u001b[38;5;132;01m}\u001b[39;00m\u001b[38;5;124m，默认值：\u001b[39m\u001b[38;5;132;01m{\u001b[39;00mdefault_filename\u001b[38;5;132;01m}\u001b[39;00m\u001b[38;5;124m）：\u001b[39m\u001b[38;5;124m'\u001b[39m) \u001b[38;5;129;01mor\u001b[39;00m default_filename\n\u001b[0;32m    162\u001b[0m \u001b[38;5;28mprint\u001b[39m(\u001b[38;5;124m'\u001b[39m\u001b[38;5;124m城市名：\u001b[39m\u001b[38;5;124m'\u001b[39m, change_c(str_value))\n",
      "File \u001b[1;32mD:\\Geo_Python_2024\\envi\\lib\\site-packages\\ipykernel\\kernelbase.py:1191\u001b[0m, in \u001b[0;36mKernel.raw_input\u001b[1;34m(self, prompt)\u001b[0m\n\u001b[0;32m   1189\u001b[0m     msg \u001b[38;5;241m=\u001b[39m \u001b[38;5;124m\"\u001b[39m\u001b[38;5;124mraw_input was called, but this frontend does not support input requests.\u001b[39m\u001b[38;5;124m\"\u001b[39m\n\u001b[0;32m   1190\u001b[0m     \u001b[38;5;28;01mraise\u001b[39;00m StdinNotImplementedError(msg)\n\u001b[1;32m-> 1191\u001b[0m \u001b[38;5;28;01mreturn\u001b[39;00m \u001b[38;5;28;43mself\u001b[39;49m\u001b[38;5;241;43m.\u001b[39;49m\u001b[43m_input_request\u001b[49m\u001b[43m(\u001b[49m\n\u001b[0;32m   1192\u001b[0m \u001b[43m    \u001b[49m\u001b[38;5;28;43mstr\u001b[39;49m\u001b[43m(\u001b[49m\u001b[43mprompt\u001b[49m\u001b[43m)\u001b[49m\u001b[43m,\u001b[49m\n\u001b[0;32m   1193\u001b[0m \u001b[43m    \u001b[49m\u001b[38;5;28;43mself\u001b[39;49m\u001b[38;5;241;43m.\u001b[39;49m\u001b[43m_parent_ident\u001b[49m\u001b[43m[\u001b[49m\u001b[38;5;124;43m\"\u001b[39;49m\u001b[38;5;124;43mshell\u001b[39;49m\u001b[38;5;124;43m\"\u001b[39;49m\u001b[43m]\u001b[49m\u001b[43m,\u001b[49m\n\u001b[0;32m   1194\u001b[0m \u001b[43m    \u001b[49m\u001b[38;5;28;43mself\u001b[39;49m\u001b[38;5;241;43m.\u001b[39;49m\u001b[43mget_parent\u001b[49m\u001b[43m(\u001b[49m\u001b[38;5;124;43m\"\u001b[39;49m\u001b[38;5;124;43mshell\u001b[39;49m\u001b[38;5;124;43m\"\u001b[39;49m\u001b[43m)\u001b[49m\u001b[43m,\u001b[49m\n\u001b[0;32m   1195\u001b[0m \u001b[43m    \u001b[49m\u001b[43mpassword\u001b[49m\u001b[38;5;241;43m=\u001b[39;49m\u001b[38;5;28;43;01mFalse\u001b[39;49;00m\u001b[43m,\u001b[49m\n\u001b[0;32m   1196\u001b[0m \u001b[43m\u001b[49m\u001b[43m)\u001b[49m\n",
      "File \u001b[1;32mD:\\Geo_Python_2024\\envi\\lib\\site-packages\\ipykernel\\kernelbase.py:1234\u001b[0m, in \u001b[0;36mKernel._input_request\u001b[1;34m(self, prompt, ident, parent, password)\u001b[0m\n\u001b[0;32m   1231\u001b[0m \u001b[38;5;28;01mexcept\u001b[39;00m \u001b[38;5;167;01mKeyboardInterrupt\u001b[39;00m:\n\u001b[0;32m   1232\u001b[0m     \u001b[38;5;66;03m# re-raise KeyboardInterrupt, to truncate traceback\u001b[39;00m\n\u001b[0;32m   1233\u001b[0m     msg \u001b[38;5;241m=\u001b[39m \u001b[38;5;124m\"\u001b[39m\u001b[38;5;124mInterrupted by user\u001b[39m\u001b[38;5;124m\"\u001b[39m\n\u001b[1;32m-> 1234\u001b[0m     \u001b[38;5;28;01mraise\u001b[39;00m \u001b[38;5;167;01mKeyboardInterrupt\u001b[39;00m(msg) \u001b[38;5;28;01mfrom\u001b[39;00m \u001b[38;5;28;01mNone\u001b[39;00m\n\u001b[0;32m   1235\u001b[0m \u001b[38;5;28;01mexcept\u001b[39;00m \u001b[38;5;167;01mException\u001b[39;00m:\n\u001b[0;32m   1236\u001b[0m     \u001b[38;5;28mself\u001b[39m\u001b[38;5;241m.\u001b[39mlog\u001b[38;5;241m.\u001b[39mwarning(\u001b[38;5;124m\"\u001b[39m\u001b[38;5;124mInvalid Message:\u001b[39m\u001b[38;5;124m\"\u001b[39m, exc_info\u001b[38;5;241m=\u001b[39m\u001b[38;5;28;01mTrue\u001b[39;00m)\n",
      "\u001b[1;31mKeyboardInterrupt\u001b[0m: Interrupted by user"
     ]
    }
   ],
   "source": [
    "import requests\n",
    "import re\n",
    "import pypinyin\n",
    "import threading\n",
    "import pandas as pd\n",
    "from queue import Queue\n",
    "from bs4 import BeautifulSoup\n",
    "\n",
    "class PM_DATA:\n",
    "    '''\n",
    "    获取天气后报网站城市天气PM数据，多线程版本,存入excel\n",
    "    '''\n",
    "    def __init__(self, name, save_filename):\n",
    "\n",
    "        # 数据存入EXCEL的字典格式\n",
    "        self.index_list = ['日期', '质量等级', 'AQI指数', '当天AQI排名', 'PM2.5', 'PM10', 'So2', 'No2', 'Co', 'O3']\n",
    "        self.total_list = {}\n",
    "        self.total_list['日期'] = []\n",
    "        self.total_list['质量等级'] = []\n",
    "        self.total_list['AQI指数'] = []\n",
    "        self.total_list['当天AQI排名'] = []\n",
    "        self.total_list['PM2.5'] = []\n",
    "        self.total_list['PM10'] = []\n",
    "        self.total_list['So2'] = []\n",
    "        self.total_list['No2'] = []\n",
    "        self.total_list['Co'] = []\n",
    "        self.total_list['O3'] = []\n",
    "\n",
    "        self.name = change_c(name)\n",
    "        self.main_url = 'http://www.tianqihoubao.com/aqi/'\n",
    "        self.headers = {\n",
    "            # TODO 改为自己电脑的User-Agent\n",
    "            'User-Agent': 'Mozilla/5.0 (Windows NT 10.0; Win64; x64) AppleWebKit/537.36 (KHTML, like Gecko) Chrome/80.0.3987.100 Safari/537.36',\n",
    "            'Host': 'www.tianqihoubao.com',\n",
    "            'Referer': 'http://www.tianqihoubao.com/aqi/'\n",
    "        }\n",
    "\n",
    "        self.save_filename = save_filename\n",
    "\n",
    "    def index_request(self):\n",
    "        '''\n",
    "        某城市页请求\n",
    "        :return: HTML数据\n",
    "        '''\n",
    "        r = requests.get(self.main_url + self.name + '.html', headers=self.headers)\n",
    "        # 判断请求是否成功\n",
    "        if r.status_code == requests.codes.ok:\n",
    "            print(r.status_code, '请求成功')\n",
    "            return r.text\n",
    "        else:\n",
    "            print(r.status_code, '请求失败')\n",
    "            return None\n",
    "\n",
    "    def parse_index_html(self, queue):\n",
    "        '''\n",
    "        解析该城市提供的所有PM日期URL链接\n",
    "        :return: 日期列表\n",
    "        '''\n",
    "        index_html = self.index_request()\n",
    "        if index_html is None:\n",
    "            return False\n",
    "        soup = BeautifulSoup(index_html, 'html.parser')  # 格式化HTML\n",
    "        try:\n",
    "            # 根据HTML结构，解析HTML  ---> 观察下网页的HTML的结构就了解了\n",
    "            content = soup.select_one('div.box.p').find_all_next('ul')[0]\n",
    "            son_url = content.find_all('a')\n",
    "            for attr in son_url:\n",
    "                # 从HTML的href属性中解析出URL，并对日期进行过滤\n",
    "                href_str = attr['href']\n",
    "                fir_date = href_str.split('-')\n",
    "                fin_date = fir_date[1].split('.')[0]\n",
    "                if fin_date <= '202412' and fin_date >= '201401':\n",
    "                    url = self.main_url + self.name + '-' + fin_date + '.html'\n",
    "                    queue.put(url)  # 将子url放入队列\n",
    "        except:\n",
    "            print('主HTML解析失败（可能页面被更新过）')\n",
    "\n",
    "    def son_request(self, detail_url_list):\n",
    "        '''\n",
    "        某城市月份PM数据请求\n",
    "        :return: 获取的总数据 ---> 字典\n",
    "        '''\n",
    "        while True:\n",
    "            url = detail_url_list.get()  # Queue队列的get方法用于从队列中提取元素\n",
    "            print('爬取子url：', url)\n",
    "            r = requests.get(url, headers=self.headers)\n",
    "            self.parse_son_html(r.text)\n",
    "            # 队列为空时退出循环\n",
    "            if detail_url_list.qsize() == 0:\n",
    "                break\n",
    "\n",
    "    def parse_son_html(self, son_html):\n",
    "        '''\n",
    "        解析子页面,获取PM数据\n",
    "        :param son_html: 子页面HTML数据\n",
    "        :param date_num: 月份\n",
    "        :return: 月级PM数据 ---> 字典\n",
    "        '''\n",
    "        soup = BeautifulSoup(son_html, 'html.parser')\n",
    "        try:\n",
    "            # 解析HTML中的table\n",
    "            content = soup.table.find_all('tr')\n",
    "            for index, value in enumerate(content):\n",
    "                if index == 0:   # 过滤table中的索引名字\n",
    "                    pass\n",
    "                else:\n",
    "                    for i, j in enumerate(value.find_all('td')):\n",
    "                        # 清除字符串包含的特殊字符\n",
    "                        a = re.compile(r'\\n|&nbsp|\\xa0|\\\\xa0|\\u3000|\\\\u3000|\\\\u0020|\\u0020|\\t|\\r')\n",
    "                        clean_str = a.sub('', j.string)\n",
    "                        self.total_list[self.index_list[i]].append(clean_str)\n",
    "            print('数据爬取成功！')\n",
    "        except:\n",
    "            print('子HTML解析失败（可能页面被更新过）')\n",
    "\n",
    "    def main(self):\n",
    "        '''\n",
    "        入口函数\n",
    "        :return:\n",
    "        '''\n",
    "        detail_url_queue = Queue(maxsize=1000)\n",
    "        thread = threading.Thread(target=self.parse_index_html, args=(detail_url_queue,))  # 该线程负责填充子url队列\n",
    "        html_thread = []\n",
    "        for i in range(4):\n",
    "            thread2 = threading.Thread(target=self.son_request, args=(detail_url_queue,))  # 该线程负责爬取子url数据\n",
    "            html_thread.append(thread2)\n",
    "        # 启动四个线程\n",
    "        thread.start()\n",
    "        for i in range(4):\n",
    "            html_thread[i].start()\n",
    "        thread.join()\n",
    "        for i in range(4):\n",
    "            html_thread[i].join()\n",
    "\n",
    "        # 写入EXCEL\n",
    "        self.data_to_excel()\n",
    "\n",
    "    def data_to_excel(self):\n",
    "        # 数据格式转置\n",
    "        my_df = pd.DataFrame.from_dict(self.total_list, orient='index').T\n",
    "        my_df.to_excel(self.save_filename, index=False)\n",
    "        print('写入成功')\n",
    "\n",
    "def change_c(word):\n",
    "    '''\n",
    "    将用户输入的中文转为拼音字母\n",
    "    :param word:\n",
    "    :return:\n",
    "    '''\n",
    "    s = ''\n",
    "    for i in pypinyin.pinyin(word, style=pypinyin.NORMAL):\n",
    "        s += ''.join(i)\n",
    "    return s\n",
    "\n",
    "if __name__ == '__main__':\n",
    "    default_city = '徐州'\n",
    "    default_filename = 'PM25_data_xuzhou.xlsx'\n",
    "\n",
    "    str_value = input(f'请输入城市名（默认值：{default_city}）：') or default_city\n",
    "    filename = input(f'请输入保存文件名（包括文件后缀，如{default_filename}，默认值：{default_filename}）：') or default_filename\n",
    "\n",
    "    print('城市名：', change_c(str_value))\n",
    "    PM_DATA(str_value, filename).main()\n",
    "\n",
    "\n"
   ]
  },
  {
   "cell_type": "code",
   "execution_count": null,
   "id": "a768801e-7995-49c5-8b08-9ed341fbed7a",
   "metadata": {
    "id": "a768801e-7995-49c5-8b08-9ed341fbed7a"
   },
   "outputs": [],
   "source": []
  },
  {
   "cell_type": "code",
   "execution_count": null,
   "id": "999e4c4a-6ac8-4eb5-a714-16c524c21a29",
   "metadata": {
    "id": "999e4c4a-6ac8-4eb5-a714-16c524c21a29"
   },
   "outputs": [],
   "source": []
  },
  {
   "cell_type": "code",
   "execution_count": null,
   "id": "80f040c2-e58e-436d-ac0d-122bd27164a3",
   "metadata": {
    "id": "80f040c2-e58e-436d-ac0d-122bd27164a3"
   },
   "outputs": [],
   "source": []
  }
 ],
 "metadata": {
  "colab": {
   "provenance": []
  },
  "kernelspec": {
   "display_name": "Python 3 (ipykernel)",
   "language": "python",
   "name": "python3"
  },
  "language_info": {
   "codemirror_mode": {
    "name": "ipython",
    "version": 3
   },
   "file_extension": ".py",
   "mimetype": "text/x-python",
   "name": "python",
   "nbconvert_exporter": "python",
   "pygments_lexer": "ipython3",
   "version": "3.10.7"
  }
 },
 "nbformat": 4,
 "nbformat_minor": 5
}
