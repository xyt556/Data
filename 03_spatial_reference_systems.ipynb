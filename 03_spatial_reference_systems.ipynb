{
  "cells": [
    {
      "cell_type": "markdown",
      "metadata": {
        "id": "view-in-github",
        "colab_type": "text"
      },
      "source": [
        "<a href=\"https://colab.research.google.com/github/xyt556/Data/blob/main/03_spatial_reference_systems.ipynb\" target=\"_parent\"><img src=\"https://colab.research.google.com/assets/colab-badge.svg\" alt=\"Open In Colab\"/></a>"
      ]
    },
    {
      "cell_type": "markdown",
      "metadata": {
        "id": "p6aG_It9j1ft"
      },
      "source": [
        "# 空间参考系统\n",
        "\n",
        "### 简要介绍\n",
        "\n",
        "空间参考系统（SRS）或坐标参考系统（CRS）是一个数学构造，对地理学领域至关重要。它有两个重要的作用：\n",
        "1. 确切而精确地识别空间对象的位置；\n",
        "2. 在地图上准确地描绘空间对象。"
      ]
    },
    {
      "cell_type": "markdown",
      "metadata": {
        "id": "6n4y8GMOj1fv"
      },
      "source": [
        "在其最基本的形式中，空间参考系统（SRS）由两个元素组成：\n",
        "1. *基准面（Datum）* - 一个近似地球形状的球体或椭球体，相对于地球进行定位。\n",
        "2. *制图投影（Cartographic Projection）* - 一组数学函数，用于将基准面上的位置转换到笛卡尔平面。\n",
        "\n",
        "世界大地基准系统（WGS 84）是由美国国家地理空间情报局（NGA）维护的一组基准面，旨在近似地球的整体表面。如今大多数 GPS 或 GNSS 接收器报告的地理坐标（纬度和经度）都是参考其中一个 WGS 84 基准面。对于全球制图而言，WGS 84 是一个方便的选择，但在大多数情况下，对于地方性制图来说，定制的基准面更加合适。各国的国家测量定义了适合其国家或地区的特定基准面。"
      ]
    },
    {
      "cell_type": "markdown",
      "metadata": {
        "id": "DKEy5kHRj1fw"
      },
      "source": [
        "![Geodesic Datum](https://upload.wikimedia.org/wikipedia/commons/thumb/b/b2/Gloabl_and_Regional_Ellipsoids.svg/640px-Gloabl_and_Regional_Ellipsoids.svg.png)\n",
        "*Sketch of geodesic datums positioned relative to the Earth's surface. Source: [Wikipaedia](https://en.wikipedia.org/wiki/Geodetic_datum).*"
      ]
    },
    {
      "cell_type": "markdown",
      "metadata": {
        "id": "rwRAMhhAj1fw"
      },
      "source": [
        "等距矩形投影和墨卡托投影是目前最受欢迎的投影方式，但它们都不适合用于地方性或全球制图。因此，花时间确定最合适的投影方式始终是有益的。制图投影在将地球的曲面平展到平面时会引入误差。必须在区域、形状和角度的准确性之间找到平衡。对于全球制图，像[莫尔韦德同形投影](https://en.wikipedia.org/wiki/Mollweide_projection)、[艾克特 IV 投影](https://en.wikipedia.org/wiki/Eckert_IV_projection) 或 [古德同洛西投影](https://en.wikipedia.org/wiki/Goode_homolosine_projection)等投影提供了有趣的折中方案。对于地方性制图，[立体投影](https://en.wikipedia.org/wiki/Stereographic_projection#Applications_to_other_disciplines)、[兰伯特等面积方位投影](https://en.wikipedia.org/wiki/Lambert_azimuthal_equal-area_projection) 和 [高斯-克吕格投影](https://en.wikipedia.org/wiki/Transverse_Mercator_projection#Ellipsoidal_transverse_Mercator)（也称为“横轴墨卡托”）是流行的选择，但还有许多其他选择。"
      ]
    },
    {
      "cell_type": "markdown",
      "metadata": {
        "id": "NQOBQo3_j1fx"
      },
      "source": [
        "![Map Projections](https://upload.wikimedia.org/wikipedia/commons/0/02/Kaardiprojektsiooni_klassid.gif)\n",
        "*Visual examples of the transformations applied to the *datum* by simple map projections. Source: [Wikipaedia](https://en.wikipedia.org/wiki/Map_projection).*"
      ]
    },
    {
      "cell_type": "markdown",
      "metadata": {
        "id": "tUnwUN76j1fx"
      },
      "source": [
        "始终记住一件事：没有任何制图投影能够完全正确地保持距离。因此，**避免在笛卡尔平面上计算距离**，因为这些计算结果会是错误的。在小的研究区域内，误差可能微不足道，但在全球或大陆范围内，即使对于像俄罗斯这样的大国，在笛卡尔平面上计算的距离也会有显著的偏差。"
      ]
    },
    {
      "cell_type": "markdown",
      "metadata": {
        "id": "GVyjM6ltj1fy"
      },
      "source": [
        "### Python库\n",
        "\n",
        "[PROJ](https://proj.org)库是FOSS4G的基石，实施了大量的制图投影和大多数大地基准。可以参考[PROJ实现的制图投影列表](https://proj.org/operations/projections/index.html)，这是探索每种投影不同特征的好地方。[pyproj](https://pyproj4.github.io/pyproj/stable/)是PROJ的原生Python接口。\n",
        "\n",
        "另外，GDAL/OGR Python API库包含一个专门处理空间参考系统（SRS）的模块：[osgeo.osr](https://gdal.org/python/osgeo.osr-pysrc.html)。在某些情况下，它可能很方便。"
      ]
    },
    {
      "cell_type": "markdown",
      "metadata": {
        "id": "PMViIuYhj1fz"
      },
      "source": [
        "### 创建一个新的坐标参考系统对象\n",
        "\n",
        "在`pyproj`中，CRS的概念被封装在一个同名的类`CRS`中。该类的对象可以通过不同的方式进行参数化。最简单的方法可能是使用[PROJ4字符串](https://proj.org/usage/quickstart.html)，这是一种合成且富有表现力的字符串，包含一组参数。这可以通过静态方法`from_proj4`来实现："
      ]
    },
    {
      "cell_type": "markdown",
      "source": [],
      "metadata": {
        "id": "eI8Vn4pPX-QT"
      }
    },
    {
      "cell_type": "code",
      "execution_count": 1,
      "metadata": {
        "colab": {
          "base_uri": "https://localhost:8080/"
        },
        "id": "ocHW5Oiwj1fz",
        "outputId": "8b4211a6-2984-4acb-cf71-67955da20d85"
      },
      "outputs": [
        {
          "output_type": "execute_result",
          "data": {
            "text/plain": [
              "<Projected CRS: +proj=hammer +lat_0=0 +lon_0=0 +datum=WGS84 +units ...>\n",
              "Name: unknown\n",
              "Axis Info [cartesian]:\n",
              "- E[east]: Easting (metre)\n",
              "- N[north]: Northing (metre)\n",
              "Area of Use:\n",
              "- undefined\n",
              "Coordinate Operation:\n",
              "- name: unknown\n",
              "- method: PROJ hammer\n",
              "Datum: World Geodetic System 1984\n",
              "- Ellipsoid: WGS 84\n",
              "- Prime Meridian: Greenwich"
            ]
          },
          "metadata": {},
          "execution_count": 1
        }
      ],
      "source": [
        "from pyproj import CRS  # 导入 pyproj 库中的 CRS 类\n",
        "\n",
        "# 使用 from_proj4 方法创建一个 Hammer 投影的坐标参考系对象\n",
        "# \"+proj=hammer\" 指定使用 Hammer 投影\n",
        "# \"+lat_0=0 +lon_0=0\" 表示投影的中心纬度和经度分别为 0 度（赤道和本初子午线）\n",
        "# \"+datum=WGS84\" 指定使用 WGS84 大地基准\n",
        "# \"+units=m\" 表示单位为米\n",
        "# \"+no_defs\" 表示不使用默认参数\n",
        "# \"+wktext\" 表示将 Proj.4 字符串保存为 well-known text (WKT) 形式\n",
        "hammer = CRS.from_proj4(\"+proj=hammer +lat_0=0 +lon_0=0 +datum=WGS84 +units=m +no_defs +wktext\")\n",
        "\n",
        "# 打印 Hammer 投影的 CRS 对象\n",
        "hammer\n"
      ]
    },
    {
      "cell_type": "markdown",
      "metadata": {
        "id": "X1mXjG0kj1f0"
      },
      "source": [
        "尽管简单，PROJ字符串仍然存在一些模糊之处。初始化`CRS`对象的一个更正式和精确的方法是使用[OGC已知文本](https://www.opengeospatial.org/standards/wkt-crs)（WKT）定义。这种方法虽然更冗长，但也更准确。以下示例基于WGS 84基准系列初始化一个新的地理系统对象："
      ]
    },
    {
      "cell_type": "code",
      "execution_count": 3,
      "metadata": {
        "id": "R8GIC05hj1f1",
        "outputId": "cb94c424-b778-45a6-aa67-48d560e151cd",
        "colab": {
          "base_uri": "https://localhost:8080/"
        }
      },
      "outputs": [
        {
          "output_type": "execute_result",
          "data": {
            "text/plain": [
              "<Geographic 2D CRS: EPSG:4326>\n",
              "Name: WGS 84\n",
              "Axis Info [ellipsoidal]:\n",
              "- Lat[north]: Geodetic latitude (degree)\n",
              "- Lon[east]: Geodetic longitude (degree)\n",
              "Area of Use:\n",
              "- undefined\n",
              "Datum: World Geodetic System 1984\n",
              "- Ellipsoid: WGS 84\n",
              "- Prime Meridian: Greenwich"
            ]
          },
          "metadata": {},
          "execution_count": 3
        }
      ],
      "source": [
        "geographic = CRS.from_wkt(\n",
        "\t'''GEOGCS[\n",
        "\t\t\"WGS 84\",\n",
        "\t\tDATUM[\n",
        "\t\t\t\"WGS_1984\",\n",
        "\t\t\tSPHEROID[\n",
        "\t\t\t\t\"WGS 84\",6378137,298.257223563,\n",
        "\t\t\t\tAUTHORITY[\"EPSG\",\"7030\"]\n",
        "\t\t\t],\n",
        "\t\t\tAUTHORITY[\"EPSG\",\"6326\"]\n",
        "\t\t],\n",
        "\t\tPRIMEM[\"Greenwich\",0,AUTHORITY[\"EPSG\",\"8901\"]],\n",
        "\t\tUNIT[\"degree\",0.0174532925199433,AUTHORITY[\"EPSG\",\"9122\"]],\n",
        "\t\tAUTHORITY[\"EPSG\",\"4326\"]\n",
        "\t]''')\n",
        "geographic"
      ]
    },
    {
      "cell_type": "markdown",
      "metadata": {
        "id": "GD_B_sXMtgZH"
      },
      "source": [
        "这段代码的作用是使用OGC已知文本（WKT）定义创建一个地理坐标参考系统（CRS）对象，具体使用的是WGS 84基准系列。下面是对代码的逐步解释：\n",
        "\n",
        "1. **导入库**：\n",
        "   ```python\n",
        "   from pyproj import CRS\n",
        "   ```\n",
        "   这里使用了`pyproj`库中的`CRS`类。\n",
        "\n",
        "2. **创建CRS对象**：\n",
        "   ```python\n",
        "   geographic = CRS.from_wkt('''...''')\n",
        "   ```\n",
        "   `CRS.from_wkt()`方法用于根据提供的WKT字符串创建一个新的CRS对象。\n",
        "\n",
        "3. **WKT字符串**：\n",
        "   ```plaintext\n",
        "   GEOGCS[\n",
        "       \"WGS 84\",\n",
        "       DATUM[\n",
        "           \"WGS_1984\",\n",
        "           SPHEROID[\n",
        "               \"WGS 84\",6378137,298.257223563,\n",
        "               AUTHORITY[\"EPSG\",\"7030\"]\n",
        "           ],\n",
        "           AUTHORITY[\"EPSG\",\"6326\"]\n",
        "       ],\n",
        "       PRIMEM[\"Greenwich\",0,AUTHORITY[\"EPSG\",\"8901\"]],\n",
        "       UNIT[\"degree\",0.0174532925199433,AUTHORITY[\"EPSG\",\"9122\"]],\n",
        "       AUTHORITY[\"EPSG\",\"4326\"]\n",
        "   ]\n",
        "   ```\n",
        "   - **GEOGCS**：表示这是一个地理坐标系统。\n",
        "   - **\"WGS 84\"**：这是该坐标系统的名称。\n",
        "   - **DATUM**：定义坐标系统的基准面，这里使用的是\"WGS_1984\"。\n",
        "   - **SPHEROID**：定义了近似地球形状的椭球体，其中6378137是长半轴，298.257223563是扁率，`AUTHORITY[\"EPSG\",\"7030\"]`指明了这个椭球体的标准。\n",
        "   - **PRIMEM**：定义了主子午线，这里是格林威治子午线，值为0度。\n",
        "   - **UNIT**：定义了使用的单位，这里是度（degree），值为0.0174532925199433弧度。\n",
        "   - **AUTHORITY**：标识该CRS的标准代码，这里使用的是EPSG代码4326，表示WGS 84地理坐标系统。\n",
        "\n",
        "4. **输出CRS对象**：\n",
        "   ```python\n",
        "   geographic\n",
        "   ```\n",
        "   这行代码将创建的CRS对象赋值给变量`geographic`，并可以通过在交互式环境中输入`geographic`来查看其详细信息。\n",
        "\n",
        "总体来说，这段代码创建了一个基于WGS 84基准的地理坐标参考系统对象，可以用于地理信息系统（GIS）中的坐标转换和空间分析。"
      ]
    },
    {
      "cell_type": "markdown",
      "metadata": {
        "id": "dS5ZvyJ0j1f2"
      },
      "source": [
        "请注意，这个坐标参考系统并没有定义投影，它应该仅仅指代经度和纬度。然而，大多数GIS程序将该CRS解释为包含等距投影（Equirectangular projection）（在进行距离或面积计算时要特别注意）。\n",
        "\n",
        "欧洲石油勘探集团（EPSG）是一个支持欧洲石油和天然气行业的科学机构。它开发了一个广泛的数据库，包含参数和完整的空间参考系统（SRS）定义，以帮助行业标准化其制图过程。EPSG为数据库中的每个条目分配了一个唯一的数字标识符，这使得快速引用特定、明确定义的SRS变得相当方便。大多数开源地理空间软件支持EPSG标识符作为快速参考（有些甚至强制使用它）。像[epsg.io](https://epsg.io)这样的工具提供了快速、便捷的EPSG代码验证。PROJ和GDAL也不例外，因此`CRS`对象也可以使用EPSG标识符进行初始化。"
      ]
    },
    {
      "cell_type": "code",
      "execution_count": 5,
      "metadata": {
        "id": "osjZmuIFj1f2",
        "outputId": "e3574b97-a548-4b5f-84fe-b2b56a7f5424",
        "colab": {
          "base_uri": "https://localhost:8080/"
        }
      },
      "outputs": [
        {
          "output_type": "execute_result",
          "data": {
            "text/plain": [
              "<Projected CRS: EPSG:2384>\n",
              "Name: Xian 1980 / 3-degree Gauss-Kruger CM 117E\n",
              "Axis Info [cartesian]:\n",
              "- X[north]: Northing (metre)\n",
              "- Y[east]: Easting (metre)\n",
              "Area of Use:\n",
              "- name: China - onshore between 115°30'E and 118°30'E.\n",
              "- bounds: (115.5, 22.6, 118.5, 49.88)\n",
              "Coordinate Operation:\n",
              "- name: Gauss-Kruger CM 117E\n",
              "- method: Transverse Mercator\n",
              "Datum: Xian 1980\n",
              "- Ellipsoid: IAG 1975\n",
              "- Prime Meridian: Greenwich"
            ]
          },
          "metadata": {},
          "execution_count": 5
        }
      ],
      "source": [
        "# 从EPSG代码22174创建高斯-克吕格投影的CRS对象\n",
        "gauss_krueger_arg = CRS.from_epsg(2384)\n",
        "\n",
        "# 输出创建的CRS对象\n",
        "gauss_krueger_arg\n"
      ]
    },
    {
      "cell_type": "markdown",
      "metadata": {
        "id": "zRH6B7Pxj1f3"
      },
      "source": [
        "还有其他方法可以初始化`CRS`对象，但这些是最常见的方法。\n",
        "\n",
        "可以将`CRS`导出为不同格式，方便其他软件读取或使用。例如，`to_wkt`方法可以生成WKT字符串："
      ]
    },
    {
      "cell_type": "code",
      "execution_count": 6,
      "metadata": {
        "id": "-jolrY_Xj1f3",
        "outputId": "c6ebd8fb-1e79-41b8-ea16-88a23fe62661",
        "colab": {
          "base_uri": "https://localhost:8080/"
        }
      },
      "outputs": [
        {
          "output_type": "stream",
          "name": "stdout",
          "text": [
            "PROJCRS[\"Xian 1980 / 3-degree Gauss-Kruger CM 117E\",\n",
            "    BASEGEOGCRS[\"Xian 1980\",\n",
            "        DATUM[\"Xian 1980\",\n",
            "            ELLIPSOID[\"IAG 1975\",6378140,298.257,\n",
            "                LENGTHUNIT[\"metre\",1]]],\n",
            "        PRIMEM[\"Greenwich\",0,\n",
            "            ANGLEUNIT[\"degree\",0.0174532925199433]],\n",
            "        ID[\"EPSG\",4610]],\n",
            "    CONVERSION[\"Gauss-Kruger CM 117E\",\n",
            "        METHOD[\"Transverse Mercator\",\n",
            "            ID[\"EPSG\",9807]],\n",
            "        PARAMETER[\"Latitude of natural origin\",0,\n",
            "            ANGLEUNIT[\"degree\",0.0174532925199433],\n",
            "            ID[\"EPSG\",8801]],\n",
            "        PARAMETER[\"Longitude of natural origin\",117,\n",
            "            ANGLEUNIT[\"degree\",0.0174532925199433],\n",
            "            ID[\"EPSG\",8802]],\n",
            "        PARAMETER[\"Scale factor at natural origin\",1,\n",
            "            SCALEUNIT[\"unity\",1],\n",
            "            ID[\"EPSG\",8805]],\n",
            "        PARAMETER[\"False easting\",500000,\n",
            "            LENGTHUNIT[\"metre\",1],\n",
            "            ID[\"EPSG\",8806]],\n",
            "        PARAMETER[\"False northing\",0,\n",
            "            LENGTHUNIT[\"metre\",1],\n",
            "            ID[\"EPSG\",8807]]],\n",
            "    CS[Cartesian,2],\n",
            "        AXIS[\"northing (X)\",north,\n",
            "            ORDER[1],\n",
            "            LENGTHUNIT[\"metre\",1]],\n",
            "        AXIS[\"easting (Y)\",east,\n",
            "            ORDER[2],\n",
            "            LENGTHUNIT[\"metre\",1]],\n",
            "    USAGE[\n",
            "        SCOPE[\"Cadastre, engineering survey, topographic mapping (large scale).\"],\n",
            "        AREA[\"China - onshore between 115°30'E and 118°30'E.\"],\n",
            "        BBOX[22.6,115.5,49.88,118.5]],\n",
            "    ID[\"EPSG\",2384]]\n"
          ]
        }
      ],
      "source": [
        "# 打印 gauss_krueger_arg 对象的 WKT（Well-Known Text）字符串表示\n",
        "# 使用 pretty=True 参数使输出格式更加美观，便于阅读\n",
        "print(gauss_krueger_arg.to_wkt(pretty=True))\n"
      ]
    },
    {
      "cell_type": "markdown",
      "metadata": {
        "id": "nIKPIl7Mj1f3"
      },
      "source": [
        "最后一个例子输出 PROJ4 字符串。注意 `pyproj` 在使用此方法时会提示可能会丢失信息。"
      ]
    },
    {
      "cell_type": "code",
      "execution_count": 8,
      "metadata": {
        "id": "pnqTjxX1j1f4",
        "outputId": "c50ccf61-e157-4de7-e485-f43cb93f89a3",
        "colab": {
          "base_uri": "https://localhost:8080/",
          "height": 36
        }
      },
      "outputs": [
        {
          "output_type": "execute_result",
          "data": {
            "text/plain": [
              "'+proj=tmerc +lat_0=0 +lon_0=117 +k=1 +x_0=500000 +y_0=0 +ellps=IAU76 +units=m +no_defs +type=crs'"
            ],
            "application/vnd.google.colaboratory.intrinsic+json": {
              "type": "string"
            }
          },
          "metadata": {},
          "execution_count": 8
        }
      ],
      "source": [
        "gauss_krueger_arg.to_proj4()"
      ]
    },
    {
      "cell_type": "markdown",
      "metadata": {
        "id": "VuunE-LotgZK"
      },
      "source": [
        "这段代码使用 `to_proj4()` 方法将 `gauss_krueger_arg` 对象转换为 PROJ4 字符串格式。PROJ4 字符串是一种简洁且富有表现力的字符串，包含了一组用于定义坐标参考系统参数的信息。这种格式常用于地理信息系统（GIS）和其他地理数据处理工具中。通过调用此方法，你可以获取与 `gauss_krueger_arg` 对应的 PROJ4 字符串，以便于在需要时快速引用该坐标参考系统。"
      ]
    },
    {
      "cell_type": "markdown",
      "metadata": {
        "id": "izNvaTDVj1f4"
      },
      "source": [
        "### 创建和使用 CRS 转换\n",
        "\n",
        "通过参数化 CRS，可以在不同的坐标参考系统之间转换坐标。在 `pyproj` 中，这一功能是通过 `Transformer` 类实现的。该类以输入 CRS 和输出 CRS 进行初始化。以下代码定义了地理坐标和采用高斯-克吕格投影的阿根廷 CRS 之间的转换："
      ]
    },
    {
      "cell_type": "code",
      "execution_count": 10,
      "metadata": {
        "id": "QRM7e8Xij1f4",
        "outputId": "664e4919-af25-46f5-990b-4c56198983d3",
        "colab": {
          "base_uri": "https://localhost:8080/"
        }
      },
      "outputs": [
        {
          "output_type": "execute_result",
          "data": {
            "text/plain": [
              "<Concatenated Operation Transformer: pipeline>\n",
              "Description: Inverse of POSGAR 98 to WGS 84 (1) + Argentina zone 4\n",
              "Area of Use:\n",
              "- name: Argentina - onshore and offshore.\n",
              "- bounds: (-73.59, -58.41, -52.63, -21.78)"
            ]
          },
          "metadata": {},
          "execution_count": 10
        }
      ],
      "source": [
        "from pyproj import CRS, Transformer\n",
        "\n",
        "# 定义地理坐标系（WGS 84）\n",
        "geographic = CRS.from_wkt(\n",
        "    '''GEOGCS[\n",
        "        \"WGS 84\",\n",
        "        DATUM[\n",
        "            \"WGS_1984\",\n",
        "            SPHEROID[\n",
        "                \"WGS 84\",6378137,298.257223563,\n",
        "                AUTHORITY[\"EPSG\",\"7030\"]\n",
        "            ],\n",
        "            AUTHORITY[\"EPSG\",\"6326\"]\n",
        "        ],\n",
        "        PRIMEM[\"Greenwich\",0,AUTHORITY[\"EPSG\",\"8901\"]],\n",
        "        UNIT[\"degree\",0.0174532925199433,AUTHORITY[\"EPSG\",\"9122\"]],\n",
        "        AUTHORITY[\"EPSG\",\"4326\"]\n",
        "    ]'''\n",
        ")\n",
        "\n",
        "# 定义高斯-克吕格投影坐标系（EPSG:22174）\n",
        "gauss_krueger_arg = CRS.from_epsg(22174)\n",
        "\n",
        "# 创建 Transformer 对象，用于将地理坐标转换为高斯-克吕格坐标\n",
        "transformArgentina = Transformer.from_crs(geographic, gauss_krueger_arg)\n",
        "\n",
        "# 输出 Transformer 对象以查看其属性和配置\n",
        "transformArgentina\n"
      ]
    },
    {
      "cell_type": "markdown",
      "metadata": {
        "id": "8Ox6D7eRj1f4"
      },
      "source": [
        "*Puente de la Mujer* 是布宜诺斯艾利斯的现代地标之一。相对于最新的WGS84 *基准*，它的坐标大约是34.61º S和58.37º W。让我们使用 `transform` 方法检查其在阿根廷坐标系统中的坐标。"
      ]
    },
    {
      "cell_type": "code",
      "execution_count": 11,
      "metadata": {
        "id": "RIlqBapXj1f5",
        "outputId": "dfdce5d5-a1aa-489f-b81f-d9b5d862a330",
        "colab": {
          "base_uri": "https://localhost:8080/"
        }
      },
      "outputs": [
        {
          "output_type": "execute_result",
          "data": {
            "text/plain": [
              "(6160876.2523681605, 4924824.978622343)"
            ]
          },
          "metadata": {},
          "execution_count": 11
        }
      ],
      "source": [
        "transformArgentina.transform(-34.61, -58.37) #latitude comes first"
      ]
    },
    {
      "cell_type": "markdown",
      "metadata": {
        "id": "MIbrUpz2j1f5"
      },
      "source": [
        "回顾上文，在大多数地理坐标参考系统（如WGS84）中，纬度优先，而在笛卡尔坐标中，通常是东坐标（*xx* 轴）优先。\n",
        "\n",
        "问题：该系统的中央子午线位于布宜诺斯艾利斯以东2º，为什么东坐标会如此高？"
      ]
    },
    {
      "cell_type": "markdown",
      "metadata": {
        "id": "ubgjcezIj1f5"
      },
      "source": [
        "### 实际例子\n",
        "\n",
        "在许多情况下，处理他人创建的空间数据是必要的。因此，清楚地识别这些数据的空间参考坐标系统（SCRS）非常重要，以确保它与分析中使用的坐标参考系统（CRS）相匹配。\n",
        "\n",
        "下面的示例打开一个包含阿根廷边界的数据集，并检查其CRS。这种类型的数据在[矢量数据](04-vector-data.ipynb)部分中进行了详细介绍。"
      ]
    },
    {
      "cell_type": "code",
      "source": [],
      "metadata": {
        "id": "xal71TeczbtO"
      },
      "execution_count": null,
      "outputs": []
    },
    {
      "cell_type": "code",
      "source": [
        "from google.colab import drive\n",
        "drive.mount('/content/drive')"
      ],
      "metadata": {
        "colab": {
          "base_uri": "https://localhost:8080/"
        },
        "id": "WYjptylSzcc8",
        "outputId": "54afbf96-80e1-494d-b836-dfe700f9f8f5"
      },
      "execution_count": null,
      "outputs": [
        {
          "output_type": "stream",
          "name": "stdout",
          "text": [
            "Mounted at /content/drive\n"
          ]
        }
      ]
    },
    {
      "cell_type": "code",
      "source": [
        "import os\n",
        "\n",
        "# 创建名为 'data' 的目录\n",
        "os.makedirs('data', exist_ok=True)\n",
        "\n",
        "print(\"目录 'data' 已创建！\")\n"
      ],
      "metadata": {
        "colab": {
          "base_uri": "https://localhost:8080/"
        },
        "id": "nbZ3KgF51HPw",
        "outputId": "31dd599e-7643-408d-e7df-6d4771a56977"
      },
      "execution_count": 12,
      "outputs": [
        {
          "output_type": "stream",
          "name": "stdout",
          "text": [
            "目录 'data' 已创建！\n"
          ]
        }
      ]
    },
    {
      "cell_type": "code",
      "source": [
        "import zipfile\n",
        "import requests\n",
        "import os\n",
        "\n",
        "# 下载 ZIP 文件\n",
        "url = \"https://github.com/xyt556/Data/raw/main/data.zip\"  # 使用原始链接\n",
        "response = requests.get(url)\n",
        "\n",
        "# 保存 ZIP 文件到当前工作目录\n",
        "zip_file_path = \"data.zip\"\n",
        "with open(zip_file_path, 'wb') as file:\n",
        "    file.write(response.content)\n",
        "\n",
        "# 解压 ZIP 文件\n",
        "with zipfile.ZipFile(zip_file_path, 'r') as zip_ref:\n",
        "    zip_ref.extractall()  # 解压到 \"data\" 目录\n",
        "\n",
        "# 检查解压后的文件\n",
        "print(\"解压缩完成！解压后的文件：\")\n",
        "print(os.listdir(\"data\"))\n"
      ],
      "metadata": {
        "colab": {
          "base_uri": "https://localhost:8080/"
        },
        "id": "JiJXMaG5zgAs",
        "outputId": "918cac17-ebe6-418c-a10d-4dbd8c4f7194"
      },
      "execution_count": 13,
      "outputs": [
        {
          "output_type": "stream",
          "name": "stdout",
          "text": [
            "解压缩完成！解压后的文件：\n",
            "['srtm', 'argentina.gpkg', 'populated_places.3857.gpkg', 'countries.json', 'populated_places.json', 'shape', 'romania.gpkg', 'totalozone-station-226.json.gz', 'rivers_lake_centerlines.gpkg', 'populated_places.gpkg', 'airport.csv', 'rivers.geojson', 'rivers_lake_centerlines.json', 'README.md', 'rivers_lake_centerlines.3857.gpkg', 'populated_places.3857.json', 'ne_110m_admin_0_countries', 'output', 'countries.gpkg', 'woudc-stations.geojson', 'totalozone-station-493.json.gz', 'world.rgb.tif', '04-ogr-out.xsd', 'countries.yml', 'world.geojson', 'countries.3857.gpkg', 'woudc-stations.yml', 'stadium.csv', '04-ogr-out.gml']\n"
          ]
        }
      ]
    },
    {
      "cell_type": "code",
      "source": [
        "!pip install -q fiona"
      ],
      "metadata": {
        "id": "ktgoxw60v-Uk",
        "colab": {
          "base_uri": "https://localhost:8080/"
        },
        "outputId": "e0687f40-3627-415f-efc1-46a1f24c4e06"
      },
      "execution_count": 14,
      "outputs": [
        {
          "output_type": "stream",
          "name": "stdout",
          "text": [
            "\u001b[2K     \u001b[90m━━━━━━━━━━━━━━━━━━━━━━━━━━━━━━━━━━━━━━━━\u001b[0m \u001b[32m56.6/56.6 kB\u001b[0m \u001b[31m2.0 MB/s\u001b[0m eta \u001b[36m0:00:00\u001b[0m\n",
            "\u001b[2K   \u001b[90m━━━━━━━━━━━━━━━━━━━━━━━━━━━━━━━━━━━━━━━━\u001b[0m \u001b[32m17.3/17.3 MB\u001b[0m \u001b[31m81.8 MB/s\u001b[0m eta \u001b[36m0:00:00\u001b[0m\n",
            "\u001b[?25h"
          ]
        }
      ]
    },
    {
      "cell_type": "code",
      "execution_count": 15,
      "metadata": {
        "id": "mjogmPz1j1f5",
        "colab": {
          "base_uri": "https://localhost:8080/",
          "height": 73
        },
        "outputId": "07c44950-bb1e-4705-c997-f2a6c5177b78"
      },
      "outputs": [
        {
          "output_type": "execute_result",
          "data": {
            "text/plain": [
              "'GEOGCS[\"WGS 84\",DATUM[\"WGS_1984\",SPHEROID[\"WGS 84\",6378137,298.257223563,AUTHORITY[\"EPSG\",\"7030\"]],AUTHORITY[\"EPSG\",\"6326\"]],PRIMEM[\"Greenwich\",0,AUTHORITY[\"EPSG\",\"8901\"]],UNIT[\"degree\",0.0174532925199433,AUTHORITY[\"EPSG\",\"9122\"]],AXIS[\"Latitude\",NORTH],AXIS[\"Longitude\",EAST],AUTHORITY[\"EPSG\",\"4326\"]]'"
            ],
            "application/vnd.google.colaboratory.intrinsic+json": {
              "type": "string"
            }
          },
          "metadata": {},
          "execution_count": 15
        }
      ],
      "source": [
        "import fiona  # 导入 Fiona 库，用于读取和写入地理空间数据\n",
        "\n",
        "# 打开一个名为 'argentina.gpkg' 的地理空间数据集\n",
        "src_borders = fiona.open('./data/argentina.gpkg')\n",
        "\n",
        "# 获取数据集的坐标参考系统（CRS）的 WKT（Well-Known Text）表示\n",
        "src_borders.crs_wkt\n"
      ]
    },
    {
      "cell_type": "code",
      "execution_count": null,
      "metadata": {
        "id": "ikIONxcgj1f6"
      },
      "outputs": [],
      "source": []
    },
    {
      "cell_type": "markdown",
      "metadata": {
        "id": "01XtIlPej1f6"
      },
      "source": [
        "这个数据集仅包含地理坐标，引用了WGS84基准系列。`longlat`参数意味着在绘制数据或直接用于空间分析时应用了[等距投影](https://en.wikipedia.org/wiki/Equirectangular_projection)。这种投影也被称为“平面卡尔投影”。\n",
        "\n",
        "在实践中，这意味着什么呢？最好的方法是绘制数据并查看其效果。使用`matplotlib`库是一种简单的方法，基本上将一系列坐标对传递给X-Y图。在这个示例中，使用`shapely`库中的`shape`方法从上面打开的文件中获取坐标对。"
      ]
    },
    {
      "cell_type": "code",
      "execution_count": 16,
      "metadata": {
        "id": "6EbTW-FCj1f7",
        "scrolled": true,
        "outputId": "0b369970-80ca-464b-fb6f-7bc9b9273f92",
        "colab": {
          "base_uri": "https://localhost:8080/",
          "height": 427
        }
      },
      "outputs": [
        {
          "output_type": "execute_result",
          "data": {
            "text/plain": [
              "Text(0.5, 1.0, 'Argentina - Equirectangular projection')"
            ]
          },
          "metadata": {},
          "execution_count": 16
        },
        {
          "output_type": "display_data",
          "data": {
            "text/plain": [
              "<Figure size 576x432 with 1 Axes>"
            ],
            "image/png": "[encoded data removed]"
          },
          "metadata": {}
        }
      ],
      "source": [
        "# 从matplotlib导入pyplot以进行绘图\n",
        "from matplotlib import pyplot as plt\n",
        "# 从shapely.geometry导入shape用于处理几何形状\n",
        "from shapely.geometry import shape\n",
        "\n",
        "# 从数据集中获取一个特征（即边界的几何数据）\n",
        "feature = next(iter(src_borders))\n",
        "# 使用shapely的shape方法将特征的几何数据转换为shapely对象\n",
        "borders = shape(feature[\"geometry\"])\n",
        "\n",
        "# 获取边界的外部坐标（x和y坐标）\n",
        "x, y = borders.geoms[0].exterior.xy\n",
        "\n",
        "# 创建一个新图形，dpi设置为90\n",
        "fig = plt.figure(1, dpi=90)\n",
        "# 添加一个子图，设置为等比例显示，以防止地图失真\n",
        "ax = fig.add_subplot(111, aspect='equal')\n",
        "# 绘制边界的外部轮廓，设置颜色、透明度、线宽和绘图顺序\n",
        "ax.plot(x, y, color='#6699cc', alpha=0.7,\n",
        "        linewidth=2, solid_capstyle='round', zorder=2)\n",
        "# 设置图形的标题\n",
        "ax.set_title('Argentina - Equirectangular projection')\n"
      ]
    },
    {
      "cell_type": "markdown",
      "metadata": {
        "id": "razQeMiJj1f7"
      },
      "source": [
        "如果分析需要不同的坐标参考系统（CRS），可以再次使用 `transformArgentina` 对象，但要记住正确的轴顺序（*纬度， 经度*）。"
      ]
    },
    {
      "cell_type": "code",
      "execution_count": 17,
      "metadata": {
        "id": "RSI6YPdsj1f7"
      },
      "outputs": [],
      "source": [
        "# 使用 transformArgentina 对象将坐标从 WGS84 转换为阿根廷 Gauss-Krüger CRS\n",
        "# 注意：坐标的顺序是 (纬度, 经度)，因此先传入 y（纬度），再传入 x（经度）\n",
        "coords_transf = transformArgentina.transform(y, x)\n"
      ]
    },
    {
      "cell_type": "code",
      "execution_count": 18,
      "metadata": {
        "id": "NZtNyNW6j1f8",
        "outputId": "b69fb3b6-ea8a-4668-bd34-a2e90b328983",
        "colab": {
          "base_uri": "https://localhost:8080/",
          "height": 458
        }
      },
      "outputs": [
        {
          "output_type": "execute_result",
          "data": {
            "text/plain": [
              "Text(0.5, 1.0, 'Argentina - Gauss-Krüger (datum POSGAR 2007)')"
            ]
          },
          "metadata": {},
          "execution_count": 18
        },
        {
          "output_type": "display_data",
          "data": {
            "text/plain": [
              "<Figure size 576x432 with 1 Axes>"
            ],
            "image/png": "[encoded data removed]"
          },
          "metadata": {}
        }
      ],
      "source": [
        "# 创建一个新的图形，设置 DPI 为 90\n",
        "fig = plt.figure(1, dpi=90)\n",
        "\n",
        "# 添加一个子图，并设置坐标轴比例为相等，确保地图不被扭曲\n",
        "ax = fig.add_subplot(111, aspect='equal')\n",
        "\n",
        "# 绘制转换后的坐标，注意 x 和 y 的顺序要反转\n",
        "# coords_transf[1] 为经度（Easting），coords_transf[0] 为纬度（Northing）\n",
        "ax.plot(coords_transf[1], coords_transf[0], color='#6699cc', alpha=0.7,\n",
        "        linewidth=2, solid_capstyle='round', zorder=2)\n",
        "\n",
        "# 设置图形标题，指明使用的是 Gauss-Krüger 投影（POSGAR 2007 数据集）\n",
        "ax.set_title('Argentina - Gauss-Krüger (datum POSGAR 2007)')\n"
      ]
    },
    {
      "cell_type": "markdown",
      "metadata": {
        "id": "p-TCSTAqj1f8"
      },
      "source": [
        "两个边界形状不相似的原因可以归因于使用的不同坐标参考系统（SRS）所引入的失真：\n",
        "\n",
        "1. **等距圆柱投影（Equirectangular Projection）**：\n",
        "   - 这种投影在经线和纬线之间保持等距，但在形状、特别是在极地和地图边缘附近的形状和距离方面会造成失真。因此，虽然它可以表示整体区域，但形状和距离的准确性可能受到影响。\n",
        "\n",
        "2. **高斯-克吕格投影（Gauss-Krüger Projection）**：\n",
        "   - 高斯-克吕格投影是一种横向墨卡托投影，旨在最小化局部区域的失真。它为像阿根廷这样的区域提供了更准确的形状和距离表示，因为其中央子午线与感兴趣区域的对齐。\n",
        "\n",
        "### 在阿根廷进行空间分析时选择SRS：\n",
        "\n",
        "- **建议**：在阿根廷进行空间分析时，通常建议选择 **高斯-克吕格投影（POSGAR 2007）**。这是因为它具有：\n",
        "  - **较低的失真**：在形状和面积上提供更准确的表示，更适合进行映射、测量和详细的空间分析。\n",
        "  - **更好的准确性**：与全球投影（如等距圆柱或WGS 84）相比，在特定区域内进行距离测量和面积计算时，准确性更高。\n",
        "\n",
        "总之，尽管等距圆柱投影可能在某些全球可视化中有用，但对于阿根廷的详细局部空间分析，高斯-克吕格投影更具优势。"
      ]
    },
    {
      "cell_type": "markdown",
      "metadata": {
        "id": "RkSHLeWBj1f8"
      },
      "source": [
        "## 结论\n",
        "\n",
        "- 在使用每个数据集之前，务必检查其坐标系统，无论是在复杂分析还是简单映射中。\n",
        "- 确保所需的所有数据集在合并之前都使用相同的空间参考系统（SRS）。\n",
        "- 在地理坐标系统中，坐标顺序可能会有些“奇怪”：纬度优先。\n",
        "- 花一些时间来确定最适合当前研究的SRS：\n",
        "  - 本地基准与全球基准的选择；\n",
        "  - 投影失真特性。"
      ]
    },
    {
      "cell_type": "markdown",
      "source": [
        "# 关于投影常用的库"
      ],
      "metadata": {
        "id": "hIpsN1oP4WYW"
      }
    },
    {
      "cell_type": "markdown",
      "source": [
        "## Pyproj\n",
        "`Pyproj` 是用于处理地理坐标系转换和投影的一个Python库，它是`Proj.4`的Python接口，提供了强大的工具来进行坐标参考系统（CRS）的定义和转换。与`GeoPandas`一起使用时，`pyproj`通常在后台进行投影和坐标转换的实际计算。\n",
        "\n",
        "### 基本概念\n",
        "在`pyproj`中，投影和坐标系统转换主要是通过以下几个关键类和方法来实现的：\n",
        "- **`CRS`**: 定义和处理坐标参考系统。\n",
        "- **`Transformer`**: 用于坐标转换。\n",
        "- **`Proj`**: 用于定义投影。\n",
        "\n",
        "### 1. `CRS`类：定义坐标参考系统\n",
        "\n",
        "#### 创建CRS\n",
        "`CRS`类用来定义坐标参考系统。可以通过EPSG代码或PROJ字符串创建CRS对象。\n",
        "\n",
        "```python\n",
        "from pyproj import CRS\n",
        "\n",
        "# 通过EPSG代码创建CRS (WGS84)\n",
        "crs_wgs84 = CRS.from_epsg(4326)\n",
        "print(crs_wgs84)\n",
        "\n",
        "# 通过PROJ字符串创建CRS (Web墨卡托)\n",
        "crs_web_mercator = CRS.from_proj4(\"+proj=merc +lon_0=0 +k=1 +x_0=0 +y_0=0 +datum=WGS84\")\n",
        "print(crs_web_mercator)\n",
        "```\n",
        "\n",
        "#### 查看CRS信息\n",
        "你可以使用`CRS`对象来查看具体的坐标系信息。\n",
        "\n",
        "```python\n",
        "# 查看CRS的具体信息\n",
        "print(crs_wgs84.to_string())  # 返回 EPSG:4326\n",
        "print(crs_web_mercator.to_proj4())  # 返回 PROJ.4字符串\n",
        "```\n",
        "\n",
        "### 2. `Transformer`类：坐标转换\n",
        "\n",
        "#### 创建Transformer\n",
        "要在两个坐标系之间进行转换，使用`Transformer`类。你可以指定源CRS和目标CRS来进行转换。\n",
        "\n",
        "```python\n",
        "from pyproj import Transformer\n",
        "\n",
        "# 创建一个从WGS84 (EPSG:4326) 到 Web墨卡托 (EPSG:3857) 的转换器\n",
        "transformer = Transformer.from_crs(\"EPSG:4326\", \"EPSG:3857\", always_xy=True)\n",
        "\n",
        "# 进行坐标转换 (经度, 纬度 转换到 x, y)\n",
        "x, y = transformer.transform(120.0, 30.0)\n",
        "print(x, y)\n",
        "```\n",
        "`always_xy=True` 参数确保输入的顺序始终是 (经度, 纬度)，输出是 (x, y)。\n",
        "\n",
        "#### 逆向转换\n",
        "你也可以使用`Transformer`类来进行逆向转换。\n",
        "\n",
        "```python\n",
        "# 进行逆向转换 (x, y 转换回 经度, 纬度)\n",
        "transformer_reverse = Transformer.from_crs(\"EPSG:3857\", \"EPSG:4326\", always_xy=True)\n",
        "lon, lat = transformer_reverse.transform(x, y)\n",
        "print(lon, lat)\n",
        "```\n",
        "\n",
        "### 3. `Proj`类：定义投影\n",
        "\n",
        "`Proj`类主要用于定义一个具体的投影对象。虽然`Transformer`类更常用于实际的坐标转换，但`Proj`仍然可以直接用于一些简单的转换任务。\n",
        "\n",
        "```python\n",
        "from pyproj import Proj\n",
        "\n",
        "# 定义Web墨卡托投影\n",
        "proj_web_mercator = Proj(\"epsg:3857\")\n",
        "\n",
        "# 转换经纬度为Web墨卡托坐标\n",
        "x, y = proj_web_mercator(120.0, 30.0)\n",
        "print(x, y)\n",
        "\n",
        "# 逆向转换：从Web墨卡托坐标返回到经纬度\n",
        "lon, lat = proj_web_mercator(x, y, inverse=True)\n",
        "print(lon, lat)\n",
        "```\n",
        "\n",
        "### 4. 批量坐标转换\n",
        "如果你有多个坐标点需要转换，可以通过`Transformer`进行批量转换。\n",
        "\n",
        "```python\n",
        "# 批量转换经纬度坐标\n",
        "coords = [(120.0, 30.0), (121.0, 31.0), (122.0, 32.0)]\n",
        "x_y = transformer.transform([lon for lon, lat in coords], [lat for lon, lat in coords])\n",
        "print(x_y)\n",
        "```\n",
        "\n",
        "### 5. 使用`pyproj`处理大地测量问题\n",
        "`pyproj`还支持大地测量计算，如测量两点之间的距离、方位角等。\n",
        "\n",
        "```python\n",
        "from pyproj import Geod\n",
        "\n",
        "# 定义一个大地测量对象，使用WGS84椭球\n",
        "geod = Geod(ellps=\"WGS84\")\n",
        "\n",
        "# 计算两点之间的距离和方位角\n",
        "lon1, lat1 = 120.0, 30.0\n",
        "lon2, lat2 = 121.0, 31.0\n",
        "azimuth1, azimuth2, distance = geod.inv(lon1, lat1, lon2, lat2)\n",
        "print(f\"方位角: {azimuth1}, 距离: {distance} 米\")\n",
        "```\n",
        "\n",
        "### 6. 常用的坐标系（CRS）\n",
        "`pyproj`支持使用标准的EPSG代码来定义CRS。以下是一些常用的EPSG代码：\n",
        "- **EPSG:4326**: WGS 84（地理坐标系，单位为度）。\n",
        "- **EPSG:3857**: Web墨卡托（常用于在线地图，单位为米）。\n",
        "- **EPSG:32633**: WGS 84 UTM zone 33N（投影坐标系，单位为米）。\n",
        "\n",
        "### 总结\n",
        "`pyproj`是一个处理坐标转换的强大工具。通过`CRS`类来定义坐标参考系统，通过`Transformer`类进行坐标转换，并可以处理复杂的大地测量计算。它不仅能用于单点转换，还能支持批量转换和逆向转换，广泛应用于各种地理信息系统（GIS）项目。"
      ],
      "metadata": {
        "id": "ThsE7h3x4QNE"
      }
    },
    {
      "cell_type": "code",
      "source": [
        "from pyproj import Proj\n",
        "\n",
        "# 定义Web墨卡托投影\n",
        "proj_web_mercator = Proj(\"epsg:2363\")\n",
        "\n",
        "# 转换经纬度为Web墨卡托坐标\n",
        "x, y = proj_web_mercator(117.2, 34.0)\n",
        "print(x, y)\n",
        "\n",
        "# 逆向转换：从Web墨卡托坐标返回到经纬度\n",
        "lon, lat = proj_web_mercator(x, y, inverse=True)\n",
        "print(lon, lat)"
      ],
      "metadata": {
        "colab": {
          "base_uri": "https://localhost:8080/"
        },
        "id": "-3UbyegFc_P8",
        "outputId": "2bdb40ba-7e4c-488f-f657-9e8aa42724f5"
      },
      "execution_count": 21,
      "outputs": [
        {
          "output_type": "stream",
          "name": "stdout",
          "text": [
            "39518476.980102025 3763681.229682899\n",
            "117.20000000000003 34.0\n"
          ]
        }
      ]
    },
    {
      "cell_type": "markdown",
      "source": [
        "## Geopandas\n",
        "在`GeoPandas`中，处理投影和坐标系转换是非常重要的一部分，特别是在处理地理空间数据时。`GeoPandas`提供了便捷的方法来处理地理数据的投影和坐标系转换，主要是通过以下几个关键属性和方法：\n",
        "\n",
        "### 1. 坐标系（CRS）\n",
        "每个`GeoDataFrame`都有一个坐标参考系统（CRS），它定义了地理数据的投影。这个坐标系存储在`GeoDataFrame`的`crs`属性中。\n",
        "\n",
        "#### 查看坐标系\n",
        "```python\n",
        "import geopandas as gpd\n",
        "\n",
        "# 读取一个Shapefile\n",
        "gdf = gpd.read_file('data.shp')\n",
        "\n",
        "# 查看当前的CRS\n",
        "print(gdf.crs)\n",
        "```\n",
        "如果`GeoDataFrame`中没有定义CRS，`crs`会返回`None`，这意味着地理数据的坐标系不明确。\n",
        "\n",
        "#### 设置坐标系\n",
        "如果你的数据没有坐标系，但你知道它应该使用什么坐标系，可以用`set_crs()`来显式指定：\n",
        "```python\n",
        "# 设置坐标系为WGS84 (EPSG:4326)\n",
        "gdf = gdf.set_crs(epsg=4326)\n",
        "```\n",
        "\n",
        "### 2. 投影和坐标系转换\n",
        "要将数据从一个坐标系转换到另一个，使用`to_crs()`方法。这是进行坐标系转换的主要方法。\n",
        "\n",
        "#### 转换坐标系\n",
        "假设你有一个`GeoDataFrame`，其坐标系是WGS84（EPSG:4326），你希望将它转换为Web墨卡托投影（EPSG:3857）：\n",
        "```python\n",
        "# 将WGS84 (EPSG:4326)转换为Web墨卡托 (EPSG:3857)\n",
        "gdf_projected = gdf.to_crs(epsg=3857)\n",
        "```\n",
        "\n",
        "你还可以使用完整的坐标系定义而不是EPSG代码：\n",
        "```python\n",
        "# 使用坐标系定义字符串\n",
        "gdf_projected = gdf.to_crs('+proj=utm +zone=33 +datum=WGS84')\n",
        "```\n",
        "\n",
        "### 3. 坐标系定义（CRS格式）\n",
        "`GeoPandas`支持两种定义坐标系的方式：\n",
        "- **EPSG代码**: 例如EPSG:4326表示WGS84。\n",
        "- **proj4字符串**: 例如`\"+proj=utm +zone=33 +datum=WGS84\"`。\n",
        "\n",
        "#### 常见的EPSG代码\n",
        "- **EPSG:4326**: WGS84（广泛使用的地理坐标系，单位为度）。\n",
        "- **EPSG:3857**: Web墨卡托（用于大多数在线地图，单位为米）。\n",
        "- **EPSG:32633**: WGS84 UTM zone 33N（一个常用的投影坐标系，单位为米）。\n",
        "\n",
        "### 4. 坐标转换示例\n",
        "假设你有一个数据集，其坐标系是WGS84，你希望将其转换为UTM坐标系并保存到新的文件：\n",
        "```python\n",
        "# 读取WGS84坐标系的Shapefile\n",
        "gdf = gpd.read_file('data.shp')\n",
        "\n",
        "# 检查当前CRS\n",
        "print(gdf.crs)\n",
        "\n",
        "# 将数据转换为UTM zone 33N (EPSG:32633)\n",
        "gdf_utm = gdf.to_crs(epsg=32633)\n",
        "\n",
        "# 保存到新的Shapefile\n",
        "gdf_utm.to_file('data_utm.shp')\n",
        "```\n",
        "\n",
        "### 5. 检查和转换坐标\n",
        "在实际操作中，确保你的数据都在相同的投影下是很重要的。如果你尝试对不同投影下的`GeoDataFrame`进行空间分析或绘图，可能会得到错误的结果。因此，在合并、空间分析或可视化之前，确保所有数据使用相同的坐标系。\n",
        "\n",
        "### 6. CRS匹配\n",
        "你可以使用CRS来匹配两个`GeoDataFrame`的坐标系：\n",
        "```python\n",
        "# 检查两个GeoDataFrame是否具有相同的CRS\n",
        "if gdf1.crs == gdf2.crs:\n",
        "    print(\"CRS匹配\")\n",
        "else:\n",
        "    print(\"CRS不匹配，需要转换\")\n",
        "```\n",
        "\n",
        "### 总结\n",
        "在`GeoPandas`中，处理坐标系和投影转换是通过`crs`属性和`to_crs()`方法完成的。关键的步骤包括：\n",
        "- **查看CRS**: 使用`crs`属性查看当前坐标系。\n",
        "- **设置CRS**: 如果数据没有明确的CRS，使用`set_crs()`指定。\n",
        "- **转换CRS**: 使用`to_crs()`方法将数据转换为不同的投影或坐标系。\n",
        "\n",
        "这些工具可以帮助你轻松在不同的投影和坐标系之间切换，并确保你的地理数据在正确的坐标系中处理。"
      ],
      "metadata": {
        "id": "S42RJF183pru"
      }
    },
    {
      "cell_type": "markdown",
      "source": [
        "## GDAL\n",
        "**GDAL (Geospatial Data Abstraction Library)** 是处理空间数据的强大库，它提供了丰富的功能来管理地理空间数据，尤其是与投影系统相关的操作。GDAL 支持各种地理数据格式，如 GeoTIFF、Shapefile、KML 等，并集成了对坐标参考系统（CRS）的支持，可以执行投影转换、坐标变换、数据重投影等操作。\n",
        "\n",
        "以下是关于 **GDAL 投影** 相关内容的详细介绍：\n",
        "\n",
        "### 1. **投影与坐标参考系统 (CRS)**\n",
        "   投影是将地球的三维表面映射到二维平面上的一种方法，而 CRS 是描述地理或投影坐标系统的标准。GDAL 支持处理不同的投影系统并允许它们之间的转换。\n",
        "   \n",
        "   **GDAL 支持的 CRS 表达形式**：\n",
        "   - **WKT (Well-Known Text)**：标准的文本格式，用于描述空间参考系统。\n",
        "   - **EPSG 代码**：常见投影系统的标准代码（如 WGS84 是 EPSG:4326）。\n",
        "   - **Proj4 字符串**：投影系统的参数化字符串形式。\n",
        "\n",
        "### 2. **GDAL 常用投影相关操作**\n",
        "\n",
        "#### a. **检查数据的投影信息**\n",
        "   在处理空间数据时，首先需要了解其当前的 CRS。GDAL 提供了查看数据投影信息的功能。\n",
        "\n",
        "   - 使用 `gdalinfo` 命令行工具检查栅格数据的 CRS 信息：\n",
        "     ```bash\n",
        "     gdalinfo your_data.tif\n",
        "     ```\n",
        "   - 在 Python 中，可以使用 `GetProjection()` 函数获取投影信息：\n",
        "     ```python\n",
        "     from osgeo import gdal\n",
        "\n",
        "     # 打开栅格数据\n",
        "     dataset = gdal.Open('your_data.tif')\n",
        "\n",
        "     # 获取投影信息\n",
        "     projection = dataset.GetProjection()\n",
        "     print(projection)\n",
        "     ```\n",
        "\n",
        "#### b. **坐标变换**\n",
        "   使用 `GDAL` 的 **OGR** 模块，可以进行矢量数据的坐标转换；而栅格数据的重投影可以使用 `GDAL` 模块中的重投影函数。\n",
        "\n",
        "   **OGR 坐标变换** 示例：\n",
        "   ```python\n",
        "   from osgeo import osr\n",
        "\n",
        "   # 定义源和目标坐标系\n",
        "   source = osr.SpatialReference()\n",
        "   source.ImportFromEPSG(4326)  # WGS84\n",
        "\n",
        "   target = osr.SpatialReference()\n",
        "   target.ImportFromEPSG(32633)  # UTM Zone 33N\n",
        "\n",
        "   # 创建转换对象\n",
        "   transform = osr.CoordinateTransformation(source, target)\n",
        "\n",
        "   # 进行坐标转换 (经度, 纬度)\n",
        "   lon, lat = 12.4924, 41.8902  # 罗马斗兽场的坐标\n",
        "   x, y, z = transform.TransformPoint(lon, lat)\n",
        "   print(f'UTM 坐标: 东 {x}, 北 {y}')\n",
        "   ```\n",
        "\n",
        "#### c. **重投影栅格数据**\n",
        "   对栅格数据进行重投影是 GDAL 中的常见操作。GDAL 提供了 `gdalwarp` 工具来执行栅格重投影。\n",
        "\n",
        "   **使用 `gdalwarp` 进行命令行重投影**：\n",
        "   ```bash\n",
        "   gdalwarp -t_srs EPSG:32633 input.tif output_utm33.tif\n",
        "   ```\n",
        "\n",
        "   **使用 Python 进行栅格重投影**：\n",
        "   ```python\n",
        "   from osgeo import gdal\n",
        "\n",
        "   # 打开输入栅格数据\n",
        "   src_ds = gdal.Open('input.tif')\n",
        "\n",
        "   # 定义目标投影（UTM Zone 33N）\n",
        "   dst_wkt = 'EPSG:32633'\n",
        "\n",
        "   # 重投影\n",
        "   dst_ds = gdal.Warp('output_utm33.tif', src_ds, dstSRS=dst_wkt)\n",
        "   dst_ds = None  # 关闭文件\n",
        "   ```\n",
        "\n",
        "#### d. **重投影矢量数据**\n",
        "   对矢量数据进行重投影通常使用 OGR 模块来完成，可以在 Python 中执行坐标系统转换和重投影操作。\n",
        "\n",
        "   **矢量数据的重投影示例**：\n",
        "   ```python\n",
        "   from osgeo import ogr, osr\n",
        "\n",
        "   # 打开矢量文件\n",
        "   driver = ogr.GetDriverByName('ESRI Shapefile')\n",
        "   dataset = driver.Open('input.shp', 0)  # 0 是只读模式\n",
        "   layer = dataset.GetLayer()\n",
        "\n",
        "   # 创建源和目标坐标系\n",
        "   source_srs = layer.GetSpatialRef()\n",
        "   target_srs = osr.SpatialReference()\n",
        "   target_srs.ImportFromEPSG(32633)  # UTM 33N\n",
        "\n",
        "   # 创建重投影对象\n",
        "   transform = osr.CoordinateTransformation(source_srs, target_srs)\n",
        "\n",
        "   # 对每个几何对象进行重投影\n",
        "   for feature in layer:\n",
        "       geom = feature.GetGeometryRef()\n",
        "       geom.Transform(transform)  # 重投影几何对象\n",
        "       print(geom.ExportToWkt())\n",
        "   ```\n",
        "\n",
        "### 3. **常见投影与转换工具**\n",
        "\n",
        "#### a. **gdalwarp**：栅格数据的重投影工具\n",
        "   `gdalwarp` 是用于将栅格数据从一种投影转换为另一种投影的工具。它支持多种输入输出格式，并可以处理不同的投影系统。\n",
        "   \n",
        "   - **基本命令**：\n",
        "     ```bash\n",
        "     gdalwarp -t_srs EPSG:4326 input.tif output_wgs84.tif\n",
        "     ```\n",
        "   - **关键参数**：\n",
        "     - `-t_srs`：目标 CRS。\n",
        "     - `-s_srs`：源 CRS（如果未指定，使用文件中的 CRS）。\n",
        "\n",
        "#### b. **ogr2ogr**：矢量数据的重投影工具\n",
        "   `ogr2ogr` 用于将矢量数据转换为不同的投影系统或格式。\n",
        "\n",
        "   - **基本命令**：\n",
        "     ```bash\n",
        "     ogr2ogr -f \"ESRI Shapefile\" -t_srs EPSG:32633 output_utm33.shp input.shp\n",
        "     ```\n",
        "   - **关键参数**：\n",
        "     - `-t_srs`：目标 CRS。\n",
        "     - `-s_srs`：源 CRS。\n",
        "\n",
        "### 4. **GDAL 支持的坐标系统**\n",
        "\n",
        "   - **EPSG 数据库**：GDAL 内置了 EPSG 数据库，可以通过 EPSG 代码来快速定义 CRS。\n",
        "   - **Proj.4 支持**：GDAL 与 Proj.4 库紧密集成，可以使用 Proj.4 字符串表示坐标参考系统。\n",
        "   \n",
        "   例如，`EPSG:4326` 的 Proj.4 字符串表示如下：\n",
        "   ```bash\n",
        "   +proj=longlat +datum=WGS84 +no_defs\n",
        "   ```\n",
        "\n",
        "### 5. **案例：从 WGS84 转换到 UTM**\n",
        "   假设我们有一张地理坐标系（WGS84, EPSG:4326）的栅格图像，想要将其重投影到 UTM 坐标系（EPSG:32633）：\n",
        "\n",
        "   ```bash\n",
        "   gdalwarp -t_srs EPSG:32633 input_wgs84.tif output_utm33.tif\n",
        "   ```\n",
        "\n",
        "   也可以通过 Python 完成：\n",
        "   ```python\n",
        "   from osgeo import gdal\n",
        "\n",
        "   # 打开源文件\n",
        "   src_ds = gdal.Open('input_wgs84.tif')\n",
        "\n",
        "   # 执行重投影\n",
        "   dst_ds = gdal.Warp('output_utm33.tif', src_ds, dstSRS='EPSG:32633')\n",
        "\n",
        "   # 关闭文件\n",
        "   dst_ds = None\n",
        "   ```\n",
        "\n",
        "### 6. **GDAL 与其他库的配合**\n",
        "GDAL 可以与其他库（如 `Geopandas` 和 `Shapely`）结合使用，在空间数据处理和投影转换中发挥更大的作用。例如，GDAL 可以用于读取和重投影数据，而 Geopandas 可以进一步分析和操作重投影后的数据。\n",
        "\n",
        "### 总结\n",
        "GDAL 是一个功能强大的工具库，广泛用于处理空间数据的投影和坐标转换。无论是栅格还是矢量数据，GDAL 提供了灵活的工具和函数来处理复杂的投影需求。在 Python 中，GDAL 的 Python API 提供了编程接口，可以方便地集成到自动化的空间数据处理工作流中。"
      ],
      "metadata": {
        "id": "e7T_yBXe22ds"
      }
    },
    {
      "cell_type": "markdown",
      "source": [],
      "metadata": {
        "id": "YCccb7cX2-Hx"
      }
    },
    {
      "cell_type": "markdown",
      "metadata": {
        "id": "i-x8KU2Wj1f8"
      },
      "source": [
        "---\n",
        "[<- Geometry](02-geometry.ipynb) | [Vector data ->](04-vector-data.ipynb)\n"
      ]
    }
  ],
  "metadata": {
    "@webio": {
      "lastCommId": "A009C9F825A14F55895C9A3D4AD97386",
      "lastKernelId": "ef191aa9-ef5c-4463-8dcb-ef5dc03fe827"
    },
    "colab": {
      "provenance": [],
      "include_colab_link": true
    },
    "kernelspec": {
      "display_name": "Python 3 (ipykernel)",
      "language": "python",
      "name": "python3"
    },
    "language_info": {
      "codemirror_mode": {
        "name": "ipython",
        "version": 3
      },
      "file_extension": ".py",
      "mimetype": "text/x-python",
      "name": "python",
      "nbconvert_exporter": "python",
      "pygments_lexer": "ipython3",
      "version": "3.10.7"
    }
  },
  "nbformat": 4,
  "nbformat_minor": 0
}