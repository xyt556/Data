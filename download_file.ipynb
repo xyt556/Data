{
  "nbformat": 4,
  "nbformat_minor": 0,
  "metadata": {
    "colab": {
      "provenance": [],
      "authorship_tag": "ABX9TyNo2m6Mftb3o+ZESGrBr8gD",
      "include_colab_link": true
    },
    "kernelspec": {
      "name": "python3",
      "display_name": "Python 3"
    },
    "language_info": {
      "name": "python"
    }
  },
  "cells": [
    {
      "cell_type": "markdown",
      "metadata": {
        "id": "view-in-github",
        "colab_type": "text"
      },
      "source": [
        "<a href=\"https://colab.research.google.com/github/xyt556/Data/blob/main/download_file.ipynb\" target=\"_parent\"><img src=\"https://colab.research.google.com/assets/colab-badge.svg\" alt=\"Open In Colab\"/></a>"
      ]
    },
    {
      "cell_type": "code",
      "execution_count": 1,
      "metadata": {
        "colab": {
          "base_uri": "https://localhost:8080/"
        },
        "id": "TzCXP7LOaHQ5",
        "outputId": "f32912e8-e4b0-440d-8a66-1edc3979fb6f"
      },
      "outputs": [
        {
          "output_type": "stream",
          "name": "stdout",
          "text": [
            "font_colab.ipynb 下载完成\n",
            "set_font.ipynb 下载完成\n"
          ]
        }
      ],
      "source": [
        "import requests\n",
        "import os\n",
        "\n",
        "# 文件 URLs\n",
        "urls = [\n",
        "    \"https://github.com/xyt556/Data/raw/main/font_colab.ipynb\",\n",
        "    \"https://github.com/xyt556/Data/raw/main/set_font.ipynb\",\n",
        "    \"https://github.com/xyt556/Data/raw/main/download_file.ipynb\"\n",
        "]\n",
        "\n",
        "# 下载文件函数\n",
        "def download_file(url):\n",
        "    response = requests.get(url, allow_redirects=True)\n",
        "    filename = os.path.basename(url)\n",
        "    with open(filename, 'wb') as file:\n",
        "        file.write(response.content)\n",
        "    print(f\"{filename} 下载完成\")\n",
        "\n",
        "# 下载文件\n",
        "for url in urls:\n",
        "    download_file(url)\n"
      ]
    },
    {
      "cell_type": "code",
      "source": [
        "%load set_font.ipynb"
      ],
      "metadata": {
        "id": "uMTQwjx-aqHJ"
      },
      "execution_count": 2,
      "outputs": []
    }
  ]
}