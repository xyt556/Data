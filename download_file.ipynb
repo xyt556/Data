{
  "nbformat": 4,
  "nbformat_minor": 0,
  "metadata": {
    "colab": {
      "provenance": [],
      "authorship_tag": "ABX9TyOLZvdwKGf3LIsXW1blmnBa",
      "include_colab_link": true
    },
    "kernelspec": {
      "name": "python3",
      "display_name": "Python 3"
    },
    "language_info": {
      "name": "python"
    }
  },
  "cells": [
    {
      "cell_type": "markdown",
      "metadata": {
        "id": "view-in-github",
        "colab_type": "text"
      },
      "source": [
        "<a href=\"https://colab.research.google.com/github/xyt556/Data/blob/main/download_file.ipynb\" target=\"_parent\"><img src=\"https://colab.research.google.com/assets/colab-badge.svg\" alt=\"Open In Colab\"/></a>"
      ]
    },
    {
      "cell_type": "code",
      "execution_count": 1,
      "metadata": {
        "colab": {
          "base_uri": "https://localhost:8080/"
        },
        "id": "TzCXP7LOaHQ5",
        "outputId": "7d6179a6-e429-45aa-92f4-e8ffe5f65414"
      },
      "outputs": [
        {
          "output_type": "stream",
          "name": "stdout",
          "text": [
            "font_colab.ipynb 下载完成\n",
            "set_font.ipynb 下载完成\n"
          ]
        }
      ],
      "source": [
        "import requests\n",
        "\n",
        "# 文件 URLs\n",
        "url1 = \"https://github.com/xyt556/Data/raw/main/font_colab.ipynb\"\n",
        "url2 = \"https://github.com/xyt556/Data/raw/main/set_font.ipynb\"\n",
        "\n",
        "# 下载文件函数\n",
        "def download_file(url, filename):\n",
        "    response = requests.get(url)\n",
        "    with open(filename, 'wb') as file:\n",
        "        file.write(response.content)\n",
        "    print(f\"{filename} 下载完成\")\n",
        "\n",
        "# 下载文件\n",
        "download_file(url1, \"font_colab.ipynb\")\n",
        "download_file(url2, \"set_font.ipynb\")\n"
      ]
    }
  ]
}