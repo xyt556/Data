{
  "nbformat": 4,
  "nbformat_minor": 0,
  "metadata": {
    "colab": {
      "provenance": [],
      "authorship_tag": "ABX9TyNjOSgPZND4Qis7ta4wBjE5",
      "include_colab_link": true
    },
    "kernelspec": {
      "name": "python3",
      "display_name": "Python 3"
    },
    "language_info": {
      "name": "python"
    }
  },
  "cells": [
    {
      "cell_type": "markdown",
      "metadata": {
        "id": "view-in-github",
        "colab_type": "text"
      },
      "source": [
        "<a href=\"https://colab.research.google.com/github/xyt556/Data/blob/main/%E6%A8%A1%E7%89%88.ipynb\" target=\"_parent\"><img src=\"https://colab.research.google.com/assets/colab-badge.svg\" alt=\"Open In Colab\"/></a>"
      ]
    },
    {
      "cell_type": "markdown",
      "source": [
        "## 数据准备及设置中文正常显示\n"
      ],
      "metadata": {
        "id": "XR7jo2OTqarM"
      }
    },
    {
      "cell_type": "code",
      "source": [
        "from google.colab import files\n",
        "\n",
        "# 上传文件\n",
        "uploaded = files.upload()\n",
        "\n",
        "# 显示上传的文件名\n",
        "for filename in uploaded.keys():\n",
        "    print(f'已上传文件: {filename}')\n"
      ],
      "metadata": {
        "id": "3e3KrT3o5Y9j"
      },
      "execution_count": null,
      "outputs": []
    },
    {
      "cell_type": "code",
      "source": [
        "# 从github上下载所需要的文件\n",
        "!wget https://github.com/xyt556/Data/raw/main/mytools.py"
      ],
      "metadata": {
        "id": "bWRAJLytNtAf"
      },
      "execution_count": null,
      "outputs": []
    },
    {
      "cell_type": "code",
      "source": [
        "# 自定义的函数，用与下载数据\n",
        "from mytools import *"
      ],
      "metadata": {
        "id": "iJ2VSukBqiRC"
      },
      "execution_count": null,
      "outputs": []
    },
    {
      "cell_type": "markdown",
      "source": [
        "数据下载示例"
      ],
      "metadata": {
        "id": "NTMgjrVSLCBI"
      }
    },
    {
      "cell_type": "code",
      "source": [
        "# Github上的目录下载\n",
        "download_fold(\"https://api.github.com/repos/xyt556/Data/contents/data/\", \"data\")"
      ],
      "metadata": {
        "id": "i1Cx0pc6CC8Q"
      },
      "execution_count": null,
      "outputs": []
    },
    {
      "cell_type": "code",
      "source": [
        "# 从Github上下载文件\n",
        "download_file(\"https://github.com/xyt556/Data/raw/main/data/Credit.csv\", \"./test\")"
      ],
      "metadata": {
        "id": "K96gGs6iFFMH"
      },
      "execution_count": null,
      "outputs": []
    },
    {
      "cell_type": "code",
      "source": [
        "# 从Google网盘的共享文件\n",
        "download_file_from_google_drive(\"https://drive.google.com/file/d/1JY11SMlhCoHFvWSwevi_eya2eURtdWO5/view?usp=sharing\", \"./test1\")"
      ],
      "metadata": {
        "id": "gVRSHHCVHGA8"
      },
      "execution_count": null,
      "outputs": []
    },
    {
      "cell_type": "code",
      "source": [
        "# 从Google网盘的共享文件夹下载，注意有50个文件的限制，不需要指定保存的目录，会用原始的目录名\n",
        "download_folder_from_google_drive('https://drive.google.com/drive/folders/1PlP6iqsXJeR4Atp5erf96DKvkWDRMTp_?usp=sharing')"
      ],
      "metadata": {
        "id": "PRTVyGhyJo1e"
      },
      "execution_count": null,
      "outputs": []
    },
    {
      "cell_type": "markdown",
      "source": [
        "### 设置中文字体，确保中文字体在绘图的时候能正常显示"
      ],
      "metadata": {
        "id": "jCZewS14sUn_"
      }
    },
    {
      "cell_type": "code",
      "source": [
        "%run font_colab.ipynb"
      ],
      "metadata": {
        "id": "28d0U9hwr7sF"
      },
      "execution_count": null,
      "outputs": []
    },
    {
      "cell_type": "code",
      "source": [
        "%run set_font.ipynb"
      ],
      "metadata": {
        "id": "_Ju_6blIsB8P"
      },
      "execution_count": null,
      "outputs": []
    },
    {
      "cell_type": "markdown",
      "source": [
        "如本地运行，不需要运行以上两个文件，只需要运行如下代码："
      ],
      "metadata": {
        "id": "kvPN7wJSsu-q"
      }
    },
    {
      "cell_type": "code",
      "source": [
        "# 设置全局字体\n",
        "import matplotlib.pyplot as plt\n",
        "import matplotlib as mpl\n",
        "mpl.rcParams['font.sans-serif'] = ['SimHei']\n",
        "mpl.rcParams['axes.unicode_minus'] = False # 用来正常显示负号"
      ],
      "metadata": {
        "id": "1DTaOCuRs2ME"
      },
      "execution_count": null,
      "outputs": []
    }
  ]
}