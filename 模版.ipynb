{
  "nbformat": 4,
  "nbformat_minor": 0,
  "metadata": {
    "colab": {
      "provenance": [],
      "authorship_tag": "ABX9TyOib6j83NB6/14uG+QMcy+L",
      "include_colab_link": true
    },
    "kernelspec": {
      "name": "python3",
      "display_name": "Python 3"
    },
    "language_info": {
      "name": "python"
    }
  },
  "cells": [
    {
      "cell_type": "markdown",
      "metadata": {
        "id": "view-in-github",
        "colab_type": "text"
      },
      "source": [
        "<a href=\"https://colab.research.google.com/github/xyt556/Data/blob/main/%E6%A8%A1%E7%89%88.ipynb\" target=\"_parent\"><img src=\"https://colab.research.google.com/assets/colab-badge.svg\" alt=\"Open In Colab\"/></a>"
      ]
    },
    {
      "cell_type": "markdown",
      "source": [
        "## 数据准备及设置中文正常显示\n"
      ],
      "metadata": {
        "id": "XR7jo2OTqarM"
      }
    },
    {
      "cell_type": "code",
      "source": [
        "from google.colab import files\n",
        "\n",
        "# 上传文件\n",
        "uploaded = files.upload()\n",
        "\n",
        "# 显示上传的文件名\n",
        "for filename in uploaded.keys():\n",
        "    print(f'已上传文件: {filename}')\n"
      ],
      "metadata": {
        "id": "3e3KrT3o5Y9j"
      },
      "execution_count": null,
      "outputs": []
    },
    {
      "cell_type": "code",
      "source": [
        "# 从github上下载所需要的文件\n",
        "!wget https://github.com/xyt556/Data/raw/main/mytools.py"
      ],
      "metadata": {
        "colab": {
          "base_uri": "https://localhost:8080/"
        },
        "id": "bWRAJLytNtAf",
        "outputId": "858bd38a-6bc1-4b81-aee3-d7ea165a5110"
      },
      "execution_count": 1,
      "outputs": [
        {
          "output_type": "stream",
          "name": "stdout",
          "text": [
            "--2024-11-12 07:13:51--  https://github.com/xyt556/Data/raw/main/mytools.py\n",
            "Resolving github.com (github.com)... 140.82.112.3\n",
            "Connecting to github.com (github.com)|140.82.112.3|:443... connected.\n",
            "HTTP request sent, awaiting response... 302 Found\n",
            "Location: https://raw.githubusercontent.com/xyt556/Data/main/mytools.py [following]\n",
            "--2024-11-12 07:13:52--  https://raw.githubusercontent.com/xyt556/Data/main/mytools.py\n",
            "Resolving raw.githubusercontent.com (raw.githubusercontent.com)... 185.199.111.133, 185.199.110.133, 185.199.109.133, ...\n",
            "Connecting to raw.githubusercontent.com (raw.githubusercontent.com)|185.199.111.133|:443... connected.\n",
            "HTTP request sent, awaiting response... 200 OK\n",
            "Length: 6168 (6.0K) [text/plain]\n",
            "Saving to: ‘mytools.py’\n",
            "\n",
            "mytools.py          100%[===================>]   6.02K  --.-KB/s    in 0s      \n",
            "\n",
            "2024-11-12 07:13:52 (45.7 MB/s) - ‘mytools.py’ saved [6168/6168]\n",
            "\n"
          ]
        }
      ]
    },
    {
      "cell_type": "code",
      "source": [
        "# 自定义的函数，用与下载数据\n",
        "from mytools import *"
      ],
      "metadata": {
        "id": "iJ2VSukBqiRC",
        "colab": {
          "base_uri": "https://localhost:8080/"
        },
        "outputId": "5a7c5624-1890-49e4-d3d9-d81e5ce48a2c"
      },
      "execution_count": 2,
      "outputs": [
        {
          "output_type": "stream",
          "name": "stdout",
          "text": [
            "文件 URLs:\n",
            "https://github.com/xyt556/Data/raw/main/font_colab.ipynb\n",
            "文件 font_colab.ipynb 已下载并保存到 .\n",
            "https://github.com/xyt556/Data/raw/main/set_font.ipynb\n",
            "文件 set_font.ipynb 已下载并保存到 .\n"
          ]
        }
      ]
    },
    {
      "cell_type": "markdown",
      "source": [
        "数据下载示例"
      ],
      "metadata": {
        "id": "NTMgjrVSLCBI"
      }
    },
    {
      "cell_type": "code",
      "source": [
        "# Github上的目录下载，需指定保存的目录，否则文件都下载的当前目录下\n",
        "download_fold(\"https://api.github.com/repos/xyt556/Data/contents/data/\", \"./data\")"
      ],
      "metadata": {
        "colab": {
          "base_uri": "https://localhost:8080/"
        },
        "id": "i1Cx0pc6CC8Q",
        "outputId": "2788eda7-4f91-48eb-ca13-3eec15f55498"
      },
      "execution_count": 3,
      "outputs": [
        {
          "output_type": "stream",
          "name": "stdout",
          "text": [
            "文件 Arthritis.csv 已下载并保存到 ./data1\n",
            "文件 Credit.csv 已下载并保存到 ./data1\n",
            "文件 Damage.xls 已下载并保存到 ./data1\n",
            "文件 applicant.csv 已下载并保存到 ./data1\n",
            "文件 arthritis.txt 已下载并保存到 ./data1\n",
            "文件 coal.xlsx 已下载并保存到 ./data1\n",
            "文件 data.xlsx 已下载并保存到 ./data1\n",
            "文件 drugs.txt 已下载并保存到 ./data1\n",
            "文件 engel.csv 已下载并保存到 ./data1\n",
            "文件 faith.csv 已下载并保存到 ./data1\n",
            "文件 fish.csv 已下载并保存到 ./data1\n",
            "文件 fish.txt 已下载并保存到 ./data1\n",
            "文件 iris.csv 已下载并保存到 ./data1\n",
            "文件 mcycle.csv 已下载并保存到 ./data1\n",
            "文件 myopia.txt 已下载并保存到 ./data1\n",
            "文件 nerve.txt 已下载并保存到 ./data1\n",
            "文件 saheart.csv 已下载并保存到 ./data1\n",
            "文件 station.xlsx 已下载并保存到 ./data1\n",
            "文件 wage.csv 已下载并保存到 ./data1\n",
            "文件 weight_bp.XLS 已下载并保存到 ./data1\n"
          ]
        }
      ]
    },
    {
      "cell_type": "code",
      "source": [
        "# 从Github上下载文件，指定保存目录\n",
        "download_file(\"https://github.com/xyt556/Data/raw/main/data/Credit.csv\", \"./test\")"
      ],
      "metadata": {
        "id": "K96gGs6iFFMH"
      },
      "execution_count": null,
      "outputs": []
    },
    {
      "cell_type": "code",
      "source": [
        "# 从Google网盘的共享文件\n",
        "download_file_from_google_drive(\"https://drive.google.com/file/d/1JY11SMlhCoHFvWSwevi_eya2eURtdWO5/view?usp=sharing\", \"./test1\")"
      ],
      "metadata": {
        "id": "gVRSHHCVHGA8"
      },
      "execution_count": null,
      "outputs": []
    },
    {
      "cell_type": "code",
      "source": [
        "# 从Google网盘的共享文件夹下载，注意有50个文件的限制，不需要指定保存的目录，会用原始的目录名\n",
        "download_folder_from_google_drive('https://drive.google.com/drive/folders/1PlP6iqsXJeR4Atp5erf96DKvkWDRMTp_?usp=sharing')"
      ],
      "metadata": {
        "id": "PRTVyGhyJo1e"
      },
      "execution_count": null,
      "outputs": []
    },
    {
      "cell_type": "markdown",
      "source": [
        "### 设置中文字体，确保中文字体在绘图的时候能正常显示"
      ],
      "metadata": {
        "id": "jCZewS14sUn_"
      }
    },
    {
      "cell_type": "code",
      "source": [
        "%run font_colab.ipynb"
      ],
      "metadata": {
        "id": "28d0U9hwr7sF"
      },
      "execution_count": null,
      "outputs": []
    },
    {
      "cell_type": "code",
      "source": [
        "%run set_font.ipynb"
      ],
      "metadata": {
        "id": "_Ju_6blIsB8P"
      },
      "execution_count": null,
      "outputs": []
    },
    {
      "cell_type": "markdown",
      "source": [
        "如本地运行，不需要运行以上两个文件，只需要运行如下代码："
      ],
      "metadata": {
        "id": "kvPN7wJSsu-q"
      }
    },
    {
      "cell_type": "code",
      "source": [
        "# 设置全局字体\n",
        "import matplotlib.pyplot as plt\n",
        "import matplotlib as mpl\n",
        "mpl.rcParams['font.sans-serif'] = ['SimHei']\n",
        "mpl.rcParams['axes.unicode_minus'] = False # 用来正常显示负号"
      ],
      "metadata": {
        "id": "1DTaOCuRs2ME"
      },
      "execution_count": null,
      "outputs": []
    }
  ]
}