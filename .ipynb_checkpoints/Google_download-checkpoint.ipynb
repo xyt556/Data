{
 "nbformat": 4,
 "nbformat_minor": 0,
 "metadata": {
  "colab": {
   "provenance": [],
   "authorship_tag": "ABX9TyOBBmV2fQ/hBxGZnM/2pr3r",
   "include_colab_link": true
  },
  "kernelspec": {
   "name": "python3",
   "language": "python",
   "display_name": "Python 3 (ipykernel)"
  },
  "language_info": {
   "name": "python"
  }
 },
 "cells": [
  {
   "cell_type": "markdown",
   "metadata": {
    "id": "view-in-github",
    "colab_type": "text"
   },
   "source": [
    "<a href=\"https://colab.research.google.com/github/xyt556/Data/blob/main/Google_download.ipynb\" target=\"_parent\"><img src=\"https://colab.research.google.com/assets/colab-badge.svg\" alt=\"Open In Colab\"/></a>"
   ]
  },
  {
   "cell_type": "markdown",
   "source": [
    "你可以使用 Python 在 Google Colab 中下载 Google 网盘分享的文件。以下是一个简单的步骤指南：\n",
    "\n",
    "1. **挂载 Google Drive**:\n",
    "   ```python\n",
    "   from google.colab import drive\n",
    "   drive.mount('/content/drive')\n",
    "   ```\n",
    "\n",
    "2. **安装 gdown**:\n",
    "   ```python\n",
    "   !pip install gdown\n",
    "   ```\n",
    "\n",
    "3. **下载文件**:\n",
    "   获取文件的共享链接，并使用 gdown 下载文件。例如：\n",
    "   ```python\n",
    "   import gdown\n",
    "\n",
    "   # 共享链接\n",
    "   url = 'https://drive.google.com/uc?id=FILE_ID'\n",
    "   output = 'filename.ext'\n",
    "   gdown.download(url, output, quiet=False)\n",
    "   ```\n",
    "\n",
    "   你需要将 `FILE_ID` 替换为实际的文件 ID，可以从共享链接中获取。\n",
    "\n",
    "4. **下载文件夹**:\n",
    "   如果你需要下载整个文件夹，可以使用以下代码：\n",
    "   ```python\n",
    "   import gdown\n",
    "\n",
    "   # 文件夹共享链接\n",
    "   url = 'https://drive.google.com/drive/folders/FOLDER_ID'\n",
    "   gdown.download_folder(url, quiet=True, use_cookies=False)\n",
    "   ```\n",
    "\n",
    "   同样，你需要将 `FOLDER_ID` 替换为实际的文件夹 ID。\n",
    "\n",
    "这些步骤应该可以帮助你在 Google Colab 中下载 Google 网盘分享的文件。如果你有任何问题或需要进一步的帮助，请告诉我！\n",
    "\n",
    "\n",
    "(1) Open files from Google Drive - Google Colab. https://colab.research.google.com/notebooks/snippets/accessing_files.ipynb.\n",
    "(2) How to download files or folders in google drive in python - Google Colab. https://colab.research.google.com/github/intodeeplearning/blog/blob/master/_notebooks/2022-05-08-how-to-download-files-in-gdrive-using-python.ipynb.\n",
    "(3) How to Download Dynamic Files Created During Work on Google Colab .... https://www.geeksforgeeks.org/how-to-download-dynamic-files-created-during-work-on-google-colab/.\n",
    "(4) How to Download Files and... - Philip Kiely. https://philipkiely.com/code/colab_download.\n",
    "(5) Download To Google Drive - Colab - Google Colab. https://colab.research.google.com/github/towsif031/download-to-google-drive/blob/main/download-to-google-drive.ipynb.\n",
    "(6) undefined. https://api.github.com/repos/jakevdp/PythonDataScienceHandbook/contents/notebooks/data/california_cities.csv.\n",
    "(7) undefined. https://cloud.google.com/resource-manager/docs/creating-managing-projects.\n",
    "(8) undefined. https://drive.google.com/file/d/1uFTzwFc3tmS-D7azjMiJcxSfn71BPqKt/view?usp=sharing.\n",
    "(9) undefined. https://drive.google.com/drive/folders/1HWFHKCprFzR7H7TYhrE-W7v4bz2Vc7Ia."
   ],
   "metadata": {
    "id": "Q4fruQVmwZOF"
   }
  },
  {
   "cell_type": "code",
   "source": [
    "# 下载文件夹，注意文件夹内文件不能超过50个文件，否则不能下载\n",
    "import gdown\n",
    "\n",
    "# 文件夹共享链接\n",
    "url = 'https://drive.google.com/drive/folders/1KPgKuxmW9nJ0dos4mXWAMFX2mnp5mTP-?usp=drive_link'\n",
    "\n",
    "gdown.download_folder(url, quiet=True, use_cookies=False)\n"
   ],
   "metadata": {
    "id": "v6OVpW172krd",
    "colab": {
     "base_uri": "https://localhost:8080/"
    },
    "outputId": "f9ae6730-d697-4b81-927a-32cd17126a60",
    "ExecuteTime": {
     "end_time": "2024-11-01T01:01:01.853654Z",
     "start_time": "2024-11-01T01:00:56.324535500Z"
    }
   },
   "execution_count": 3,
   "outputs": [
    {
     "ename": "AttributeError",
     "evalue": "'NoneType' object has no attribute 'groups'",
     "output_type": "error",
     "traceback": [
      "\u001B[1;31m---------------------------------------------------------------------------\u001B[0m",
      "\u001B[1;31mAttributeError\u001B[0m                            Traceback (most recent call last)",
      "Cell \u001B[1;32mIn[3], line 7\u001B[0m\n\u001B[0;32m      4\u001B[0m \u001B[38;5;66;03m# 文件夹共享链接\u001B[39;00m\n\u001B[0;32m      5\u001B[0m url \u001B[38;5;241m=\u001B[39m \u001B[38;5;124m'\u001B[39m\u001B[38;5;124mhttps://drive.google.com/drive/folders/1KPgKuxmW9nJ0dos4mXWAMFX2mnp5mTP-?usp=drive_link\u001B[39m\u001B[38;5;124m'\u001B[39m\n\u001B[1;32m----> 7\u001B[0m \u001B[43mgdown\u001B[49m\u001B[38;5;241;43m.\u001B[39;49m\u001B[43mdownload_folder\u001B[49m\u001B[43m(\u001B[49m\u001B[43murl\u001B[49m\u001B[43m,\u001B[49m\u001B[43m \u001B[49m\u001B[43mquiet\u001B[49m\u001B[38;5;241;43m=\u001B[39;49m\u001B[38;5;28;43;01mTrue\u001B[39;49;00m\u001B[43m,\u001B[49m\u001B[43m \u001B[49m\u001B[43muse_cookies\u001B[49m\u001B[38;5;241;43m=\u001B[39;49m\u001B[38;5;28;43;01mFalse\u001B[39;49;00m\u001B[43m)\u001B[49m\n",
      "File \u001B[1;32mD:\\Geo_Python_2024\\envi\\lib\\site-packages\\gdown\\download_folder.py:303\u001B[0m, in \u001B[0;36mdownload_folder\u001B[1;34m(url, id, output, quiet, proxy, speed, use_cookies, remaining_ok, verify)\u001B[0m\n\u001B[0;32m    300\u001B[0m         os\u001B[38;5;241m.\u001B[39mmakedirs(file_path)\n\u001B[0;32m    301\u001B[0m     \u001B[38;5;28;01mcontinue\u001B[39;00m\n\u001B[1;32m--> 303\u001B[0m filename \u001B[38;5;241m=\u001B[39m \u001B[43mdownload\u001B[49m\u001B[43m(\u001B[49m\n\u001B[0;32m    304\u001B[0m \u001B[43m    \u001B[49m\u001B[43murl\u001B[49m\u001B[38;5;241;43m=\u001B[39;49m\u001B[38;5;124;43m\"\u001B[39;49m\u001B[38;5;124;43mhttps://drive.google.com/uc?id=\u001B[39;49m\u001B[38;5;124;43m\"\u001B[39;49m\u001B[43m \u001B[49m\u001B[38;5;241;43m+\u001B[39;49m\u001B[43m \u001B[49m\u001B[43mfile_id\u001B[49m\u001B[43m,\u001B[49m\n\u001B[0;32m    305\u001B[0m \u001B[43m    \u001B[49m\u001B[43moutput\u001B[49m\u001B[38;5;241;43m=\u001B[39;49m\u001B[43mfile_path\u001B[49m\u001B[43m,\u001B[49m\n\u001B[0;32m    306\u001B[0m \u001B[43m    \u001B[49m\u001B[43mquiet\u001B[49m\u001B[38;5;241;43m=\u001B[39;49m\u001B[43mquiet\u001B[49m\u001B[43m,\u001B[49m\n\u001B[0;32m    307\u001B[0m \u001B[43m    \u001B[49m\u001B[43mproxy\u001B[49m\u001B[38;5;241;43m=\u001B[39;49m\u001B[43mproxy\u001B[49m\u001B[43m,\u001B[49m\n\u001B[0;32m    308\u001B[0m \u001B[43m    \u001B[49m\u001B[43mspeed\u001B[49m\u001B[38;5;241;43m=\u001B[39;49m\u001B[43mspeed\u001B[49m\u001B[43m,\u001B[49m\n\u001B[0;32m    309\u001B[0m \u001B[43m    \u001B[49m\u001B[43muse_cookies\u001B[49m\u001B[38;5;241;43m=\u001B[39;49m\u001B[43muse_cookies\u001B[49m\u001B[43m,\u001B[49m\n\u001B[0;32m    310\u001B[0m \u001B[43m    \u001B[49m\u001B[43mverify\u001B[49m\u001B[38;5;241;43m=\u001B[39;49m\u001B[43mverify\u001B[49m\u001B[43m,\u001B[49m\n\u001B[0;32m    311\u001B[0m \u001B[43m\u001B[49m\u001B[43m)\u001B[49m\n\u001B[0;32m    313\u001B[0m \u001B[38;5;28;01mif\u001B[39;00m filename \u001B[38;5;129;01mis\u001B[39;00m \u001B[38;5;28;01mNone\u001B[39;00m:\n\u001B[0;32m    314\u001B[0m     \u001B[38;5;28;01mif\u001B[39;00m \u001B[38;5;129;01mnot\u001B[39;00m quiet:\n",
      "File \u001B[1;32mD:\\Geo_Python_2024\\envi\\lib\\site-packages\\gdown\\download.py:259\u001B[0m, in \u001B[0;36mdownload\u001B[1;34m(url, output, quiet, proxy, speed, use_cookies, verify, id, fuzzy, resume, format)\u001B[0m\n\u001B[0;32m    255\u001B[0m     content_disposition \u001B[38;5;241m=\u001B[39m six\u001B[38;5;241m.\u001B[39mmoves\u001B[38;5;241m.\u001B[39murllib_parse\u001B[38;5;241m.\u001B[39munquote(\n\u001B[0;32m    256\u001B[0m         res\u001B[38;5;241m.\u001B[39mheaders[\u001B[38;5;124m\"\u001B[39m\u001B[38;5;124mContent-Disposition\u001B[39m\u001B[38;5;124m\"\u001B[39m]\n\u001B[0;32m    257\u001B[0m     )\n\u001B[0;32m    258\u001B[0m     m \u001B[38;5;241m=\u001B[39m re\u001B[38;5;241m.\u001B[39msearch(\u001B[38;5;124mr\u001B[39m\u001B[38;5;124m\"\u001B[39m\u001B[38;5;124mfilename\u001B[39m\u001B[38;5;124m\\\u001B[39m\u001B[38;5;124m*=UTF-8\u001B[39m\u001B[38;5;124m'\u001B[39m\u001B[38;5;124m'\u001B[39m\u001B[38;5;124m(.*)\u001B[39m\u001B[38;5;124m\"\u001B[39m, content_disposition)\n\u001B[1;32m--> 259\u001B[0m     filename_from_url \u001B[38;5;241m=\u001B[39m \u001B[43mm\u001B[49m\u001B[38;5;241;43m.\u001B[39;49m\u001B[43mgroups\u001B[49m()[\u001B[38;5;241m0\u001B[39m]\n\u001B[0;32m    260\u001B[0m     filename_from_url \u001B[38;5;241m=\u001B[39m filename_from_url\u001B[38;5;241m.\u001B[39mreplace(osp\u001B[38;5;241m.\u001B[39msep, \u001B[38;5;124m\"\u001B[39m\u001B[38;5;124m_\u001B[39m\u001B[38;5;124m\"\u001B[39m)\n\u001B[0;32m    261\u001B[0m \u001B[38;5;28;01melse\u001B[39;00m:\n",
      "\u001B[1;31mAttributeError\u001B[0m: 'NoneType' object has no attribute 'groups'"
     ]
    }
   ]
  },
  {
   "cell_type": "code",
   "source": [
    "# 下载文件方法一：重新指定文件名\n",
    "import gdown\n",
    "\n",
    "# 共享链接\n",
    "url = 'https://drive.google.com/uc?id=1nfJVpHjRmsi9VFoQH8r5vDw7JW-_26QC'\n",
    "output = 'gdata.zip'\n",
    "gdown.download(url, output, quiet=False)"
   ],
   "metadata": {
    "colab": {
     "base_uri": "https://localhost:8080/",
     "height": 147
    },
    "id": "y0mjLnMOEbTw",
    "outputId": "4acfd9a5-4b1a-4f90-cad5-577819c3cd5d"
   },
   "execution_count": 19,
   "outputs": [
    {
     "output_type": "stream",
     "name": "stderr",
     "text": [
      "Downloading...\n",
      "From (original): https://drive.google.com/uc?id=1nfJVpHjRmsi9VFoQH8r5vDw7JW-_26QC\n",
      "From (redirected): https://drive.google.com/uc?id=1nfJVpHjRmsi9VFoQH8r5vDw7JW-_26QC&confirm=t&uuid=0505f252-be86-4d74-a831-bdab747ad3d3\n",
      "To: /content/data.zip\n",
      "100%|██████████| 407M/407M [00:02<00:00, 192MB/s]\n"
     ]
    },
    {
     "output_type": "execute_result",
     "data": {
      "text/plain": [
       "'data.zip'"
      ],
      "application/vnd.google.colaboratory.intrinsic+json": {
       "type": "string"
      }
     },
     "metadata": {},
     "execution_count": 19
    }
   ]
  },
  {
   "cell_type": "code",
   "source": [
    "# 下载文件方法二：用原来的文件名\n",
    "\n",
    "import gdown\n",
    "\n",
    "# 共享链接\n",
    "url = 'https://drive.google.com/uc?id=1nfJVpHjRmsi9VFoQH8r5vDw7JW-_26QC'\n",
    "\n",
    "# 下载文件并保留原始文件名\n",
    "gdown.download(url, quiet=False, fuzzy=True)\n"
   ],
   "metadata": {
    "colab": {
     "base_uri": "https://localhost:8080/",
     "height": 147
    },
    "id": "N2ayGfUmIqxL",
    "outputId": "852be94f-f962-4244-e865-bebcf4538aa8",
    "ExecuteTime": {
     "end_time": "2024-11-01T01:01:41.009819900Z",
     "start_time": "2024-11-01T01:01:38.834199800Z"
    }
   },
   "execution_count": 5,
   "outputs": [
    {
     "name": "stdout",
     "output_type": "stream",
     "text": [
      "Access denied with the following error:\n"
     ]
    },
    {
     "name": "stderr",
     "output_type": "stream",
     "text": [
      "\n",
      " \tCannot retrieve the public link of the file. You may need to change\n",
      "\tthe permission to 'Anyone with the link', or have had many accesses. \n",
      "\n",
      "You may still be able to access the file from the browser:\n",
      "\n",
      "\t https://drive.google.com/uc?id=1nfJVpHjRmsi9VFoQH8r5vDw7JW-_26QC \n",
      "\n"
     ]
    }
   ]
  },
  {
   "cell_type": "code",
   "source": [
    "import os\n",
    "import zipfile   # 解压缩文件需要\n",
    "\n",
    "# 解压缩函数\n",
    "def unzip_file(zip_file_path, extract_to_dir=None):\n",
    "    \"\"\"\n",
    "    解压指定的 ZIP 文件到指定目录。如果没有提供目标目录，则解压到ZIP文件所在的目录。\n",
    "\n",
    "    参数:\n",
    "    zip_file_path (str): ZIP 文件的路径\n",
    "    extract_to_dir (str): 解压后的目标目录（可选）。如果未指定，默认为 ZIP 文件所在目录\n",
    "    \"\"\"\n",
    "    if extract_to_dir is None:\n",
    "        # 如果没有提供目标解压目录，使用ZIP文件的所在目录\n",
    "        extract_to_dir = os.path.dirname(zip_file_path)\n",
    "\n",
    "    # 确保目标目录存在\n",
    "    if not os.path.exists(extract_to_dir):\n",
    "        os.makedirs(extract_to_dir)\n",
    "\n",
    "    # 解压 ZIP 文件\n",
    "    with zipfile.ZipFile(zip_file_path, 'r') as zip_ref:\n",
    "        zip_ref.extractall(extract_to_dir)  # 解压所有文件\n",
    "        print(f\"已解压 '{zip_file_path}' 到 '{extract_to_dir}'\")"
   ],
   "metadata": {
    "id": "JsxRaKfX46b3"
   },
   "execution_count": 13,
   "outputs": []
  },
  {
   "cell_type": "code",
   "source": [
    "# 解压缩\n",
    "unzip_file('data.zip', '.')\n",
    "\n",
    "# 删除ZIP文件，释放存储空间\n",
    "os.remove('data.zip')"
   ],
   "metadata": {
    "id": "U-VFJQWV5Aga",
    "colab": {
     "base_uri": "https://localhost:8080/"
    },
    "outputId": "f09d5282-6346-4a02-8933-abea917a687e"
   },
   "execution_count": 20,
   "outputs": [
    {
     "output_type": "stream",
     "name": "stdout",
     "text": [
      "已解压 'data.zip' 到 '.'\n"
     ]
    }
   ]
  }
 ]
}
