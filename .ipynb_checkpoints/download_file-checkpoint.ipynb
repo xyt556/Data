{
  "nbformat": 4,
  "nbformat_minor": 0,
  "metadata": {
    "colab": {
      "provenance": [],
      "authorship_tag": "ABX9TyODiAsq5EBFL4SYf9FYC8sp",
      "include_colab_link": true
    },
    "kernelspec": {
      "name": "python3",
      "display_name": "Python 3"
    },
    "language_info": {
      "name": "python"
    }
  },
  "cells": [
    {
      "cell_type": "markdown",
      "metadata": {
        "id": "view-in-github",
        "colab_type": "text"
      },
      "source": [
        "<a href=\"https://colab.research.google.com/github/xyt556/Data/blob/main/download_file.ipynb\" target=\"_parent\"><img src=\"https://colab.research.google.com/assets/colab-badge.svg\" alt=\"Open In Colab\"/></a>"
      ]
    },
    {
      "cell_type": "code",
      "source": [
        "import requests\n",
        "import os\n",
        "import zipfile\n",
        "\n",
        "# 下载文件函数\n",
        "def download_file(url):\n",
        "    response = requests.get(url, allow_redirects=True)\n",
        "    filename = os.path.basename(url)\n",
        "    with open(filename, 'wb') as file:\n",
        "        file.write(response.content)\n",
        "    print(f\"{filename} 下载完成\")\n",
        "\n",
        "\n",
        "# 解压缩\n",
        "def unzip_file(zip_file_path, extract_to_dir='.'):\n",
        "    \"\"\"\n",
        "    解压指定的 ZIP 文件到指定目录。如果没有提供目标目录，则解压到ZIP文件所在的目录。\n",
        "\n",
        "    参数:\n",
        "    zip_file_path (str): ZIP 文件的路径\n",
        "    extract_to_dir (str): 解压后的目标目录（可选）。如果未指定，默认为 ZIP 文件所在目录\n",
        "    \"\"\"\n",
        "    if extract_to_dir is None:\n",
        "        # 如果没有提供目标解压目录，使用ZIP文件的所在目录\n",
        "        extract_to_dir = os.path.dirname(zip_file_path)\n",
        "\n",
        "    # 确保目标目录存在\n",
        "    if not os.path.exists(extract_to_dir):\n",
        "        os.makedirs(extract_to_dir)\n",
        "\n",
        "    # 解压 ZIP 文件\n",
        "    with zipfile.ZipFile(zip_file_path, 'r') as zip_ref:\n",
        "        zip_ref.extractall(extract_to_dir)  # 解压所有文件\n",
        "        print(f\"已解压 '{zip_file_path}' 到 '{extract_to_dir}'\")"
      ],
      "metadata": {
        "id": "YHOJwPkac6ij"
      },
      "execution_count": 14,
      "outputs": []
    },
    {
      "cell_type": "code",
      "execution_count": 2,
      "metadata": {
        "colab": {
          "base_uri": "https://localhost:8080/"
        },
        "id": "TzCXP7LOaHQ5",
        "outputId": "3d484da6-5a05-48e8-c14c-51e7385d18ce"
      },
      "outputs": [
        {
          "output_type": "stream",
          "name": "stdout",
          "text": [
            "font_colab.ipynb 下载完成\n",
            "set_font.ipynb 下载完成\n",
            "download_file.ipynb 下载完成\n"
          ]
        }
      ],
      "source": [
        "import requests\n",
        "import os\n",
        "\n",
        "# 文件 URLs\n",
        "urls = [\n",
        "    \"https://github.com/xyt556/Data/raw/main/font_colab.ipynb\",\n",
        "    \"https://github.com/xyt556/Data/raw/main/set_font.ipynb\",\n",
        "    \"https://github.com/xyt556/Data/raw/main/download_file.ipynb\"\n",
        "]\n",
        "\n",
        "# 下载文件\n",
        "for url in urls:\n",
        "    download_file(url)\n"
      ]
    },
    {
      "cell_type": "code",
      "source": [
        "%run font_colab.ipynb"
      ],
      "metadata": {
        "colab": {
          "base_uri": "https://localhost:8080/"
        },
        "id": "uMTQwjx-aqHJ",
        "outputId": "08131fca-952d-4f46-d532-248e6a7cc45b"
      },
      "execution_count": null,
      "outputs": [
        {
          "output_type": "stream",
          "name": "stdout",
          "text": [
            "解压缩完成！解压后的文件：\n",
            "['STXINGKA.TTF', 'SimHei.ttf', 'SIMSUN.TTC', 'SIMLI.TTF', 'SIMKAI.TTF']\n",
            "/usr/share/fonts/truetype/SIMSUN.TTC: NSimSun,新宋体:style=Regular,常规\n",
            "/usr/share/fonts/truetype/STXINGKA.TTF: STXingkai,华文行楷:style=Regular\n",
            "/usr/share/fonts/truetype/SIMSUN.TTC: SimSun,宋体:style=Regular,常规\n",
            "/usr/share/fonts/truetype/SIMLI.TTF: LiSu,隶书:style=Regular\n",
            "/usr/share/fonts/truetype/SimHei.ttf: SimHei,黑体:style=Regular\n",
            "/usr/share/fonts/truetype/SIMKAI.TTF: KaiTi,楷体:style=Regular,Normal,obyčejné,Standard,Κανονικά,Normaali,Normál,Normale,Standaard,Normalny,Обычный,Normálne,Navadno,Arrunta\n"
          ]
        }
      ]
    },
    {
      "cell_type": "code",
      "source": [
        "%run set_font.ipynb"
      ],
      "metadata": {
        "colab": {
          "base_uri": "https://localhost:8080/"
        },
        "id": "gPJvSCl7cMJn",
        "outputId": "016f1585-b798-438a-c985-0cf772373cef"
      },
      "execution_count": 1,
      "outputs": [
        {
          "output_type": "stream",
          "name": "stdout",
          "text": [
            "全局中文字体设置成功，默认黑体。\n",
            "STXingkai:华文行楷\n",
            "SimSun:宋体\n",
            "LiSu:隶书\n",
            "SimHei:黑体\n",
            "KaiTi:楷体\n"
          ]
        }
      ]
    },
    {
      "cell_type": "markdown",
      "source": [],
      "metadata": {
        "id": "1yHJ6CO1cW8q"
      }
    }
  ]
}