{
  "nbformat": 4,
  "nbformat_minor": 0,
  "metadata": {
    "colab": {
      "provenance": [],
      "mount_file_id": "1wxPKaLPmkTtNJsfhHaU5rYuDgqyPBhoH",
      "authorship_tag": "ABX9TyM/M8rwIjBFENcr7nf9WuUs",
      "include_colab_link": true
    },
    "kernelspec": {
      "name": "python3",
      "display_name": "Python 3"
    },
    "language_info": {
      "name": "python"
    }
  },
  "cells": [
    {
      "cell_type": "markdown",
      "metadata": {
        "id": "view-in-github",
        "colab_type": "text"
      },
      "source": [
        "<a href=\"https://colab.research.google.com/github/xyt556/Data/blob/main/font_colab.ipynb\" target=\"_parent\"><img src=\"https://colab.research.google.com/assets/colab-badge.svg\" alt=\"Open In Colab\"/></a>"
      ]
    },
    {
      "cell_type": "code",
      "source": [
        "# 0.下载字体\n",
        "import zipfile\n",
        "import requests\n",
        "import os\n",
        "\n",
        "# 下载 ZIP 文件\n",
        "url = \"https://github.com/xyt556/Data/raw/main/font.zip\"  # 使用原始链接\n",
        "response = requests.get(url)\n",
        "\n",
        "# 保存 ZIP 文件到当前工作目录\n",
        "zip_file_path = \"font.zip\"\n",
        "with open(zip_file_path, 'wb') as file:\n",
        "    file.write(response.content)\n",
        "\n",
        "# 解压 ZIP 文件\n",
        "with zipfile.ZipFile(zip_file_path, 'r') as zip_ref:\n",
        "    zip_ref.extractall()  # 解压到 \"font\" 目录\n",
        "\n",
        "# 删除ZIP文件\n",
        "os.remove(zip_file_path)\n",
        "\n",
        "# 检查解压后的文件\n",
        "print(\"解压缩完成！解压后的文件：\")\n",
        "print(os.listdir(\"font\"))\n"
      ],
      "metadata": {
        "colab": {
          "base_uri": "https://localhost:8080/"
        },
        "id": "JiJXMaG5zgAs",
        "outputId": "ab69b0d6-2102-40b8-e597-be04da6da2a0"
      },
      "execution_count": 1,
      "outputs": [
        {
          "output_type": "stream",
          "name": "stdout",
          "text": [
            "解压缩完成！解压后的文件：\n",
            "['STXINGKA.TTF', 'SimHei.ttf', 'SIMSUN.TTC', 'SIMLI.TTF', 'SIMKAI.TTF']\n"
          ]
        }
      ]
    },
    {
      "cell_type": "code",
      "source": [
        "# 1.安装字体\n",
        "!cp ./font/SimHei.ttf /usr/share/fonts/truetype/\n",
        "!cp ./font/SIMSUN.TTC /usr/share/fonts/truetype/\n",
        "!cp ./font/SIMLI.TTF /usr/share/fonts/truetype/\n",
        "!cp ./font/STXINGKA.TTF /usr/share/fonts/truetype/\n",
        "!cp ./font/SIMKAI.TTF /usr/share/fonts/truetype/"
      ],
      "metadata": {
        "id": "E9CvmdbiHNMb"
      },
      "execution_count": 2,
      "outputs": []
    },
    {
      "cell_type": "code",
      "source": [
        "# 1.在线安装字体\n",
        "# !wget -O /usr/share/fonts/truetype/liberation/simhei.ttf \"https://www.wfonts.com/download/data/2014/06/01/simhei/chinese.simhei.ttf\""
      ],
      "metadata": {
        "colab": {
          "base_uri": "https://localhost:8080/"
        },
        "id": "GFgApOHJJK-F",
        "outputId": "f4645e0d-de9b-4e9c-89ca-6ed477ad40dd"
      },
      "execution_count": null,
      "outputs": [
        {
          "output_type": "stream",
          "name": "stdout",
          "text": [
            "--2024-11-02 00:24:11--  https://www.wfonts.com/download/data/2014/06/01/simhei/chinese.simhei.ttf\n",
            "Resolving www.wfonts.com (www.wfonts.com)... 104.21.1.127, 172.67.129.58, 2606:4700:3037::6815:17f, ...\n",
            "Connecting to www.wfonts.com (www.wfonts.com)|104.21.1.127|:443... connected.\n",
            "HTTP request sent, awaiting response... 200 OK\n",
            "Length: 10050870 (9.6M) [application/octetstream]\n",
            "Saving to: ‘/usr/share/fonts/truetype/liberation/simhei.ttf’\n",
            "\n",
            "/usr/share/fonts/tr 100%[===================>]   9.58M  31.9MB/s    in 0.3s    \n",
            "\n",
            "2024-11-02 00:24:12 (31.9 MB/s) - ‘/usr/share/fonts/truetype/liberation/simhei.ttf’ saved [10050870/10050870]\n",
            "\n"
          ]
        }
      ]
    },
    {
      "cell_type": "code",
      "source": [
        "# 2.查看字体是否安装成功\n",
        "!fc-list :lang=zh"
      ],
      "metadata": {
        "colab": {
          "base_uri": "https://localhost:8080/"
        },
        "id": "q9dddbC3IqfA",
        "outputId": "8c93c2b7-c7f3-4269-ad2c-0226909a95cb"
      },
      "execution_count": 3,
      "outputs": [
        {
          "output_type": "stream",
          "name": "stdout",
          "text": [
            "/usr/share/fonts/truetype/SIMSUN.TTC: NSimSun,新宋体:style=Regular,常规\n",
            "/usr/share/fonts/truetype/STXINGKA.TTF: STXingkai,华文行楷:style=Regular\n",
            "/usr/share/fonts/truetype/SIMSUN.TTC: SimSun,宋体:style=Regular,常规\n",
            "/usr/share/fonts/truetype/SIMLI.TTF: LiSu,隶书:style=Regular\n",
            "/usr/share/fonts/truetype/SimHei.ttf: SimHei,黑体:style=Regular\n",
            "/usr/share/fonts/truetype/SIMKAI.TTF: KaiTi,楷体:style=Regular,Normal,obyčejné,Standard,Κανονικά,Normaali,Normál,Normale,Standaard,Normalny,Обычный,Normálne,Navadno,Arrunta\n"
          ]
        }
      ]
    },
    {
      "cell_type": "code",
      "source": [
        "# 3.清除 matplotlib 的缓存\n",
        "!rm -rf ~/.cache/matplotlib\n",
        "\n",
        "# 4.重新启动运行时环境\n",
        "import os\n",
        "os.kill(os.getpid(), 9)"
      ],
      "metadata": {
        "colab": {
          "base_uri": "https://localhost:8080/"
        },
        "id": "anbBYWztSiXt",
        "outputId": "ed5bf5b2-dee0-4da5-d8bc-96b87e73d77f"
      },
      "execution_count": null,
      "outputs": [
        {
          "output_type": "stream",
          "name": "stdout",
          "text": [
            "/usr/share/fonts/truetype/SIMSUN.TTC: NSimSun,新宋体:style=Regular,常规\n",
            "/usr/share/fonts/truetype/STXINGKA.TTF: STXingkai,华文行楷:style=Regular\n",
            "/usr/share/fonts/truetype/SIMSUN.TTC: SimSun,宋体:style=Regular,常规\n",
            "/usr/share/fonts/truetype/SIMLI.TTF: LiSu,隶书:style=Regular\n",
            "/usr/share/fonts/truetype/SimHei.ttf: SimHei,黑体:style=Regular\n",
            "/usr/share/fonts/truetype/SIMKAI.TTF: KaiTi,楷体:style=Regular,Normal,obyčejné,Standard,Κανονικά,Normaali,Normál,Normale,Standaard,Normalny,Обычный,Normálne,Navadno,Arrunta\n"
          ]
        }
      ]
    },
    {
      "cell_type": "code",
      "source": [
        "# 设置全局字体\n",
        "import matplotlib.pyplot as plt\n",
        "import matplotlib as mpl\n",
        "mpl.rcParams['font.sans-serif'] = ['SimHei']\n",
        "mpl.rcParams['axes.unicode_minus'] = False # 用来正常显示负号"
      ],
      "metadata": {
        "id": "r2yeNoUWHZZy"
      },
      "execution_count": 1,
      "outputs": []
    },
    {
      "cell_type": "code",
      "source": [
        "import matplotlib.pyplot as plt\n",
        "import matplotlib as mpl\n",
        "\n",
        "\n",
        "# 示例绘图\n",
        "plt.xlabel('词语')\n",
        "plt.ylabel('特征重要度')\n",
        "plt.title('示例图表')\n",
        "plt.plot([1, 2, 3], [4, 5, 6])\n",
        "plt.show()\n"
      ],
      "metadata": {
        "colab": {
          "base_uri": "https://localhost:8080/",
          "height": 468
        },
        "outputId": "f1cb0aa1-4ce9-4c1e-98e2-817c1bd54eb1",
        "id": "XCM92WAxHvwJ"
      },
      "execution_count": 2,
      "outputs": [
        {
          "output_type": "display_data",
          "data": {
            "text/plain": [
              "<Figure size 640x480 with 1 Axes>"
            ],
            "image/png": "[encoded data removed]"
          },
          "metadata": {}
        }
      ]
    }
  ]
}