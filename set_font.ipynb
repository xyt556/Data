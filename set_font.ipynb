{
  "nbformat": 4,
  "nbformat_minor": 0,
  "metadata": {
    "colab": {
      "provenance": [],
      "authorship_tag": "ABX9TyP0QHKGASqGG6qKi+w8oOoO",
      "include_colab_link": true
    },
    "kernelspec": {
      "name": "python3",
      "display_name": "Python 3"
    },
    "language_info": {
      "name": "python"
    }
  },
  "cells": [
    {
      "cell_type": "markdown",
      "metadata": {
        "id": "view-in-github",
        "colab_type": "text"
      },
      "source": [
        "<a href=\"https://colab.research.google.com/github/xyt556/Data/blob/main/set_font.ipynb\" target=\"_parent\"><img src=\"https://colab.research.google.com/assets/colab-badge.svg\" alt=\"Open In Colab\"/></a>"
      ]
    },
    {
      "cell_type": "code",
      "execution_count": null,
      "metadata": {
        "id": "OUj-OugqLxJ_",
        "colab": {
          "base_uri": "https://localhost:8080/"
        },
        "outputId": "38840bcd-fb97-4169-d5a3-b1e61c7682d9"
      },
      "outputs": [
        {
          "output_type": "stream",
          "name": "stdout",
          "text": [
            "全局中文字体设置成功，默认黑体。\n",
            "STXingkai:华文行楷\n",
            "SimSun:宋体\n",
            "LiSu:隶书\n",
            "SimHei:黑体\n",
            "KaiTi:楷体\n"
          ]
        }
      ],
      "source": [
        "# 设置全局字体\n",
        "import matplotlib.pyplot as plt\n",
        "import matplotlib as mpl\n",
        "mpl.rcParams['font.sans-serif'] = ['SimHei']\n",
        "mpl.rcParams['axes.unicode_minus'] = False # 用来正常显示负号\n",
        "print('全局中文字体设置成功，默认黑体。\\nSTXingkai:华文行楷\\nSimSun:宋体\\nLiSu:隶书\\nSimHei:黑体\\nKaiTi:楷体')"
      ]
    }
  ]
}