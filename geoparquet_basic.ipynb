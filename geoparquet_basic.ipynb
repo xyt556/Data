{
 "cells": [
  {
   "cell_type": "markdown",
   "metadata": {
    "colab_type": "text",
    "id": "view-in-github"
   },
   "source": [
    "<a href=\"https://colab.research.google.com/github/xyt556/Data/blob/main/geoparquet_basic.ipynb\" target=\"_parent\"><img src=\"https://colab.research.google.com/assets/colab-badge.svg\" alt=\"Open In Colab\"/></a>"
   ]
  },
  {
   "cell_type": "markdown",
   "metadata": {
    "id": "7y7W2T-aFLfg"
   },
   "source": [
    "# GeoParquet 数据分析\n",
    "\n",
    "本笔记本用于使用 GeoParquet 文件格式进行基本的地理空间分析。输入数据可以从 [nz-building-outlines.parquet](https://storage.googleapis.com/open-geodata/linz-examples/nz-building-outlines.parquet) 下载。"
   ]
  },
  {
   "cell_type": "markdown",
   "metadata": {
    "id": "-Ih2gpeEFXzh"
   },
   "source": [
    "GeoParquet 是一种基于 Parquet 文件格式的开源地理数据存储格式。它将地理空间数据扩展到 Parquet 文件，使其能够高效地存储和查询大规模的地理空间数据集。\n",
    "\n",
    "### 主要特性\n",
    "1. **基于 Parquet 格式**：GeoParquet 建立在 Apache Parquet 格式之上，Parquet 是一种列式存储格式，适合大规模数据分析。它能有效压缩和存储数据，同时支持高效的读写操作。\n",
    "\n",
    "2. **地理空间支持**：GeoParquet 在 Parquet 的基础上，增加了对几何对象（如点、线、多边形等）的支持。它通过在文件中添加适当的元数据来处理几何列，从而允许处理复杂的地理空间数据。\n",
    "\n",
    "3. **多种几何格式支持**：GeoParquet 支持常见的几何格式如 WKT (Well-Known Text) 和 WKB (Well-Known Binary)，使得它能够灵活地与各种 GIS 软件和库集成。\n",
    "\n",
    "4. **与现代数据生态系统兼容**：由于 GeoParquet 是基于 Parquet 的，所以它可以无缝集成到 Apache Arrow、Spark、Flink 等数据处理框架中。这意味着可以利用分布式计算工具对大规模地理空间数据集进行分析。\n",
    "\n",
    "5. **高效的数据压缩**：Parquet 的列式存储和压缩特性意味着在处理大规模地理数据时，GeoParquet 可以显著降低存储空间和加快数据读取速度。\n",
    "\n",
    "### 适用场景\n",
    "GeoParquet 特别适合以下场景：\n",
    "- **大规模地理空间数据分析**：例如城市规划、环境监测、灾害预防等领域的高频率大数据计算。\n",
    "- **与大数据处理框架集成**：GeoParquet 可以用于分布式数据处理平台中的地理空间数据分析，比如使用 Apache Spark 处理地理空间数据。\n",
    "- **高效存储和传输**：适合处理需要低存储占用和高效传输的大规模地理数据集。\n",
    "\n",
    "### 使用示例\n",
    "使用 GeoParquet 可以与 Python 中的 GeoPandas 库配合，用于加载和存储地理空间数据。例如：\n",
    "\n",
    "```python\n",
    "import geopandas as gpd\n",
    "df = gpd.read_file(\"your_geo_data.shp\")  # 读取Shapefile\n",
    "df.to_parquet(\"your_data.parquet\")  # 保存为GeoParquet格式\n",
    "```\n",
    "\n",
    "总的来说，GeoParquet 是一种高效、灵活的存储格式，适用于大规模的地理空间数据分析，并且可以无缝地融入现代数据分析和处理生态系统中。"
   ]
  },
  {
   "cell_type": "code",
   "execution_count": 1,
   "metadata": {
    "colab": {
     "base_uri": "https://localhost:8080/"
    },
    "id": "bWRAJLytNtAf",
    "outputId": "18e70668-7f7b-4fd3-a821-1a17b6cd62f6"
   },
   "outputs": [
    {
     "name": "stdout",
     "output_type": "stream",
     "text": [
      "--2024-11-13 00:55:34--  https://github.com/xyt556/Data/raw/main/mytools.py\n",
      "Resolving github.com (github.com)... 140.82.114.3\n",
      "Connecting to github.com (github.com)|140.82.114.3|:443... connected.\n",
      "HTTP request sent, awaiting response... 302 Found\n",
      "Location: https://raw.githubusercontent.com/xyt556/Data/main/mytools.py [following]\n",
      "--2024-11-13 00:55:35--  https://raw.githubusercontent.com/xyt556/Data/main/mytools.py\n",
      "Resolving raw.githubusercontent.com (raw.githubusercontent.com)... 185.199.108.133, 185.199.109.133, 185.199.110.133, ...\n",
      "Connecting to raw.githubusercontent.com (raw.githubusercontent.com)|185.199.108.133|:443... connected.\n",
      "HTTP request sent, awaiting response... 200 OK\n",
      "Length: 6168 (6.0K) [text/plain]\n",
      "Saving to: ‘mytools.py’\n",
      "\n",
      "mytools.py          100%[===================>]   6.02K  --.-KB/s    in 0s      \n",
      "\n",
      "2024-11-13 00:55:35 (73.5 MB/s) - ‘mytools.py’ saved [6168/6168]\n",
      "\n"
     ]
    }
   ],
   "source": [
    "# 从github上下载所需要的文件\n",
    "!wget https://github.com/xyt556/Data/raw/main/mytools.py"
   ]
  },
  {
   "cell_type": "code",
   "execution_count": 1,
   "metadata": {
    "colab": {
     "base_uri": "https://localhost:8080/"
    },
    "id": "iJ2VSukBqiRC",
    "outputId": "7b73efcc-9f65-44fb-c7dd-ca5d95822c31",
    "tags": []
   },
   "outputs": [
    {
     "name": "stdout",
     "output_type": "stream",
     "text": [
      "文件 URLs:\n",
      "https://github.com/xyt556/Data/raw/main/font_colab.ipynb\n",
      "文件 font_colab.ipynb 已下载并保存到 .\n",
      "https://github.com/xyt556/Data/raw/main/set_font.ipynb\n",
      "文件 set_font.ipynb 已下载并保存到 .\n"
     ]
    }
   ],
   "source": [
    "# 自定义的函数，用与下载数据\n",
    "from mytools import *"
   ]
  },
  {
   "cell_type": "code",
   "execution_count": 2,
   "metadata": {
    "colab": {
     "base_uri": "https://localhost:8080/"
    },
    "id": "gVRSHHCVHGA8",
    "outputId": "ec77620a-ba31-4d79-c637-8c6aa8654b1f",
    "tags": []
   },
   "outputs": [
    {
     "name": "stderr",
     "output_type": "stream",
     "text": [
      "Downloading...\n",
      "From: https://drive.google.com/uc?id=1zQaJ8WTWxCNb3D0ZrC5bo5KvaT0cNC6u\n",
      "To: C:\\Data\\nz-building-outlines.parquet\n",
      "  1%|█▍                                                                                                                                              | 4.19M/430M [00:01<03:29, 2.04MB/s]('Connection broken: IncompleteRead(4489188 bytes read, 425657700 more expected)', IncompleteRead(4489188 bytes read, 425657700 more expected))\n",
      "  1%|█▍                                                                                                                                              | 4.19M/430M [00:03<05:45, 1.23MB/s]\n"
     ]
    }
   ],
   "source": [
    "# 从Google网盘的共享文件\n",
    "download_file_from_google_drive(\"https://drive.google.com/file/d/1zQaJ8WTWxCNb3D0ZrC5bo5KvaT0cNC6u/view?usp=sharing\")"
   ]
  },
  {
   "cell_type": "code",
   "execution_count": 4,
   "metadata": {
    "id": "feRnRtA9FLfi"
   },
   "outputs": [],
   "source": [
    "! pip install -q pyarrow\n",
    "# ! pip install geopandas==1.0.0"
   ]
  },
  {
   "cell_type": "markdown",
   "metadata": {
    "id": "zgBc2TL3-HvU"
   },
   "source": [
    "`pyarrow` 是一个高效的 Python 库，用于在 Python 应用程序和 Apache Arrow 之间进行交互。Apache Arrow 是一种跨语言的内存格式，可以快速高效地转移大型数据集。以下是对 `pyarrow` 的详细介绍：\n",
    "\n",
    "### 功能\n",
    "1. **数据传输和存储**：`pyarrow` 提供了跨平台、高性能的数据传输和存储解决方案，支持序列化和分布式读取等功能。\n",
    "2. **与其他库的集成**：`pyarrow` 与 NumPy、pandas 等 Python 生态系统中的其他软件具有一流的集成能力。\n",
    "3. **内存分析**：`pyarrow` 是一个用于内存分析的平台，包含一组技术，使大数据系统能够快速存储、处理和移动数据。\n",
    "\n",
    "### 安装\n",
    "可以使用 `pip` 安装：\n",
    "```bash\n",
    "pip install pyarrow\n",
    "```\n",
    "也可以使用 `conda` 安装：\n",
    "```bash\n",
    "conda install pyarrow -c conda-forge\n",
    "```\n",
    "\n",
    "### 使用示例\n",
    "1. **创建数组和表**：\n",
    "```python\n",
    "import pyarrow as pa\n",
    "\n",
    "# 创建一个 Arrow 数组\n",
    "array = pa.array([1, 2, 3, 4, 5])\n",
    "\n",
    "# 创建一个 Arrow 表\n",
    "table = pa.table({'column1': array})\n",
    "print(table)\n",
    "```\n",
    "\n",
    "2. **读取和写入 Parquet 文件**：\n",
    "```python\n",
    "import pyarrow.parquet as pq\n",
    "\n",
    "# 写入 Parquet 文件\n",
    "pq.write_table(table, 'example.parquet')\n",
    "\n",
    "# 读取 Parquet 文件\n",
    "table = pq.read_table('example.parquet')\n",
    "print(table)\n",
    "```\n",
    "\n",
    "### 适用场景\n",
    "- **大规模数据分析**：适用于需要高效处理和传输大规模数据集的场景，如数据分析、机器学习和大数据处理。\n",
    "- **与现代数据生态系统兼容**：由于 `pyarrow` 基于 Apache Arrow，因此它可以无缝集成到 Apache Arrow、Spark、Flink 等数据处理框架中。\n",
    "\n"
   ]
  },
  {
   "cell_type": "markdown",
   "metadata": {
    "id": "dRnBGqd0FLfi"
   },
   "source": [
    "## 读写"
   ]
  },
  {
   "cell_type": "code",
   "execution_count": 5,
   "metadata": {
    "colab": {
     "base_uri": "https://localhost:8080/",
     "height": 35
    },
    "id": "ihnVi7L-FLfj",
    "outputId": "6e500c8c-cc9c-4295-88f1-e597276a040b"
   },
   "outputs": [
    {
     "data": {
      "application/vnd.google.colaboratory.intrinsic+json": {
       "type": "string"
      },
      "text/plain": [
       "'1.0.1'"
      ]
     },
     "execution_count": 5,
     "metadata": {},
     "output_type": "execute_result"
    }
   ],
   "source": [
    "import geopandas as gpd\n",
    "\n",
    "gpd.__version__"
   ]
  },
  {
   "cell_type": "code",
   "execution_count": 6,
   "metadata": {
    "id": "eXhNGKLzGAs8"
   },
   "outputs": [],
   "source": [
    "# fold = '/content/drive/MyDrive/Colab Notebooks/geospatial-data-analysis-python'"
   ]
  },
  {
   "cell_type": "code",
   "execution_count": 7,
   "metadata": {
    "colab": {
     "base_uri": "https://localhost:8080/",
     "height": 486
    },
    "id": "xVm3z4w0FLfk",
    "outputId": "e8a6cd56-71b5-48f6-d3d5-e75a3f4ada73"
   },
   "outputs": [
    {
     "data": {
      "application/vnd.google.colaboratory.intrinsic+json": {
       "type": "dataframe",
       "variable_name": "gdf"
      },
      "text/html": [
       "\n",
       "  <div id=\"df-0fdf6544-5e69-40a9-b0fb-ed2cec6af053\" class=\"colab-df-container\">\n",
       "    <div>\n",
       "<style scoped>\n",
       "    .dataframe tbody tr th:only-of-type {\n",
       "        vertical-align: middle;\n",
       "    }\n",
       "\n",
       "    .dataframe tbody tr th {\n",
       "        vertical-align: top;\n",
       "    }\n",
       "\n",
       "    .dataframe thead th {\n",
       "        text-align: right;\n",
       "    }\n",
       "</style>\n",
       "<table border=\"1\" class=\"dataframe\">\n",
       "  <thead>\n",
       "    <tr style=\"text-align: right;\">\n",
       "      <th></th>\n",
       "      <th>building_id</th>\n",
       "      <th>name</th>\n",
       "      <th>use</th>\n",
       "      <th>suburb_locality</th>\n",
       "      <th>town_city</th>\n",
       "      <th>territorial_authority</th>\n",
       "      <th>capture_method</th>\n",
       "      <th>capture_source_group</th>\n",
       "      <th>capture_source_id</th>\n",
       "      <th>capture_source_name</th>\n",
       "      <th>capture_source_from</th>\n",
       "      <th>capture_source_to</th>\n",
       "      <th>last_modified</th>\n",
       "      <th>geometry</th>\n",
       "    </tr>\n",
       "  </thead>\n",
       "  <tbody>\n",
       "    <tr>\n",
       "      <th>0</th>\n",
       "      <td>2292028</td>\n",
       "      <td></td>\n",
       "      <td>Unknown</td>\n",
       "      <td>Akitio</td>\n",
       "      <td></td>\n",
       "      <td>Tararua District</td>\n",
       "      <td>Feature Extraction</td>\n",
       "      <td>NZ Aerial Imagery</td>\n",
       "      <td>1042</td>\n",
       "      <td>Manawatu Whanganui 0.3m Rural Aerial Photos (2...</td>\n",
       "      <td>2015-12-27</td>\n",
       "      <td>2016-04-21</td>\n",
       "      <td>2019-01-04</td>\n",
       "      <td>MULTIPOLYGON (((1890386.169 5501282.718, 18903...</td>\n",
       "    </tr>\n",
       "    <tr>\n",
       "      <th>1</th>\n",
       "      <td>2292051</td>\n",
       "      <td></td>\n",
       "      <td>Unknown</td>\n",
       "      <td>Marton</td>\n",
       "      <td>Marton</td>\n",
       "      <td>Rangitikei District</td>\n",
       "      <td>Feature Extraction</td>\n",
       "      <td>NZ Aerial Imagery</td>\n",
       "      <td>1042</td>\n",
       "      <td>Manawatu Whanganui 0.3m Rural Aerial Photos (2...</td>\n",
       "      <td>2015-12-27</td>\n",
       "      <td>2016-04-21</td>\n",
       "      <td>2019-01-04</td>\n",
       "      <td>MULTIPOLYGON (((1796386.756 5560662.126, 17963...</td>\n",
       "    </tr>\n",
       "    <tr>\n",
       "      <th>2</th>\n",
       "      <td>2292290</td>\n",
       "      <td></td>\n",
       "      <td>Unknown</td>\n",
       "      <td>Rangataua</td>\n",
       "      <td></td>\n",
       "      <td>Ruapehu District</td>\n",
       "      <td>Feature Extraction</td>\n",
       "      <td>NZ Aerial Imagery</td>\n",
       "      <td>1042</td>\n",
       "      <td>Manawatu Whanganui 0.3m Rural Aerial Photos (2...</td>\n",
       "      <td>2015-12-27</td>\n",
       "      <td>2016-04-21</td>\n",
       "      <td>2019-01-04</td>\n",
       "      <td>MULTIPOLYGON (((1811431.727 5632559.044, 18114...</td>\n",
       "    </tr>\n",
       "    <tr>\n",
       "      <th>3</th>\n",
       "      <td>2292353</td>\n",
       "      <td></td>\n",
       "      <td>Unknown</td>\n",
       "      <td>Durie Hill</td>\n",
       "      <td>Whanganui</td>\n",
       "      <td>Whanganui District</td>\n",
       "      <td>Feature Extraction</td>\n",
       "      <td>NZ Aerial Imagery</td>\n",
       "      <td>1042</td>\n",
       "      <td>Manawatu Whanganui 0.3m Rural Aerial Photos (2...</td>\n",
       "      <td>2015-12-27</td>\n",
       "      <td>2016-04-21</td>\n",
       "      <td>2019-01-04</td>\n",
       "      <td>MULTIPOLYGON (((1776387.292 5576785.712, 17763...</td>\n",
       "    </tr>\n",
       "    <tr>\n",
       "      <th>4</th>\n",
       "      <td>2292407</td>\n",
       "      <td></td>\n",
       "      <td>Unknown</td>\n",
       "      <td>Durie Hill</td>\n",
       "      <td>Whanganui</td>\n",
       "      <td>Whanganui District</td>\n",
       "      <td>Feature Extraction</td>\n",
       "      <td>NZ Aerial Imagery</td>\n",
       "      <td>1042</td>\n",
       "      <td>Manawatu Whanganui 0.3m Rural Aerial Photos (2...</td>\n",
       "      <td>2015-12-27</td>\n",
       "      <td>2016-04-21</td>\n",
       "      <td>2019-01-04</td>\n",
       "      <td>MULTIPOLYGON (((1776318.375 5576879.269, 17763...</td>\n",
       "    </tr>\n",
       "  </tbody>\n",
       "</table>\n",
       "</div>\n",
       "    <div class=\"colab-df-buttons\">\n",
       "\n",
       "  <div class=\"colab-df-container\">\n",
       "    <button class=\"colab-df-convert\" onclick=\"convertToInteractive('df-0fdf6544-5e69-40a9-b0fb-ed2cec6af053')\"\n",
       "            title=\"Convert this dataframe to an interactive table.\"\n",
       "            style=\"display:none;\">\n",
       "\n",
       "  <svg xmlns=\"http://www.w3.org/2000/svg\" height=\"24px\" viewBox=\"0 -960 960 960\">\n",
       "    <path d=\"M120-120v-720h720v720H120Zm60-500h600v-160H180v160Zm220 220h160v-160H400v160Zm0 220h160v-160H400v160ZM180-400h160v-160H180v160Zm440 0h160v-160H620v160ZM180-180h160v-160H180v160Zm440 0h160v-160H620v160Z\"/>\n",
       "  </svg>\n",
       "    </button>\n",
       "\n",
       "  <style>\n",
       "    .colab-df-container {\n",
       "      display:flex;\n",
       "      gap: 12px;\n",
       "    }\n",
       "\n",
       "    .colab-df-convert {\n",
       "      background-color: #E8F0FE;\n",
       "      border: none;\n",
       "      border-radius: 50%;\n",
       "      cursor: pointer;\n",
       "      display: none;\n",
       "      fill: #1967D2;\n",
       "      height: 32px;\n",
       "      padding: 0 0 0 0;\n",
       "      width: 32px;\n",
       "    }\n",
       "\n",
       "    .colab-df-convert:hover {\n",
       "      background-color: #E2EBFA;\n",
       "      box-shadow: 0px 1px 2px rgba(60, 64, 67, 0.3), 0px 1px 3px 1px rgba(60, 64, 67, 0.15);\n",
       "      fill: #174EA6;\n",
       "    }\n",
       "\n",
       "    .colab-df-buttons div {\n",
       "      margin-bottom: 4px;\n",
       "    }\n",
       "\n",
       "    [theme=dark] .colab-df-convert {\n",
       "      background-color: #3B4455;\n",
       "      fill: #D2E3FC;\n",
       "    }\n",
       "\n",
       "    [theme=dark] .colab-df-convert:hover {\n",
       "      background-color: #434B5C;\n",
       "      box-shadow: 0px 1px 3px 1px rgba(0, 0, 0, 0.15);\n",
       "      filter: drop-shadow(0px 1px 2px rgba(0, 0, 0, 0.3));\n",
       "      fill: #FFFFFF;\n",
       "    }\n",
       "  </style>\n",
       "\n",
       "    <script>\n",
       "      const buttonEl =\n",
       "        document.querySelector('#df-0fdf6544-5e69-40a9-b0fb-ed2cec6af053 button.colab-df-convert');\n",
       "      buttonEl.style.display =\n",
       "        google.colab.kernel.accessAllowed ? 'block' : 'none';\n",
       "\n",
       "      async function convertToInteractive(key) {\n",
       "        const element = document.querySelector('#df-0fdf6544-5e69-40a9-b0fb-ed2cec6af053');\n",
       "        const dataTable =\n",
       "          await google.colab.kernel.invokeFunction('convertToInteractive',\n",
       "                                                    [key], {});\n",
       "        if (!dataTable) return;\n",
       "\n",
       "        const docLinkHtml = 'Like what you see? Visit the ' +\n",
       "          '<a target=\"_blank\" href=https://colab.research.google.com/notebooks/data_table.ipynb>data table notebook</a>'\n",
       "          + ' to learn more about interactive tables.';\n",
       "        element.innerHTML = '';\n",
       "        dataTable['output_type'] = 'display_data';\n",
       "        await google.colab.output.renderOutput(dataTable, element);\n",
       "        const docLink = document.createElement('div');\n",
       "        docLink.innerHTML = docLinkHtml;\n",
       "        element.appendChild(docLink);\n",
       "      }\n",
       "    </script>\n",
       "  </div>\n",
       "\n",
       "\n",
       "<div id=\"df-57fad213-ab52-4c3c-883f-8c814733d394\">\n",
       "  <button class=\"colab-df-quickchart\" onclick=\"quickchart('df-57fad213-ab52-4c3c-883f-8c814733d394')\"\n",
       "            title=\"Suggest charts\"\n",
       "            style=\"display:none;\">\n",
       "\n",
       "<svg xmlns=\"http://www.w3.org/2000/svg\" height=\"24px\"viewBox=\"0 0 24 24\"\n",
       "     width=\"24px\">\n",
       "    <g>\n",
       "        <path d=\"M19 3H5c-1.1 0-2 .9-2 2v14c0 1.1.9 2 2 2h14c1.1 0 2-.9 2-2V5c0-1.1-.9-2-2-2zM9 17H7v-7h2v7zm4 0h-2V7h2v10zm4 0h-2v-4h2v4z\"/>\n",
       "    </g>\n",
       "</svg>\n",
       "  </button>\n",
       "\n",
       "<style>\n",
       "  .colab-df-quickchart {\n",
       "      --bg-color: #E8F0FE;\n",
       "      --fill-color: #1967D2;\n",
       "      --hover-bg-color: #E2EBFA;\n",
       "      --hover-fill-color: #174EA6;\n",
       "      --disabled-fill-color: #AAA;\n",
       "      --disabled-bg-color: #DDD;\n",
       "  }\n",
       "\n",
       "  [theme=dark] .colab-df-quickchart {\n",
       "      --bg-color: #3B4455;\n",
       "      --fill-color: #D2E3FC;\n",
       "      --hover-bg-color: #434B5C;\n",
       "      --hover-fill-color: #FFFFFF;\n",
       "      --disabled-bg-color: #3B4455;\n",
       "      --disabled-fill-color: #666;\n",
       "  }\n",
       "\n",
       "  .colab-df-quickchart {\n",
       "    background-color: var(--bg-color);\n",
       "    border: none;\n",
       "    border-radius: 50%;\n",
       "    cursor: pointer;\n",
       "    display: none;\n",
       "    fill: var(--fill-color);\n",
       "    height: 32px;\n",
       "    padding: 0;\n",
       "    width: 32px;\n",
       "  }\n",
       "\n",
       "  .colab-df-quickchart:hover {\n",
       "    background-color: var(--hover-bg-color);\n",
       "    box-shadow: 0 1px 2px rgba(60, 64, 67, 0.3), 0 1px 3px 1px rgba(60, 64, 67, 0.15);\n",
       "    fill: var(--button-hover-fill-color);\n",
       "  }\n",
       "\n",
       "  .colab-df-quickchart-complete:disabled,\n",
       "  .colab-df-quickchart-complete:disabled:hover {\n",
       "    background-color: var(--disabled-bg-color);\n",
       "    fill: var(--disabled-fill-color);\n",
       "    box-shadow: none;\n",
       "  }\n",
       "\n",
       "  .colab-df-spinner {\n",
       "    border: 2px solid var(--fill-color);\n",
       "    border-color: transparent;\n",
       "    border-bottom-color: var(--fill-color);\n",
       "    animation:\n",
       "      spin 1s steps(1) infinite;\n",
       "  }\n",
       "\n",
       "  @keyframes spin {\n",
       "    0% {\n",
       "      border-color: transparent;\n",
       "      border-bottom-color: var(--fill-color);\n",
       "      border-left-color: var(--fill-color);\n",
       "    }\n",
       "    20% {\n",
       "      border-color: transparent;\n",
       "      border-left-color: var(--fill-color);\n",
       "      border-top-color: var(--fill-color);\n",
       "    }\n",
       "    30% {\n",
       "      border-color: transparent;\n",
       "      border-left-color: var(--fill-color);\n",
       "      border-top-color: var(--fill-color);\n",
       "      border-right-color: var(--fill-color);\n",
       "    }\n",
       "    40% {\n",
       "      border-color: transparent;\n",
       "      border-right-color: var(--fill-color);\n",
       "      border-top-color: var(--fill-color);\n",
       "    }\n",
       "    60% {\n",
       "      border-color: transparent;\n",
       "      border-right-color: var(--fill-color);\n",
       "    }\n",
       "    80% {\n",
       "      border-color: transparent;\n",
       "      border-right-color: var(--fill-color);\n",
       "      border-bottom-color: var(--fill-color);\n",
       "    }\n",
       "    90% {\n",
       "      border-color: transparent;\n",
       "      border-bottom-color: var(--fill-color);\n",
       "    }\n",
       "  }\n",
       "</style>\n",
       "\n",
       "  <script>\n",
       "    async function quickchart(key) {\n",
       "      const quickchartButtonEl =\n",
       "        document.querySelector('#' + key + ' button');\n",
       "      quickchartButtonEl.disabled = true;  // To prevent multiple clicks.\n",
       "      quickchartButtonEl.classList.add('colab-df-spinner');\n",
       "      try {\n",
       "        const charts = await google.colab.kernel.invokeFunction(\n",
       "            'suggestCharts', [key], {});\n",
       "      } catch (error) {\n",
       "        console.error('Error during call to suggestCharts:', error);\n",
       "      }\n",
       "      quickchartButtonEl.classList.remove('colab-df-spinner');\n",
       "      quickchartButtonEl.classList.add('colab-df-quickchart-complete');\n",
       "    }\n",
       "    (() => {\n",
       "      let quickchartButtonEl =\n",
       "        document.querySelector('#df-57fad213-ab52-4c3c-883f-8c814733d394 button');\n",
       "      quickchartButtonEl.style.display =\n",
       "        google.colab.kernel.accessAllowed ? 'block' : 'none';\n",
       "    })();\n",
       "  </script>\n",
       "</div>\n",
       "\n",
       "    </div>\n",
       "  </div>\n"
      ],
      "text/plain": [
       "   building_id name      use suburb_locality  town_city territorial_authority  \\\n",
       "0      2292028       Unknown          Akitio                 Tararua District   \n",
       "1      2292051       Unknown          Marton     Marton   Rangitikei District   \n",
       "2      2292290       Unknown       Rangataua                 Ruapehu District   \n",
       "3      2292353       Unknown      Durie Hill  Whanganui    Whanganui District   \n",
       "4      2292407       Unknown      Durie Hill  Whanganui    Whanganui District   \n",
       "\n",
       "       capture_method capture_source_group  capture_source_id  \\\n",
       "0  Feature Extraction    NZ Aerial Imagery               1042   \n",
       "1  Feature Extraction    NZ Aerial Imagery               1042   \n",
       "2  Feature Extraction    NZ Aerial Imagery               1042   \n",
       "3  Feature Extraction    NZ Aerial Imagery               1042   \n",
       "4  Feature Extraction    NZ Aerial Imagery               1042   \n",
       "\n",
       "                                 capture_source_name capture_source_from  \\\n",
       "0  Manawatu Whanganui 0.3m Rural Aerial Photos (2...          2015-12-27   \n",
       "1  Manawatu Whanganui 0.3m Rural Aerial Photos (2...          2015-12-27   \n",
       "2  Manawatu Whanganui 0.3m Rural Aerial Photos (2...          2015-12-27   \n",
       "3  Manawatu Whanganui 0.3m Rural Aerial Photos (2...          2015-12-27   \n",
       "4  Manawatu Whanganui 0.3m Rural Aerial Photos (2...          2015-12-27   \n",
       "\n",
       "  capture_source_to last_modified  \\\n",
       "0        2016-04-21    2019-01-04   \n",
       "1        2016-04-21    2019-01-04   \n",
       "2        2016-04-21    2019-01-04   \n",
       "3        2016-04-21    2019-01-04   \n",
       "4        2016-04-21    2019-01-04   \n",
       "\n",
       "                                            geometry  \n",
       "0  MULTIPOLYGON (((1890386.169 5501282.718, 18903...  \n",
       "1  MULTIPOLYGON (((1796386.756 5560662.126, 17963...  \n",
       "2  MULTIPOLYGON (((1811431.727 5632559.044, 18114...  \n",
       "3  MULTIPOLYGON (((1776387.292 5576785.712, 17763...  \n",
       "4  MULTIPOLYGON (((1776318.375 5576879.269, 17763...  "
      ]
     },
     "execution_count": 7,
     "metadata": {},
     "output_type": "execute_result"
    }
   ],
   "source": [
    "# 加载 geoparquet 文件\n",
    "gdf = gpd.read_parquet('nz-building-outlines.parquet')\n",
    "gdf.head()"
   ]
  },
  {
   "cell_type": "code",
   "execution_count": 8,
   "metadata": {
    "colab": {
     "base_uri": "https://localhost:8080/"
    },
    "id": "NJb2QMY4FLfk",
    "outputId": "c23af01c-8c0f-4bd1-df5e-00b69c4b7256"
   },
   "outputs": [
    {
     "data": {
      "text/plain": [
       "3320498"
      ]
     },
     "execution_count": 8,
     "metadata": {},
     "output_type": "execute_result"
    }
   ],
   "source": [
    "len(gdf)"
   ]
  },
  {
   "cell_type": "code",
   "execution_count": null,
   "metadata": {
    "id": "pm5CEikmFLfl"
   },
   "outputs": [],
   "source": [
    "gdf.plot()"
   ]
  },
  {
   "cell_type": "code",
   "execution_count": null,
   "metadata": {
    "id": "lJHQuzduFLfl"
   },
   "outputs": [],
   "source": [
    "gdf.crs"
   ]
  },
  {
   "cell_type": "code",
   "execution_count": null,
   "metadata": {
    "id": "XA2zaOE5FLfm"
   },
   "outputs": [],
   "source": [
    "gdf.to_file('nz-building-outlines.geojson', driver='GeoJSON')"
   ]
  },
  {
   "cell_type": "code",
   "execution_count": null,
   "metadata": {
    "id": "CVv_vGoVFLfn"
   },
   "outputs": [],
   "source": [
    "gdf.to_file('nz-building-outlines.shp')"
   ]
  },
  {
   "cell_type": "code",
   "execution_count": null,
   "metadata": {
    "id": "3fnWeILRFLfo"
   },
   "outputs": [],
   "source": [
    "gdf = gpd.read_file('nz-building-outlines.geojson')\n",
    "gdf.head()"
   ]
  },
  {
   "cell_type": "code",
   "execution_count": null,
   "metadata": {
    "id": "1yEyRLatFLfp"
   },
   "outputs": [],
   "source": [
    "gdf = gpd.read_file('nz-building-outlines.shp')\n",
    "gdf.head()"
   ]
  },
  {
   "cell_type": "code",
   "execution_count": null,
   "metadata": {
    "id": "IS5uAXp2FLfp"
   },
   "outputs": [],
   "source": [
    "gdf.crs"
   ]
  },
  {
   "cell_type": "code",
   "execution_count": null,
   "metadata": {
    "id": "FH4HjjyaFLfq"
   },
   "outputs": [],
   "source": [
    "gdf.to_parquet('nz-building-outlines1.parquet')"
   ]
  },
  {
   "cell_type": "code",
   "execution_count": null,
   "metadata": {
    "id": "xnQ1eE3oFLfq"
   },
   "outputs": [],
   "source": [
    "from datetime import datetime\n",
    "\n",
    "print('-'*50)\n",
    "start_p = datetime.now()\n",
    "gdf = gpd.read_parquet('nz-building-outlines.parquet')\n",
    "end_p = datetime.now()\n",
    "print('Parquet data read time: ', end_p - start_p)\n",
    "\n",
    "start_s = datetime.now()\n",
    "gdf = gpd.read_file('shp/nz-building-outlines.shp')\n",
    "end_s = datetime.now()\n",
    "print('Shapefile data read time: ', end_s - start_s)\n",
    "\n",
    "start_g = datetime.now()\n",
    "gdf = gpd.read_file('nz-building-outlines.geojson')\n",
    "end_g = datetime.now()\n",
    "print('GeoJSON data read time: ', end_g - start_g)\n",
    "\n",
    "print('-'*50)\n"
   ]
  },
  {
   "cell_type": "markdown",
   "metadata": {
    "id": "kSlAAY1uFLfq"
   },
   "source": [
    "## 空间分析"
   ]
  },
  {
   "cell_type": "code",
   "execution_count": null,
   "metadata": {
    "colab": {
     "background_save": true
    },
    "id": "4frL1DC6FLfr"
   },
   "outputs": [],
   "source": [
    "# 加载 geoparquet 文件\n",
    "gdf = gpd.read_parquet('nz-building-outlines.parquet')\n",
    "gdf.head()"
   ]
  },
  {
   "cell_type": "code",
   "execution_count": null,
   "metadata": {
    "colab": {
     "background_save": true
    },
    "id": "KK8v7aScFLfr"
   },
   "outputs": [],
   "source": [
    "# 根据属性过滤数据\n",
    "gdf_filtered = gdf[gdf['town_city'] == 'Marton']\n",
    "\n",
    "# 10M的缓冲区\n",
    "gdf_filtered['geometry'] = gdf_filtered.buffer(10)\n",
    "\n",
    "# 读取前10000个数据\n",
    "gdf_filtered = gdf_filtered.head(10000)"
   ]
  },
  {
   "cell_type": "markdown",
   "metadata": {
    "id": "ieLxGKosFLfr"
   },
   "source": [
    "## 可视化"
   ]
  },
  {
   "cell_type": "code",
   "execution_count": null,
   "metadata": {
    "colab": {
     "background_save": true
    },
    "id": "PK-jJDPQFLfr"
   },
   "outputs": [],
   "source": [
    "# 绘图\n",
    "gdf_filtered.plot()"
   ]
  },
  {
   "cell_type": "code",
   "execution_count": null,
   "metadata": {
    "colab": {
     "background_save": true
    },
    "id": "BiPZyCw7FLfs"
   },
   "outputs": [],
   "source": [
    "# 保存\n",
    "gdf_filtered.to_file('marton-buildings-buffered.geojson', driver='GeoJSON')"
   ]
  }
 ],
 "metadata": {
  "colab": {
   "include_colab_link": true,
   "provenance": []
  },
  "kernelspec": {
   "display_name": "Python 3 (ipykernel)",
   "language": "python",
   "name": "python3"
  },
  "language_info": {
   "codemirror_mode": {
    "name": "ipython",
    "version": 3
   },
   "file_extension": ".py",
   "mimetype": "text/x-python",
   "name": "python",
   "nbconvert_exporter": "python",
   "pygments_lexer": "ipython3",
   "version": "3.10.7"
  }
 },
 "nbformat": 4,
 "nbformat_minor": 4
}
